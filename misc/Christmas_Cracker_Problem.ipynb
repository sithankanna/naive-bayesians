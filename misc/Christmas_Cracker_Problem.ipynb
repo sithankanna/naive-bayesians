{
 "cells": [
  {
   "cell_type": "markdown",
   "metadata": {},
   "source": [
    "# Christmas Cracker Problem"
   ]
  },
  {
   "cell_type": "code",
   "execution_count": 1,
   "metadata": {},
   "outputs": [],
   "source": [
    "import pandas as pd\n",
    "import numpy as np\n",
    "from matplotlib import pyplot as plt\n",
    "plt.rcParams[\"figure.figsize\"] = (15,8)\n",
    "plt.rcParams[\"font.size\"] = 15"
   ]
  },
  {
   "cell_type": "markdown",
   "metadata": {},
   "source": [
    "### Maximum Likelihood Estimate\n",
    "\n",
    "V1 of the answer (I’ll  assume there’s only $1$ observation i.e. the maximum 041) \n",
    "\n",
    "Task: Estimate the Max. Number of Jokes, $\\hat{N}$. \n",
    "Let, $d$ = Maximum observation. In our case $d = 41$\n",
    "\n",
    "\n",
    "Maximum Likelihood Estimate (MLE) of $\\hat{N}$\n",
    "Let’s say there are 100 Jokes in total, then the probability of observing $d = 41$ is $\\frac{1}{100}$.\n",
    "\n",
    "If there are 500 Jokes, then the $P(d=41 | N=500)$ is $\\frac{1}{500}$. \n",
    "\n",
    "What value of N maximises the observation of d=41. The answer is N = 0. ;) \n",
    "\n",
    "However, we know that $N > d$ otherwise the problem doesn’t make sense. So, the value of N that maximises the likelihood of observing $d = 41$ is $41$. Any other $N$ would give a lower likelihood. \n",
    "\n",
    "So, the MLE is $N_{\\text{MLE}}$ = 41 \n",
    "\n",
    "But the story isn’t finished yet..."
   ]
  },
  {
   "cell_type": "markdown",
   "metadata": {},
   "source": [
    "### Bayesian Estimation\n",
    "\n",
    "\n",
    "A Bayesian approach would take be something like this. \n",
    "\n",
    "###### Step 1: Choose a prior distribution for the max number of jokes. \n",
    "\n",
    "Given that I am not in the christmas crackers business (it's a bit too seasonal for my liking ;) ), the only logical prior I can choose is a uniform prior across all reasonable guesses for the max number of jokes. \n",
    "\n",
    "Note that you this should be done independent of observing the data (so, I am going to force myself to unsee the pics above for a moment)\n",
    "\n",
    "So, before observing the data, let's assume that the maximum number of jokes (or hypotheses) can be anything from 1 to 500 with equal probability. \n",
    "\n",
    "You may ask why 1 and 500? It's a just a guess at the moment for illustration. Let's revisit this in a bit. \n",
    "\n",
    "At this point we have $500$ hypothesis to choose from. \n",
    "\n",
    "###### Step 2: Choose the Likelihood of observing the data given a hypothesis\n",
    "\n",
    "Which hypothesis of the 500 do we choose from? To do this, we must first find the likelihood of observing the data given every hypothesis. \n",
    "\n",
    "The probability of observing a joke with number $d$ given that there are $N_i$ jokes is \n",
    "\n",
    "$$\n",
    "P(d \\hspace{1mm} | \\hspace{1mm} N_i) =  \n",
    "\\begin{align}\n",
    "    \\begin{cases}\n",
    "      \\frac{1}{N_i} & N_i \\ge d,\\\\\n",
    "      0 & \\text{otherwise}.\n",
    "    \\end{cases}       \n",
    "\\end{align}\n",
    "$$\n",
    "where $i = \\{1, ..., 500 \\}$.\n",
    "\n",
    "\n",
    "Given that we've seen d = 41, we have $500$ likelihoods to compute with the formula above. \n",
    "\n",
    "###### Step 3: Find the posterior distribution\n",
    "Bayes theorem states that posterior probability of the estimate given the data is P(N_i | d) = P(d | N_i) P(N_i)/ P(d)\n",
    "\n",
    "At this point we have the prior P(N_i) and the likelihoods P(d | N_i). We can find the denominator (aka the normalising factor), P(d) by summing all the likelihoods x priors from all our 500 hypotheses. \n",
    "\n",
    "$$\n",
    "\\begin{align}\n",
    "P(N_i \\hspace{1mm} | \\hspace{1mm} d) =  {} & \\frac{P(d \\hspace{1mm} | \\hspace{1mm} N_i)  P(N_i) }{ P(d)}  \\\\\n",
    "     =  {} & \\frac{P(d \\hspace{1mm} | \\hspace{1mm} N_i)  P(N_i) }{ \\sum_{\\ell=1}^{500} P(d \\hspace{1mm} | \\hspace{1mm} N_\\ell)  P(N_\\ell) }\n",
    "\\end{align}\n",
    "$$\n",
    "\n",
    "Computationally, we will have 500 discrete posterior probabilities $P(N_i | d) \\, \\text{ for } \\, i = 1, \\dots, 500$ which we can use to build a probability mass function (PMF). \n",
    "\n",
    "From this posterior distribution, we can do whatever we want. \n",
    "\n",
    "1) The Maximum A-Posteriori Estimate (MAP) can be found from the mode of the distribution. That's 41, which is exactly the MLE solution. This is due to our choice of a uniform prior. \n",
    "\n",
    "2) The mean of the posterior PMF gives us the mimum mean squared error (MMSE) estimate, 183\n",
    "\n",
    "$$\n",
    "\\begin{align}\n",
    "\\hat{N}_{\\text{MMSE}} = \\mathbb{E} _{P(N_i | d)} \\{ N_i \\} = \\sum_{\\ell =1}^{500} N_\\ell P(N_\\ell | d)\n",
    "\\end{align}\n",
    "$$\n",
    "\n",
    "\n",
    "Caveat: the MMSE is highly sensitive to the choice of our prior distribution. What would happen if we said the manufacturers usually print jokes in whole numbers > 10 and is not likely to print more than 250 jokes. So even before looking at the data, we can say that the prior is a uniform distribution from 10 to 250? How will this change our MLE, MAP and MMSE estimators? \n"
   ]
  },
  {
   "cell_type": "code",
   "execution_count": 2,
   "metadata": {},
   "outputs": [
    {
     "data": {
      "text/html": [
       "<div>\n",
       "<style scoped>\n",
       "    .dataframe tbody tr th:only-of-type {\n",
       "        vertical-align: middle;\n",
       "    }\n",
       "\n",
       "    .dataframe tbody tr th {\n",
       "        vertical-align: top;\n",
       "    }\n",
       "\n",
       "    .dataframe thead th {\n",
       "        text-align: right;\n",
       "    }\n",
       "</style>\n",
       "<table border=\"1\" class=\"dataframe\">\n",
       "  <thead>\n",
       "    <tr style=\"text-align: right;\">\n",
       "      <th></th>\n",
       "      <th>posterior</th>\n",
       "    </tr>\n",
       "  </thead>\n",
       "  <tbody>\n",
       "    <tr>\n",
       "      <th>496</th>\n",
       "      <td>0.000802</td>\n",
       "    </tr>\n",
       "    <tr>\n",
       "      <th>497</th>\n",
       "      <td>0.000800</td>\n",
       "    </tr>\n",
       "    <tr>\n",
       "      <th>498</th>\n",
       "      <td>0.000799</td>\n",
       "    </tr>\n",
       "    <tr>\n",
       "      <th>499</th>\n",
       "      <td>0.000797</td>\n",
       "    </tr>\n",
       "    <tr>\n",
       "      <th>500</th>\n",
       "      <td>0.000795</td>\n",
       "    </tr>\n",
       "  </tbody>\n",
       "</table>\n",
       "</div>"
      ],
      "text/plain": [
       "     posterior\n",
       "496   0.000802\n",
       "497   0.000800\n",
       "498   0.000799\n",
       "499   0.000797\n",
       "500   0.000795"
      ]
     },
     "metadata": {},
     "output_type": "display_data"
    }
   ],
   "source": [
    "###### Step 1: Choose a prior distribution for the max number of jokes. \n",
    "\n",
    "# Assumption than you cannot have more than these (prior)\n",
    "hypothesis_max = 500\n",
    "\n",
    "# Assume prior is a uniform distribution of all possible hypothesis  \n",
    "prior = 1/hypothesis_max\n",
    "\n",
    "\n",
    "###### Step 2: Choose the Likelihood of observing the data given a hypothesis\n",
    "observation = [41]\n",
    "\n",
    "# You cannot have fewer locomotives than the max number you've seen \n",
    "hypothesis_min = max(observation)\n",
    "\n",
    "likelihoods = {i: 1/i if i >= hypothesis_min else 0 for i in range(1, hypothesis_max + 1) }\n",
    "\n",
    "\n",
    "###### Step 3: Find the posterior distribution\n",
    "likelihood_times_prior = {i: likelihood*prior for i, likelihood in likelihoods.items()}\n",
    "\n",
    "# Denominator of the Bayes Theorem (probability of data)\n",
    "prob_data = np.sum(list(likelihood_times_prior.values()))\n",
    "\n",
    "posterior = {i:  likelihood/prob_data \n",
    "             for i, likelihood in likelihood_times_prior.items()}\n",
    "    \n",
    "df_posterior = pd.DataFrame(posterior, index=[\"posterior\"]).T\n",
    "\n",
    "display(df_posterior.tail())\n",
    "\n",
    "# Check if it's a valid PMF \n",
    "assert(round(df_posterior.sum().values[0]) == 1.0)"
   ]
  },
  {
   "cell_type": "code",
   "execution_count": 3,
   "metadata": {},
   "outputs": [
    {
     "name": "stdout",
     "output_type": "stream",
     "text": [
      "MAP Estimate: 41\n",
      "Posterior Mean:  183.0\n"
     ]
    }
   ],
   "source": [
    "# Find point estimates \n",
    "N_MAP = np.argmax(list(posterior.values())) + 1\n",
    "N_MEAN = np.sum([i*prob for i, prob in posterior.items()])\n",
    "\n",
    "print(f\"MAP Estimate: {N_MAP}\")\n",
    "\n",
    "print(f\"Posterior Mean: {N_MEAN: .1f}\")"
   ]
  },
  {
   "cell_type": "code",
   "execution_count": 4,
   "metadata": {
    "scrolled": false
   },
   "outputs": [
    {
     "name": "stderr",
     "output_type": "stream",
     "text": [
      "<ipython-input-4-d356cab851d9>:2: UserWarning: In Matplotlib 3.3 individual lines on a stem plot will be added as a LineCollection instead of individual lines. This significantly improves the performance of a stem plot. To remove this warning and switch to the new behaviour, set the \"use_line_collection\" keyword argument to True.\n",
      "  plt.stem(df_posterior[\"posterior\"].index, df_posterior[\"posterior\"])\n"
     ]
    },
    {
     "data": {
      "image/png": "[encoded data removed]",
      "text/plain": [
       "<Figure size 1080x576 with 1 Axes>"
      ]
     },
     "metadata": {
      "needs_background": "light"
     },
     "output_type": "display_data"
    }
   ],
   "source": [
    "# Full Posterior Distribution\n",
    "plt.stem(df_posterior[\"posterior\"].index, df_posterior[\"posterior\"])\n",
    "\n",
    "\n",
    "# Maximum A-Posteriori (MAP) Estimate\n",
    "plt.vlines(x=N_MAP, ymin=0, ymax=np.max(df_posterior[\"posterior\"])*1.1, label=\"MAP (Posterior Mode)\")\n",
    "\n",
    "\n",
    "# Mean of the Posterior\n",
    "plt.vlines(x=N_MEAN, ymin=0, ymax=np.max(df_posterior[\"posterior\"])*1.1, color=\"red\", label=\"Posterior Mean\")\n",
    "\n",
    "plt.xlabel(\"Max Number of Bad Jokes, $N_i$\")\n",
    "plt.ylabel(\"Probability\")\n",
    "plt.title(f\"Posterior Distribution $P(N_i | d = {observation[0]})$\")\n",
    "plt.legend()\n",
    "plt.show()"
   ]
  },
  {
   "cell_type": "code",
   "execution_count": 5,
   "metadata": {},
   "outputs": [
    {
     "name": "stdout",
     "output_type": "stream",
     "text": [
      "95.0% Credibility Interval is (43, 469)\n",
      "(43, 469)\n"
     ]
    }
   ],
   "source": [
    "# Add Credibility Intervals \n",
    "def get_credibility_intervals(df: pd.DataFrame, \n",
    "                              cred_level: float = 0.95) -> tuple:\n",
    "    df = df.sort_index(ascending=True)\n",
    "    df = df.assign(**{\"cdf\": lambda x: x[\"posterior\"].cumsum()})\n",
    "    boundry = (1 - cred_level)/2\n",
    "    credible_interval = (df[\"cdf\"] >= boundry) & (df[\"cdf\"] <= 1 - boundry)\n",
    "    (cred_max, cred_min) = (df[credible_interval].index.min(), \n",
    "                            df[credible_interval].index.max()\n",
    "                           )\n",
    "    \n",
    "    print(f\"{cred_level*100}% Credibility Interval is {(cred_max, cred_min)}\")\n",
    "    return (cred_max, cred_min)\n",
    "\n",
    "\n",
    "print(get_credibility_intervals(df_posterior))"
   ]
  },
  {
   "cell_type": "code",
   "execution_count": null,
   "metadata": {},
   "outputs": [],
   "source": []
  }
 ],
 "metadata": {
  "kernelspec": {
   "display_name": "Python 3",
   "language": "python",
   "name": "python3"
  },
  "language_info": {
   "codemirror_mode": {
    "name": "ipython",
    "version": 3
   },
   "file_extension": ".py",
   "mimetype": "text/x-python",
   "name": "python",
   "nbconvert_exporter": "python",
   "pygments_lexer": "ipython3",
   "version": "3.8.3"
  }
 },
 "nbformat": 4,
 "nbformat_minor": 4
}
