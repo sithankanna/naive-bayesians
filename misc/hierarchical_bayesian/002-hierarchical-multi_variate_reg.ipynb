{
 "cells": [
  {
   "cell_type": "markdown",
   "id": "individual-opinion",
   "metadata": {},
   "source": [
    "# A simpl(er) Introduction to Hierarchical Models \n",
    "### Naive Bayesians, 2021\n",
    "\n",
    "\n",
    "### Agenda\n",
    "\n",
    "1. Univariate Model (Radon Gas)\n",
    "    * Pooled \n",
    "    * Unpooled \n",
    "    * Hierarchical \n",
    "\n",
    "2. Multivariate model (Synthetic Data)\n",
    "    * Pooled \n",
    "    * Unpooled \n",
    "    * Hierarchical "
   ]
  },
  {
   "cell_type": "markdown",
   "id": "classified-instruction",
   "metadata": {},
   "source": [
    "#### Notebook Setup"
   ]
  },
  {
   "cell_type": "code",
   "execution_count": 1,
   "id": "reported-customer",
   "metadata": {},
   "outputs": [
    {
     "data": {
      "text/html": [
       "<style>.container { width:85% !important; }</style>"
      ],
      "text/plain": [
       "<IPython.core.display.HTML object>"
      ]
     },
     "metadata": {},
     "output_type": "display_data"
    },
    {
     "data": {
      "application/javascript": [
       "\n",
       "            setTimeout(function() {\n",
       "                var nbb_cell_id = 1;\n",
       "                var nbb_unformatted_code = \"%load_ext nb_black\\n%reload_ext autoreload\\n%autoreload 2\\n\\nfrom IPython.core.display import display, HTML\\n\\ndisplay(HTML(\\\"<style>.container { width:85% !important; }</style>\\\"))\";\n",
       "                var nbb_formatted_code = \"%load_ext nb_black\\n%reload_ext autoreload\\n%autoreload 2\\n\\nfrom IPython.core.display import display, HTML\\n\\ndisplay(HTML(\\\"<style>.container { width:85% !important; }</style>\\\"))\";\n",
       "                var nbb_cells = Jupyter.notebook.get_cells();\n",
       "                for (var i = 0; i < nbb_cells.length; ++i) {\n",
       "                    if (nbb_cells[i].input_prompt_number == nbb_cell_id) {\n",
       "                        if (nbb_cells[i].get_text() == nbb_unformatted_code) {\n",
       "                             nbb_cells[i].set_text(nbb_formatted_code);\n",
       "                        }\n",
       "                        break;\n",
       "                    }\n",
       "                }\n",
       "            }, 500);\n",
       "            "
      ],
      "text/plain": [
       "<IPython.core.display.Javascript object>"
      ]
     },
     "metadata": {},
     "output_type": "display_data"
    }
   ],
   "source": [
    "%load_ext nb_black\n",
    "%reload_ext autoreload\n",
    "%autoreload 2\n",
    "\n",
    "from IPython.core.display import display, HTML\n",
    "\n",
    "display(HTML(\"<style>.container { width:85% !important; }</style>\"))"
   ]
  },
  {
   "cell_type": "code",
   "execution_count": 2,
   "id": "worse-partner",
   "metadata": {},
   "outputs": [
    {
     "data": {
      "application/javascript": [
       "\n",
       "            setTimeout(function() {\n",
       "                var nbb_cell_id = 2;\n",
       "                var nbb_unformatted_code = \"import os\\nfrom scipy import stats\\nimport pandas as pd\\nimport numpy as np\\nfrom typing import Dict\\n\\n# ML libraries\\nimport pymc3 as pm\\nfrom sklearn.linear_model import LinearRegression\\n\\n# Plotting and viz\\nimport matplotlib.pyplot as plt\\nimport seaborn as sns\\n\\nplt.rcParams[\\\"figure.figsize\\\"] = (10, 5)\\nplt.rcParams[\\\"font.size\\\"] = 15\";\n",
       "                var nbb_formatted_code = \"import os\\nfrom scipy import stats\\nimport pandas as pd\\nimport numpy as np\\nfrom typing import Dict\\n\\n# ML libraries\\nimport pymc3 as pm\\nfrom sklearn.linear_model import LinearRegression\\n\\n# Plotting and viz\\nimport matplotlib.pyplot as plt\\nimport seaborn as sns\\n\\nplt.rcParams[\\\"figure.figsize\\\"] = (10, 5)\\nplt.rcParams[\\\"font.size\\\"] = 15\";\n",
       "                var nbb_cells = Jupyter.notebook.get_cells();\n",
       "                for (var i = 0; i < nbb_cells.length; ++i) {\n",
       "                    if (nbb_cells[i].input_prompt_number == nbb_cell_id) {\n",
       "                        if (nbb_cells[i].get_text() == nbb_unformatted_code) {\n",
       "                             nbb_cells[i].set_text(nbb_formatted_code);\n",
       "                        }\n",
       "                        break;\n",
       "                    }\n",
       "                }\n",
       "            }, 500);\n",
       "            "
      ],
      "text/plain": [
       "<IPython.core.display.Javascript object>"
      ]
     },
     "metadata": {},
     "output_type": "display_data"
    }
   ],
   "source": [
    "import os\n",
    "from scipy import stats\n",
    "import pandas as pd\n",
    "import numpy as np\n",
    "from typing import Dict\n",
    "\n",
    "# ML libraries\n",
    "import pymc3 as pm\n",
    "from sklearn.linear_model import LinearRegression\n",
    "\n",
    "# Plotting and viz\n",
    "import matplotlib.pyplot as plt\n",
    "import seaborn as sns\n",
    "\n",
    "plt.rcParams[\"figure.figsize\"] = (10, 5)\n",
    "plt.rcParams[\"font.size\"] = 15"
   ]
  },
  {
   "cell_type": "markdown",
   "id": "spare-offer",
   "metadata": {},
   "source": [
    "## Univariate Regression - Radon Gas Example\n",
    "\n",
    "Suppose the radon concentration for a specific house, $i$, in county, $c$ is related to if the house has a basement with the relationship:  \n",
    "\n",
    "$$\n",
    "\\begin{align*}\n",
    "\\text{Pooled:  } \\text{log_radon}_{i, c} = {} & \\alpha + \\beta \\hspace{1mm} \\text{floor}_{i, c} + \\epsilon_{i, c}, \\\\\n",
    "\\text{Unpooled:  }  \\text{log_radon}_{i, c} = {} & \\alpha_{c} + \\beta_{c} \\hspace{1mm} \\text{floor}_{i, c} + \\epsilon_{i, c}\n",
    "\\end{align*}\n",
    "$$\n",
    "\n",
    "where $\\alpha_{c}$ is the average radon concentration, $\\text{floor}_{i, c}  = 0$ if the house has a basement  $\\text{floor}_{i, c}  = 1$ if the house doesn't have a basement. "
   ]
  },
  {
   "cell_type": "code",
   "execution_count": null,
   "id": "descending-wings",
   "metadata": {},
   "outputs": [],
   "source": [
    "# Load data\n",
    "def load_radon_data() -> pd.DataFrame:\n",
    "    data = pd.read_csv(pm.get_data(\"radon.csv\"))\n",
    "    data = data[[\"county\", \"floor\", \"log_radon\"]]\n",
    "    return data\n",
    "\n",
    "\n",
    "radon_data = load_radon_data()\n",
    "\n",
    "counties = radon_data[\"county\"].drop_duplicates().to_list()\n",
    "\n",
    "print(f\"Num counties: {len(counties)}\")\n",
    "\n",
    "# Map each county with an index\n",
    "county_index_mapping = {county: index for index, county in enumerate(counties)}\n",
    "\n",
    "radon_data = radon_data.assign(\n",
    "    **{\"county_index\": lambda x: x[\"county\"].map(county_index_mapping)}\n",
    ")\n",
    "display(radon_data)"
   ]
  },
  {
   "cell_type": "markdown",
   "id": "painted-genesis",
   "metadata": {},
   "source": [
    "### 1. Pooled Model Radon Gas Example"
   ]
  },
  {
   "cell_type": "code",
   "execution_count": null,
   "id": "altered-complement",
   "metadata": {},
   "outputs": [],
   "source": [
    "# Build individual models\n",
    "with pm.Model() as ind_radon_model:\n",
    "    # Prior\n",
    "    # ---> Regression Coefficients\n",
    "    alpha = pm.Normal(\"alpha\", mu=0, sigma=10, shape=1)\n",
    "    beta = pm.Normal(\"beta\", mu=0, sigma=10, shape=1)\n",
    "    # ---> Noise\n",
    "    eps = pm.HalfCauchy(\"eps\", 5)\n",
    "\n",
    "    # Likelihood\n",
    "    mu = alpha + beta * radon_data[\"floor\"]\n",
    "    y = pm.Normal(\"obs\", mu=mu, sigma=eps, observed=radon_data[\"log_radon\"])\n",
    "\n",
    "    # Posterior\n",
    "    trace = pm.sample(draws=2000)"
   ]
  },
  {
   "cell_type": "code",
   "execution_count": null,
   "id": "proper-balance",
   "metadata": {},
   "outputs": [],
   "source": [
    "pm.plot_posterior(trace)\n",
    "plt.show()"
   ]
  },
  {
   "cell_type": "code",
   "execution_count": null,
   "id": "returning-modeling",
   "metadata": {},
   "outputs": [],
   "source": [
    "with ind_radon_model:\n",
    "    display(pm.summary(trace))"
   ]
  },
  {
   "cell_type": "markdown",
   "id": "structured-conspiracy",
   "metadata": {},
   "source": [
    "### 2. Unpooled Model Radon Gas Example"
   ]
  },
  {
   "cell_type": "code",
   "execution_count": null,
   "id": "guilty-index",
   "metadata": {},
   "outputs": [],
   "source": [
    "# Build individual models\n",
    "with pm.Model() as unpooled_radon_model:\n",
    "    # Prior\n",
    "    # ---> Regression Coefficients\n",
    "    alpha = pm.Normal(\"alpha\", mu=0, sigma=10, shape=len(counties))\n",
    "    beta = pm.Normal(\"beta\", mu=0, sigma=10, shape=len(counties))\n",
    "    # ---> Noise\n",
    "    eps = pm.HalfCauchy(\"eps\", 5)\n",
    "\n",
    "    # Likelihood\n",
    "    mu = (\n",
    "        alpha[radon_data[\"county_index\"]]\n",
    "        + beta[radon_data[\"county_index\"]] * radon_data[\"floor\"]\n",
    "    )\n",
    "    y = pm.Normal(\"obs\", mu=mu, sigma=eps, observed=radon_data[\"log_radon\"])\n",
    "\n",
    "    # Posterior\n",
    "    trace = pm.sample(draws=2000)"
   ]
  },
  {
   "cell_type": "code",
   "execution_count": null,
   "id": "smooth-mortgage",
   "metadata": {},
   "outputs": [],
   "source": [
    "with unpooled_radon_model:\n",
    "    display(pm.summary(trace))"
   ]
  },
  {
   "cell_type": "markdown",
   "id": "preliminary-status",
   "metadata": {},
   "source": [
    "### 3. Hierarchical Model Radon Gas Example"
   ]
  },
  {
   "cell_type": "code",
   "execution_count": null,
   "id": "stable-community",
   "metadata": {},
   "outputs": [],
   "source": [
    "# Build individual models\n",
    "with pm.Model() as hierarchical_radon_model:\n",
    "    # Prior\n",
    "    # -> Global prior\n",
    "    mu_alpha_glob = pm.Normal(\"mu_alpha\", mu=0, sigma=10)\n",
    "    sigma_alpha_glob = pm.HalfCauchy(\"sig_alpha\", 5)\n",
    "\n",
    "    mu_beta_glob = pm.Normal(\"mu_beta\", mu=0, sigma=10)\n",
    "    sigma_beta_glob = pm.HalfCauchy(\"sig_beta\", 5)\n",
    "\n",
    "    # ---> Regression Coefficients\n",
    "    alpha = pm.Normal(\n",
    "        \"alpha\", mu=mu_alpha_glob, sigma=sigma_alpha_glob, shape=len(counties)\n",
    "    )\n",
    "    beta = pm.Normal(\n",
    "        \"beta\", mu=mu_beta_glob, sigma=sigma_beta_glob, shape=len(counties)\n",
    "    )\n",
    "    # ---> Noise\n",
    "    eps = pm.HalfCauchy(\"eps\", 5)\n",
    "\n",
    "    # Likelihood\n",
    "    mu = (\n",
    "        alpha[radon_data[\"county_index\"]]\n",
    "        + beta[radon_data[\"county_index\"]] * radon_data[\"floor\"]\n",
    "    )\n",
    "    y = pm.Normal(\"obs\", mu=mu, sigma=eps, observed=radon_data[\"log_radon\"])\n",
    "\n",
    "    # Posterior\n",
    "    trace = pm.sample(draws=2000)"
   ]
  },
  {
   "cell_type": "code",
   "execution_count": null,
   "id": "reduced-eagle",
   "metadata": {},
   "outputs": [],
   "source": [
    "with hierarchical_radon_model:\n",
    "    display(pm.summary(trace))"
   ]
  },
  {
   "cell_type": "markdown",
   "id": "twelve-diversity",
   "metadata": {},
   "source": [
    "## Multivariate Model - Synthetic Example\n",
    "\n",
    "### Data Model\n",
    "\n",
    "Suppose you have data from 2 different sites. \n",
    "\\begin{align*}\n",
    "y_{a, i} =  \\pmb{w}_{a}^\\textsf{T}\\pmb{x}_{a, i} + \\epsilon_{i}  \\;\\;\\;\\;\n",
    "y_{b, i} = \\pmb{w}_{b}^\\textsf{T}\\pmb{x}_{b, i} + \\epsilon_{i} \\\\\n",
    "\\end{align*}\n",
    "\n",
    "\n",
    "\n",
    "The data can be collected into a observation vector as follows:\n",
    "\\begin{align*}\n",
    "\\pmb{y} = {} & \\begin{bmatrix} \\pmb{y}_{a} \\\\   \\pmb{y}_{b} \\end{bmatrix} \\;\\;\\;\\;\n",
    "\\end{align*}\n",
    "\n",
    "where, the observations from the indiviual sites as\n",
    "\\begin{align*}\n",
    "\\pmb{y}_{a} = {} & \\begin{bmatrix}y_{a, 1} \\\\ \\vdots \\\\  y_{a, N_{a}}  \\end{bmatrix}  \\;\\;\\;\\;\n",
    "\\pmb{y}_{b} =  \\begin{bmatrix}y_{b, 1} \\\\ \\vdots \\\\  y_{b, N_{b}}  \\end{bmatrix} \\\\\n",
    "\\end{align*}\n",
    "\n",
    "#### Vectorised representation\n",
    "\n",
    "So the observations can be expressed as: \n",
    "\n",
    "\\begin{align*}\n",
    "\\pmb{y}_{a} = {} & \\pmb{X}_{a}\\pmb{w}_{a} + \\pmb{\\epsilon} \\;\\;\\;\\;\n",
    "\\pmb{y}_{b} =   \\pmb{X}_{b}\\pmb{w}_{b} + \\pmb{\\epsilon}  \\\\\n",
    "\\end{align*}\n",
    "\n",
    "The regressors (or inputs), $\\pmb{x}$ can be collected into a matrix \n",
    "\\begin{align*}\n",
    "\\pmb{X}_{a}= {} & \\begin{bmatrix} \\pmb{x}^\\textsf{T}_{a, 1} \\\\ \\vdots \\\\  \\pmb{x}^\\textsf{T}_{a, N_{a}}  \\end{bmatrix} \\;\\;\\;\\;\n",
    "\\pmb{X}_{b}=  \\begin{bmatrix} \\pmb{x}^\\textsf{T}_{b, 1} \\\\ \\vdots \\\\  \\pmb{x}^\\textsf{T}_{b, N_{b}}  \\end{bmatrix} \\\\\n",
    "\\end{align*}\n",
    "\n",
    "and the data from the 2 sites, $a$ and $b$ can be augmented as, \n",
    "$\n",
    "\\begin{align*}\n",
    "\\pmb{X} = {} & \\begin{bmatrix} \\pmb{X}_{a} \\\\   \\pmb{X}_{b} \\end{bmatrix}.\n",
    "\\end{align*}\n",
    "$"
   ]
  },
  {
   "cell_type": "code",
   "execution_count": 4,
   "id": "rational-section",
   "metadata": {},
   "outputs": [
    {
     "data": {
      "application/javascript": [
       "\n",
       "            setTimeout(function() {\n",
       "                var nbb_cell_id = 4;\n",
       "                var nbb_unformatted_code = \"n = 1000\\nw_opt_a = np.array([1, 3.5, 6])\\nw_opt_b = np.array([-1, -3.5, -6])\\nm = len(w_opt_a)\\n\\nX = stats.norm.rvs(size=(n * 2, m), loc=0, scale=1)\\n\\nX_a, X_b = X[0:n], X[n:]\\n\\n\\ny = np.append((X_a @ w_opt_a), (X_b @ w_opt_b)) + stats.norm.rvs(\\n    size=n * 2, loc=0, scale=0.5\\n)\";\n",
       "                var nbb_formatted_code = \"n = 1000\\nw_opt_a = np.array([1, 3.5, 6])\\nw_opt_b = np.array([-1, -3.5, -6])\\nm = len(w_opt_a)\\n\\nX = stats.norm.rvs(size=(n * 2, m), loc=0, scale=1)\\n\\nX_a, X_b = X[0:n], X[n:]\\n\\n\\ny = np.append((X_a @ w_opt_a), (X_b @ w_opt_b)) + stats.norm.rvs(\\n    size=n * 2, loc=0, scale=0.5\\n)\";\n",
       "                var nbb_cells = Jupyter.notebook.get_cells();\n",
       "                for (var i = 0; i < nbb_cells.length; ++i) {\n",
       "                    if (nbb_cells[i].input_prompt_number == nbb_cell_id) {\n",
       "                        if (nbb_cells[i].get_text() == nbb_unformatted_code) {\n",
       "                             nbb_cells[i].set_text(nbb_formatted_code);\n",
       "                        }\n",
       "                        break;\n",
       "                    }\n",
       "                }\n",
       "            }, 500);\n",
       "            "
      ],
      "text/plain": [
       "<IPython.core.display.Javascript object>"
      ]
     },
     "metadata": {},
     "output_type": "display_data"
    }
   ],
   "source": [
    "n = 1000\n",
    "w_opt_a = np.array([1, 3.5, 6])\n",
    "w_opt_b = np.array([-1, -3.5, -6])\n",
    "m = len(w_opt_a)\n",
    "\n",
    "X = stats.norm.rvs(size=(n * 2, m), loc=0, scale=1)\n",
    "\n",
    "X_a, X_b = X[0:n], X[n:]\n",
    "\n",
    "\n",
    "y = np.append((X_a @ w_opt_a), (X_b @ w_opt_b)) + stats.norm.rvs(\n",
    "    size=n * 2, loc=0, scale=0.5\n",
    ")"
   ]
  },
  {
   "cell_type": "markdown",
   "id": "lovely-joseph",
   "metadata": {},
   "source": [
    "### 1. Pooled Model \n",
    "\n",
    "The pooled model considers both the data set (Least squares solution)\n",
    "\n",
    "\\begin{align*}\n",
    "\\hat{\\pmb{w}}_{\\textsf{pooled}} = {} & \\left(\\pmb{X}^\\textsf{T} \\pmb{X} \\right)^{-1} \\pmb{X}^\\textsf{T}\\pmb{y}\n",
    "\\end{align*}"
   ]
  },
  {
   "cell_type": "code",
   "execution_count": 5,
   "id": "outdoor-steam",
   "metadata": {},
   "outputs": [
    {
     "name": "stdout",
     "output_type": "stream",
     "text": [
      "Direct computation [-0.10917189 -0.04735648  0.12445823]\n",
      "Sklearn Linear Regession [-0.10917189 -0.04735648  0.12445823]\n"
     ]
    },
    {
     "data": {
      "application/javascript": [
       "\n",
       "            setTimeout(function() {\n",
       "                var nbb_cell_id = 5;\n",
       "                var nbb_unformatted_code = \"w = np.linalg.inv((X.T @ X)) @ (X.T @ y)\\nprint(\\\"Direct computation\\\", w)\\n\\nlin_mod = LinearRegression(fit_intercept=False)\\nlin_mod.fit(X, y)\\nprint(\\\"Sklearn Linear Regession\\\", lin_mod.coef_)\";\n",
       "                var nbb_formatted_code = \"w = np.linalg.inv((X.T @ X)) @ (X.T @ y)\\nprint(\\\"Direct computation\\\", w)\\n\\nlin_mod = LinearRegression(fit_intercept=False)\\nlin_mod.fit(X, y)\\nprint(\\\"Sklearn Linear Regession\\\", lin_mod.coef_)\";\n",
       "                var nbb_cells = Jupyter.notebook.get_cells();\n",
       "                for (var i = 0; i < nbb_cells.length; ++i) {\n",
       "                    if (nbb_cells[i].input_prompt_number == nbb_cell_id) {\n",
       "                        if (nbb_cells[i].get_text() == nbb_unformatted_code) {\n",
       "                             nbb_cells[i].set_text(nbb_formatted_code);\n",
       "                        }\n",
       "                        break;\n",
       "                    }\n",
       "                }\n",
       "            }, 500);\n",
       "            "
      ],
      "text/plain": [
       "<IPython.core.display.Javascript object>"
      ]
     },
     "metadata": {},
     "output_type": "display_data"
    }
   ],
   "source": [
    "w = np.linalg.inv((X.T @ X)) @ (X.T @ y)\n",
    "print(\"Direct computation\", w)\n",
    "\n",
    "lin_mod = LinearRegression(fit_intercept=False)\n",
    "lin_mod.fit(X, y)\n",
    "print(\"Sklearn Linear Regession\", lin_mod.coef_)"
   ]
  },
  {
   "cell_type": "markdown",
   "id": "representative-wagon",
   "metadata": {},
   "source": [
    "#### Pooled Model (Bayesian)"
   ]
  },
  {
   "cell_type": "code",
   "execution_count": 6,
   "id": "billion-cover",
   "metadata": {},
   "outputs": [
    {
     "name": "stderr",
     "output_type": "stream",
     "text": [
      "Auto-assigning NUTS sampler...\n",
      "Initializing NUTS using jitter+adapt_diag...\n",
      "Multiprocess sampling (2 chains in 2 jobs)\n",
      "NUTS: [sigma, w]\n"
     ]
    },
    {
     "data": {
      "text/html": [
       "\n",
       "    <div>\n",
       "        <style>\n",
       "            /* Turns off some styling */\n",
       "            progress {\n",
       "                /* gets rid of default border in Firefox and Opera. */\n",
       "                border: none;\n",
       "                /* Needs to be in here for Safari polyfill so background images work as expected. */\n",
       "                background-size: auto;\n",
       "            }\n",
       "            .progress-bar-interrupted, .progress-bar-interrupted::-webkit-progress-bar {\n",
       "                background: #F44336;\n",
       "            }\n",
       "        </style>\n",
       "      <progress value='4000' class='' max='4000' style='width:300px; height:20px; vertical-align: middle;'></progress>\n",
       "      100.00% [4000/4000 00:25<00:00 Sampling 2 chains, 0 divergences]\n",
       "    </div>\n",
       "    "
      ],
      "text/plain": [
       "<IPython.core.display.HTML object>"
      ]
     },
     "metadata": {},
     "output_type": "display_data"
    },
    {
     "name": "stderr",
     "output_type": "stream",
     "text": [
      "Sampling 2 chains for 1_000 tune and 1_000 draw iterations (2_000 + 2_000 draws total) took 45 seconds.\n"
     ]
    },
    {
     "data": {
      "application/javascript": [
       "\n",
       "            setTimeout(function() {\n",
       "                var nbb_cell_id = 6;\n",
       "                var nbb_unformatted_code = \"with pm.Model() as mod:\\n    w_ = pm.Normal(name=\\\"w\\\", mu=0, sigma=10, shape=m)\\n    sigma = pm.InverseGamma(\\\"sigma\\\", mu=1, sigma=10)\\n    obs = pm.Normal(name=\\\"obs\\\", observed=y, mu=X @ w_, sigma=sigma)\\n    trace = pm.sample(draws=1000)\";\n",
       "                var nbb_formatted_code = \"with pm.Model() as mod:\\n    w_ = pm.Normal(name=\\\"w\\\", mu=0, sigma=10, shape=m)\\n    sigma = pm.InverseGamma(\\\"sigma\\\", mu=1, sigma=10)\\n    obs = pm.Normal(name=\\\"obs\\\", observed=y, mu=X @ w_, sigma=sigma)\\n    trace = pm.sample(draws=1000)\";\n",
       "                var nbb_cells = Jupyter.notebook.get_cells();\n",
       "                for (var i = 0; i < nbb_cells.length; ++i) {\n",
       "                    if (nbb_cells[i].input_prompt_number == nbb_cell_id) {\n",
       "                        if (nbb_cells[i].get_text() == nbb_unformatted_code) {\n",
       "                             nbb_cells[i].set_text(nbb_formatted_code);\n",
       "                        }\n",
       "                        break;\n",
       "                    }\n",
       "                }\n",
       "            }, 500);\n",
       "            "
      ],
      "text/plain": [
       "<IPython.core.display.Javascript object>"
      ]
     },
     "metadata": {},
     "output_type": "display_data"
    }
   ],
   "source": [
    "with pm.Model() as mod:\n",
    "    # Prior \n",
    "    w_ = pm.Normal(name=\"w\", mu=0, sigma=10, shape=m)\n",
    "    sigma = pm.InverseGamma(\"sigma\", mu=1, sigma=10)\n",
    "    \n",
    "    # Likelihood\n",
    "    obs = pm.Normal(name=\"obs\", observed=y, mu=X @ w_, sigma=sigma)\n",
    "    \n",
    "    # Posterior\n",
    "    trace = pm.sample(draws=1000)"
   ]
  },
  {
   "cell_type": "code",
   "execution_count": 9,
   "id": "employed-joshua",
   "metadata": {
    "scrolled": false
   },
   "outputs": [
    {
     "name": "stderr",
     "output_type": "stream",
     "text": [
      "/opt/anaconda3/envs/homework/lib/python3.7/site-packages/arviz/data/io_pymc3.py:92: FutureWarning: Using `from_pymc3` without the model will be deprecated in a future release. Not using the model will return less accurate and less useful results. Make sure you use the model argument or call from_pymc3 within a model context.\n",
      "  FutureWarning,\n"
     ]
    },
    {
     "data": {
      "image/png": "[encoded data removed]",
      "text/plain": [
       "<Figure size 2484x414 with 3 Axes>"
      ]
     },
     "metadata": {
      "needs_background": "light"
     },
     "output_type": "display_data"
    },
    {
     "data": {
      "application/javascript": [
       "\n",
       "            setTimeout(function() {\n",
       "                var nbb_cell_id = 9;\n",
       "                var nbb_unformatted_code = \"pm.plot_posterior(trace, var_names=[\\\"w\\\"], textsize=20)\\nplt.show()\";\n",
       "                var nbb_formatted_code = \"pm.plot_posterior(trace, var_names=[\\\"w\\\"], textsize=20)\\nplt.show()\";\n",
       "                var nbb_cells = Jupyter.notebook.get_cells();\n",
       "                for (var i = 0; i < nbb_cells.length; ++i) {\n",
       "                    if (nbb_cells[i].input_prompt_number == nbb_cell_id) {\n",
       "                        if (nbb_cells[i].get_text() == nbb_unformatted_code) {\n",
       "                             nbb_cells[i].set_text(nbb_formatted_code);\n",
       "                        }\n",
       "                        break;\n",
       "                    }\n",
       "                }\n",
       "            }, 500);\n",
       "            "
      ],
      "text/plain": [
       "<IPython.core.display.Javascript object>"
      ]
     },
     "metadata": {},
     "output_type": "display_data"
    }
   ],
   "source": [
    "pm.plot_posterior(trace, var_names=[\"w\"], textsize=20)\n",
    "plt.show()"
   ]
  },
  {
   "cell_type": "code",
   "execution_count": null,
   "id": "annual-wales",
   "metadata": {},
   "outputs": [],
   "source": []
  },
  {
   "cell_type": "markdown",
   "id": "mounted-means",
   "metadata": {},
   "source": [
    "### 2. Unpooled Model "
   ]
  },
  {
   "cell_type": "markdown",
   "id": "relative-absorption",
   "metadata": {},
   "source": [
    "#### Representation  \n",
    "\n",
    "Since, we'd like to estimate the individual parameters from site $a$ & $b$, the 2 vectors can be augmented as\n",
    "$\n",
    "\\begin{align*}\n",
    "\\hat{\\pmb{w}} =  \\begin{bmatrix}  \\hat{\\pmb{w}}_a  ,   \\hat{\\pmb{w}}_b\\end{bmatrix} \n",
    "\\end{align*}\n",
    "$ to give us a $(M \\times 2)$ matrix\n",
    "\n",
    "As seen before the regressors can be augmened into a $(N_a + N_b) \\times m$ matrix,\n",
    "$\n",
    "\\begin{align*}\n",
    "\\pmb{X} = {} & \\begin{bmatrix} \\pmb{X}_{a} \\\\   \\pmb{X}_{b} \\end{bmatrix}. \n",
    "\\end{align*}\n",
    "$\n",
    "\n",
    "To get to our observations, we first multiple the regressors and the regression coefficients as follows\n",
    "\n",
    "\\begin{align*}\n",
    "\\tilde{\\pmb{y}} = {} & \\pmb{X} \\hat{\\pmb{w}}   \\\\\n",
    " = {} & \\begin{bmatrix} \\pmb{X}_{a} \\\\   \\pmb{X}_{b} \\end{bmatrix} \\begin{bmatrix}  \\hat{\\pmb{w}}_a  ,   \\hat{\\pmb{w}}_b\\end{bmatrix} \\\\\n",
    "  = {} & \\begin{bmatrix} \\hat{\\pmb{y}}_{a}, \\ \\tilde{\\pmb{y}}_{ab} \\\\  \\tilde{\\pmb{y}}_{ba}, \\hat{\\pmb{y}}_{b} \\end{bmatrix} \n",
    "\\end{align*}\n",
    "\n",
    "This gives us an augmented observation matrix of size $(N_a + N_b) \\times 2$. Recall that our observations are a _vector_ of the size $(N_a + N_b) \\times 1$, i.e.\n",
    "\n",
    "\\begin{align*}\n",
    "\\hat{\\pmb{y}} = {} & \\begin{bmatrix} \\hat{\\pmb{y}}_{a} \\\\ \\hat{\\pmb{y}}_{b} \\end{bmatrix} \n",
    "\\end{align*}\n",
    "\n",
    "So, to extract a the observation vector $\\hat{\\pmb{y}}$ from the augmented matrix $\\tilde{\\pmb{y}}$, we need to access the \n",
    "correct elements: \n",
    "\\begin{align*}\n",
    "\\hat{\\pmb{y}} = {} & \\tilde{\\pmb{y}}\\textsf{.iloc}\\left( \\begin{bmatrix} 0 & 0 \\\\ 1 & 0 \\\\ \\vdots & 0 \\\\ N_a & 0 \\\\ N_a + 1 & 1 \\\\ N_a + 2 & 1 \\\\ \\vdots & 1 \\\\ N_a + N_b & 1 \\end{bmatrix}  \\right)\n",
    "\\end{align*}\n",
    "\n"
   ]
  },
  {
   "cell_type": "code",
   "execution_count": 10,
   "id": "billion-master",
   "metadata": {},
   "outputs": [
    {
     "name": "stderr",
     "output_type": "stream",
     "text": [
      "/opt/anaconda3/envs/homework/lib/python3.7/site-packages/theano/tensor/subtensor.py:2197: FutureWarning: Using a non-tuple sequence for multidimensional indexing is deprecated; use `arr[tuple(seq)]` instead of `arr[seq]`. In the future this will be interpreted as an array index, `arr[np.array(seq)]`, which will result either in an error or a different result.\n",
      "  rval = inputs[0].__getitem__(inputs[1:])\n",
      "Auto-assigning NUTS sampler...\n",
      "Initializing NUTS using jitter+adapt_diag...\n",
      "/opt/anaconda3/envs/homework/lib/python3.7/site-packages/theano/tensor/subtensor.py:2197: FutureWarning: Using a non-tuple sequence for multidimensional indexing is deprecated; use `arr[tuple(seq)]` instead of `arr[seq]`. In the future this will be interpreted as an array index, `arr[np.array(seq)]`, which will result either in an error or a different result.\n",
      "  rval = inputs[0].__getitem__(inputs[1:])\n",
      "Multiprocess sampling (2 chains in 2 jobs)\n",
      "NUTS: [sigma, w]\n"
     ]
    },
    {
     "data": {
      "text/html": [
       "\n",
       "    <div>\n",
       "        <style>\n",
       "            /* Turns off some styling */\n",
       "            progress {\n",
       "                /* gets rid of default border in Firefox and Opera. */\n",
       "                border: none;\n",
       "                /* Needs to be in here for Safari polyfill so background images work as expected. */\n",
       "                background-size: auto;\n",
       "            }\n",
       "            .progress-bar-interrupted, .progress-bar-interrupted::-webkit-progress-bar {\n",
       "                background: #F44336;\n",
       "            }\n",
       "        </style>\n",
       "      <progress value='5000' class='' max='5000' style='width:300px; height:20px; vertical-align: middle;'></progress>\n",
       "      100.00% [5000/5000 00:36<00:00 Sampling 2 chains, 0 divergences]\n",
       "    </div>\n",
       "    "
      ],
      "text/plain": [
       "<IPython.core.display.HTML object>"
      ]
     },
     "metadata": {},
     "output_type": "display_data"
    },
    {
     "name": "stderr",
     "output_type": "stream",
     "text": [
      "Sampling 2 chains for 1_000 tune and 1_500 draw iterations (2_000 + 3_000 draws total) took 54 seconds.\n",
      "/opt/anaconda3/envs/homework/lib/python3.7/site-packages/theano/tensor/subtensor.py:2197: FutureWarning: Using a non-tuple sequence for multidimensional indexing is deprecated; use `arr[tuple(seq)]` instead of `arr[seq]`. In the future this will be interpreted as an array index, `arr[np.array(seq)]`, which will result either in an error or a different result.\n",
      "  rval = inputs[0].__getitem__(inputs[1:])\n"
     ]
    },
    {
     "data": {
      "application/javascript": [
       "\n",
       "            setTimeout(function() {\n",
       "                var nbb_cell_id = 10;\n",
       "                var nbb_unformatted_code = \"index_cols = tuple(\\n    np.append(np.zeros(len(X_a), dtype=np.int8), np.ones(len(X_b), dtype=np.int8))\\n)\\nindex_rows = tuple(np.arange(len(X_a) + len(X_b)))\\n\\nwith pm.Model() as ind_mod:\\n    # Prior\\n    # -> Individial priors\\n    w_ind = pm.Normal(name=\\\"w\\\", mu=0, sigma=10, shape=(m, 2))\\n    sigma = pm.InverseGamma(\\\"sigma\\\", mu=1, sigma=10)\\n\\n    # Likelihood\\n    mu = (X @ w_ind)[index_rows, index_cols]\\n    obs = pm.Normal(name=\\\"obs\\\", observed=y, mu=mu, sigma=sigma)\\n\\n    # Sample from the posterior\\n    trace = pm.sample(draws=1500)\";\n",
       "                var nbb_formatted_code = \"index_cols = tuple(\\n    np.append(np.zeros(len(X_a), dtype=np.int8), np.ones(len(X_b), dtype=np.int8))\\n)\\nindex_rows = tuple(np.arange(len(X_a) + len(X_b)))\\n\\nwith pm.Model() as ind_mod:\\n    # Prior\\n    # -> Individial priors\\n    w_ind = pm.Normal(name=\\\"w\\\", mu=0, sigma=10, shape=(m, 2))\\n    sigma = pm.InverseGamma(\\\"sigma\\\", mu=1, sigma=10)\\n\\n    # Likelihood\\n    mu = (X @ w_ind)[index_rows, index_cols]\\n    obs = pm.Normal(name=\\\"obs\\\", observed=y, mu=mu, sigma=sigma)\\n\\n    # Sample from the posterior\\n    trace = pm.sample(draws=1500)\";\n",
       "                var nbb_cells = Jupyter.notebook.get_cells();\n",
       "                for (var i = 0; i < nbb_cells.length; ++i) {\n",
       "                    if (nbb_cells[i].input_prompt_number == nbb_cell_id) {\n",
       "                        if (nbb_cells[i].get_text() == nbb_unformatted_code) {\n",
       "                             nbb_cells[i].set_text(nbb_formatted_code);\n",
       "                        }\n",
       "                        break;\n",
       "                    }\n",
       "                }\n",
       "            }, 500);\n",
       "            "
      ],
      "text/plain": [
       "<IPython.core.display.Javascript object>"
      ]
     },
     "metadata": {},
     "output_type": "display_data"
    }
   ],
   "source": [
    "index_cols = tuple(\n",
    "    np.append(np.zeros(len(X_a), dtype=np.int8), np.ones(len(X_b), dtype=np.int8))\n",
    ")\n",
    "index_rows = tuple(np.arange(len(X_a) + len(X_b)))\n",
    "\n",
    "with pm.Model() as ind_mod:\n",
    "    # Prior\n",
    "    # -> Individial priors\n",
    "    w_ind = pm.Normal(name=\"w\", mu=0, sigma=10, shape=(m, 2))\n",
    "    sigma = pm.InverseGamma(\"sigma\", mu=1, sigma=10)\n",
    "\n",
    "    # Likelihood\n",
    "    mu = (X @ w_ind)[index_rows, index_cols]\n",
    "    obs = pm.Normal(name=\"obs\", observed=y, mu=mu, sigma=sigma)\n",
    "\n",
    "    # Sample from the posterior\n",
    "    trace = pm.sample(draws=1500)"
   ]
  },
  {
   "cell_type": "code",
   "execution_count": null,
   "id": "electrical-conversion",
   "metadata": {
    "scrolled": false
   },
   "outputs": [],
   "source": [
    "index_cols"
   ]
  },
  {
   "cell_type": "code",
   "execution_count": null,
   "id": "sapphire-actress",
   "metadata": {},
   "outputs": [],
   "source": [
    "trace.get_values(varname=\"w\").shape"
   ]
  },
  {
   "cell_type": "code",
   "execution_count": 11,
   "id": "increasing-newcastle",
   "metadata": {},
   "outputs": [
    {
     "name": "stderr",
     "output_type": "stream",
     "text": [
      "/opt/anaconda3/envs/homework/lib/python3.7/site-packages/arviz/data/io_pymc3.py:92: FutureWarning: Using `from_pymc3` without the model will be deprecated in a future release. Not using the model will return less accurate and less useful results. Make sure you use the model argument or call from_pymc3 within a model context.\n",
      "  FutureWarning,\n",
      "/opt/anaconda3/envs/homework/lib/python3.7/site-packages/theano/tensor/subtensor.py:2197: FutureWarning: Using a non-tuple sequence for multidimensional indexing is deprecated; use `arr[tuple(seq)]` instead of `arr[seq]`. In the future this will be interpreted as an array index, `arr[np.array(seq)]`, which will result either in an error or a different result.\n",
      "  rval = inputs[0].__getitem__(inputs[1:])\n"
     ]
    },
    {
     "data": {
      "image/png": "[encoded data removed]",
      "text/plain": [
       "<Figure size 2484x828 with 6 Axes>"
      ]
     },
     "metadata": {
      "needs_background": "light"
     },
     "output_type": "display_data"
    },
    {
     "data": {
      "application/javascript": [
       "\n",
       "            setTimeout(function() {\n",
       "                var nbb_cell_id = 11;\n",
       "                var nbb_unformatted_code = \"pm.plot_posterior(trace, var_names=[\\\"w\\\"], textsize=20)\\nplt.show()\";\n",
       "                var nbb_formatted_code = \"pm.plot_posterior(trace, var_names=[\\\"w\\\"], textsize=20)\\nplt.show()\";\n",
       "                var nbb_cells = Jupyter.notebook.get_cells();\n",
       "                for (var i = 0; i < nbb_cells.length; ++i) {\n",
       "                    if (nbb_cells[i].input_prompt_number == nbb_cell_id) {\n",
       "                        if (nbb_cells[i].get_text() == nbb_unformatted_code) {\n",
       "                             nbb_cells[i].set_text(nbb_formatted_code);\n",
       "                        }\n",
       "                        break;\n",
       "                    }\n",
       "                }\n",
       "            }, 500);\n",
       "            "
      ],
      "text/plain": [
       "<IPython.core.display.Javascript object>"
      ]
     },
     "metadata": {},
     "output_type": "display_data"
    }
   ],
   "source": [
    "pm.plot_posterior(trace, var_names=[\"w\"], textsize=20)\n",
    "plt.show()"
   ]
  },
  {
   "cell_type": "code",
   "execution_count": 12,
   "id": "coupled-thomas",
   "metadata": {
    "scrolled": false
   },
   "outputs": [
    {
     "name": "stderr",
     "output_type": "stream",
     "text": [
      "/opt/anaconda3/envs/homework/lib/python3.7/site-packages/theano/tensor/subtensor.py:2197: FutureWarning: Using a non-tuple sequence for multidimensional indexing is deprecated; use `arr[tuple(seq)]` instead of `arr[seq]`. In the future this will be interpreted as an array index, `arr[np.array(seq)]`, which will result either in an error or a different result.\n",
      "  rval = inputs[0].__getitem__(inputs[1:])\n"
     ]
    },
    {
     "data": {
      "text/html": [
       "<div>\n",
       "<style scoped>\n",
       "    .dataframe tbody tr th:only-of-type {\n",
       "        vertical-align: middle;\n",
       "    }\n",
       "\n",
       "    .dataframe tbody tr th {\n",
       "        vertical-align: top;\n",
       "    }\n",
       "\n",
       "    .dataframe thead th {\n",
       "        text-align: right;\n",
       "    }\n",
       "</style>\n",
       "<table border=\"1\" class=\"dataframe\">\n",
       "  <thead>\n",
       "    <tr style=\"text-align: right;\">\n",
       "      <th></th>\n",
       "      <th>mean</th>\n",
       "      <th>sd</th>\n",
       "      <th>hdi_3%</th>\n",
       "      <th>hdi_97%</th>\n",
       "      <th>mcse_mean</th>\n",
       "      <th>mcse_sd</th>\n",
       "      <th>ess_mean</th>\n",
       "      <th>ess_sd</th>\n",
       "      <th>ess_bulk</th>\n",
       "      <th>ess_tail</th>\n",
       "      <th>r_hat</th>\n",
       "    </tr>\n",
       "  </thead>\n",
       "  <tbody>\n",
       "    <tr>\n",
       "      <th>w[0,0]</th>\n",
       "      <td>1.000</td>\n",
       "      <td>0.017</td>\n",
       "      <td>0.966</td>\n",
       "      <td>1.030</td>\n",
       "      <td>0.0</td>\n",
       "      <td>0.0</td>\n",
       "      <td>4235.0</td>\n",
       "      <td>4219.0</td>\n",
       "      <td>4250.0</td>\n",
       "      <td>2444.0</td>\n",
       "      <td>1.0</td>\n",
       "    </tr>\n",
       "    <tr>\n",
       "      <th>w[0,1]</th>\n",
       "      <td>-1.031</td>\n",
       "      <td>0.016</td>\n",
       "      <td>-1.061</td>\n",
       "      <td>-1.001</td>\n",
       "      <td>0.0</td>\n",
       "      <td>0.0</td>\n",
       "      <td>4913.0</td>\n",
       "      <td>4913.0</td>\n",
       "      <td>4926.0</td>\n",
       "      <td>2261.0</td>\n",
       "      <td>1.0</td>\n",
       "    </tr>\n",
       "    <tr>\n",
       "      <th>w[1,0]</th>\n",
       "      <td>3.504</td>\n",
       "      <td>0.016</td>\n",
       "      <td>3.472</td>\n",
       "      <td>3.533</td>\n",
       "      <td>0.0</td>\n",
       "      <td>0.0</td>\n",
       "      <td>5796.0</td>\n",
       "      <td>5796.0</td>\n",
       "      <td>5829.0</td>\n",
       "      <td>2372.0</td>\n",
       "      <td>1.0</td>\n",
       "    </tr>\n",
       "    <tr>\n",
       "      <th>w[1,1]</th>\n",
       "      <td>-3.509</td>\n",
       "      <td>0.016</td>\n",
       "      <td>-3.538</td>\n",
       "      <td>-3.479</td>\n",
       "      <td>0.0</td>\n",
       "      <td>0.0</td>\n",
       "      <td>4428.0</td>\n",
       "      <td>4428.0</td>\n",
       "      <td>4419.0</td>\n",
       "      <td>2315.0</td>\n",
       "      <td>1.0</td>\n",
       "    </tr>\n",
       "    <tr>\n",
       "      <th>w[2,0]</th>\n",
       "      <td>6.007</td>\n",
       "      <td>0.015</td>\n",
       "      <td>5.978</td>\n",
       "      <td>6.035</td>\n",
       "      <td>0.0</td>\n",
       "      <td>0.0</td>\n",
       "      <td>6005.0</td>\n",
       "      <td>6005.0</td>\n",
       "      <td>6076.0</td>\n",
       "      <td>2531.0</td>\n",
       "      <td>1.0</td>\n",
       "    </tr>\n",
       "    <tr>\n",
       "      <th>w[2,1]</th>\n",
       "      <td>-6.026</td>\n",
       "      <td>0.016</td>\n",
       "      <td>-6.054</td>\n",
       "      <td>-5.995</td>\n",
       "      <td>0.0</td>\n",
       "      <td>0.0</td>\n",
       "      <td>4576.0</td>\n",
       "      <td>4575.0</td>\n",
       "      <td>4576.0</td>\n",
       "      <td>2266.0</td>\n",
       "      <td>1.0</td>\n",
       "    </tr>\n",
       "    <tr>\n",
       "      <th>sigma</th>\n",
       "      <td>0.500</td>\n",
       "      <td>0.008</td>\n",
       "      <td>0.484</td>\n",
       "      <td>0.514</td>\n",
       "      <td>0.0</td>\n",
       "      <td>0.0</td>\n",
       "      <td>3645.0</td>\n",
       "      <td>3645.0</td>\n",
       "      <td>3649.0</td>\n",
       "      <td>2597.0</td>\n",
       "      <td>1.0</td>\n",
       "    </tr>\n",
       "  </tbody>\n",
       "</table>\n",
       "</div>"
      ],
      "text/plain": [
       "         mean     sd  hdi_3%  hdi_97%  mcse_mean  mcse_sd  ess_mean  ess_sd  \\\n",
       "w[0,0]  1.000  0.017   0.966    1.030        0.0      0.0    4235.0  4219.0   \n",
       "w[0,1] -1.031  0.016  -1.061   -1.001        0.0      0.0    4913.0  4913.0   \n",
       "w[1,0]  3.504  0.016   3.472    3.533        0.0      0.0    5796.0  5796.0   \n",
       "w[1,1] -3.509  0.016  -3.538   -3.479        0.0      0.0    4428.0  4428.0   \n",
       "w[2,0]  6.007  0.015   5.978    6.035        0.0      0.0    6005.0  6005.0   \n",
       "w[2,1] -6.026  0.016  -6.054   -5.995        0.0      0.0    4576.0  4575.0   \n",
       "sigma   0.500  0.008   0.484    0.514        0.0      0.0    3645.0  3645.0   \n",
       "\n",
       "        ess_bulk  ess_tail  r_hat  \n",
       "w[0,0]    4250.0    2444.0    1.0  \n",
       "w[0,1]    4926.0    2261.0    1.0  \n",
       "w[1,0]    5829.0    2372.0    1.0  \n",
       "w[1,1]    4419.0    2315.0    1.0  \n",
       "w[2,0]    6076.0    2531.0    1.0  \n",
       "w[2,1]    4576.0    2266.0    1.0  \n",
       "sigma     3649.0    2597.0    1.0  "
      ]
     },
     "metadata": {},
     "output_type": "display_data"
    },
    {
     "data": {
      "application/javascript": [
       "\n",
       "            setTimeout(function() {\n",
       "                var nbb_cell_id = 12;\n",
       "                var nbb_unformatted_code = \"with ind_mod:\\n    display(pm.summary(trace))\";\n",
       "                var nbb_formatted_code = \"with ind_mod:\\n    display(pm.summary(trace))\";\n",
       "                var nbb_cells = Jupyter.notebook.get_cells();\n",
       "                for (var i = 0; i < nbb_cells.length; ++i) {\n",
       "                    if (nbb_cells[i].input_prompt_number == nbb_cell_id) {\n",
       "                        if (nbb_cells[i].get_text() == nbb_unformatted_code) {\n",
       "                             nbb_cells[i].set_text(nbb_formatted_code);\n",
       "                        }\n",
       "                        break;\n",
       "                    }\n",
       "                }\n",
       "            }, 500);\n",
       "            "
      ],
      "text/plain": [
       "<IPython.core.display.Javascript object>"
      ]
     },
     "metadata": {},
     "output_type": "display_data"
    }
   ],
   "source": [
    "with ind_mod:\n",
    "    display(pm.summary(trace))"
   ]
  },
  {
   "cell_type": "markdown",
   "id": "accurate-cutting",
   "metadata": {},
   "source": [
    "### 3. Hierarchical Model "
   ]
  },
  {
   "cell_type": "code",
   "execution_count": 13,
   "id": "pharmaceutical-czech",
   "metadata": {},
   "outputs": [
    {
     "name": "stderr",
     "output_type": "stream",
     "text": [
      "/opt/anaconda3/envs/homework/lib/python3.7/site-packages/theano/tensor/subtensor.py:2197: FutureWarning: Using a non-tuple sequence for multidimensional indexing is deprecated; use `arr[tuple(seq)]` instead of `arr[seq]`. In the future this will be interpreted as an array index, `arr[np.array(seq)]`, which will result either in an error or a different result.\n",
      "  rval = inputs[0].__getitem__(inputs[1:])\n",
      "Auto-assigning NUTS sampler...\n",
      "Initializing NUTS using jitter+adapt_diag...\n",
      "/opt/anaconda3/envs/homework/lib/python3.7/site-packages/theano/tensor/subtensor.py:2197: FutureWarning: Using a non-tuple sequence for multidimensional indexing is deprecated; use `arr[tuple(seq)]` instead of `arr[seq]`. In the future this will be interpreted as an array index, `arr[np.array(seq)]`, which will result either in an error or a different result.\n",
      "  rval = inputs[0].__getitem__(inputs[1:])\n",
      "Multiprocess sampling (2 chains in 2 jobs)\n",
      "NUTS: [sigma, w, sigma_w, mu_w]\n"
     ]
    },
    {
     "data": {
      "text/html": [
       "\n",
       "    <div>\n",
       "        <style>\n",
       "            /* Turns off some styling */\n",
       "            progress {\n",
       "                /* gets rid of default border in Firefox and Opera. */\n",
       "                border: none;\n",
       "                /* Needs to be in here for Safari polyfill so background images work as expected. */\n",
       "                background-size: auto;\n",
       "            }\n",
       "            .progress-bar-interrupted, .progress-bar-interrupted::-webkit-progress-bar {\n",
       "                background: #F44336;\n",
       "            }\n",
       "        </style>\n",
       "      <progress value='5000' class='' max='5000' style='width:300px; height:20px; vertical-align: middle;'></progress>\n",
       "      100.00% [5000/5000 03:09<00:00 Sampling 2 chains, 0 divergences]\n",
       "    </div>\n",
       "    "
      ],
      "text/plain": [
       "<IPython.core.display.HTML object>"
      ]
     },
     "metadata": {},
     "output_type": "display_data"
    },
    {
     "name": "stderr",
     "output_type": "stream",
     "text": [
      "Sampling 2 chains for 1_000 tune and 1_500 draw iterations (2_000 + 3_000 draws total) took 210 seconds.\n"
     ]
    },
    {
     "data": {
      "application/javascript": [
       "\n",
       "            setTimeout(function() {\n",
       "                var nbb_cell_id = 13;\n",
       "                var nbb_unformatted_code = \"with pm.Model() as hierarchical_mod:\\n    # Prior\\n\\n    # -> Global Prior\\n    mu_w_glob = pm.Normal(name=\\\"mu_w\\\", mu=0, sigma=10, shape=(m, 1))\\n    sigma_w_glob = pm.InverseGamma(\\\"sigma_w\\\", mu=1, sigma=10)\\n\\n    # -> Individial priors\\n    w_hierarchy = pm.Normal(name=\\\"w\\\", mu=mu_w_glob, sigma=sigma_w_glob, shape=(m, 2))\\n    sigma = pm.InverseGamma(\\\"sigma\\\", mu=1, sigma=10)\\n\\n    # Likelihood\\n    mu = (X @ w_hierarchy)[index_rows, index_cols]\\n    obs = pm.Normal(name=\\\"obs\\\", observed=y, mu=mu, sigma=sigma)\\n\\n    # Sample from the posterior\\n    trace = pm.sample(draws=1500)\";\n",
       "                var nbb_formatted_code = \"with pm.Model() as hierarchical_mod:\\n    # Prior\\n\\n    # -> Global Prior\\n    mu_w_glob = pm.Normal(name=\\\"mu_w\\\", mu=0, sigma=10, shape=(m, 1))\\n    sigma_w_glob = pm.InverseGamma(\\\"sigma_w\\\", mu=1, sigma=10)\\n\\n    # -> Individial priors\\n    w_hierarchy = pm.Normal(name=\\\"w\\\", mu=mu_w_glob, sigma=sigma_w_glob, shape=(m, 2))\\n    sigma = pm.InverseGamma(\\\"sigma\\\", mu=1, sigma=10)\\n\\n    # Likelihood\\n    mu = (X @ w_hierarchy)[index_rows, index_cols]\\n    obs = pm.Normal(name=\\\"obs\\\", observed=y, mu=mu, sigma=sigma)\\n\\n    # Sample from the posterior\\n    trace = pm.sample(draws=1500)\";\n",
       "                var nbb_cells = Jupyter.notebook.get_cells();\n",
       "                for (var i = 0; i < nbb_cells.length; ++i) {\n",
       "                    if (nbb_cells[i].input_prompt_number == nbb_cell_id) {\n",
       "                        if (nbb_cells[i].get_text() == nbb_unformatted_code) {\n",
       "                             nbb_cells[i].set_text(nbb_formatted_code);\n",
       "                        }\n",
       "                        break;\n",
       "                    }\n",
       "                }\n",
       "            }, 500);\n",
       "            "
      ],
      "text/plain": [
       "<IPython.core.display.Javascript object>"
      ]
     },
     "metadata": {},
     "output_type": "display_data"
    }
   ],
   "source": [
    "with pm.Model() as hierarchical_mod:\n",
    "    # Prior\n",
    "\n",
    "    # -> Global Prior\n",
    "    mu_w_glob = pm.Normal(name=\"mu_w\", mu=0, sigma=10, shape=(m, 1))\n",
    "    sigma_w_glob = pm.InverseGamma(\"sigma_w\", mu=1, sigma=10)\n",
    "\n",
    "    # -> Individial priors\n",
    "    w_hierarchy = pm.Normal(name=\"w\", mu=mu_w_glob, sigma=sigma_w_glob, shape=(m, 2))\n",
    "    sigma = pm.InverseGamma(\"sigma\", mu=1, sigma=10)\n",
    "\n",
    "    # Likelihood\n",
    "    mu = (X @ w_hierarchy)[index_rows, index_cols]\n",
    "    obs = pm.Normal(name=\"obs\", observed=y, mu=mu, sigma=sigma)\n",
    "\n",
    "    # Sample from the posterior\n",
    "    trace = pm.sample(draws=1500)"
   ]
  },
  {
   "cell_type": "code",
   "execution_count": 14,
   "id": "universal-exercise",
   "metadata": {},
   "outputs": [
    {
     "name": "stderr",
     "output_type": "stream",
     "text": [
      "/opt/anaconda3/envs/homework/lib/python3.7/site-packages/theano/tensor/subtensor.py:2197: FutureWarning: Using a non-tuple sequence for multidimensional indexing is deprecated; use `arr[tuple(seq)]` instead of `arr[seq]`. In the future this will be interpreted as an array index, `arr[np.array(seq)]`, which will result either in an error or a different result.\n",
      "  rval = inputs[0].__getitem__(inputs[1:])\n"
     ]
    },
    {
     "data": {
      "text/html": [
       "<div>\n",
       "<style scoped>\n",
       "    .dataframe tbody tr th:only-of-type {\n",
       "        vertical-align: middle;\n",
       "    }\n",
       "\n",
       "    .dataframe tbody tr th {\n",
       "        vertical-align: top;\n",
       "    }\n",
       "\n",
       "    .dataframe thead th {\n",
       "        text-align: right;\n",
       "    }\n",
       "</style>\n",
       "<table border=\"1\" class=\"dataframe\">\n",
       "  <thead>\n",
       "    <tr style=\"text-align: right;\">\n",
       "      <th></th>\n",
       "      <th>mean</th>\n",
       "      <th>sd</th>\n",
       "      <th>hdi_3%</th>\n",
       "      <th>hdi_97%</th>\n",
       "      <th>mcse_mean</th>\n",
       "      <th>mcse_sd</th>\n",
       "      <th>ess_mean</th>\n",
       "      <th>ess_sd</th>\n",
       "      <th>ess_bulk</th>\n",
       "      <th>ess_tail</th>\n",
       "      <th>r_hat</th>\n",
       "    </tr>\n",
       "  </thead>\n",
       "  <tbody>\n",
       "    <tr>\n",
       "      <th>mu_w[0,0]</th>\n",
       "      <td>-0.109</td>\n",
       "      <td>3.398</td>\n",
       "      <td>-6.041</td>\n",
       "      <td>6.629</td>\n",
       "      <td>0.055</td>\n",
       "      <td>0.062</td>\n",
       "      <td>3791.0</td>\n",
       "      <td>1498.0</td>\n",
       "      <td>4134.0</td>\n",
       "      <td>2103.0</td>\n",
       "      <td>1.0</td>\n",
       "    </tr>\n",
       "    <tr>\n",
       "      <th>mu_w[1,0]</th>\n",
       "      <td>-0.036</td>\n",
       "      <td>3.516</td>\n",
       "      <td>-6.436</td>\n",
       "      <td>6.872</td>\n",
       "      <td>0.061</td>\n",
       "      <td>0.067</td>\n",
       "      <td>3349.0</td>\n",
       "      <td>1370.0</td>\n",
       "      <td>3423.0</td>\n",
       "      <td>1993.0</td>\n",
       "      <td>1.0</td>\n",
       "    </tr>\n",
       "    <tr>\n",
       "      <th>mu_w[2,0]</th>\n",
       "      <td>0.156</td>\n",
       "      <td>3.416</td>\n",
       "      <td>-5.982</td>\n",
       "      <td>6.575</td>\n",
       "      <td>0.054</td>\n",
       "      <td>0.061</td>\n",
       "      <td>3969.0</td>\n",
       "      <td>1563.0</td>\n",
       "      <td>4161.0</td>\n",
       "      <td>2270.0</td>\n",
       "      <td>1.0</td>\n",
       "    </tr>\n",
       "    <tr>\n",
       "      <th>w[0,0]</th>\n",
       "      <td>1.000</td>\n",
       "      <td>0.017</td>\n",
       "      <td>0.967</td>\n",
       "      <td>1.030</td>\n",
       "      <td>0.000</td>\n",
       "      <td>0.000</td>\n",
       "      <td>4935.0</td>\n",
       "      <td>4935.0</td>\n",
       "      <td>4931.0</td>\n",
       "      <td>2247.0</td>\n",
       "      <td>1.0</td>\n",
       "    </tr>\n",
       "    <tr>\n",
       "      <th>w[0,1]</th>\n",
       "      <td>-1.031</td>\n",
       "      <td>0.015</td>\n",
       "      <td>-1.061</td>\n",
       "      <td>-1.003</td>\n",
       "      <td>0.000</td>\n",
       "      <td>0.000</td>\n",
       "      <td>3744.0</td>\n",
       "      <td>3744.0</td>\n",
       "      <td>3763.0</td>\n",
       "      <td>2171.0</td>\n",
       "      <td>1.0</td>\n",
       "    </tr>\n",
       "    <tr>\n",
       "      <th>w[1,0]</th>\n",
       "      <td>3.505</td>\n",
       "      <td>0.016</td>\n",
       "      <td>3.476</td>\n",
       "      <td>3.533</td>\n",
       "      <td>0.000</td>\n",
       "      <td>0.000</td>\n",
       "      <td>4696.0</td>\n",
       "      <td>4696.0</td>\n",
       "      <td>4681.0</td>\n",
       "      <td>2134.0</td>\n",
       "      <td>1.0</td>\n",
       "    </tr>\n",
       "    <tr>\n",
       "      <th>w[1,1]</th>\n",
       "      <td>-3.508</td>\n",
       "      <td>0.016</td>\n",
       "      <td>-3.538</td>\n",
       "      <td>-3.480</td>\n",
       "      <td>0.000</td>\n",
       "      <td>0.000</td>\n",
       "      <td>4519.0</td>\n",
       "      <td>4519.0</td>\n",
       "      <td>4501.0</td>\n",
       "      <td>2246.0</td>\n",
       "      <td>1.0</td>\n",
       "    </tr>\n",
       "    <tr>\n",
       "      <th>w[2,0]</th>\n",
       "      <td>6.008</td>\n",
       "      <td>0.016</td>\n",
       "      <td>5.980</td>\n",
       "      <td>6.038</td>\n",
       "      <td>0.000</td>\n",
       "      <td>0.000</td>\n",
       "      <td>5578.0</td>\n",
       "      <td>5575.0</td>\n",
       "      <td>5518.0</td>\n",
       "      <td>2005.0</td>\n",
       "      <td>1.0</td>\n",
       "    </tr>\n",
       "    <tr>\n",
       "      <th>w[2,1]</th>\n",
       "      <td>-6.026</td>\n",
       "      <td>0.016</td>\n",
       "      <td>-6.055</td>\n",
       "      <td>-5.996</td>\n",
       "      <td>0.000</td>\n",
       "      <td>0.000</td>\n",
       "      <td>4930.0</td>\n",
       "      <td>4930.0</td>\n",
       "      <td>4944.0</td>\n",
       "      <td>2025.0</td>\n",
       "      <td>1.0</td>\n",
       "    </tr>\n",
       "    <tr>\n",
       "      <th>sigma_w</th>\n",
       "      <td>5.072</td>\n",
       "      <td>1.857</td>\n",
       "      <td>2.318</td>\n",
       "      <td>8.304</td>\n",
       "      <td>0.043</td>\n",
       "      <td>0.031</td>\n",
       "      <td>1834.0</td>\n",
       "      <td>1834.0</td>\n",
       "      <td>1996.0</td>\n",
       "      <td>1775.0</td>\n",
       "      <td>1.0</td>\n",
       "    </tr>\n",
       "    <tr>\n",
       "      <th>sigma</th>\n",
       "      <td>0.499</td>\n",
       "      <td>0.008</td>\n",
       "      <td>0.485</td>\n",
       "      <td>0.514</td>\n",
       "      <td>0.000</td>\n",
       "      <td>0.000</td>\n",
       "      <td>5561.0</td>\n",
       "      <td>5547.0</td>\n",
       "      <td>5530.0</td>\n",
       "      <td>2295.0</td>\n",
       "      <td>1.0</td>\n",
       "    </tr>\n",
       "  </tbody>\n",
       "</table>\n",
       "</div>"
      ],
      "text/plain": [
       "            mean     sd  hdi_3%  hdi_97%  mcse_mean  mcse_sd  ess_mean  \\\n",
       "mu_w[0,0] -0.109  3.398  -6.041    6.629      0.055    0.062    3791.0   \n",
       "mu_w[1,0] -0.036  3.516  -6.436    6.872      0.061    0.067    3349.0   \n",
       "mu_w[2,0]  0.156  3.416  -5.982    6.575      0.054    0.061    3969.0   \n",
       "w[0,0]     1.000  0.017   0.967    1.030      0.000    0.000    4935.0   \n",
       "w[0,1]    -1.031  0.015  -1.061   -1.003      0.000    0.000    3744.0   \n",
       "w[1,0]     3.505  0.016   3.476    3.533      0.000    0.000    4696.0   \n",
       "w[1,1]    -3.508  0.016  -3.538   -3.480      0.000    0.000    4519.0   \n",
       "w[2,0]     6.008  0.016   5.980    6.038      0.000    0.000    5578.0   \n",
       "w[2,1]    -6.026  0.016  -6.055   -5.996      0.000    0.000    4930.0   \n",
       "sigma_w    5.072  1.857   2.318    8.304      0.043    0.031    1834.0   \n",
       "sigma      0.499  0.008   0.485    0.514      0.000    0.000    5561.0   \n",
       "\n",
       "           ess_sd  ess_bulk  ess_tail  r_hat  \n",
       "mu_w[0,0]  1498.0    4134.0    2103.0    1.0  \n",
       "mu_w[1,0]  1370.0    3423.0    1993.0    1.0  \n",
       "mu_w[2,0]  1563.0    4161.0    2270.0    1.0  \n",
       "w[0,0]     4935.0    4931.0    2247.0    1.0  \n",
       "w[0,1]     3744.0    3763.0    2171.0    1.0  \n",
       "w[1,0]     4696.0    4681.0    2134.0    1.0  \n",
       "w[1,1]     4519.0    4501.0    2246.0    1.0  \n",
       "w[2,0]     5575.0    5518.0    2005.0    1.0  \n",
       "w[2,1]     4930.0    4944.0    2025.0    1.0  \n",
       "sigma_w    1834.0    1996.0    1775.0    1.0  \n",
       "sigma      5547.0    5530.0    2295.0    1.0  "
      ]
     },
     "metadata": {},
     "output_type": "display_data"
    },
    {
     "data": {
      "application/javascript": [
       "\n",
       "            setTimeout(function() {\n",
       "                var nbb_cell_id = 14;\n",
       "                var nbb_unformatted_code = \"with hierarchical_mod:\\n    display(pm.summary(trace))\";\n",
       "                var nbb_formatted_code = \"with hierarchical_mod:\\n    display(pm.summary(trace))\";\n",
       "                var nbb_cells = Jupyter.notebook.get_cells();\n",
       "                for (var i = 0; i < nbb_cells.length; ++i) {\n",
       "                    if (nbb_cells[i].input_prompt_number == nbb_cell_id) {\n",
       "                        if (nbb_cells[i].get_text() == nbb_unformatted_code) {\n",
       "                             nbb_cells[i].set_text(nbb_formatted_code);\n",
       "                        }\n",
       "                        break;\n",
       "                    }\n",
       "                }\n",
       "            }, 500);\n",
       "            "
      ],
      "text/plain": [
       "<IPython.core.display.Javascript object>"
      ]
     },
     "metadata": {},
     "output_type": "display_data"
    }
   ],
   "source": [
    "with hierarchical_mod:\n",
    "    display(pm.summary(trace))"
   ]
  },
  {
   "cell_type": "code",
   "execution_count": null,
   "id": "adequate-connecticut",
   "metadata": {},
   "outputs": [],
   "source": []
  },
  {
   "cell_type": "code",
   "execution_count": null,
   "id": "blind-swiss",
   "metadata": {},
   "outputs": [],
   "source": []
  },
  {
   "cell_type": "code",
   "execution_count": null,
   "id": "amber-booth",
   "metadata": {},
   "outputs": [],
   "source": []
  },
  {
   "cell_type": "code",
   "execution_count": null,
   "id": "incoming-manor",
   "metadata": {},
   "outputs": [],
   "source": []
  },
  {
   "cell_type": "code",
   "execution_count": null,
   "id": "cordless-state",
   "metadata": {},
   "outputs": [],
   "source": []
  },
  {
   "cell_type": "code",
   "execution_count": null,
   "id": "upper-ordinance",
   "metadata": {},
   "outputs": [],
   "source": []
  }
 ],
 "metadata": {
  "kernelspec": {
   "display_name": "Python 3",
   "language": "python",
   "name": "python3"
  },
  "language_info": {
   "codemirror_mode": {
    "name": "ipython",
    "version": 3
   },
   "file_extension": ".py",
   "mimetype": "text/x-python",
   "name": "python",
   "nbconvert_exporter": "python",
   "pygments_lexer": "ipython3",
   "version": "3.7.9"
  }
 },
 "nbformat": 4,
 "nbformat_minor": 5
}
