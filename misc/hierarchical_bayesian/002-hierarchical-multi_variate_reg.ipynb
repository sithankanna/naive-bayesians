{
 "cells": [
  {
   "cell_type": "markdown",
   "id": "conservative-despite",
   "metadata": {},
   "source": [
    "# A simpl(er) Introduction to Hierarchical Models \n",
    "### Naive Bayesians, 2021\n",
    "\n",
    "\n",
    "### Agenda\n",
    "\n",
    "1. Univariate Model (Radon Gas)\n",
    "    * Pooled \n",
    "    * Unpooled \n",
    "    * Hierarchical \n",
    "\n",
    "2. Multivariate model (Synthetic Data)\n",
    "    * Pooled \n",
    "    * Unpooled \n",
    "    * Hierarchical "
   ]
  },
  {
   "cell_type": "markdown",
   "id": "verbal-possible",
   "metadata": {},
   "source": [
    "#### Notebook Setup"
   ]
  },
  {
   "cell_type": "code",
   "execution_count": 1,
   "id": "prostate-steam",
   "metadata": {},
   "outputs": [
    {
     "data": {
      "text/html": [
       "<style>.container { width:85% !important; }</style>"
      ],
      "text/plain": [
       "<IPython.core.display.HTML object>"
      ]
     },
     "metadata": {},
     "output_type": "display_data"
    },
    {
     "data": {
      "application/javascript": [
       "\n",
       "            setTimeout(function() {\n",
       "                var nbb_cell_id = 1;\n",
       "                var nbb_unformatted_code = \"%load_ext nb_black\\n%reload_ext autoreload\\n%autoreload 2\\n\\nfrom IPython.core.display import display, HTML\\n\\ndisplay(HTML(\\\"<style>.container { width:85% !important; }</style>\\\"))\";\n",
       "                var nbb_formatted_code = \"%load_ext nb_black\\n%reload_ext autoreload\\n%autoreload 2\\n\\nfrom IPython.core.display import display, HTML\\n\\ndisplay(HTML(\\\"<style>.container { width:85% !important; }</style>\\\"))\";\n",
       "                var nbb_cells = Jupyter.notebook.get_cells();\n",
       "                for (var i = 0; i < nbb_cells.length; ++i) {\n",
       "                    if (nbb_cells[i].input_prompt_number == nbb_cell_id) {\n",
       "                        if (nbb_cells[i].get_text() == nbb_unformatted_code) {\n",
       "                             nbb_cells[i].set_text(nbb_formatted_code);\n",
       "                        }\n",
       "                        break;\n",
       "                    }\n",
       "                }\n",
       "            }, 500);\n",
       "            "
      ],
      "text/plain": [
       "<IPython.core.display.Javascript object>"
      ]
     },
     "metadata": {},
     "output_type": "display_data"
    }
   ],
   "source": [
    "%load_ext nb_black\n",
    "%reload_ext autoreload\n",
    "%autoreload 2\n",
    "\n",
    "from IPython.core.display import display, HTML\n",
    "\n",
    "display(HTML(\"<style>.container { width:85% !important; }</style>\"))"
   ]
  },
  {
   "cell_type": "code",
   "execution_count": 29,
   "id": "unknown-arcade",
   "metadata": {},
   "outputs": [
    {
     "data": {
      "application/javascript": [
       "\n",
       "            setTimeout(function() {\n",
       "                var nbb_cell_id = 29;\n",
       "                var nbb_unformatted_code = \"import os\\nfrom scipy import stats\\nimport pandas as pd\\nimport numpy as np\\nfrom typing import Dict\\n\\n# ML libraries\\nimport pymc3 as pm\\nfrom sklearn.linear_model import LinearRegression\\n\\n# Plotting and viz\\nimport matplotlib.pyplot as plt\\nimport seaborn as sns\\n\\nplt.rcParams[\\\"figure.figsize\\\"] = (12, 5)\\nplt.rcParams[\\\"font.size\\\"] = 15\";\n",
       "                var nbb_formatted_code = \"import os\\nfrom scipy import stats\\nimport pandas as pd\\nimport numpy as np\\nfrom typing import Dict\\n\\n# ML libraries\\nimport pymc3 as pm\\nfrom sklearn.linear_model import LinearRegression\\n\\n# Plotting and viz\\nimport matplotlib.pyplot as plt\\nimport seaborn as sns\\n\\nplt.rcParams[\\\"figure.figsize\\\"] = (12, 5)\\nplt.rcParams[\\\"font.size\\\"] = 15\";\n",
       "                var nbb_cells = Jupyter.notebook.get_cells();\n",
       "                for (var i = 0; i < nbb_cells.length; ++i) {\n",
       "                    if (nbb_cells[i].input_prompt_number == nbb_cell_id) {\n",
       "                        if (nbb_cells[i].get_text() == nbb_unformatted_code) {\n",
       "                             nbb_cells[i].set_text(nbb_formatted_code);\n",
       "                        }\n",
       "                        break;\n",
       "                    }\n",
       "                }\n",
       "            }, 500);\n",
       "            "
      ],
      "text/plain": [
       "<IPython.core.display.Javascript object>"
      ]
     },
     "metadata": {},
     "output_type": "display_data"
    }
   ],
   "source": [
    "import os\n",
    "from scipy import stats\n",
    "import pandas as pd\n",
    "import numpy as np\n",
    "from typing import Dict\n",
    "\n",
    "# ML libraries\n",
    "import pymc3 as pm\n",
    "from sklearn.linear_model import LinearRegression\n",
    "\n",
    "# Plotting and viz\n",
    "import matplotlib.pyplot as plt\n",
    "import seaborn as sns\n",
    "\n",
    "plt.rcParams[\"figure.figsize\"] = (12, 5)\n",
    "plt.rcParams[\"font.size\"] = 15"
   ]
  },
  {
   "cell_type": "markdown",
   "id": "raising-cursor",
   "metadata": {},
   "source": [
    "## Univariate Regression - Radon Gas Example\n",
    "\n",
    "Suppose the radon concentration for a specific house, $i$, in county, $c$ is related to if the house has a basement with the relationship:  \n",
    "\n",
    "$$\n",
    "\\begin{align*}\n",
    "\\text{Pooled:  } \\text{log_radon}_{i, c} = {} & \\alpha + \\beta \\hspace{1mm} \\text{floor}_{i, c} + \\epsilon_{i, c}, \\\\\n",
    "\\text{Unpooled:  }  \\text{log_radon}_{i, c} = {} & \\alpha_{c} + \\beta_{c} \\hspace{1mm} \\text{floor}_{i, c} + \\epsilon_{i, c}\n",
    "\\end{align*}\n",
    "$$\n",
    "\n",
    "where $\\alpha_{c}$ is the average radon concentration, $\\text{floor}_{i, c}  = 0$ if the house has a basement  $\\text{floor}_{i, c}  = 1$ if the house doesn't have a basement. "
   ]
  },
  {
   "cell_type": "code",
   "execution_count": 3,
   "id": "certified-cabin",
   "metadata": {},
   "outputs": [
    {
     "name": "stdout",
     "output_type": "stream",
     "text": [
      "Num counties: 85\n"
     ]
    },
    {
     "data": {
      "text/html": [
       "<div>\n",
       "<style scoped>\n",
       "    .dataframe tbody tr th:only-of-type {\n",
       "        vertical-align: middle;\n",
       "    }\n",
       "\n",
       "    .dataframe tbody tr th {\n",
       "        vertical-align: top;\n",
       "    }\n",
       "\n",
       "    .dataframe thead th {\n",
       "        text-align: right;\n",
       "    }\n",
       "</style>\n",
       "<table border=\"1\" class=\"dataframe\">\n",
       "  <thead>\n",
       "    <tr style=\"text-align: right;\">\n",
       "      <th></th>\n",
       "      <th>county</th>\n",
       "      <th>floor</th>\n",
       "      <th>log_radon</th>\n",
       "      <th>county_index</th>\n",
       "    </tr>\n",
       "  </thead>\n",
       "  <tbody>\n",
       "    <tr>\n",
       "      <th>0</th>\n",
       "      <td>AITKIN</td>\n",
       "      <td>1.0</td>\n",
       "      <td>0.832909</td>\n",
       "      <td>0</td>\n",
       "    </tr>\n",
       "    <tr>\n",
       "      <th>1</th>\n",
       "      <td>AITKIN</td>\n",
       "      <td>0.0</td>\n",
       "      <td>0.832909</td>\n",
       "      <td>0</td>\n",
       "    </tr>\n",
       "    <tr>\n",
       "      <th>2</th>\n",
       "      <td>AITKIN</td>\n",
       "      <td>0.0</td>\n",
       "      <td>1.098612</td>\n",
       "      <td>0</td>\n",
       "    </tr>\n",
       "    <tr>\n",
       "      <th>3</th>\n",
       "      <td>AITKIN</td>\n",
       "      <td>0.0</td>\n",
       "      <td>0.095310</td>\n",
       "      <td>0</td>\n",
       "    </tr>\n",
       "    <tr>\n",
       "      <th>4</th>\n",
       "      <td>ANOKA</td>\n",
       "      <td>0.0</td>\n",
       "      <td>1.163151</td>\n",
       "      <td>1</td>\n",
       "    </tr>\n",
       "    <tr>\n",
       "      <th>...</th>\n",
       "      <td>...</td>\n",
       "      <td>...</td>\n",
       "      <td>...</td>\n",
       "      <td>...</td>\n",
       "    </tr>\n",
       "    <tr>\n",
       "      <th>914</th>\n",
       "      <td>WRIGHT</td>\n",
       "      <td>0.0</td>\n",
       "      <td>1.871802</td>\n",
       "      <td>83</td>\n",
       "    </tr>\n",
       "    <tr>\n",
       "      <th>915</th>\n",
       "      <td>WRIGHT</td>\n",
       "      <td>0.0</td>\n",
       "      <td>1.526056</td>\n",
       "      <td>83</td>\n",
       "    </tr>\n",
       "    <tr>\n",
       "      <th>916</th>\n",
       "      <td>WRIGHT</td>\n",
       "      <td>0.0</td>\n",
       "      <td>1.629241</td>\n",
       "      <td>83</td>\n",
       "    </tr>\n",
       "    <tr>\n",
       "      <th>917</th>\n",
       "      <td>YELLOW MEDICINE</td>\n",
       "      <td>0.0</td>\n",
       "      <td>1.335001</td>\n",
       "      <td>84</td>\n",
       "    </tr>\n",
       "    <tr>\n",
       "      <th>918</th>\n",
       "      <td>YELLOW MEDICINE</td>\n",
       "      <td>0.0</td>\n",
       "      <td>1.098612</td>\n",
       "      <td>84</td>\n",
       "    </tr>\n",
       "  </tbody>\n",
       "</table>\n",
       "<p>919 rows × 4 columns</p>\n",
       "</div>"
      ],
      "text/plain": [
       "              county  floor  log_radon  county_index\n",
       "0             AITKIN    1.0   0.832909             0\n",
       "1             AITKIN    0.0   0.832909             0\n",
       "2             AITKIN    0.0   1.098612             0\n",
       "3             AITKIN    0.0   0.095310             0\n",
       "4              ANOKA    0.0   1.163151             1\n",
       "..               ...    ...        ...           ...\n",
       "914           WRIGHT    0.0   1.871802            83\n",
       "915           WRIGHT    0.0   1.526056            83\n",
       "916           WRIGHT    0.0   1.629241            83\n",
       "917  YELLOW MEDICINE    0.0   1.335001            84\n",
       "918  YELLOW MEDICINE    0.0   1.098612            84\n",
       "\n",
       "[919 rows x 4 columns]"
      ]
     },
     "metadata": {},
     "output_type": "display_data"
    },
    {
     "data": {
      "application/javascript": [
       "\n",
       "            setTimeout(function() {\n",
       "                var nbb_cell_id = 3;\n",
       "                var nbb_unformatted_code = \"# Load data\\ndef load_radon_data() -> pd.DataFrame:\\n    data = pd.read_csv(pm.get_data(\\\"radon.csv\\\"))\\n    data = data[[\\\"county\\\", \\\"floor\\\", \\\"log_radon\\\"]]\\n    return data\\n\\n\\nradon_data = load_radon_data()\\n\\ncounties = radon_data[\\\"county\\\"].drop_duplicates().to_list()\\n\\nprint(f\\\"Num counties: {len(counties)}\\\")\\n\\n# Map each county with an index\\ncounty_index_mapping = {county: index for index, county in enumerate(counties)}\\n\\nradon_data = radon_data.assign(\\n    **{\\\"county_index\\\": lambda x: x[\\\"county\\\"].map(county_index_mapping)}\\n)\\ndisplay(radon_data)\";\n",
       "                var nbb_formatted_code = \"# Load data\\ndef load_radon_data() -> pd.DataFrame:\\n    data = pd.read_csv(pm.get_data(\\\"radon.csv\\\"))\\n    data = data[[\\\"county\\\", \\\"floor\\\", \\\"log_radon\\\"]]\\n    return data\\n\\n\\nradon_data = load_radon_data()\\n\\ncounties = radon_data[\\\"county\\\"].drop_duplicates().to_list()\\n\\nprint(f\\\"Num counties: {len(counties)}\\\")\\n\\n# Map each county with an index\\ncounty_index_mapping = {county: index for index, county in enumerate(counties)}\\n\\nradon_data = radon_data.assign(\\n    **{\\\"county_index\\\": lambda x: x[\\\"county\\\"].map(county_index_mapping)}\\n)\\ndisplay(radon_data)\";\n",
       "                var nbb_cells = Jupyter.notebook.get_cells();\n",
       "                for (var i = 0; i < nbb_cells.length; ++i) {\n",
       "                    if (nbb_cells[i].input_prompt_number == nbb_cell_id) {\n",
       "                        if (nbb_cells[i].get_text() == nbb_unformatted_code) {\n",
       "                             nbb_cells[i].set_text(nbb_formatted_code);\n",
       "                        }\n",
       "                        break;\n",
       "                    }\n",
       "                }\n",
       "            }, 500);\n",
       "            "
      ],
      "text/plain": [
       "<IPython.core.display.Javascript object>"
      ]
     },
     "metadata": {},
     "output_type": "display_data"
    }
   ],
   "source": [
    "# Load data\n",
    "def load_radon_data() -> pd.DataFrame:\n",
    "    data = pd.read_csv(pm.get_data(\"radon.csv\"))\n",
    "    data = data[[\"county\", \"floor\", \"log_radon\"]]\n",
    "    return data\n",
    "\n",
    "\n",
    "radon_data = load_radon_data()\n",
    "\n",
    "counties = radon_data[\"county\"].drop_duplicates().to_list()\n",
    "\n",
    "print(f\"Num counties: {len(counties)}\")\n",
    "\n",
    "# Map each county with an index\n",
    "county_index_mapping = {county: index for index, county in enumerate(counties)}\n",
    "\n",
    "radon_data = radon_data.assign(\n",
    "    **{\"county_index\": lambda x: x[\"county\"].map(county_index_mapping)}\n",
    ")\n",
    "display(radon_data)"
   ]
  },
  {
   "cell_type": "markdown",
   "id": "modified-uganda",
   "metadata": {},
   "source": [
    "### 1. Pooled Model Radon Gas Example"
   ]
  },
  {
   "cell_type": "code",
   "execution_count": 22,
   "id": "specialized-offer",
   "metadata": {},
   "outputs": [
    {
     "name": "stderr",
     "output_type": "stream",
     "text": [
      "Auto-assigning NUTS sampler...\n",
      "Initializing NUTS using jitter+adapt_diag...\n",
      "Multiprocess sampling (2 chains in 2 jobs)\n",
      "NUTS: [eps, beta, alpha]\n"
     ]
    },
    {
     "data": {
      "text/html": [
       "\n",
       "    <div>\n",
       "        <style>\n",
       "            /* Turns off some styling */\n",
       "            progress {\n",
       "                /* gets rid of default border in Firefox and Opera. */\n",
       "                border: none;\n",
       "                /* Needs to be in here for Safari polyfill so background images work as expected. */\n",
       "                background-size: auto;\n",
       "            }\n",
       "            .progress-bar-interrupted, .progress-bar-interrupted::-webkit-progress-bar {\n",
       "                background: #F44336;\n",
       "            }\n",
       "        </style>\n",
       "      <progress value='6000' class='' max='6000' style='width:300px; height:20px; vertical-align: middle;'></progress>\n",
       "      100.00% [6000/6000 00:12<00:00 Sampling 2 chains, 0 divergences]\n",
       "    </div>\n",
       "    "
      ],
      "text/plain": [
       "<IPython.core.display.HTML object>"
      ]
     },
     "metadata": {},
     "output_type": "display_data"
    },
    {
     "name": "stderr",
     "output_type": "stream",
     "text": [
      "Sampling 2 chains for 1_000 tune and 2_000 draw iterations (2_000 + 4_000 draws total) took 35 seconds.\n"
     ]
    },
    {
     "data": {
      "application/javascript": [
       "\n",
       "            setTimeout(function() {\n",
       "                var nbb_cell_id = 22;\n",
       "                var nbb_unformatted_code = \"# Build individual models\\nwith pm.Model() as ind_radon_model:\\n    # Prior\\n    # ---> Regression Coefficients\\n    alpha = pm.Normal(\\\"alpha\\\", mu=0, sigma=10, shape=1)\\n    beta = pm.Normal(\\\"beta\\\", mu=0, sigma=10, shape=1)\\n    # ---> Noise\\n    eps = pm.HalfCauchy(\\\"eps\\\", 5)\\n\\n    # Likelihood\\n    mu = alpha + beta * radon_data[\\\"floor\\\"]\\n    y = pm.Normal(\\\"obs\\\", mu=mu, sigma=eps, observed=radon_data[\\\"log_radon\\\"])\\n\\n    # Posterior\\n    trace = pm.sample(draws=2000)\";\n",
       "                var nbb_formatted_code = \"# Build individual models\\nwith pm.Model() as ind_radon_model:\\n    # Prior\\n    # ---> Regression Coefficients\\n    alpha = pm.Normal(\\\"alpha\\\", mu=0, sigma=10, shape=1)\\n    beta = pm.Normal(\\\"beta\\\", mu=0, sigma=10, shape=1)\\n    # ---> Noise\\n    eps = pm.HalfCauchy(\\\"eps\\\", 5)\\n\\n    # Likelihood\\n    mu = alpha + beta * radon_data[\\\"floor\\\"]\\n    y = pm.Normal(\\\"obs\\\", mu=mu, sigma=eps, observed=radon_data[\\\"log_radon\\\"])\\n\\n    # Posterior\\n    trace = pm.sample(draws=2000)\";\n",
       "                var nbb_cells = Jupyter.notebook.get_cells();\n",
       "                for (var i = 0; i < nbb_cells.length; ++i) {\n",
       "                    if (nbb_cells[i].input_prompt_number == nbb_cell_id) {\n",
       "                        if (nbb_cells[i].get_text() == nbb_unformatted_code) {\n",
       "                             nbb_cells[i].set_text(nbb_formatted_code);\n",
       "                        }\n",
       "                        break;\n",
       "                    }\n",
       "                }\n",
       "            }, 500);\n",
       "            "
      ],
      "text/plain": [
       "<IPython.core.display.Javascript object>"
      ]
     },
     "metadata": {},
     "output_type": "display_data"
    }
   ],
   "source": [
    "# Build individual models\n",
    "with pm.Model() as ind_radon_model:\n",
    "    # Prior\n",
    "    # ---> Regression Coefficients\n",
    "    alpha = pm.Normal(\"alpha\", mu=0, sigma=10, shape=1)\n",
    "    beta = pm.Normal(\"beta\", mu=0, sigma=10, shape=1)\n",
    "    # ---> Noise\n",
    "    eps = pm.HalfCauchy(\"eps\", 5)\n",
    "\n",
    "    # Likelihood\n",
    "    mu = alpha + beta * radon_data[\"floor\"]\n",
    "    y = pm.Normal(\"obs\", mu=mu, sigma=eps, observed=radon_data[\"log_radon\"])\n",
    "\n",
    "    # Posterior\n",
    "    trace = pm.sample(draws=2000)"
   ]
  },
  {
   "cell_type": "code",
   "execution_count": 30,
   "id": "vulnerable-heather",
   "metadata": {},
   "outputs": [
    {
     "name": "stderr",
     "output_type": "stream",
     "text": [
      "/opt/anaconda3/envs/homework/lib/python3.7/site-packages/arviz/data/io_pymc3.py:92: FutureWarning: Using `from_pymc3` without the model will be deprecated in a future release. Not using the model will return less accurate and less useful results. Make sure you use the model argument or call from_pymc3 within a model context.\n",
      "  FutureWarning,\n"
     ]
    },
    {
     "data": {
      "image/png": "[encoded data removed]",
      "text/plain": [
       "<Figure size 1987.2x414 with 2 Axes>"
      ]
     },
     "metadata": {
      "needs_background": "light"
     },
     "output_type": "display_data"
    },
    {
     "data": {
      "application/javascript": [
       "\n",
       "            setTimeout(function() {\n",
       "                var nbb_cell_id = 30;\n",
       "                var nbb_unformatted_code = \"pm.plot_posterior(trace, var_names=[\\\"alpha\\\", \\\"beta\\\"])\\nplt.show()\";\n",
       "                var nbb_formatted_code = \"pm.plot_posterior(trace, var_names=[\\\"alpha\\\", \\\"beta\\\"])\\nplt.show()\";\n",
       "                var nbb_cells = Jupyter.notebook.get_cells();\n",
       "                for (var i = 0; i < nbb_cells.length; ++i) {\n",
       "                    if (nbb_cells[i].input_prompt_number == nbb_cell_id) {\n",
       "                        if (nbb_cells[i].get_text() == nbb_unformatted_code) {\n",
       "                             nbb_cells[i].set_text(nbb_formatted_code);\n",
       "                        }\n",
       "                        break;\n",
       "                    }\n",
       "                }\n",
       "            }, 500);\n",
       "            "
      ],
      "text/plain": [
       "<IPython.core.display.Javascript object>"
      ]
     },
     "metadata": {},
     "output_type": "display_data"
    }
   ],
   "source": [
    "pm.plot_posterior(trace, var_names=[\"alpha\", \"beta\"])\n",
    "plt.show()"
   ]
  },
  {
   "cell_type": "code",
   "execution_count": 31,
   "id": "lucky-danger",
   "metadata": {},
   "outputs": [
    {
     "data": {
      "text/html": [
       "<div>\n",
       "<style scoped>\n",
       "    .dataframe tbody tr th:only-of-type {\n",
       "        vertical-align: middle;\n",
       "    }\n",
       "\n",
       "    .dataframe tbody tr th {\n",
       "        vertical-align: top;\n",
       "    }\n",
       "\n",
       "    .dataframe thead th {\n",
       "        text-align: right;\n",
       "    }\n",
       "</style>\n",
       "<table border=\"1\" class=\"dataframe\">\n",
       "  <thead>\n",
       "    <tr style=\"text-align: right;\">\n",
       "      <th></th>\n",
       "      <th>mean</th>\n",
       "      <th>sd</th>\n",
       "      <th>hdi_3%</th>\n",
       "      <th>hdi_97%</th>\n",
       "      <th>mcse_mean</th>\n",
       "      <th>mcse_sd</th>\n",
       "      <th>ess_mean</th>\n",
       "      <th>ess_sd</th>\n",
       "      <th>ess_bulk</th>\n",
       "      <th>ess_tail</th>\n",
       "      <th>r_hat</th>\n",
       "    </tr>\n",
       "  </thead>\n",
       "  <tbody>\n",
       "    <tr>\n",
       "      <th>alpha[0]</th>\n",
       "      <td>1.363</td>\n",
       "      <td>0.029</td>\n",
       "      <td>1.309</td>\n",
       "      <td>1.418</td>\n",
       "      <td>0.000</td>\n",
       "      <td>0.000</td>\n",
       "      <td>3981.0</td>\n",
       "      <td>3977.0</td>\n",
       "      <td>3952.0</td>\n",
       "      <td>2799.0</td>\n",
       "      <td>1.0</td>\n",
       "    </tr>\n",
       "    <tr>\n",
       "      <th>beta[0]</th>\n",
       "      <td>-0.586</td>\n",
       "      <td>0.070</td>\n",
       "      <td>-0.718</td>\n",
       "      <td>-0.456</td>\n",
       "      <td>0.001</td>\n",
       "      <td>0.001</td>\n",
       "      <td>4030.0</td>\n",
       "      <td>4030.0</td>\n",
       "      <td>4022.0</td>\n",
       "      <td>2914.0</td>\n",
       "      <td>1.0</td>\n",
       "    </tr>\n",
       "    <tr>\n",
       "      <th>eps</th>\n",
       "      <td>0.791</td>\n",
       "      <td>0.019</td>\n",
       "      <td>0.754</td>\n",
       "      <td>0.823</td>\n",
       "      <td>0.000</td>\n",
       "      <td>0.000</td>\n",
       "      <td>4732.0</td>\n",
       "      <td>4732.0</td>\n",
       "      <td>4691.0</td>\n",
       "      <td>2674.0</td>\n",
       "      <td>1.0</td>\n",
       "    </tr>\n",
       "  </tbody>\n",
       "</table>\n",
       "</div>"
      ],
      "text/plain": [
       "           mean     sd  hdi_3%  hdi_97%  mcse_mean  mcse_sd  ess_mean  ess_sd  \\\n",
       "alpha[0]  1.363  0.029   1.309    1.418      0.000    0.000    3981.0  3977.0   \n",
       "beta[0]  -0.586  0.070  -0.718   -0.456      0.001    0.001    4030.0  4030.0   \n",
       "eps       0.791  0.019   0.754    0.823      0.000    0.000    4732.0  4732.0   \n",
       "\n",
       "          ess_bulk  ess_tail  r_hat  \n",
       "alpha[0]    3952.0    2799.0    1.0  \n",
       "beta[0]     4022.0    2914.0    1.0  \n",
       "eps         4691.0    2674.0    1.0  "
      ]
     },
     "metadata": {},
     "output_type": "display_data"
    },
    {
     "data": {
      "application/javascript": [
       "\n",
       "            setTimeout(function() {\n",
       "                var nbb_cell_id = 31;\n",
       "                var nbb_unformatted_code = \"with ind_radon_model:\\n    display(pm.summary(trace))\";\n",
       "                var nbb_formatted_code = \"with ind_radon_model:\\n    display(pm.summary(trace))\";\n",
       "                var nbb_cells = Jupyter.notebook.get_cells();\n",
       "                for (var i = 0; i < nbb_cells.length; ++i) {\n",
       "                    if (nbb_cells[i].input_prompt_number == nbb_cell_id) {\n",
       "                        if (nbb_cells[i].get_text() == nbb_unformatted_code) {\n",
       "                             nbb_cells[i].set_text(nbb_formatted_code);\n",
       "                        }\n",
       "                        break;\n",
       "                    }\n",
       "                }\n",
       "            }, 500);\n",
       "            "
      ],
      "text/plain": [
       "<IPython.core.display.Javascript object>"
      ]
     },
     "metadata": {},
     "output_type": "display_data"
    }
   ],
   "source": [
    "with ind_radon_model:\n",
    "    display(pm.summary(trace))"
   ]
  },
  {
   "cell_type": "markdown",
   "id": "headed-syntax",
   "metadata": {},
   "source": [
    "### 2. Unpooled Model Radon Gas Example"
   ]
  },
  {
   "cell_type": "code",
   "execution_count": 4,
   "id": "worse-liberty",
   "metadata": {},
   "outputs": [
    {
     "name": "stderr",
     "output_type": "stream",
     "text": [
      "/opt/anaconda3/envs/homework/lib/python3.7/site-packages/theano/tensor/subtensor.py:2197: FutureWarning: Using a non-tuple sequence for multidimensional indexing is deprecated; use `arr[tuple(seq)]` instead of `arr[seq]`. In the future this will be interpreted as an array index, `arr[np.array(seq)]`, which will result either in an error or a different result.\n",
      "  rval = inputs[0].__getitem__(inputs[1:])\n",
      "Auto-assigning NUTS sampler...\n",
      "Initializing NUTS using jitter+adapt_diag...\n",
      "/opt/anaconda3/envs/homework/lib/python3.7/site-packages/theano/tensor/subtensor.py:2197: FutureWarning: Using a non-tuple sequence for multidimensional indexing is deprecated; use `arr[tuple(seq)]` instead of `arr[seq]`. In the future this will be interpreted as an array index, `arr[np.array(seq)]`, which will result either in an error or a different result.\n",
      "  rval = inputs[0].__getitem__(inputs[1:])\n",
      "Multiprocess sampling (2 chains in 2 jobs)\n",
      "NUTS: [eps, beta, alpha]\n"
     ]
    },
    {
     "data": {
      "text/html": [
       "\n",
       "    <div>\n",
       "        <style>\n",
       "            /* Turns off some styling */\n",
       "            progress {\n",
       "                /* gets rid of default border in Firefox and Opera. */\n",
       "                border: none;\n",
       "                /* Needs to be in here for Safari polyfill so background images work as expected. */\n",
       "                background-size: auto;\n",
       "            }\n",
       "            .progress-bar-interrupted, .progress-bar-interrupted::-webkit-progress-bar {\n",
       "                background: #F44336;\n",
       "            }\n",
       "        </style>\n",
       "      <progress value='6000' class='' max='6000' style='width:300px; height:20px; vertical-align: middle;'></progress>\n",
       "      100.00% [6000/6000 01:28<00:00 Sampling 2 chains, 0 divergences]\n",
       "    </div>\n",
       "    "
      ],
      "text/plain": [
       "<IPython.core.display.HTML object>"
      ]
     },
     "metadata": {},
     "output_type": "display_data"
    },
    {
     "name": "stderr",
     "output_type": "stream",
     "text": [
      "Sampling 2 chains for 1_000 tune and 2_000 draw iterations (2_000 + 4_000 draws total) took 109 seconds.\n",
      "/opt/anaconda3/envs/homework/lib/python3.7/site-packages/theano/tensor/subtensor.py:2197: FutureWarning: Using a non-tuple sequence for multidimensional indexing is deprecated; use `arr[tuple(seq)]` instead of `arr[seq]`. In the future this will be interpreted as an array index, `arr[np.array(seq)]`, which will result either in an error or a different result.\n",
      "  rval = inputs[0].__getitem__(inputs[1:])\n"
     ]
    },
    {
     "data": {
      "application/javascript": [
       "\n",
       "            setTimeout(function() {\n",
       "                var nbb_cell_id = 4;\n",
       "                var nbb_unformatted_code = \"# Build individual models\\nwith pm.Model() as unpooled_radon_model:\\n    # Prior\\n    # ---> Regression Coefficient\\n    alpha = pm.Normal(\\\"alpha\\\", mu=0, sigma=10, shape=len(counties))\\n    beta = pm.Normal(\\\"beta\\\", mu=0, sigma=10, shape=len(counties))\\n    # ---> Noise\\n    eps = pm.HalfCauchy(\\\"eps\\\", 5)\\n\\n    # Likelihood\\n    mu = (\\n        alpha[radon_data[\\\"county_index\\\"]]\\n        + beta[radon_data[\\\"county_index\\\"]] * radon_data[\\\"floor\\\"]\\n    )\\n    y = pm.Normal(\\\"obs\\\", mu=mu, sigma=eps, observed=radon_data[\\\"log_radon\\\"])\\n\\n    # Posterior\\n    trace = pm.sample(draws=2000)\";\n",
       "                var nbb_formatted_code = \"# Build individual models\\nwith pm.Model() as unpooled_radon_model:\\n    # Prior\\n    # ---> Regression Coefficient\\n    alpha = pm.Normal(\\\"alpha\\\", mu=0, sigma=10, shape=len(counties))\\n    beta = pm.Normal(\\\"beta\\\", mu=0, sigma=10, shape=len(counties))\\n    # ---> Noise\\n    eps = pm.HalfCauchy(\\\"eps\\\", 5)\\n\\n    # Likelihood\\n    mu = (\\n        alpha[radon_data[\\\"county_index\\\"]]\\n        + beta[radon_data[\\\"county_index\\\"]] * radon_data[\\\"floor\\\"]\\n    )\\n    y = pm.Normal(\\\"obs\\\", mu=mu, sigma=eps, observed=radon_data[\\\"log_radon\\\"])\\n\\n    # Posterior\\n    trace = pm.sample(draws=2000)\";\n",
       "                var nbb_cells = Jupyter.notebook.get_cells();\n",
       "                for (var i = 0; i < nbb_cells.length; ++i) {\n",
       "                    if (nbb_cells[i].input_prompt_number == nbb_cell_id) {\n",
       "                        if (nbb_cells[i].get_text() == nbb_unformatted_code) {\n",
       "                             nbb_cells[i].set_text(nbb_formatted_code);\n",
       "                        }\n",
       "                        break;\n",
       "                    }\n",
       "                }\n",
       "            }, 500);\n",
       "            "
      ],
      "text/plain": [
       "<IPython.core.display.Javascript object>"
      ]
     },
     "metadata": {},
     "output_type": "display_data"
    }
   ],
   "source": [
    "# Build individual models\n",
    "with pm.Model() as unpooled_radon_model:\n",
    "    # Prior\n",
    "    # ---> Regression Coefficients\n",
    "    alpha = pm.Normal(\"alpha\", mu=0, sigma=10, shape=len(counties))\n",
    "    beta = pm.Normal(\"beta\", mu=0, sigma=10, shape=len(counties))\n",
    "    # ---> Noise\n",
    "    eps = pm.HalfCauchy(\"eps\", 5)\n",
    "\n",
    "    # Likelihood\n",
    "    mu = (\n",
    "        alpha[radon_data[\"county_index\"]]\n",
    "        + beta[radon_data[\"county_index\"]] * radon_data[\"floor\"]\n",
    "    )\n",
    "    y = pm.Normal(\"obs\", mu=mu, sigma=eps, observed=radon_data[\"log_radon\"])\n",
    "\n",
    "    # Posterior\n",
    "    trace = pm.sample(draws=2000)"
   ]
  },
  {
   "cell_type": "code",
   "execution_count": 6,
   "id": "accurate-europe",
   "metadata": {},
   "outputs": [
    {
     "name": "stderr",
     "output_type": "stream",
     "text": [
      "/opt/anaconda3/envs/homework/lib/python3.7/site-packages/theano/tensor/subtensor.py:2197: FutureWarning: Using a non-tuple sequence for multidimensional indexing is deprecated; use `arr[tuple(seq)]` instead of `arr[seq]`. In the future this will be interpreted as an array index, `arr[np.array(seq)]`, which will result either in an error or a different result.\n",
      "  rval = inputs[0].__getitem__(inputs[1:])\n"
     ]
    },
    {
     "data": {
      "text/html": [
       "<div>\n",
       "<style scoped>\n",
       "    .dataframe tbody tr th:only-of-type {\n",
       "        vertical-align: middle;\n",
       "    }\n",
       "\n",
       "    .dataframe tbody tr th {\n",
       "        vertical-align: top;\n",
       "    }\n",
       "\n",
       "    .dataframe thead th {\n",
       "        text-align: right;\n",
       "    }\n",
       "</style>\n",
       "<table border=\"1\" class=\"dataframe\">\n",
       "  <thead>\n",
       "    <tr style=\"text-align: right;\">\n",
       "      <th></th>\n",
       "      <th>mean</th>\n",
       "      <th>sd</th>\n",
       "      <th>hdi_3%</th>\n",
       "      <th>hdi_97%</th>\n",
       "      <th>mcse_mean</th>\n",
       "      <th>mcse_sd</th>\n",
       "      <th>ess_mean</th>\n",
       "      <th>ess_sd</th>\n",
       "      <th>ess_bulk</th>\n",
       "      <th>ess_tail</th>\n",
       "      <th>r_hat</th>\n",
       "    </tr>\n",
       "  </thead>\n",
       "  <tbody>\n",
       "    <tr>\n",
       "      <th>alpha[0]</th>\n",
       "      <td>0.684</td>\n",
       "      <td>0.414</td>\n",
       "      <td>-0.091</td>\n",
       "      <td>1.456</td>\n",
       "      <td>0.005</td>\n",
       "      <td>0.004</td>\n",
       "      <td>7009.0</td>\n",
       "      <td>5077.0</td>\n",
       "      <td>7007.0</td>\n",
       "      <td>3015.0</td>\n",
       "      <td>1.0</td>\n",
       "    </tr>\n",
       "    <tr>\n",
       "      <th>alpha[1]</th>\n",
       "      <td>0.954</td>\n",
       "      <td>0.103</td>\n",
       "      <td>0.754</td>\n",
       "      <td>1.140</td>\n",
       "      <td>0.001</td>\n",
       "      <td>0.001</td>\n",
       "      <td>7805.0</td>\n",
       "      <td>7605.0</td>\n",
       "      <td>7809.0</td>\n",
       "      <td>2752.0</td>\n",
       "      <td>1.0</td>\n",
       "    </tr>\n",
       "    <tr>\n",
       "      <th>alpha[2]</th>\n",
       "      <td>1.462</td>\n",
       "      <td>0.700</td>\n",
       "      <td>0.147</td>\n",
       "      <td>2.724</td>\n",
       "      <td>0.008</td>\n",
       "      <td>0.007</td>\n",
       "      <td>6961.0</td>\n",
       "      <td>5692.0</td>\n",
       "      <td>6941.0</td>\n",
       "      <td>3088.0</td>\n",
       "      <td>1.0</td>\n",
       "    </tr>\n",
       "    <tr>\n",
       "      <th>alpha[3]</th>\n",
       "      <td>1.711</td>\n",
       "      <td>0.410</td>\n",
       "      <td>0.965</td>\n",
       "      <td>2.481</td>\n",
       "      <td>0.005</td>\n",
       "      <td>0.003</td>\n",
       "      <td>7315.0</td>\n",
       "      <td>7043.0</td>\n",
       "      <td>7352.0</td>\n",
       "      <td>3026.0</td>\n",
       "      <td>1.0</td>\n",
       "    </tr>\n",
       "    <tr>\n",
       "      <th>alpha[4]</th>\n",
       "      <td>1.335</td>\n",
       "      <td>0.413</td>\n",
       "      <td>0.562</td>\n",
       "      <td>2.110</td>\n",
       "      <td>0.005</td>\n",
       "      <td>0.004</td>\n",
       "      <td>6832.0</td>\n",
       "      <td>5196.0</td>\n",
       "      <td>6978.0</td>\n",
       "      <td>3264.0</td>\n",
       "      <td>1.0</td>\n",
       "    </tr>\n",
       "    <tr>\n",
       "      <th>...</th>\n",
       "      <td>...</td>\n",
       "      <td>...</td>\n",
       "      <td>...</td>\n",
       "      <td>...</td>\n",
       "      <td>...</td>\n",
       "      <td>...</td>\n",
       "      <td>...</td>\n",
       "      <td>...</td>\n",
       "      <td>...</td>\n",
       "      <td>...</td>\n",
       "      <td>...</td>\n",
       "    </tr>\n",
       "    <tr>\n",
       "      <th>beta[81]</th>\n",
       "      <td>-0.039</td>\n",
       "      <td>9.974</td>\n",
       "      <td>-17.492</td>\n",
       "      <td>19.694</td>\n",
       "      <td>0.109</td>\n",
       "      <td>0.208</td>\n",
       "      <td>8317.0</td>\n",
       "      <td>1147.0</td>\n",
       "      <td>8316.0</td>\n",
       "      <td>2630.0</td>\n",
       "      <td>1.0</td>\n",
       "    </tr>\n",
       "    <tr>\n",
       "      <th>beta[82]</th>\n",
       "      <td>-1.971</td>\n",
       "      <td>0.467</td>\n",
       "      <td>-2.884</td>\n",
       "      <td>-1.129</td>\n",
       "      <td>0.006</td>\n",
       "      <td>0.004</td>\n",
       "      <td>6981.0</td>\n",
       "      <td>6757.0</td>\n",
       "      <td>6994.0</td>\n",
       "      <td>3458.0</td>\n",
       "      <td>1.0</td>\n",
       "    </tr>\n",
       "    <tr>\n",
       "      <th>beta[83]</th>\n",
       "      <td>-0.790</td>\n",
       "      <td>0.752</td>\n",
       "      <td>-2.250</td>\n",
       "      <td>0.538</td>\n",
       "      <td>0.009</td>\n",
       "      <td>0.009</td>\n",
       "      <td>7531.0</td>\n",
       "      <td>3541.0</td>\n",
       "      <td>7549.0</td>\n",
       "      <td>3225.0</td>\n",
       "      <td>1.0</td>\n",
       "    </tr>\n",
       "    <tr>\n",
       "      <th>beta[84]</th>\n",
       "      <td>-0.090</td>\n",
       "      <td>9.954</td>\n",
       "      <td>-18.948</td>\n",
       "      <td>18.270</td>\n",
       "      <td>0.101</td>\n",
       "      <td>0.194</td>\n",
       "      <td>9627.0</td>\n",
       "      <td>1316.0</td>\n",
       "      <td>9618.0</td>\n",
       "      <td>2414.0</td>\n",
       "      <td>1.0</td>\n",
       "    </tr>\n",
       "    <tr>\n",
       "      <th>eps</th>\n",
       "      <td>0.718</td>\n",
       "      <td>0.018</td>\n",
       "      <td>0.686</td>\n",
       "      <td>0.755</td>\n",
       "      <td>0.000</td>\n",
       "      <td>0.000</td>\n",
       "      <td>4365.0</td>\n",
       "      <td>4365.0</td>\n",
       "      <td>4319.0</td>\n",
       "      <td>1944.0</td>\n",
       "      <td>1.0</td>\n",
       "    </tr>\n",
       "  </tbody>\n",
       "</table>\n",
       "<p>171 rows × 11 columns</p>\n",
       "</div>"
      ],
      "text/plain": [
       "           mean     sd  hdi_3%  hdi_97%  mcse_mean  mcse_sd  ess_mean  ess_sd  \\\n",
       "alpha[0]  0.684  0.414  -0.091    1.456      0.005    0.004    7009.0  5077.0   \n",
       "alpha[1]  0.954  0.103   0.754    1.140      0.001    0.001    7805.0  7605.0   \n",
       "alpha[2]  1.462  0.700   0.147    2.724      0.008    0.007    6961.0  5692.0   \n",
       "alpha[3]  1.711  0.410   0.965    2.481      0.005    0.003    7315.0  7043.0   \n",
       "alpha[4]  1.335  0.413   0.562    2.110      0.005    0.004    6832.0  5196.0   \n",
       "...         ...    ...     ...      ...        ...      ...       ...     ...   \n",
       "beta[81] -0.039  9.974 -17.492   19.694      0.109    0.208    8317.0  1147.0   \n",
       "beta[82] -1.971  0.467  -2.884   -1.129      0.006    0.004    6981.0  6757.0   \n",
       "beta[83] -0.790  0.752  -2.250    0.538      0.009    0.009    7531.0  3541.0   \n",
       "beta[84] -0.090  9.954 -18.948   18.270      0.101    0.194    9627.0  1316.0   \n",
       "eps       0.718  0.018   0.686    0.755      0.000    0.000    4365.0  4365.0   \n",
       "\n",
       "          ess_bulk  ess_tail  r_hat  \n",
       "alpha[0]    7007.0    3015.0    1.0  \n",
       "alpha[1]    7809.0    2752.0    1.0  \n",
       "alpha[2]    6941.0    3088.0    1.0  \n",
       "alpha[3]    7352.0    3026.0    1.0  \n",
       "alpha[4]    6978.0    3264.0    1.0  \n",
       "...            ...       ...    ...  \n",
       "beta[81]    8316.0    2630.0    1.0  \n",
       "beta[82]    6994.0    3458.0    1.0  \n",
       "beta[83]    7549.0    3225.0    1.0  \n",
       "beta[84]    9618.0    2414.0    1.0  \n",
       "eps         4319.0    1944.0    1.0  \n",
       "\n",
       "[171 rows x 11 columns]"
      ]
     },
     "metadata": {},
     "output_type": "display_data"
    },
    {
     "data": {
      "application/javascript": [
       "\n",
       "            setTimeout(function() {\n",
       "                var nbb_cell_id = 6;\n",
       "                var nbb_unformatted_code = \"with unpooled_radon_model:\\n    display(pm.summary(trace))\";\n",
       "                var nbb_formatted_code = \"with unpooled_radon_model:\\n    display(pm.summary(trace))\";\n",
       "                var nbb_cells = Jupyter.notebook.get_cells();\n",
       "                for (var i = 0; i < nbb_cells.length; ++i) {\n",
       "                    if (nbb_cells[i].input_prompt_number == nbb_cell_id) {\n",
       "                        if (nbb_cells[i].get_text() == nbb_unformatted_code) {\n",
       "                             nbb_cells[i].set_text(nbb_formatted_code);\n",
       "                        }\n",
       "                        break;\n",
       "                    }\n",
       "                }\n",
       "            }, 500);\n",
       "            "
      ],
      "text/plain": [
       "<IPython.core.display.Javascript object>"
      ]
     },
     "metadata": {},
     "output_type": "display_data"
    }
   ],
   "source": [
    "with unpooled_radon_model:\n",
    "    display(pm.summary(trace))"
   ]
  },
  {
   "cell_type": "markdown",
   "id": "desirable-forwarding",
   "metadata": {},
   "source": [
    "### 3. Hierarchical Model Radon Gas Example"
   ]
  },
  {
   "cell_type": "code",
   "execution_count": 7,
   "id": "confused-garden",
   "metadata": {},
   "outputs": [
    {
     "name": "stderr",
     "output_type": "stream",
     "text": [
      "/opt/anaconda3/envs/homework/lib/python3.7/site-packages/theano/tensor/subtensor.py:2197: FutureWarning: Using a non-tuple sequence for multidimensional indexing is deprecated; use `arr[tuple(seq)]` instead of `arr[seq]`. In the future this will be interpreted as an array index, `arr[np.array(seq)]`, which will result either in an error or a different result.\n",
      "  rval = inputs[0].__getitem__(inputs[1:])\n",
      "Auto-assigning NUTS sampler...\n",
      "Initializing NUTS using jitter+adapt_diag...\n",
      "/opt/anaconda3/envs/homework/lib/python3.7/site-packages/theano/tensor/subtensor.py:2197: FutureWarning: Using a non-tuple sequence for multidimensional indexing is deprecated; use `arr[tuple(seq)]` instead of `arr[seq]`. In the future this will be interpreted as an array index, `arr[np.array(seq)]`, which will result either in an error or a different result.\n",
      "  rval = inputs[0].__getitem__(inputs[1:])\n",
      "Multiprocess sampling (2 chains in 2 jobs)\n",
      "NUTS: [eps, beta, alpha, sig_beta, mu_beta, sig_alpha, mu_alpha]\n"
     ]
    },
    {
     "data": {
      "text/html": [
       "\n",
       "    <div>\n",
       "        <style>\n",
       "            /* Turns off some styling */\n",
       "            progress {\n",
       "                /* gets rid of default border in Firefox and Opera. */\n",
       "                border: none;\n",
       "                /* Needs to be in here for Safari polyfill so background images work as expected. */\n",
       "                background-size: auto;\n",
       "            }\n",
       "            .progress-bar-interrupted, .progress-bar-interrupted::-webkit-progress-bar {\n",
       "                background: #F44336;\n",
       "            }\n",
       "        </style>\n",
       "      <progress value='6000' class='' max='6000' style='width:300px; height:20px; vertical-align: middle;'></progress>\n",
       "      100.00% [6000/6000 02:06<00:00 Sampling 2 chains, 54 divergences]\n",
       "    </div>\n",
       "    "
      ],
      "text/plain": [
       "<IPython.core.display.HTML object>"
      ]
     },
     "metadata": {},
     "output_type": "display_data"
    },
    {
     "name": "stderr",
     "output_type": "stream",
     "text": [
      "Sampling 2 chains for 1_000 tune and 2_000 draw iterations (2_000 + 4_000 draws total) took 144 seconds.\n",
      "There were 8 divergences after tuning. Increase `target_accept` or reparameterize.\n",
      "There were 46 divergences after tuning. Increase `target_accept` or reparameterize.\n",
      "The rhat statistic is larger than 1.05 for some parameters. This indicates slight problems during sampling.\n",
      "The estimated number of effective samples is smaller than 200 for some parameters.\n"
     ]
    },
    {
     "data": {
      "application/javascript": [
       "\n",
       "            setTimeout(function() {\n",
       "                var nbb_cell_id = 7;\n",
       "                var nbb_unformatted_code = \"# Build individual models\\nwith pm.Model() as hierarchical_radon_model:\\n    # Prior\\n    # -> Global prior\\n    mu_alpha_glob = pm.Normal(\\\"mu_alpha\\\", mu=0, sigma=10)\\n    sigma_alpha_glob = pm.HalfCauchy(\\\"sig_alpha\\\", 5)\\n    \\n    mu_beta_glob = pm.Normal(\\\"mu_beta\\\", mu=0, sigma=10)\\n    sigma_beta_glob = pm.HalfCauchy(\\\"sig_beta\\\", 5)\\n\\n    # ---> Regression Coefficients\\n    alpha = pm.Normal(\\\"alpha\\\", mu=mu_alpha_glob, sigma=sigma_alpha_glob, shape=len(counties))\\n    beta = pm.Normal(\\\"beta\\\", mu=mu_beta_glob, sigma=sigma_beta_glob, shape=len(counties))\\n    # ---> Noise\\n    eps = pm.HalfCauchy(\\\"eps\\\", 5)\\n\\n    # Likelihood\\n    mu = (\\n        alpha[radon_data[\\\"county_index\\\"]]\\n        + beta[radon_data[\\\"county_index\\\"]] * radon_data[\\\"floor\\\"]\\n    )\\n    y = pm.Normal(\\\"obs\\\", mu=mu, sigma=eps, observed=radon_data[\\\"log_radon\\\"])\\n\\n    # Posterior\\n    trace = pm.sample(draws=2000)\";\n",
       "                var nbb_formatted_code = \"# Build individual models\\nwith pm.Model() as hierarchical_radon_model:\\n    # Prior\\n    # -> Global prior\\n    mu_alpha_glob = pm.Normal(\\\"mu_alpha\\\", mu=0, sigma=10)\\n    sigma_alpha_glob = pm.HalfCauchy(\\\"sig_alpha\\\", 5)\\n\\n    mu_beta_glob = pm.Normal(\\\"mu_beta\\\", mu=0, sigma=10)\\n    sigma_beta_glob = pm.HalfCauchy(\\\"sig_beta\\\", 5)\\n\\n    # ---> Regression Coefficients\\n    alpha = pm.Normal(\\n        \\\"alpha\\\", mu=mu_alpha_glob, sigma=sigma_alpha_glob, shape=len(counties)\\n    )\\n    beta = pm.Normal(\\n        \\\"beta\\\", mu=mu_beta_glob, sigma=sigma_beta_glob, shape=len(counties)\\n    )\\n    # ---> Noise\\n    eps = pm.HalfCauchy(\\\"eps\\\", 5)\\n\\n    # Likelihood\\n    mu = (\\n        alpha[radon_data[\\\"county_index\\\"]]\\n        + beta[radon_data[\\\"county_index\\\"]] * radon_data[\\\"floor\\\"]\\n    )\\n    y = pm.Normal(\\\"obs\\\", mu=mu, sigma=eps, observed=radon_data[\\\"log_radon\\\"])\\n\\n    # Posterior\\n    trace = pm.sample(draws=2000)\";\n",
       "                var nbb_cells = Jupyter.notebook.get_cells();\n",
       "                for (var i = 0; i < nbb_cells.length; ++i) {\n",
       "                    if (nbb_cells[i].input_prompt_number == nbb_cell_id) {\n",
       "                        if (nbb_cells[i].get_text() == nbb_unformatted_code) {\n",
       "                             nbb_cells[i].set_text(nbb_formatted_code);\n",
       "                        }\n",
       "                        break;\n",
       "                    }\n",
       "                }\n",
       "            }, 500);\n",
       "            "
      ],
      "text/plain": [
       "<IPython.core.display.Javascript object>"
      ]
     },
     "metadata": {},
     "output_type": "display_data"
    }
   ],
   "source": [
    "# Build individual models\n",
    "with pm.Model() as hierarchical_radon_model:\n",
    "    # Prior\n",
    "    # -> Global prior\n",
    "    mu_alpha_glob = pm.Normal(\"mu_alpha\", mu=0, sigma=10)\n",
    "    sigma_alpha_glob = pm.HalfCauchy(\"sig_alpha\", 5)\n",
    "\n",
    "    mu_beta_glob = pm.Normal(\"mu_beta\", mu=0, sigma=10)\n",
    "    sigma_beta_glob = pm.HalfCauchy(\"sig_beta\", 5)\n",
    "\n",
    "    # ---> Regression Coefficients\n",
    "    alpha = pm.Normal(\n",
    "        \"alpha\", mu=mu_alpha_glob, sigma=sigma_alpha_glob, shape=len(counties)\n",
    "    )\n",
    "    beta = pm.Normal(\n",
    "        \"beta\", mu=mu_beta_glob, sigma=sigma_beta_glob, shape=len(counties)\n",
    "    )\n",
    "    # ---> Noise\n",
    "    eps = pm.HalfCauchy(\"eps\", 5)\n",
    "\n",
    "    # Likelihood\n",
    "    mu = (\n",
    "        alpha[radon_data[\"county_index\"]]\n",
    "        + beta[radon_data[\"county_index\"]] * radon_data[\"floor\"]\n",
    "    )\n",
    "    y = pm.Normal(\"obs\", mu=mu, sigma=eps, observed=radon_data[\"log_radon\"])\n",
    "\n",
    "    # Posterior\n",
    "    trace = pm.sample(draws=2000)"
   ]
  },
  {
   "cell_type": "code",
   "execution_count": 8,
   "id": "sealed-lyric",
   "metadata": {},
   "outputs": [
    {
     "name": "stderr",
     "output_type": "stream",
     "text": [
      "/opt/anaconda3/envs/homework/lib/python3.7/site-packages/theano/tensor/subtensor.py:2197: FutureWarning: Using a non-tuple sequence for multidimensional indexing is deprecated; use `arr[tuple(seq)]` instead of `arr[seq]`. In the future this will be interpreted as an array index, `arr[np.array(seq)]`, which will result either in an error or a different result.\n",
      "  rval = inputs[0].__getitem__(inputs[1:])\n"
     ]
    },
    {
     "data": {
      "text/html": [
       "<div>\n",
       "<style scoped>\n",
       "    .dataframe tbody tr th:only-of-type {\n",
       "        vertical-align: middle;\n",
       "    }\n",
       "\n",
       "    .dataframe tbody tr th {\n",
       "        vertical-align: top;\n",
       "    }\n",
       "\n",
       "    .dataframe thead th {\n",
       "        text-align: right;\n",
       "    }\n",
       "</style>\n",
       "<table border=\"1\" class=\"dataframe\">\n",
       "  <thead>\n",
       "    <tr style=\"text-align: right;\">\n",
       "      <th></th>\n",
       "      <th>mean</th>\n",
       "      <th>sd</th>\n",
       "      <th>hdi_3%</th>\n",
       "      <th>hdi_97%</th>\n",
       "      <th>mcse_mean</th>\n",
       "      <th>mcse_sd</th>\n",
       "      <th>ess_mean</th>\n",
       "      <th>ess_sd</th>\n",
       "      <th>ess_bulk</th>\n",
       "      <th>ess_tail</th>\n",
       "      <th>r_hat</th>\n",
       "    </tr>\n",
       "  </thead>\n",
       "  <tbody>\n",
       "    <tr>\n",
       "      <th>mu_alpha</th>\n",
       "      <td>1.491</td>\n",
       "      <td>0.053</td>\n",
       "      <td>1.394</td>\n",
       "      <td>1.589</td>\n",
       "      <td>0.002</td>\n",
       "      <td>0.001</td>\n",
       "      <td>821.0</td>\n",
       "      <td>807.0</td>\n",
       "      <td>837.0</td>\n",
       "      <td>1007.0</td>\n",
       "      <td>1.00</td>\n",
       "    </tr>\n",
       "    <tr>\n",
       "      <th>mu_beta</th>\n",
       "      <td>-0.644</td>\n",
       "      <td>0.082</td>\n",
       "      <td>-0.800</td>\n",
       "      <td>-0.492</td>\n",
       "      <td>0.003</td>\n",
       "      <td>0.002</td>\n",
       "      <td>562.0</td>\n",
       "      <td>562.0</td>\n",
       "      <td>565.0</td>\n",
       "      <td>768.0</td>\n",
       "      <td>1.01</td>\n",
       "    </tr>\n",
       "    <tr>\n",
       "      <th>alpha[0]</th>\n",
       "      <td>1.210</td>\n",
       "      <td>0.247</td>\n",
       "      <td>0.753</td>\n",
       "      <td>1.665</td>\n",
       "      <td>0.004</td>\n",
       "      <td>0.003</td>\n",
       "      <td>3330.0</td>\n",
       "      <td>3330.0</td>\n",
       "      <td>3357.0</td>\n",
       "      <td>2947.0</td>\n",
       "      <td>1.00</td>\n",
       "    </tr>\n",
       "    <tr>\n",
       "      <th>alpha[1]</th>\n",
       "      <td>0.990</td>\n",
       "      <td>0.095</td>\n",
       "      <td>0.820</td>\n",
       "      <td>1.170</td>\n",
       "      <td>0.002</td>\n",
       "      <td>0.001</td>\n",
       "      <td>3597.0</td>\n",
       "      <td>3519.0</td>\n",
       "      <td>3610.0</td>\n",
       "      <td>2376.0</td>\n",
       "      <td>1.00</td>\n",
       "    </tr>\n",
       "    <tr>\n",
       "      <th>alpha[2]</th>\n",
       "      <td>1.509</td>\n",
       "      <td>0.262</td>\n",
       "      <td>1.016</td>\n",
       "      <td>1.986</td>\n",
       "      <td>0.005</td>\n",
       "      <td>0.003</td>\n",
       "      <td>2859.0</td>\n",
       "      <td>2859.0</td>\n",
       "      <td>2852.0</td>\n",
       "      <td>2764.0</td>\n",
       "      <td>1.00</td>\n",
       "    </tr>\n",
       "    <tr>\n",
       "      <th>...</th>\n",
       "      <td>...</td>\n",
       "      <td>...</td>\n",
       "      <td>...</td>\n",
       "      <td>...</td>\n",
       "      <td>...</td>\n",
       "      <td>...</td>\n",
       "      <td>...</td>\n",
       "      <td>...</td>\n",
       "      <td>...</td>\n",
       "      <td>...</td>\n",
       "      <td>...</td>\n",
       "    </tr>\n",
       "    <tr>\n",
       "      <th>beta[83]</th>\n",
       "      <td>-0.655</td>\n",
       "      <td>0.281</td>\n",
       "      <td>-1.223</td>\n",
       "      <td>-0.147</td>\n",
       "      <td>0.005</td>\n",
       "      <td>0.004</td>\n",
       "      <td>3648.0</td>\n",
       "      <td>2172.0</td>\n",
       "      <td>3299.0</td>\n",
       "      <td>1942.0</td>\n",
       "      <td>1.02</td>\n",
       "    </tr>\n",
       "    <tr>\n",
       "      <th>beta[84]</th>\n",
       "      <td>-0.639</td>\n",
       "      <td>0.308</td>\n",
       "      <td>-1.255</td>\n",
       "      <td>-0.077</td>\n",
       "      <td>0.005</td>\n",
       "      <td>0.004</td>\n",
       "      <td>3624.0</td>\n",
       "      <td>2642.0</td>\n",
       "      <td>3242.0</td>\n",
       "      <td>1691.0</td>\n",
       "      <td>1.01</td>\n",
       "    </tr>\n",
       "    <tr>\n",
       "      <th>sig_alpha</th>\n",
       "      <td>0.326</td>\n",
       "      <td>0.046</td>\n",
       "      <td>0.241</td>\n",
       "      <td>0.411</td>\n",
       "      <td>0.001</td>\n",
       "      <td>0.001</td>\n",
       "      <td>1030.0</td>\n",
       "      <td>1030.0</td>\n",
       "      <td>1028.0</td>\n",
       "      <td>2124.0</td>\n",
       "      <td>1.00</td>\n",
       "    </tr>\n",
       "    <tr>\n",
       "      <th>sig_beta</th>\n",
       "      <td>0.273</td>\n",
       "      <td>0.115</td>\n",
       "      <td>0.040</td>\n",
       "      <td>0.459</td>\n",
       "      <td>0.016</td>\n",
       "      <td>0.011</td>\n",
       "      <td>52.0</td>\n",
       "      <td>52.0</td>\n",
       "      <td>41.0</td>\n",
       "      <td>15.0</td>\n",
       "      <td>1.05</td>\n",
       "    </tr>\n",
       "    <tr>\n",
       "      <th>eps</th>\n",
       "      <td>0.720</td>\n",
       "      <td>0.019</td>\n",
       "      <td>0.685</td>\n",
       "      <td>0.753</td>\n",
       "      <td>0.001</td>\n",
       "      <td>0.000</td>\n",
       "      <td>903.0</td>\n",
       "      <td>903.0</td>\n",
       "      <td>885.0</td>\n",
       "      <td>654.0</td>\n",
       "      <td>1.00</td>\n",
       "    </tr>\n",
       "  </tbody>\n",
       "</table>\n",
       "<p>175 rows × 11 columns</p>\n",
       "</div>"
      ],
      "text/plain": [
       "            mean     sd  hdi_3%  hdi_97%  mcse_mean  mcse_sd  ess_mean  \\\n",
       "mu_alpha   1.491  0.053   1.394    1.589      0.002    0.001     821.0   \n",
       "mu_beta   -0.644  0.082  -0.800   -0.492      0.003    0.002     562.0   \n",
       "alpha[0]   1.210  0.247   0.753    1.665      0.004    0.003    3330.0   \n",
       "alpha[1]   0.990  0.095   0.820    1.170      0.002    0.001    3597.0   \n",
       "alpha[2]   1.509  0.262   1.016    1.986      0.005    0.003    2859.0   \n",
       "...          ...    ...     ...      ...        ...      ...       ...   \n",
       "beta[83]  -0.655  0.281  -1.223   -0.147      0.005    0.004    3648.0   \n",
       "beta[84]  -0.639  0.308  -1.255   -0.077      0.005    0.004    3624.0   \n",
       "sig_alpha  0.326  0.046   0.241    0.411      0.001    0.001    1030.0   \n",
       "sig_beta   0.273  0.115   0.040    0.459      0.016    0.011      52.0   \n",
       "eps        0.720  0.019   0.685    0.753      0.001    0.000     903.0   \n",
       "\n",
       "           ess_sd  ess_bulk  ess_tail  r_hat  \n",
       "mu_alpha    807.0     837.0    1007.0   1.00  \n",
       "mu_beta     562.0     565.0     768.0   1.01  \n",
       "alpha[0]   3330.0    3357.0    2947.0   1.00  \n",
       "alpha[1]   3519.0    3610.0    2376.0   1.00  \n",
       "alpha[2]   2859.0    2852.0    2764.0   1.00  \n",
       "...           ...       ...       ...    ...  \n",
       "beta[83]   2172.0    3299.0    1942.0   1.02  \n",
       "beta[84]   2642.0    3242.0    1691.0   1.01  \n",
       "sig_alpha  1030.0    1028.0    2124.0   1.00  \n",
       "sig_beta     52.0      41.0      15.0   1.05  \n",
       "eps         903.0     885.0     654.0   1.00  \n",
       "\n",
       "[175 rows x 11 columns]"
      ]
     },
     "metadata": {},
     "output_type": "display_data"
    },
    {
     "data": {
      "application/javascript": [
       "\n",
       "            setTimeout(function() {\n",
       "                var nbb_cell_id = 8;\n",
       "                var nbb_unformatted_code = \"with hierarchical_radon_model:\\n    display(pm.summary(trace))\";\n",
       "                var nbb_formatted_code = \"with hierarchical_radon_model:\\n    display(pm.summary(trace))\";\n",
       "                var nbb_cells = Jupyter.notebook.get_cells();\n",
       "                for (var i = 0; i < nbb_cells.length; ++i) {\n",
       "                    if (nbb_cells[i].input_prompt_number == nbb_cell_id) {\n",
       "                        if (nbb_cells[i].get_text() == nbb_unformatted_code) {\n",
       "                             nbb_cells[i].set_text(nbb_formatted_code);\n",
       "                        }\n",
       "                        break;\n",
       "                    }\n",
       "                }\n",
       "            }, 500);\n",
       "            "
      ],
      "text/plain": [
       "<IPython.core.display.Javascript object>"
      ]
     },
     "metadata": {},
     "output_type": "display_data"
    }
   ],
   "source": [
    "with hierarchical_radon_model:\n",
    "    display(pm.summary(trace))"
   ]
  },
  {
   "cell_type": "markdown",
   "id": "acquired-nerve",
   "metadata": {},
   "source": [
    "## Multivariate Model - Synthetic Example\n",
    "\n",
    "### Data Model\n",
    "\n",
    "Suppose you have data from 2 different sites. \n",
    "\\begin{align*}\n",
    "y_{a, i} =  \\pmb{w}_{a}^\\textsf{T}\\pmb{x}_{a, i} + \\epsilon_{i}  \\;\\;\\;\\;\n",
    "y_{b, i} = \\pmb{w}_{b}^\\textsf{T}\\pmb{x}_{b, i} + \\epsilon_{i} \\\\\n",
    "\\end{align*}\n",
    "\n",
    "\n",
    "\n",
    "The data can be collected into a observation vector as follows:\n",
    "\\begin{align*}\n",
    "\\pmb{y} = {} & \\begin{bmatrix} \\pmb{y}_{a} \\\\   \\pmb{y}_{b} \\end{bmatrix} \\;\\;\\;\\;\n",
    "\\end{align*}\n",
    "\n",
    "where, the observations from the indiviual sites as\n",
    "\\begin{align*}\n",
    "\\pmb{y}_{a} = {} & \\begin{bmatrix}y_{a, 1} \\\\ \\vdots \\\\  y_{a, N_{a}}  \\end{bmatrix}  \\;\\;\\;\\;\n",
    "\\pmb{y}_{b} =  \\begin{bmatrix}y_{b, 1} \\\\ \\vdots \\\\  y_{b, N_{b}}  \\end{bmatrix} \\\\\n",
    "\\end{align*}\n",
    "\n",
    "#### Vectorised representation\n",
    "\n",
    "So the observations can be expressed as: \n",
    "\n",
    "\\begin{align*}\n",
    "\\pmb{y}_{a} = {} & \\pmb{X}_{a}\\pmb{w}_{a} + \\pmb{\\epsilon} \\;\\;\\;\\;\n",
    "\\pmb{y}_{b} =   \\pmb{X}_{b}\\pmb{w}_{b} + \\pmb{\\epsilon}  \\\\\n",
    "\\end{align*}\n",
    "\n",
    "The regressors (or inputs), $\\pmb{x}$ can be collected into a matrix \n",
    "\\begin{align*}\n",
    "\\pmb{X}_{a}= {} & \\begin{bmatrix} \\pmb{x}^\\textsf{T}_{a, 1} \\\\ \\vdots \\\\  \\pmb{x}^\\textsf{T}_{a, N_{a}}  \\end{bmatrix} \\;\\;\\;\\;\n",
    "\\pmb{X}_{b}=  \\begin{bmatrix} \\pmb{x}^\\textsf{T}_{b, 1} \\\\ \\vdots \\\\  \\pmb{x}^\\textsf{T}_{b, N_{b}}  \\end{bmatrix} \\\\\n",
    "\\end{align*}\n",
    "\n",
    "and the data from the 2 sites, $a$ and $b$ can be augmented as, \n",
    "$\n",
    "\\begin{align*}\n",
    "\\pmb{X} = {} & \\begin{bmatrix} \\pmb{X}_{a} \\\\   \\pmb{X}_{b} \\end{bmatrix}.\n",
    "\\end{align*}\n",
    "$"
   ]
  },
  {
   "cell_type": "code",
   "execution_count": 36,
   "id": "healthy-award",
   "metadata": {},
   "outputs": [
    {
     "data": {
      "application/javascript": [
       "\n",
       "            setTimeout(function() {\n",
       "                var nbb_cell_id = 36;\n",
       "                var nbb_unformatted_code = \"n = 1000\\nw_opt_a = np.array([1, 3.5, 6])\\nw_opt_b = np.array([-1, -3.5, -6])\\nm = len(w_opt_a)\\n\\nX = stats.norm.rvs(size=(n * 2, m), loc=0, scale=1)\\n\\nX_a, X_b = X[0:n], X[n:]\\n\\n\\ny = np.append((X_a @ w_opt_a), (X_b @ w_opt_b)) + stats.norm.rvs(\\n    size=n * 2, loc=0, scale=0.5\\n)\";\n",
       "                var nbb_formatted_code = \"n = 1000\\nw_opt_a = np.array([1, 3.5, 6])\\nw_opt_b = np.array([-1, -3.5, -6])\\nm = len(w_opt_a)\\n\\nX = stats.norm.rvs(size=(n * 2, m), loc=0, scale=1)\\n\\nX_a, X_b = X[0:n], X[n:]\\n\\n\\ny = np.append((X_a @ w_opt_a), (X_b @ w_opt_b)) + stats.norm.rvs(\\n    size=n * 2, loc=0, scale=0.5\\n)\";\n",
       "                var nbb_cells = Jupyter.notebook.get_cells();\n",
       "                for (var i = 0; i < nbb_cells.length; ++i) {\n",
       "                    if (nbb_cells[i].input_prompt_number == nbb_cell_id) {\n",
       "                        if (nbb_cells[i].get_text() == nbb_unformatted_code) {\n",
       "                             nbb_cells[i].set_text(nbb_formatted_code);\n",
       "                        }\n",
       "                        break;\n",
       "                    }\n",
       "                }\n",
       "            }, 500);\n",
       "            "
      ],
      "text/plain": [
       "<IPython.core.display.Javascript object>"
      ]
     },
     "metadata": {},
     "output_type": "display_data"
    }
   ],
   "source": [
    "n = 1000\n",
    "w_opt_a = np.array([1, 3.5, 6])\n",
    "w_opt_b = np.array([-1, -3.5, -6])\n",
    "m = len(w_opt_a)\n",
    "\n",
    "X = stats.norm.rvs(size=(n * 2, m), loc=0, scale=1)\n",
    "\n",
    "X_a, X_b = X[0:n], X[n:]\n",
    "\n",
    "\n",
    "y = np.append((X_a @ w_opt_a), (X_b @ w_opt_b)) + stats.norm.rvs(\n",
    "    size=n * 2, loc=0, scale=0.5\n",
    ")"
   ]
  },
  {
   "cell_type": "markdown",
   "id": "utility-explorer",
   "metadata": {},
   "source": [
    "### 1. Pooled Model \n",
    "\n",
    "The pooled model considers both the data set (Least squares solution)\n",
    "\n",
    "\n",
    "$$\n",
    "\\begin{align*}\n",
    "\\hat{\\pmb{w}}_{\\textsf{pooled}} = \\left(\\pmb{X}^\\textsf{T} \\pmb{X} \\right)^{-1} \\pmb{X}^\\textsf{T}\\pmb{y}\n",
    "\\end{align*}\n",
    "$$\n"
   ]
  },
  {
   "cell_type": "code",
   "execution_count": 13,
   "id": "ranking-retention",
   "metadata": {},
   "outputs": [
    {
     "name": "stdout",
     "output_type": "stream",
     "text": [
      "Direct computation [-0.07798864 -0.04987297 -0.25394339]\n",
      "Sklearn Linear Regession [-0.07798864 -0.04987297 -0.25394339]\n"
     ]
    },
    {
     "data": {
      "application/javascript": [
       "\n",
       "            setTimeout(function() {\n",
       "                var nbb_cell_id = 13;\n",
       "                var nbb_unformatted_code = \"w = np.linalg.inv((X.T @ X)) @ (X.T @ y)\\n\\nprint(\\\"Direct computation\\\", w)\\n\\nlin_mod = LinearRegression(fit_intercept=False)\\nlin_mod.fit(X, y)\\nprint(\\\"Sklearn Linear Regession\\\", lin_mod.coef_)\";\n",
       "                var nbb_formatted_code = \"w = np.linalg.inv((X.T @ X)) @ (X.T @ y)\\n\\nprint(\\\"Direct computation\\\", w)\\n\\nlin_mod = LinearRegression(fit_intercept=False)\\nlin_mod.fit(X, y)\\nprint(\\\"Sklearn Linear Regession\\\", lin_mod.coef_)\";\n",
       "                var nbb_cells = Jupyter.notebook.get_cells();\n",
       "                for (var i = 0; i < nbb_cells.length; ++i) {\n",
       "                    if (nbb_cells[i].input_prompt_number == nbb_cell_id) {\n",
       "                        if (nbb_cells[i].get_text() == nbb_unformatted_code) {\n",
       "                             nbb_cells[i].set_text(nbb_formatted_code);\n",
       "                        }\n",
       "                        break;\n",
       "                    }\n",
       "                }\n",
       "            }, 500);\n",
       "            "
      ],
      "text/plain": [
       "<IPython.core.display.Javascript object>"
      ]
     },
     "metadata": {},
     "output_type": "display_data"
    }
   ],
   "source": [
    "w = np.linalg.inv((X.T @ X)) @ (X.T @ y)\n",
    "print(\"Direct computation\", w)\n",
    "\n",
    "lin_mod = LinearRegression(fit_intercept=False)\n",
    "lin_mod.fit(X, y)\n",
    "print(\"Sklearn Linear Regession\", lin_mod.coef_)"
   ]
  },
  {
   "cell_type": "markdown",
   "id": "becoming-castle",
   "metadata": {},
   "source": [
    "#### Pooled Model (Bayesian)"
   ]
  },
  {
   "cell_type": "code",
   "execution_count": 14,
   "id": "pretty-hearing",
   "metadata": {},
   "outputs": [
    {
     "name": "stderr",
     "output_type": "stream",
     "text": [
      "Auto-assigning NUTS sampler...\n",
      "Initializing NUTS using jitter+adapt_diag...\n",
      "Multiprocess sampling (2 chains in 2 jobs)\n",
      "NUTS: [sigma, w]\n"
     ]
    },
    {
     "data": {
      "text/html": [
       "\n",
       "    <div>\n",
       "        <style>\n",
       "            /* Turns off some styling */\n",
       "            progress {\n",
       "                /* gets rid of default border in Firefox and Opera. */\n",
       "                border: none;\n",
       "                /* Needs to be in here for Safari polyfill so background images work as expected. */\n",
       "                background-size: auto;\n",
       "            }\n",
       "            .progress-bar-interrupted, .progress-bar-interrupted::-webkit-progress-bar {\n",
       "                background: #F44336;\n",
       "            }\n",
       "        </style>\n",
       "      <progress value='4000' class='' max='4000' style='width:300px; height:20px; vertical-align: middle;'></progress>\n",
       "      100.00% [4000/4000 00:21<00:00 Sampling 2 chains, 0 divergences]\n",
       "    </div>\n",
       "    "
      ],
      "text/plain": [
       "<IPython.core.display.HTML object>"
      ]
     },
     "metadata": {},
     "output_type": "display_data"
    },
    {
     "name": "stderr",
     "output_type": "stream",
     "text": [
      "Sampling 2 chains for 1_000 tune and 1_000 draw iterations (2_000 + 2_000 draws total) took 42 seconds.\n"
     ]
    },
    {
     "data": {
      "application/javascript": [
       "\n",
       "            setTimeout(function() {\n",
       "                var nbb_cell_id = 14;\n",
       "                var nbb_unformatted_code = \"with pm.Model() as mod:\\n    w_ = pm.Normal(name=\\\"w\\\", mu=0, sigma=10, shape=m)\\n    sigma = pm.InverseGamma(\\\"sigma\\\", mu=1, sigma=10)\\n    obs = pm.Normal(name=\\\"obs\\\", observed=y, mu=X @ w_, sigma=sigma)\\n    trace = pm.sample(draws=1000)\";\n",
       "                var nbb_formatted_code = \"with pm.Model() as mod:\\n    w_ = pm.Normal(name=\\\"w\\\", mu=0, sigma=10, shape=m)\\n    sigma = pm.InverseGamma(\\\"sigma\\\", mu=1, sigma=10)\\n    obs = pm.Normal(name=\\\"obs\\\", observed=y, mu=X @ w_, sigma=sigma)\\n    trace = pm.sample(draws=1000)\";\n",
       "                var nbb_cells = Jupyter.notebook.get_cells();\n",
       "                for (var i = 0; i < nbb_cells.length; ++i) {\n",
       "                    if (nbb_cells[i].input_prompt_number == nbb_cell_id) {\n",
       "                        if (nbb_cells[i].get_text() == nbb_unformatted_code) {\n",
       "                             nbb_cells[i].set_text(nbb_formatted_code);\n",
       "                        }\n",
       "                        break;\n",
       "                    }\n",
       "                }\n",
       "            }, 500);\n",
       "            "
      ],
      "text/plain": [
       "<IPython.core.display.Javascript object>"
      ]
     },
     "metadata": {},
     "output_type": "display_data"
    }
   ],
   "source": [
    "with pm.Model() as mod:\n",
    "    w_ = pm.Normal(name=\"w\", mu=0, sigma=10, shape=m)\n",
    "    sigma = pm.InverseGamma(\"sigma\", mu=1, sigma=10)\n",
    "    obs = pm.Normal(name=\"obs\", observed=y, mu=X @ w_, sigma=sigma)\n",
    "    trace = pm.sample(draws=1000)"
   ]
  },
  {
   "cell_type": "code",
   "execution_count": 33,
   "id": "international-genre",
   "metadata": {
    "scrolled": false
   },
   "outputs": [
    {
     "name": "stderr",
     "output_type": "stream",
     "text": [
      "/opt/anaconda3/envs/homework/lib/python3.7/site-packages/arviz/data/io_pymc3.py:92: FutureWarning: Using `from_pymc3` without the model will be deprecated in a future release. Not using the model will return less accurate and less useful results. Make sure you use the model argument or call from_pymc3 within a model context.\n",
      "  FutureWarning,\n"
     ]
    },
    {
     "data": {
      "image/png": "[encoded data removed]",
      "text/plain": [
       "<Figure size 2980.8x414 with 3 Axes>"
      ]
     },
     "metadata": {
      "needs_background": "light"
     },
     "output_type": "display_data"
    },
    {
     "data": {
      "application/javascript": [
       "\n",
       "            setTimeout(function() {\n",
       "                var nbb_cell_id = 33;\n",
       "                var nbb_unformatted_code = \"pm.plot_posterior(trace)\\nplt.show()\";\n",
       "                var nbb_formatted_code = \"pm.plot_posterior(trace)\\nplt.show()\";\n",
       "                var nbb_cells = Jupyter.notebook.get_cells();\n",
       "                for (var i = 0; i < nbb_cells.length; ++i) {\n",
       "                    if (nbb_cells[i].input_prompt_number == nbb_cell_id) {\n",
       "                        if (nbb_cells[i].get_text() == nbb_unformatted_code) {\n",
       "                             nbb_cells[i].set_text(nbb_formatted_code);\n",
       "                        }\n",
       "                        break;\n",
       "                    }\n",
       "                }\n",
       "            }, 500);\n",
       "            "
      ],
      "text/plain": [
       "<IPython.core.display.Javascript object>"
      ]
     },
     "metadata": {},
     "output_type": "display_data"
    }
   ],
   "source": [
    "pm.plot_posterior(trace)\n",
    "plt.show()"
   ]
  },
  {
   "cell_type": "markdown",
   "id": "demanding-think",
   "metadata": {},
   "source": [
    "### 2. Unpooled Model "
   ]
  },
  {
   "cell_type": "markdown",
   "id": "critical-dominican",
   "metadata": {},
   "source": [
    "#### Representation  \n",
    "\n",
    "Since, we'd like to estimate the individual parameters from site $a$ & $b$, the 2 vectors can be augmented as\n",
    "$\n",
    "\\begin{align*}\n",
    "\\hat{\\pmb{w}} =  \\begin{bmatrix}  \\hat{\\pmb{w}}_a  ,   \\hat{\\pmb{w}}_b\\end{bmatrix} \n",
    "\\end{align*}\n",
    "$ to give us a $(M \\times 2)$ matrix\n",
    "\n",
    "As seen before the regressors can be augmened into a $(N_a + N_b) \\times m$ matrix,\n",
    "$\n",
    "\\begin{align*}\n",
    "\\pmb{X} = {} & \\begin{bmatrix} \\pmb{X}_{a} \\\\   \\pmb{X}_{b} \\end{bmatrix}. \n",
    "\\end{align*}\n",
    "$\n",
    "\n",
    "To get to our observations, we first multiple the regressors and the regression coefficients as follows\n",
    "\n",
    "\\begin{align*}\n",
    "\\tilde{\\pmb{y}} = {} & \\pmb{X} \\hat{\\pmb{w}}   \\\\\n",
    " = {} & \\begin{bmatrix} \\pmb{X}_{a} \\\\   \\pmb{X}_{b} \\end{bmatrix} \\begin{bmatrix}  \\hat{\\pmb{w}}_a  ,   \\hat{\\pmb{w}}_b\\end{bmatrix} \\\\\n",
    "  = {} & \\begin{bmatrix} \\hat{\\pmb{y}}_{a}, \\ \\tilde{\\pmb{y}}_{ab} \\\\  \\tilde{\\pmb{y}}_{ba}, \\hat{\\pmb{y}}_{b} \\end{bmatrix} \n",
    "\\end{align*}\n",
    "\n",
    "This gives us an augmented observation matrix of size $(N_a + N_b) \\times 2$. Recall that our observations are a _vector_ of the size $(N_a + N_b) \\times 1$, i.e.\n",
    "\n",
    "\\begin{align*}\n",
    "\\hat{\\pmb{y}} = {} & \\begin{bmatrix} \\hat{\\pmb{y}}_{a} \\\\ \\hat{\\pmb{y}}_{b} \\end{bmatrix} \n",
    "\\end{align*}\n",
    "\n",
    "So, to extract a the observation vector $\\hat{\\pmb{y}}$ from the augmented matrix $\\tilde{\\pmb{y}}$, we need to access the \n",
    "correct elements: \n",
    "\\begin{align*}\n",
    "\\hat{\\pmb{y}} = {} & \\tilde{\\pmb{y}}\\textsf{.iloc}\\left( \\begin{bmatrix} 0 & 0 \\\\ 1 & 0 \\\\ \\vdots & 0 \\\\ N_a & 0 \\\\ N_a + 1 & 1 \\\\ N_a + 2 & 1 \\\\ \\vdots & 1 \\\\ N_a + N_b & 1 \\end{bmatrix}  \\right)\n",
    "\\end{align*}\n",
    "\n"
   ]
  },
  {
   "cell_type": "code",
   "execution_count": 37,
   "id": "covered-revolution",
   "metadata": {},
   "outputs": [
    {
     "name": "stderr",
     "output_type": "stream",
     "text": [
      "Auto-assigning NUTS sampler...\n",
      "Initializing NUTS using jitter+adapt_diag...\n",
      "/opt/anaconda3/envs/homework/lib/python3.7/site-packages/theano/tensor/subtensor.py:2197: FutureWarning: Using a non-tuple sequence for multidimensional indexing is deprecated; use `arr[tuple(seq)]` instead of `arr[seq]`. In the future this will be interpreted as an array index, `arr[np.array(seq)]`, which will result either in an error or a different result.\n",
      "  rval = inputs[0].__getitem__(inputs[1:])\n",
      "Multiprocess sampling (2 chains in 2 jobs)\n",
      "NUTS: [sigma, w]\n"
     ]
    },
    {
     "data": {
      "text/html": [
       "\n",
       "    <div>\n",
       "        <style>\n",
       "            /* Turns off some styling */\n",
       "            progress {\n",
       "                /* gets rid of default border in Firefox and Opera. */\n",
       "                border: none;\n",
       "                /* Needs to be in here for Safari polyfill so background images work as expected. */\n",
       "                background-size: auto;\n",
       "            }\n",
       "            .progress-bar-interrupted, .progress-bar-interrupted::-webkit-progress-bar {\n",
       "                background: #F44336;\n",
       "            }\n",
       "        </style>\n",
       "      <progress value='5000' class='' max='5000' style='width:300px; height:20px; vertical-align: middle;'></progress>\n",
       "      100.00% [5000/5000 00:36<00:00 Sampling 2 chains, 0 divergences]\n",
       "    </div>\n",
       "    "
      ],
      "text/plain": [
       "<IPython.core.display.HTML object>"
      ]
     },
     "metadata": {},
     "output_type": "display_data"
    },
    {
     "name": "stderr",
     "output_type": "stream",
     "text": [
      "Sampling 2 chains for 1_000 tune and 1_500 draw iterations (2_000 + 3_000 draws total) took 58 seconds.\n",
      "/opt/anaconda3/envs/homework/lib/python3.7/site-packages/theano/tensor/subtensor.py:2197: FutureWarning: Using a non-tuple sequence for multidimensional indexing is deprecated; use `arr[tuple(seq)]` instead of `arr[seq]`. In the future this will be interpreted as an array index, `arr[np.array(seq)]`, which will result either in an error or a different result.\n",
      "  rval = inputs[0].__getitem__(inputs[1:])\n"
     ]
    },
    {
     "data": {
      "application/javascript": [
       "\n",
       "            setTimeout(function() {\n",
       "                var nbb_cell_id = 37;\n",
       "                var nbb_unformatted_code = \"index_cols = np.append(\\n    np.zeros(len(X_a), dtype=np.int8), np.ones(len(X_b), dtype=np.int8)\\n)\\nindex_rows = np.arange(len(X_a) + len(X_b))\\n\\nwith pm.Model() as ind_mod:\\n    # Prior\\n    # -> Global prior\\n    w_ind = pm.Normal(name=\\\"w\\\", mu=0, sigma=10, shape=(m, 2))\\n    sigma = pm.InverseGamma(\\\"sigma\\\", mu=1, sigma=10)\\n\\n    # Likelihood\\n    mu = (X @ w_ind)[index_rows, index_cols]\\n    obs = pm.Normal(name=\\\"obs\\\", observed=y, mu=mu, sigma=sigma)\\n    trace = pm.sample(draws=1500)\";\n",
       "                var nbb_formatted_code = \"index_cols = np.append(\\n    np.zeros(len(X_a), dtype=np.int8), np.ones(len(X_b), dtype=np.int8)\\n)\\nindex_rows = np.arange(len(X_a) + len(X_b))\\n\\nwith pm.Model() as ind_mod:\\n    # Prior\\n    # -> Global prior\\n    w_ind = pm.Normal(name=\\\"w\\\", mu=0, sigma=10, shape=(m, 2))\\n    sigma = pm.InverseGamma(\\\"sigma\\\", mu=1, sigma=10)\\n\\n    # Likelihood\\n    mu = (X @ w_ind)[index_rows, index_cols]\\n    obs = pm.Normal(name=\\\"obs\\\", observed=y, mu=mu, sigma=sigma)\\n    trace = pm.sample(draws=1500)\";\n",
       "                var nbb_cells = Jupyter.notebook.get_cells();\n",
       "                for (var i = 0; i < nbb_cells.length; ++i) {\n",
       "                    if (nbb_cells[i].input_prompt_number == nbb_cell_id) {\n",
       "                        if (nbb_cells[i].get_text() == nbb_unformatted_code) {\n",
       "                             nbb_cells[i].set_text(nbb_formatted_code);\n",
       "                        }\n",
       "                        break;\n",
       "                    }\n",
       "                }\n",
       "            }, 500);\n",
       "            "
      ],
      "text/plain": [
       "<IPython.core.display.Javascript object>"
      ]
     },
     "metadata": {},
     "output_type": "display_data"
    }
   ],
   "source": [
    "index_cols = np.append(\n",
    "    np.zeros(len(X_a), dtype=np.int8), np.ones(len(X_b), dtype=np.int8)\n",
    ")\n",
    "index_rows = np.arange(len(X_a) + len(X_b))\n",
    "\n",
    "with pm.Model() as ind_mod:\n",
    "    # Prior\n",
    "    # -> Individial priors\n",
    "    w_ind = pm.Normal(name=\"w\", mu=0, sigma=10, shape=(m, 2))\n",
    "    sigma = pm.InverseGamma(\"sigma\", mu=1, sigma=10)\n",
    "\n",
    "    # Likelihood\n",
    "    mu = (X @ w_ind)[index_rows, index_cols]\n",
    "    obs = pm.Normal(name=\"obs\", observed=y, mu=mu, sigma=sigma)\n",
    "    \n",
    "    # Sample from the posterior\n",
    "    trace = pm.sample(draws=1500)"
   ]
  },
  {
   "cell_type": "code",
   "execution_count": null,
   "id": "tough-employment",
   "metadata": {
    "scrolled": false
   },
   "outputs": [],
   "source": []
  },
  {
   "cell_type": "code",
   "execution_count": 38,
   "id": "royal-controversy",
   "metadata": {},
   "outputs": [
    {
     "data": {
      "text/plain": [
       "(3000, 3, 2)"
      ]
     },
     "execution_count": 38,
     "metadata": {},
     "output_type": "execute_result"
    },
    {
     "data": {
      "application/javascript": [
       "\n",
       "            setTimeout(function() {\n",
       "                var nbb_cell_id = 38;\n",
       "                var nbb_unformatted_code = \"trace.get_values(varname=\\\"w\\\").shape\";\n",
       "                var nbb_formatted_code = \"trace.get_values(varname=\\\"w\\\").shape\";\n",
       "                var nbb_cells = Jupyter.notebook.get_cells();\n",
       "                for (var i = 0; i < nbb_cells.length; ++i) {\n",
       "                    if (nbb_cells[i].input_prompt_number == nbb_cell_id) {\n",
       "                        if (nbb_cells[i].get_text() == nbb_unformatted_code) {\n",
       "                             nbb_cells[i].set_text(nbb_formatted_code);\n",
       "                        }\n",
       "                        break;\n",
       "                    }\n",
       "                }\n",
       "            }, 500);\n",
       "            "
      ],
      "text/plain": [
       "<IPython.core.display.Javascript object>"
      ]
     },
     "metadata": {},
     "output_type": "display_data"
    }
   ],
   "source": [
    "trace.get_values(varname=\"w\").shape"
   ]
  },
  {
   "cell_type": "code",
   "execution_count": 39,
   "id": "outer-working",
   "metadata": {},
   "outputs": [
    {
     "name": "stderr",
     "output_type": "stream",
     "text": [
      "/opt/anaconda3/envs/homework/lib/python3.7/site-packages/arviz/data/io_pymc3.py:92: FutureWarning: Using `from_pymc3` without the model will be deprecated in a future release. Not using the model will return less accurate and less useful results. Make sure you use the model argument or call from_pymc3 within a model context.\n",
      "  FutureWarning,\n",
      "/opt/anaconda3/envs/homework/lib/python3.7/site-packages/theano/tensor/subtensor.py:2197: FutureWarning: Using a non-tuple sequence for multidimensional indexing is deprecated; use `arr[tuple(seq)]` instead of `arr[seq]`. In the future this will be interpreted as an array index, `arr[np.array(seq)]`, which will result either in an error or a different result.\n",
      "  rval = inputs[0].__getitem__(inputs[1:])\n"
     ]
    },
    {
     "data": {
      "image/png": "[encoded data removed]",
      "text/plain": [
       "<Figure size 2980.8x828 with 6 Axes>"
      ]
     },
     "metadata": {
      "needs_background": "light"
     },
     "output_type": "display_data"
    },
    {
     "data": {
      "application/javascript": [
       "\n",
       "            setTimeout(function() {\n",
       "                var nbb_cell_id = 39;\n",
       "                var nbb_unformatted_code = \"pm.plot_posterior(trace, var_names=[\\\"w\\\"])\\nplt.show()\";\n",
       "                var nbb_formatted_code = \"pm.plot_posterior(trace, var_names=[\\\"w\\\"])\\nplt.show()\";\n",
       "                var nbb_cells = Jupyter.notebook.get_cells();\n",
       "                for (var i = 0; i < nbb_cells.length; ++i) {\n",
       "                    if (nbb_cells[i].input_prompt_number == nbb_cell_id) {\n",
       "                        if (nbb_cells[i].get_text() == nbb_unformatted_code) {\n",
       "                             nbb_cells[i].set_text(nbb_formatted_code);\n",
       "                        }\n",
       "                        break;\n",
       "                    }\n",
       "                }\n",
       "            }, 500);\n",
       "            "
      ],
      "text/plain": [
       "<IPython.core.display.Javascript object>"
      ]
     },
     "metadata": {},
     "output_type": "display_data"
    }
   ],
   "source": [
    "pm.plot_posterior(trace, var_names=[\"w\"])\n",
    "plt.show()"
   ]
  },
  {
   "cell_type": "code",
   "execution_count": 40,
   "id": "native-shade",
   "metadata": {
    "scrolled": false
   },
   "outputs": [
    {
     "name": "stderr",
     "output_type": "stream",
     "text": [
      "/opt/anaconda3/envs/homework/lib/python3.7/site-packages/theano/tensor/subtensor.py:2197: FutureWarning: Using a non-tuple sequence for multidimensional indexing is deprecated; use `arr[tuple(seq)]` instead of `arr[seq]`. In the future this will be interpreted as an array index, `arr[np.array(seq)]`, which will result either in an error or a different result.\n",
      "  rval = inputs[0].__getitem__(inputs[1:])\n"
     ]
    },
    {
     "data": {
      "text/html": [
       "<div>\n",
       "<style scoped>\n",
       "    .dataframe tbody tr th:only-of-type {\n",
       "        vertical-align: middle;\n",
       "    }\n",
       "\n",
       "    .dataframe tbody tr th {\n",
       "        vertical-align: top;\n",
       "    }\n",
       "\n",
       "    .dataframe thead th {\n",
       "        text-align: right;\n",
       "    }\n",
       "</style>\n",
       "<table border=\"1\" class=\"dataframe\">\n",
       "  <thead>\n",
       "    <tr style=\"text-align: right;\">\n",
       "      <th></th>\n",
       "      <th>mean</th>\n",
       "      <th>sd</th>\n",
       "      <th>hdi_3%</th>\n",
       "      <th>hdi_97%</th>\n",
       "      <th>mcse_mean</th>\n",
       "      <th>mcse_sd</th>\n",
       "      <th>ess_mean</th>\n",
       "      <th>ess_sd</th>\n",
       "      <th>ess_bulk</th>\n",
       "      <th>ess_tail</th>\n",
       "      <th>r_hat</th>\n",
       "    </tr>\n",
       "  </thead>\n",
       "  <tbody>\n",
       "    <tr>\n",
       "      <th>w[0,0]</th>\n",
       "      <td>1.006</td>\n",
       "      <td>0.017</td>\n",
       "      <td>0.977</td>\n",
       "      <td>1.038</td>\n",
       "      <td>0.0</td>\n",
       "      <td>0.0</td>\n",
       "      <td>5019.0</td>\n",
       "      <td>4995.0</td>\n",
       "      <td>5060.0</td>\n",
       "      <td>2329.0</td>\n",
       "      <td>1.0</td>\n",
       "    </tr>\n",
       "    <tr>\n",
       "      <th>w[0,1]</th>\n",
       "      <td>-1.002</td>\n",
       "      <td>0.016</td>\n",
       "      <td>-1.030</td>\n",
       "      <td>-0.971</td>\n",
       "      <td>0.0</td>\n",
       "      <td>0.0</td>\n",
       "      <td>6590.0</td>\n",
       "      <td>6588.0</td>\n",
       "      <td>6548.0</td>\n",
       "      <td>2412.0</td>\n",
       "      <td>1.0</td>\n",
       "    </tr>\n",
       "    <tr>\n",
       "      <th>w[1,0]</th>\n",
       "      <td>3.468</td>\n",
       "      <td>0.016</td>\n",
       "      <td>3.439</td>\n",
       "      <td>3.500</td>\n",
       "      <td>0.0</td>\n",
       "      <td>0.0</td>\n",
       "      <td>5401.0</td>\n",
       "      <td>5397.0</td>\n",
       "      <td>5387.0</td>\n",
       "      <td>2359.0</td>\n",
       "      <td>1.0</td>\n",
       "    </tr>\n",
       "    <tr>\n",
       "      <th>w[1,1]</th>\n",
       "      <td>-3.480</td>\n",
       "      <td>0.016</td>\n",
       "      <td>-3.511</td>\n",
       "      <td>-3.449</td>\n",
       "      <td>0.0</td>\n",
       "      <td>0.0</td>\n",
       "      <td>4511.0</td>\n",
       "      <td>4511.0</td>\n",
       "      <td>4506.0</td>\n",
       "      <td>2369.0</td>\n",
       "      <td>1.0</td>\n",
       "    </tr>\n",
       "    <tr>\n",
       "      <th>w[2,0]</th>\n",
       "      <td>5.993</td>\n",
       "      <td>0.017</td>\n",
       "      <td>5.959</td>\n",
       "      <td>6.024</td>\n",
       "      <td>0.0</td>\n",
       "      <td>0.0</td>\n",
       "      <td>4817.0</td>\n",
       "      <td>4817.0</td>\n",
       "      <td>4878.0</td>\n",
       "      <td>2303.0</td>\n",
       "      <td>1.0</td>\n",
       "    </tr>\n",
       "    <tr>\n",
       "      <th>w[2,1]</th>\n",
       "      <td>-6.004</td>\n",
       "      <td>0.016</td>\n",
       "      <td>-6.034</td>\n",
       "      <td>-5.974</td>\n",
       "      <td>0.0</td>\n",
       "      <td>0.0</td>\n",
       "      <td>4799.0</td>\n",
       "      <td>4797.0</td>\n",
       "      <td>4795.0</td>\n",
       "      <td>2601.0</td>\n",
       "      <td>1.0</td>\n",
       "    </tr>\n",
       "    <tr>\n",
       "      <th>sigma</th>\n",
       "      <td>0.515</td>\n",
       "      <td>0.008</td>\n",
       "      <td>0.499</td>\n",
       "      <td>0.530</td>\n",
       "      <td>0.0</td>\n",
       "      <td>0.0</td>\n",
       "      <td>5182.0</td>\n",
       "      <td>5182.0</td>\n",
       "      <td>5158.0</td>\n",
       "      <td>2254.0</td>\n",
       "      <td>1.0</td>\n",
       "    </tr>\n",
       "  </tbody>\n",
       "</table>\n",
       "</div>"
      ],
      "text/plain": [
       "         mean     sd  hdi_3%  hdi_97%  mcse_mean  mcse_sd  ess_mean  ess_sd  \\\n",
       "w[0,0]  1.006  0.017   0.977    1.038        0.0      0.0    5019.0  4995.0   \n",
       "w[0,1] -1.002  0.016  -1.030   -0.971        0.0      0.0    6590.0  6588.0   \n",
       "w[1,0]  3.468  0.016   3.439    3.500        0.0      0.0    5401.0  5397.0   \n",
       "w[1,1] -3.480  0.016  -3.511   -3.449        0.0      0.0    4511.0  4511.0   \n",
       "w[2,0]  5.993  0.017   5.959    6.024        0.0      0.0    4817.0  4817.0   \n",
       "w[2,1] -6.004  0.016  -6.034   -5.974        0.0      0.0    4799.0  4797.0   \n",
       "sigma   0.515  0.008   0.499    0.530        0.0      0.0    5182.0  5182.0   \n",
       "\n",
       "        ess_bulk  ess_tail  r_hat  \n",
       "w[0,0]    5060.0    2329.0    1.0  \n",
       "w[0,1]    6548.0    2412.0    1.0  \n",
       "w[1,0]    5387.0    2359.0    1.0  \n",
       "w[1,1]    4506.0    2369.0    1.0  \n",
       "w[2,0]    4878.0    2303.0    1.0  \n",
       "w[2,1]    4795.0    2601.0    1.0  \n",
       "sigma     5158.0    2254.0    1.0  "
      ]
     },
     "metadata": {},
     "output_type": "display_data"
    },
    {
     "data": {
      "application/javascript": [
       "\n",
       "            setTimeout(function() {\n",
       "                var nbb_cell_id = 40;\n",
       "                var nbb_unformatted_code = \"with ind_mod:\\n    display(pm.summary(trace))\";\n",
       "                var nbb_formatted_code = \"with ind_mod:\\n    display(pm.summary(trace))\";\n",
       "                var nbb_cells = Jupyter.notebook.get_cells();\n",
       "                for (var i = 0; i < nbb_cells.length; ++i) {\n",
       "                    if (nbb_cells[i].input_prompt_number == nbb_cell_id) {\n",
       "                        if (nbb_cells[i].get_text() == nbb_unformatted_code) {\n",
       "                             nbb_cells[i].set_text(nbb_formatted_code);\n",
       "                        }\n",
       "                        break;\n",
       "                    }\n",
       "                }\n",
       "            }, 500);\n",
       "            "
      ],
      "text/plain": [
       "<IPython.core.display.Javascript object>"
      ]
     },
     "metadata": {},
     "output_type": "display_data"
    }
   ],
   "source": [
    "with ind_mod:\n",
    "    display(pm.summary(trace))"
   ]
  },
  {
   "cell_type": "code",
   "execution_count": null,
   "id": "compound-number",
   "metadata": {},
   "outputs": [
    {
     "name": "stderr",
     "output_type": "stream",
     "text": [
      "/opt/anaconda3/envs/homework/lib/python3.7/site-packages/theano/tensor/subtensor.py:2197: FutureWarning: Using a non-tuple sequence for multidimensional indexing is deprecated; use `arr[tuple(seq)]` instead of `arr[seq]`. In the future this will be interpreted as an array index, `arr[np.array(seq)]`, which will result either in an error or a different result.\n",
      "  rval = inputs[0].__getitem__(inputs[1:])\n",
      "Auto-assigning NUTS sampler...\n",
      "Initializing NUTS using jitter+adapt_diag...\n",
      "Multiprocess sampling (2 chains in 2 jobs)\n",
      "NUTS: [sigma, w, sigma_w, mu_w]\n"
     ]
    }
   ],
   "source": [
    "with pm.Model() as hierarchical_mod:\n",
    "    # Prior\n",
    "\n",
    "    # -> Global Prior\n",
    "    mu_w_glob = pm.Normal(name=\"mu_w\", mu=0, sigma=10, shape=(m, 1))\n",
    "    sigma_w_glob = pm.InverseGamma(\"sigma_w\", mu=1, sigma=10)\n",
    "\n",
    "    # -> Individial priors\n",
    "    w_hierarchy = pm.Normal(name=\"w\", mu=mu_w_glob, sigma=sigma_w_glob, shape=(m, 2))\n",
    "    sigma = pm.InverseGamma(\"sigma\", mu=1, sigma=10)\n",
    "\n",
    "    # Likelihood\n",
    "    mu = (X @ w_hierarchy)[index_rows, index_cols]\n",
    "    obs = pm.Normal(name=\"obs\", observed=y, mu=mu, sigma=sigma)\n",
    "\n",
    "    # Sample from the posterior\n",
    "    trace = pm.sample(draws=1500)"
   ]
  },
  {
   "cell_type": "code",
   "execution_count": 45,
   "id": "sharing-magnitude",
   "metadata": {},
   "outputs": [
    {
     "data": {
      "text/html": [
       "<div>\n",
       "<style scoped>\n",
       "    .dataframe tbody tr th:only-of-type {\n",
       "        vertical-align: middle;\n",
       "    }\n",
       "\n",
       "    .dataframe tbody tr th {\n",
       "        vertical-align: top;\n",
       "    }\n",
       "\n",
       "    .dataframe thead th {\n",
       "        text-align: right;\n",
       "    }\n",
       "</style>\n",
       "<table border=\"1\" class=\"dataframe\">\n",
       "  <thead>\n",
       "    <tr style=\"text-align: right;\">\n",
       "      <th></th>\n",
       "      <th>mean</th>\n",
       "      <th>sd</th>\n",
       "      <th>hdi_3%</th>\n",
       "      <th>hdi_97%</th>\n",
       "      <th>mcse_mean</th>\n",
       "      <th>mcse_sd</th>\n",
       "      <th>ess_mean</th>\n",
       "      <th>ess_sd</th>\n",
       "      <th>ess_bulk</th>\n",
       "      <th>ess_tail</th>\n",
       "      <th>r_hat</th>\n",
       "    </tr>\n",
       "  </thead>\n",
       "  <tbody>\n",
       "    <tr>\n",
       "      <th>mu_w[0,0]</th>\n",
       "      <td>-0.003</td>\n",
       "      <td>3.465</td>\n",
       "      <td>-6.378</td>\n",
       "      <td>6.666</td>\n",
       "      <td>0.059</td>\n",
       "      <td>0.073</td>\n",
       "      <td>3504.0</td>\n",
       "      <td>1124.0</td>\n",
       "      <td>3582.0</td>\n",
       "      <td>1925.0</td>\n",
       "      <td>1.0</td>\n",
       "    </tr>\n",
       "    <tr>\n",
       "      <th>mu_w[1,0]</th>\n",
       "      <td>0.087</td>\n",
       "      <td>3.591</td>\n",
       "      <td>-6.565</td>\n",
       "      <td>7.173</td>\n",
       "      <td>0.060</td>\n",
       "      <td>0.068</td>\n",
       "      <td>3561.0</td>\n",
       "      <td>1381.0</td>\n",
       "      <td>3660.0</td>\n",
       "      <td>2246.0</td>\n",
       "      <td>1.0</td>\n",
       "    </tr>\n",
       "    <tr>\n",
       "      <th>mu_w[2,0]</th>\n",
       "      <td>-0.052</td>\n",
       "      <td>3.548</td>\n",
       "      <td>-6.454</td>\n",
       "      <td>7.240</td>\n",
       "      <td>0.068</td>\n",
       "      <td>0.076</td>\n",
       "      <td>2743.0</td>\n",
       "      <td>1098.0</td>\n",
       "      <td>3076.0</td>\n",
       "      <td>1770.0</td>\n",
       "      <td>1.0</td>\n",
       "    </tr>\n",
       "    <tr>\n",
       "      <th>w[0,0]</th>\n",
       "      <td>1.006</td>\n",
       "      <td>0.017</td>\n",
       "      <td>0.974</td>\n",
       "      <td>1.037</td>\n",
       "      <td>0.000</td>\n",
       "      <td>0.000</td>\n",
       "      <td>3899.0</td>\n",
       "      <td>3897.0</td>\n",
       "      <td>3933.0</td>\n",
       "      <td>2205.0</td>\n",
       "      <td>1.0</td>\n",
       "    </tr>\n",
       "    <tr>\n",
       "      <th>w[0,1]</th>\n",
       "      <td>-1.002</td>\n",
       "      <td>0.016</td>\n",
       "      <td>-1.031</td>\n",
       "      <td>-0.971</td>\n",
       "      <td>0.000</td>\n",
       "      <td>0.000</td>\n",
       "      <td>3885.0</td>\n",
       "      <td>3853.0</td>\n",
       "      <td>3906.0</td>\n",
       "      <td>2084.0</td>\n",
       "      <td>1.0</td>\n",
       "    </tr>\n",
       "    <tr>\n",
       "      <th>w[1,0]</th>\n",
       "      <td>3.468</td>\n",
       "      <td>0.016</td>\n",
       "      <td>3.440</td>\n",
       "      <td>3.499</td>\n",
       "      <td>0.000</td>\n",
       "      <td>0.000</td>\n",
       "      <td>3732.0</td>\n",
       "      <td>3732.0</td>\n",
       "      <td>3748.0</td>\n",
       "      <td>2044.0</td>\n",
       "      <td>1.0</td>\n",
       "    </tr>\n",
       "    <tr>\n",
       "      <th>w[1,1]</th>\n",
       "      <td>-3.480</td>\n",
       "      <td>0.016</td>\n",
       "      <td>-3.510</td>\n",
       "      <td>-3.450</td>\n",
       "      <td>0.000</td>\n",
       "      <td>0.000</td>\n",
       "      <td>4447.0</td>\n",
       "      <td>4447.0</td>\n",
       "      <td>4421.0</td>\n",
       "      <td>2288.0</td>\n",
       "      <td>1.0</td>\n",
       "    </tr>\n",
       "    <tr>\n",
       "      <th>w[2,0]</th>\n",
       "      <td>5.993</td>\n",
       "      <td>0.017</td>\n",
       "      <td>5.961</td>\n",
       "      <td>6.026</td>\n",
       "      <td>0.000</td>\n",
       "      <td>0.000</td>\n",
       "      <td>3424.0</td>\n",
       "      <td>3421.0</td>\n",
       "      <td>3422.0</td>\n",
       "      <td>2089.0</td>\n",
       "      <td>1.0</td>\n",
       "    </tr>\n",
       "    <tr>\n",
       "      <th>w[2,1]</th>\n",
       "      <td>-6.003</td>\n",
       "      <td>0.016</td>\n",
       "      <td>-6.032</td>\n",
       "      <td>-5.973</td>\n",
       "      <td>0.000</td>\n",
       "      <td>0.000</td>\n",
       "      <td>3760.0</td>\n",
       "      <td>3758.0</td>\n",
       "      <td>3730.0</td>\n",
       "      <td>2263.0</td>\n",
       "      <td>1.0</td>\n",
       "    </tr>\n",
       "    <tr>\n",
       "      <th>sigma_w</th>\n",
       "      <td>5.103</td>\n",
       "      <td>1.959</td>\n",
       "      <td>2.334</td>\n",
       "      <td>8.230</td>\n",
       "      <td>0.049</td>\n",
       "      <td>0.035</td>\n",
       "      <td>1606.0</td>\n",
       "      <td>1606.0</td>\n",
       "      <td>1774.0</td>\n",
       "      <td>1361.0</td>\n",
       "      <td>1.0</td>\n",
       "    </tr>\n",
       "    <tr>\n",
       "      <th>sigma</th>\n",
       "      <td>0.515</td>\n",
       "      <td>0.008</td>\n",
       "      <td>0.500</td>\n",
       "      <td>0.531</td>\n",
       "      <td>0.000</td>\n",
       "      <td>0.000</td>\n",
       "      <td>3479.0</td>\n",
       "      <td>3473.0</td>\n",
       "      <td>3477.0</td>\n",
       "      <td>2320.0</td>\n",
       "      <td>1.0</td>\n",
       "    </tr>\n",
       "  </tbody>\n",
       "</table>\n",
       "</div>"
      ],
      "text/plain": [
       "            mean     sd  hdi_3%  hdi_97%  mcse_mean  mcse_sd  ess_mean  \\\n",
       "mu_w[0,0] -0.003  3.465  -6.378    6.666      0.059    0.073    3504.0   \n",
       "mu_w[1,0]  0.087  3.591  -6.565    7.173      0.060    0.068    3561.0   \n",
       "mu_w[2,0] -0.052  3.548  -6.454    7.240      0.068    0.076    2743.0   \n",
       "w[0,0]     1.006  0.017   0.974    1.037      0.000    0.000    3899.0   \n",
       "w[0,1]    -1.002  0.016  -1.031   -0.971      0.000    0.000    3885.0   \n",
       "w[1,0]     3.468  0.016   3.440    3.499      0.000    0.000    3732.0   \n",
       "w[1,1]    -3.480  0.016  -3.510   -3.450      0.000    0.000    4447.0   \n",
       "w[2,0]     5.993  0.017   5.961    6.026      0.000    0.000    3424.0   \n",
       "w[2,1]    -6.003  0.016  -6.032   -5.973      0.000    0.000    3760.0   \n",
       "sigma_w    5.103  1.959   2.334    8.230      0.049    0.035    1606.0   \n",
       "sigma      0.515  0.008   0.500    0.531      0.000    0.000    3479.0   \n",
       "\n",
       "           ess_sd  ess_bulk  ess_tail  r_hat  \n",
       "mu_w[0,0]  1124.0    3582.0    1925.0    1.0  \n",
       "mu_w[1,0]  1381.0    3660.0    2246.0    1.0  \n",
       "mu_w[2,0]  1098.0    3076.0    1770.0    1.0  \n",
       "w[0,0]     3897.0    3933.0    2205.0    1.0  \n",
       "w[0,1]     3853.0    3906.0    2084.0    1.0  \n",
       "w[1,0]     3732.0    3748.0    2044.0    1.0  \n",
       "w[1,1]     4447.0    4421.0    2288.0    1.0  \n",
       "w[2,0]     3421.0    3422.0    2089.0    1.0  \n",
       "w[2,1]     3758.0    3730.0    2263.0    1.0  \n",
       "sigma_w    1606.0    1774.0    1361.0    1.0  \n",
       "sigma      3473.0    3477.0    2320.0    1.0  "
      ]
     },
     "metadata": {},
     "output_type": "display_data"
    },
    {
     "data": {
      "application/javascript": [
       "\n",
       "            setTimeout(function() {\n",
       "                var nbb_cell_id = 45;\n",
       "                var nbb_unformatted_code = \"with hierarchical_mod:\\n    display(pm.summary(trace))\";\n",
       "                var nbb_formatted_code = \"with hierarchical_mod:\\n    display(pm.summary(trace))\";\n",
       "                var nbb_cells = Jupyter.notebook.get_cells();\n",
       "                for (var i = 0; i < nbb_cells.length; ++i) {\n",
       "                    if (nbb_cells[i].input_prompt_number == nbb_cell_id) {\n",
       "                        if (nbb_cells[i].get_text() == nbb_unformatted_code) {\n",
       "                             nbb_cells[i].set_text(nbb_formatted_code);\n",
       "                        }\n",
       "                        break;\n",
       "                    }\n",
       "                }\n",
       "            }, 500);\n",
       "            "
      ],
      "text/plain": [
       "<IPython.core.display.Javascript object>"
      ]
     },
     "metadata": {},
     "output_type": "display_data"
    }
   ],
   "source": [
    "with hierarchical_mod:\n",
    "    display(pm.summary(trace))"
   ]
  },
  {
   "cell_type": "code",
   "execution_count": null,
   "id": "hidden-feelings",
   "metadata": {},
   "outputs": [],
   "source": []
  },
  {
   "cell_type": "code",
   "execution_count": null,
   "id": "turkish-globe",
   "metadata": {},
   "outputs": [],
   "source": []
  },
  {
   "cell_type": "code",
   "execution_count": null,
   "id": "given-scanner",
   "metadata": {},
   "outputs": [],
   "source": []
  },
  {
   "cell_type": "code",
   "execution_count": null,
   "id": "dominant-frequency",
   "metadata": {},
   "outputs": [],
   "source": []
  },
  {
   "cell_type": "code",
   "execution_count": null,
   "id": "geographic-optics",
   "metadata": {},
   "outputs": [],
   "source": []
  },
  {
   "cell_type": "code",
   "execution_count": null,
   "id": "local-calgary",
   "metadata": {},
   "outputs": [],
   "source": []
  }
 ],
 "metadata": {
  "kernelspec": {
   "display_name": "Python 3",
   "language": "python",
   "name": "python3"
  },
  "language_info": {
   "codemirror_mode": {
    "name": "ipython",
    "version": 3
   },
   "file_extension": ".py",
   "mimetype": "text/x-python",
   "name": "python",
   "nbconvert_exporter": "python",
   "pygments_lexer": "ipython3",
   "version": "3.7.9"
  }
 },
 "nbformat": 4,
 "nbformat_minor": 5
}
