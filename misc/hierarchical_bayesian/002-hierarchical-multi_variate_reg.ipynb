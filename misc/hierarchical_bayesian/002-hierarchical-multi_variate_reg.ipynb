{
 "cells": [
  {
   "cell_type": "markdown",
   "id": "coupled-schema",
   "metadata": {},
   "source": [
    "# A simpl(er) Introduction to Hierarchical Models \n",
    "### Naive Bayesians, 2021\n",
    "\n",
    "\n",
    "### Agenda\n",
    "\n",
    "1. Univariate Model (Radon Gas)\n",
    "    * Pooled \n",
    "    * Unpooled \n",
    "    * Hierarchical \n",
    "\n",
    "2. Multivariate model (Synthetic Data)\n",
    "    * Pooled \n",
    "    * Unpooled \n",
    "    * Hierarchical "
   ]
  },
  {
   "cell_type": "markdown",
   "id": "adolescent-parking",
   "metadata": {},
   "source": [
    "#### Notebook Setup"
   ]
  },
  {
   "cell_type": "code",
   "execution_count": 1,
   "id": "solid-warrior",
   "metadata": {},
   "outputs": [
    {
     "data": {
      "text/html": [
       "<style>.container { width:85% !important; }</style>"
      ],
      "text/plain": [
       "<IPython.core.display.HTML object>"
      ]
     },
     "metadata": {},
     "output_type": "display_data"
    },
    {
     "data": {
      "application/javascript": [
       "\n",
       "            setTimeout(function() {\n",
       "                var nbb_cell_id = 1;\n",
       "                var nbb_unformatted_code = \"%load_ext nb_black\\n%reload_ext autoreload\\n%autoreload 2\\n\\nfrom IPython.core.display import display, HTML\\n\\ndisplay(HTML(\\\"<style>.container { width:85% !important; }</style>\\\"))\";\n",
       "                var nbb_formatted_code = \"%load_ext nb_black\\n%reload_ext autoreload\\n%autoreload 2\\n\\nfrom IPython.core.display import display, HTML\\n\\ndisplay(HTML(\\\"<style>.container { width:85% !important; }</style>\\\"))\";\n",
       "                var nbb_cells = Jupyter.notebook.get_cells();\n",
       "                for (var i = 0; i < nbb_cells.length; ++i) {\n",
       "                    if (nbb_cells[i].input_prompt_number == nbb_cell_id) {\n",
       "                        if (nbb_cells[i].get_text() == nbb_unformatted_code) {\n",
       "                             nbb_cells[i].set_text(nbb_formatted_code);\n",
       "                        }\n",
       "                        break;\n",
       "                    }\n",
       "                }\n",
       "            }, 500);\n",
       "            "
      ],
      "text/plain": [
       "<IPython.core.display.Javascript object>"
      ]
     },
     "metadata": {},
     "output_type": "display_data"
    }
   ],
   "source": [
    "%load_ext nb_black\n",
    "%reload_ext autoreload\n",
    "%autoreload 2\n",
    "\n",
    "from IPython.core.display import display, HTML\n",
    "\n",
    "display(HTML(\"<style>.container { width:85% !important; }</style>\"))"
   ]
  },
  {
   "cell_type": "code",
   "execution_count": 2,
   "id": "danish-circle",
   "metadata": {},
   "outputs": [
    {
     "data": {
      "application/javascript": [
       "\n",
       "            setTimeout(function() {\n",
       "                var nbb_cell_id = 2;\n",
       "                var nbb_unformatted_code = \"import os\\nfrom scipy import stats\\nimport pandas as pd\\nimport numpy as np\\nfrom typing import Dict\\n\\n# ML libraries\\nimport pymc3 as pm\\nfrom sklearn.linear_model import LinearRegression\\n\\n# Plotting and viz\\nimport matplotlib.pyplot as plt\\nimport seaborn as sns\\n\\nplt.rcParams[\\\"figure.figsize\\\"] = (12, 5)\\nplt.rcParams[\\\"font.size\\\"] = 15\";\n",
       "                var nbb_formatted_code = \"import os\\nfrom scipy import stats\\nimport pandas as pd\\nimport numpy as np\\nfrom typing import Dict\\n\\n# ML libraries\\nimport pymc3 as pm\\nfrom sklearn.linear_model import LinearRegression\\n\\n# Plotting and viz\\nimport matplotlib.pyplot as plt\\nimport seaborn as sns\\n\\nplt.rcParams[\\\"figure.figsize\\\"] = (12, 5)\\nplt.rcParams[\\\"font.size\\\"] = 15\";\n",
       "                var nbb_cells = Jupyter.notebook.get_cells();\n",
       "                for (var i = 0; i < nbb_cells.length; ++i) {\n",
       "                    if (nbb_cells[i].input_prompt_number == nbb_cell_id) {\n",
       "                        if (nbb_cells[i].get_text() == nbb_unformatted_code) {\n",
       "                             nbb_cells[i].set_text(nbb_formatted_code);\n",
       "                        }\n",
       "                        break;\n",
       "                    }\n",
       "                }\n",
       "            }, 500);\n",
       "            "
      ],
      "text/plain": [
       "<IPython.core.display.Javascript object>"
      ]
     },
     "metadata": {},
     "output_type": "display_data"
    }
   ],
   "source": [
    "import os\n",
    "from scipy import stats\n",
    "import pandas as pd\n",
    "import numpy as np\n",
    "from typing import Dict\n",
    "\n",
    "# ML libraries\n",
    "import pymc3 as pm\n",
    "from sklearn.linear_model import LinearRegression\n",
    "\n",
    "# Plotting and viz\n",
    "import matplotlib.pyplot as plt\n",
    "import seaborn as sns\n",
    "\n",
    "plt.rcParams[\"figure.figsize\"] = (12, 5)\n",
    "plt.rcParams[\"font.size\"] = 15"
   ]
  },
  {
   "cell_type": "markdown",
   "id": "flush-sentence",
   "metadata": {},
   "source": [
    "## Univariate Regression - Radon Gas Example\n",
    "\n",
    "Suppose the radon concentration for a specific house, $i$, in county, $c$ is related to if the house has a basement with the relationship:  \n",
    "\n",
    "$$\n",
    "\\begin{align*}\n",
    "\\text{Pooled:  } \\text{log_radon}_{i, c} = {} & \\alpha + \\beta \\hspace{1mm} \\text{floor}_{i, c} + \\epsilon_{i, c}, \\\\\n",
    "\\text{Unpooled:  }  \\text{log_radon}_{i, c} = {} & \\alpha_{c} + \\beta_{c} \\hspace{1mm} \\text{floor}_{i, c} + \\epsilon_{i, c}\n",
    "\\end{align*}\n",
    "$$\n",
    "\n",
    "where $\\alpha_{c}$ is the average radon concentration, $\\text{floor}_{i, c}  = 0$ if the house has a basement  $\\text{floor}_{i, c}  = 1$ if the house doesn't have a basement. "
   ]
  },
  {
   "cell_type": "code",
   "execution_count": 3,
   "id": "naval-survivor",
   "metadata": {},
   "outputs": [
    {
     "name": "stdout",
     "output_type": "stream",
     "text": [
      "Num counties: 85\n"
     ]
    },
    {
     "data": {
      "text/html": [
       "<div>\n",
       "<style scoped>\n",
       "    .dataframe tbody tr th:only-of-type {\n",
       "        vertical-align: middle;\n",
       "    }\n",
       "\n",
       "    .dataframe tbody tr th {\n",
       "        vertical-align: top;\n",
       "    }\n",
       "\n",
       "    .dataframe thead th {\n",
       "        text-align: right;\n",
       "    }\n",
       "</style>\n",
       "<table border=\"1\" class=\"dataframe\">\n",
       "  <thead>\n",
       "    <tr style=\"text-align: right;\">\n",
       "      <th></th>\n",
       "      <th>county</th>\n",
       "      <th>floor</th>\n",
       "      <th>log_radon</th>\n",
       "      <th>county_index</th>\n",
       "    </tr>\n",
       "  </thead>\n",
       "  <tbody>\n",
       "    <tr>\n",
       "      <th>0</th>\n",
       "      <td>AITKIN</td>\n",
       "      <td>1.0</td>\n",
       "      <td>0.832909</td>\n",
       "      <td>0</td>\n",
       "    </tr>\n",
       "    <tr>\n",
       "      <th>1</th>\n",
       "      <td>AITKIN</td>\n",
       "      <td>0.0</td>\n",
       "      <td>0.832909</td>\n",
       "      <td>0</td>\n",
       "    </tr>\n",
       "    <tr>\n",
       "      <th>2</th>\n",
       "      <td>AITKIN</td>\n",
       "      <td>0.0</td>\n",
       "      <td>1.098612</td>\n",
       "      <td>0</td>\n",
       "    </tr>\n",
       "    <tr>\n",
       "      <th>3</th>\n",
       "      <td>AITKIN</td>\n",
       "      <td>0.0</td>\n",
       "      <td>0.095310</td>\n",
       "      <td>0</td>\n",
       "    </tr>\n",
       "    <tr>\n",
       "      <th>4</th>\n",
       "      <td>ANOKA</td>\n",
       "      <td>0.0</td>\n",
       "      <td>1.163151</td>\n",
       "      <td>1</td>\n",
       "    </tr>\n",
       "    <tr>\n",
       "      <th>...</th>\n",
       "      <td>...</td>\n",
       "      <td>...</td>\n",
       "      <td>...</td>\n",
       "      <td>...</td>\n",
       "    </tr>\n",
       "    <tr>\n",
       "      <th>914</th>\n",
       "      <td>WRIGHT</td>\n",
       "      <td>0.0</td>\n",
       "      <td>1.871802</td>\n",
       "      <td>83</td>\n",
       "    </tr>\n",
       "    <tr>\n",
       "      <th>915</th>\n",
       "      <td>WRIGHT</td>\n",
       "      <td>0.0</td>\n",
       "      <td>1.526056</td>\n",
       "      <td>83</td>\n",
       "    </tr>\n",
       "    <tr>\n",
       "      <th>916</th>\n",
       "      <td>WRIGHT</td>\n",
       "      <td>0.0</td>\n",
       "      <td>1.629241</td>\n",
       "      <td>83</td>\n",
       "    </tr>\n",
       "    <tr>\n",
       "      <th>917</th>\n",
       "      <td>YELLOW MEDICINE</td>\n",
       "      <td>0.0</td>\n",
       "      <td>1.335001</td>\n",
       "      <td>84</td>\n",
       "    </tr>\n",
       "    <tr>\n",
       "      <th>918</th>\n",
       "      <td>YELLOW MEDICINE</td>\n",
       "      <td>0.0</td>\n",
       "      <td>1.098612</td>\n",
       "      <td>84</td>\n",
       "    </tr>\n",
       "  </tbody>\n",
       "</table>\n",
       "<p>919 rows × 4 columns</p>\n",
       "</div>"
      ],
      "text/plain": [
       "              county  floor  log_radon  county_index\n",
       "0             AITKIN    1.0   0.832909             0\n",
       "1             AITKIN    0.0   0.832909             0\n",
       "2             AITKIN    0.0   1.098612             0\n",
       "3             AITKIN    0.0   0.095310             0\n",
       "4              ANOKA    0.0   1.163151             1\n",
       "..               ...    ...        ...           ...\n",
       "914           WRIGHT    0.0   1.871802            83\n",
       "915           WRIGHT    0.0   1.526056            83\n",
       "916           WRIGHT    0.0   1.629241            83\n",
       "917  YELLOW MEDICINE    0.0   1.335001            84\n",
       "918  YELLOW MEDICINE    0.0   1.098612            84\n",
       "\n",
       "[919 rows x 4 columns]"
      ]
     },
     "metadata": {},
     "output_type": "display_data"
    },
    {
     "data": {
      "application/javascript": [
       "\n",
       "            setTimeout(function() {\n",
       "                var nbb_cell_id = 3;\n",
       "                var nbb_unformatted_code = \"# Load data\\ndef load_radon_data() -> pd.DataFrame:\\n    data = pd.read_csv(pm.get_data(\\\"radon.csv\\\"))\\n    data = data[[\\\"county\\\", \\\"floor\\\", \\\"log_radon\\\"]]\\n    return data\\n\\n\\nradon_data = load_radon_data()\\n\\ncounties = radon_data[\\\"county\\\"].drop_duplicates().to_list()\\n\\nprint(f\\\"Num counties: {len(counties)}\\\")\\n\\n# Map each county with an index\\ncounty_index_mapping = {county: index for index, county in enumerate(counties)}\\n\\nradon_data = radon_data.assign(\\n    **{\\\"county_index\\\": lambda x: x[\\\"county\\\"].map(county_index_mapping)}\\n)\\ndisplay(radon_data)\";\n",
       "                var nbb_formatted_code = \"# Load data\\ndef load_radon_data() -> pd.DataFrame:\\n    data = pd.read_csv(pm.get_data(\\\"radon.csv\\\"))\\n    data = data[[\\\"county\\\", \\\"floor\\\", \\\"log_radon\\\"]]\\n    return data\\n\\n\\nradon_data = load_radon_data()\\n\\ncounties = radon_data[\\\"county\\\"].drop_duplicates().to_list()\\n\\nprint(f\\\"Num counties: {len(counties)}\\\")\\n\\n# Map each county with an index\\ncounty_index_mapping = {county: index for index, county in enumerate(counties)}\\n\\nradon_data = radon_data.assign(\\n    **{\\\"county_index\\\": lambda x: x[\\\"county\\\"].map(county_index_mapping)}\\n)\\ndisplay(radon_data)\";\n",
       "                var nbb_cells = Jupyter.notebook.get_cells();\n",
       "                for (var i = 0; i < nbb_cells.length; ++i) {\n",
       "                    if (nbb_cells[i].input_prompt_number == nbb_cell_id) {\n",
       "                        if (nbb_cells[i].get_text() == nbb_unformatted_code) {\n",
       "                             nbb_cells[i].set_text(nbb_formatted_code);\n",
       "                        }\n",
       "                        break;\n",
       "                    }\n",
       "                }\n",
       "            }, 500);\n",
       "            "
      ],
      "text/plain": [
       "<IPython.core.display.Javascript object>"
      ]
     },
     "metadata": {},
     "output_type": "display_data"
    }
   ],
   "source": [
    "# Load data\n",
    "def load_radon_data() -> pd.DataFrame:\n",
    "    data = pd.read_csv(pm.get_data(\"radon.csv\"))\n",
    "    data = data[[\"county\", \"floor\", \"log_radon\"]]\n",
    "    return data\n",
    "\n",
    "\n",
    "radon_data = load_radon_data()\n",
    "\n",
    "counties = radon_data[\"county\"].drop_duplicates().to_list()\n",
    "\n",
    "print(f\"Num counties: {len(counties)}\")\n",
    "\n",
    "# Map each county with an index\n",
    "county_index_mapping = {county: index for index, county in enumerate(counties)}\n",
    "\n",
    "radon_data = radon_data.assign(\n",
    "    **{\"county_index\": lambda x: x[\"county\"].map(county_index_mapping)}\n",
    ")\n",
    "display(radon_data)"
   ]
  },
  {
   "cell_type": "markdown",
   "id": "committed-karaoke",
   "metadata": {},
   "source": [
    "### 1. Pooled Model Radon Gas Example"
   ]
  },
  {
   "cell_type": "code",
   "execution_count": 4,
   "id": "faced-theater",
   "metadata": {},
   "outputs": [
    {
     "name": "stderr",
     "output_type": "stream",
     "text": [
      "Auto-assigning NUTS sampler...\n",
      "Initializing NUTS using jitter+adapt_diag...\n",
      "Multiprocess sampling (2 chains in 2 jobs)\n",
      "NUTS: [eps, beta, alpha]\n"
     ]
    },
    {
     "data": {
      "text/html": [
       "\n",
       "    <div>\n",
       "        <style>\n",
       "            /* Turns off some styling */\n",
       "            progress {\n",
       "                /* gets rid of default border in Firefox and Opera. */\n",
       "                border: none;\n",
       "                /* Needs to be in here for Safari polyfill so background images work as expected. */\n",
       "                background-size: auto;\n",
       "            }\n",
       "            .progress-bar-interrupted, .progress-bar-interrupted::-webkit-progress-bar {\n",
       "                background: #F44336;\n",
       "            }\n",
       "        </style>\n",
       "      <progress value='6000' class='' max='6000' style='width:300px; height:20px; vertical-align: middle;'></progress>\n",
       "      100.00% [6000/6000 00:14<00:00 Sampling 2 chains, 0 divergences]\n",
       "    </div>\n",
       "    "
      ],
      "text/plain": [
       "<IPython.core.display.HTML object>"
      ]
     },
     "metadata": {},
     "output_type": "display_data"
    },
    {
     "name": "stderr",
     "output_type": "stream",
     "text": [
      "Sampling 2 chains for 1_000 tune and 2_000 draw iterations (2_000 + 4_000 draws total) took 35 seconds.\n"
     ]
    },
    {
     "data": {
      "application/javascript": [
       "\n",
       "            setTimeout(function() {\n",
       "                var nbb_cell_id = 4;\n",
       "                var nbb_unformatted_code = \"# Build individual models\\nwith pm.Model() as ind_radon_model:\\n    # Prior\\n    # ---> Regression Coefficients\\n    alpha = pm.Normal(\\\"alpha\\\", mu=0, sigma=10, shape=1)\\n    beta = pm.Normal(\\\"beta\\\", mu=0, sigma=10, shape=1)\\n    # ---> Noise\\n    eps = pm.HalfCauchy(\\\"eps\\\", 5)\\n\\n    # Likelihood\\n    mu = alpha + beta * radon_data[\\\"floor\\\"]\\n    y = pm.Normal(\\\"obs\\\", mu=mu, sigma=eps, observed=radon_data[\\\"log_radon\\\"])\\n\\n    # Posterior\\n    trace = pm.sample(draws=2000)\";\n",
       "                var nbb_formatted_code = \"# Build individual models\\nwith pm.Model() as ind_radon_model:\\n    # Prior\\n    # ---> Regression Coefficients\\n    alpha = pm.Normal(\\\"alpha\\\", mu=0, sigma=10, shape=1)\\n    beta = pm.Normal(\\\"beta\\\", mu=0, sigma=10, shape=1)\\n    # ---> Noise\\n    eps = pm.HalfCauchy(\\\"eps\\\", 5)\\n\\n    # Likelihood\\n    mu = alpha + beta * radon_data[\\\"floor\\\"]\\n    y = pm.Normal(\\\"obs\\\", mu=mu, sigma=eps, observed=radon_data[\\\"log_radon\\\"])\\n\\n    # Posterior\\n    trace = pm.sample(draws=2000)\";\n",
       "                var nbb_cells = Jupyter.notebook.get_cells();\n",
       "                for (var i = 0; i < nbb_cells.length; ++i) {\n",
       "                    if (nbb_cells[i].input_prompt_number == nbb_cell_id) {\n",
       "                        if (nbb_cells[i].get_text() == nbb_unformatted_code) {\n",
       "                             nbb_cells[i].set_text(nbb_formatted_code);\n",
       "                        }\n",
       "                        break;\n",
       "                    }\n",
       "                }\n",
       "            }, 500);\n",
       "            "
      ],
      "text/plain": [
       "<IPython.core.display.Javascript object>"
      ]
     },
     "metadata": {},
     "output_type": "display_data"
    }
   ],
   "source": [
    "# Build individual models\n",
    "with pm.Model() as ind_radon_model:\n",
    "    # Prior\n",
    "    # ---> Regression Coefficients\n",
    "    alpha = pm.Normal(\"alpha\", mu=0, sigma=10, shape=1)\n",
    "    beta = pm.Normal(\"beta\", mu=0, sigma=10, shape=1)\n",
    "    # ---> Noise\n",
    "    eps = pm.HalfCauchy(\"eps\", 5)\n",
    "\n",
    "    # Likelihood\n",
    "    mu = alpha + beta * radon_data[\"floor\"]\n",
    "    y = pm.Normal(\"obs\", mu=mu, sigma=eps, observed=radon_data[\"log_radon\"])\n",
    "\n",
    "    # Posterior\n",
    "    trace = pm.sample(draws=2000)"
   ]
  },
  {
   "cell_type": "code",
   "execution_count": 6,
   "id": "german-guyana",
   "metadata": {},
   "outputs": [
    {
     "name": "stderr",
     "output_type": "stream",
     "text": [
      "/opt/anaconda3/envs/homework/lib/python3.7/site-packages/arviz/data/io_pymc3.py:92: FutureWarning: Using `from_pymc3` without the model will be deprecated in a future release. Not using the model will return less accurate and less useful results. Make sure you use the model argument or call from_pymc3 within a model context.\n",
      "  FutureWarning,\n"
     ]
    },
    {
     "data": {
      "image/png": "[encoded data removed]",
      "text/plain": [
       "<Figure size 2980.8x414 with 3 Axes>"
      ]
     },
     "metadata": {
      "needs_background": "light"
     },
     "output_type": "display_data"
    },
    {
     "data": {
      "application/javascript": [
       "\n",
       "            setTimeout(function() {\n",
       "                var nbb_cell_id = 6;\n",
       "                var nbb_unformatted_code = \"pm.plot_posterior(trace)\\nplt.show()\";\n",
       "                var nbb_formatted_code = \"pm.plot_posterior(trace)\\nplt.show()\";\n",
       "                var nbb_cells = Jupyter.notebook.get_cells();\n",
       "                for (var i = 0; i < nbb_cells.length; ++i) {\n",
       "                    if (nbb_cells[i].input_prompt_number == nbb_cell_id) {\n",
       "                        if (nbb_cells[i].get_text() == nbb_unformatted_code) {\n",
       "                             nbb_cells[i].set_text(nbb_formatted_code);\n",
       "                        }\n",
       "                        break;\n",
       "                    }\n",
       "                }\n",
       "            }, 500);\n",
       "            "
      ],
      "text/plain": [
       "<IPython.core.display.Javascript object>"
      ]
     },
     "metadata": {},
     "output_type": "display_data"
    }
   ],
   "source": [
    "pm.plot_posterior(trace)\n",
    "plt.show()"
   ]
  },
  {
   "cell_type": "code",
   "execution_count": 7,
   "id": "polished-agreement",
   "metadata": {},
   "outputs": [
    {
     "data": {
      "text/html": [
       "<div>\n",
       "<style scoped>\n",
       "    .dataframe tbody tr th:only-of-type {\n",
       "        vertical-align: middle;\n",
       "    }\n",
       "\n",
       "    .dataframe tbody tr th {\n",
       "        vertical-align: top;\n",
       "    }\n",
       "\n",
       "    .dataframe thead th {\n",
       "        text-align: right;\n",
       "    }\n",
       "</style>\n",
       "<table border=\"1\" class=\"dataframe\">\n",
       "  <thead>\n",
       "    <tr style=\"text-align: right;\">\n",
       "      <th></th>\n",
       "      <th>mean</th>\n",
       "      <th>sd</th>\n",
       "      <th>hdi_3%</th>\n",
       "      <th>hdi_97%</th>\n",
       "      <th>mcse_mean</th>\n",
       "      <th>mcse_sd</th>\n",
       "      <th>ess_mean</th>\n",
       "      <th>ess_sd</th>\n",
       "      <th>ess_bulk</th>\n",
       "      <th>ess_tail</th>\n",
       "      <th>r_hat</th>\n",
       "    </tr>\n",
       "  </thead>\n",
       "  <tbody>\n",
       "    <tr>\n",
       "      <th>alpha[0]</th>\n",
       "      <td>1.361</td>\n",
       "      <td>0.029</td>\n",
       "      <td>1.304</td>\n",
       "      <td>1.414</td>\n",
       "      <td>0.000</td>\n",
       "      <td>0.000</td>\n",
       "      <td>3920.0</td>\n",
       "      <td>3920.0</td>\n",
       "      <td>3936.0</td>\n",
       "      <td>2972.0</td>\n",
       "      <td>1.0</td>\n",
       "    </tr>\n",
       "    <tr>\n",
       "      <th>beta[0]</th>\n",
       "      <td>-0.586</td>\n",
       "      <td>0.071</td>\n",
       "      <td>-0.717</td>\n",
       "      <td>-0.449</td>\n",
       "      <td>0.001</td>\n",
       "      <td>0.001</td>\n",
       "      <td>3666.0</td>\n",
       "      <td>3666.0</td>\n",
       "      <td>3665.0</td>\n",
       "      <td>2404.0</td>\n",
       "      <td>1.0</td>\n",
       "    </tr>\n",
       "    <tr>\n",
       "      <th>eps</th>\n",
       "      <td>0.791</td>\n",
       "      <td>0.019</td>\n",
       "      <td>0.757</td>\n",
       "      <td>0.826</td>\n",
       "      <td>0.000</td>\n",
       "      <td>0.000</td>\n",
       "      <td>4999.0</td>\n",
       "      <td>4999.0</td>\n",
       "      <td>4978.0</td>\n",
       "      <td>2781.0</td>\n",
       "      <td>1.0</td>\n",
       "    </tr>\n",
       "  </tbody>\n",
       "</table>\n",
       "</div>"
      ],
      "text/plain": [
       "           mean     sd  hdi_3%  hdi_97%  mcse_mean  mcse_sd  ess_mean  ess_sd  \\\n",
       "alpha[0]  1.361  0.029   1.304    1.414      0.000    0.000    3920.0  3920.0   \n",
       "beta[0]  -0.586  0.071  -0.717   -0.449      0.001    0.001    3666.0  3666.0   \n",
       "eps       0.791  0.019   0.757    0.826      0.000    0.000    4999.0  4999.0   \n",
       "\n",
       "          ess_bulk  ess_tail  r_hat  \n",
       "alpha[0]    3936.0    2972.0    1.0  \n",
       "beta[0]     3665.0    2404.0    1.0  \n",
       "eps         4978.0    2781.0    1.0  "
      ]
     },
     "metadata": {},
     "output_type": "display_data"
    },
    {
     "data": {
      "application/javascript": [
       "\n",
       "            setTimeout(function() {\n",
       "                var nbb_cell_id = 7;\n",
       "                var nbb_unformatted_code = \"with ind_radon_model:\\n    display(pm.summary(trace))\";\n",
       "                var nbb_formatted_code = \"with ind_radon_model:\\n    display(pm.summary(trace))\";\n",
       "                var nbb_cells = Jupyter.notebook.get_cells();\n",
       "                for (var i = 0; i < nbb_cells.length; ++i) {\n",
       "                    if (nbb_cells[i].input_prompt_number == nbb_cell_id) {\n",
       "                        if (nbb_cells[i].get_text() == nbb_unformatted_code) {\n",
       "                             nbb_cells[i].set_text(nbb_formatted_code);\n",
       "                        }\n",
       "                        break;\n",
       "                    }\n",
       "                }\n",
       "            }, 500);\n",
       "            "
      ],
      "text/plain": [
       "<IPython.core.display.Javascript object>"
      ]
     },
     "metadata": {},
     "output_type": "display_data"
    }
   ],
   "source": [
    "with ind_radon_model:\n",
    "    display(pm.summary(trace))"
   ]
  },
  {
   "cell_type": "markdown",
   "id": "understanding-bowling",
   "metadata": {},
   "source": [
    "### 2. Unpooled Model Radon Gas Example"
   ]
  },
  {
   "cell_type": "code",
   "execution_count": 16,
   "id": "productive-rebate",
   "metadata": {},
   "outputs": [
    {
     "name": "stderr",
     "output_type": "stream",
     "text": [
      "Auto-assigning NUTS sampler...\n",
      "Initializing NUTS using jitter+adapt_diag...\n",
      "Multiprocess sampling (2 chains in 2 jobs)\n",
      "NUTS: [eps, beta, alpha]\n"
     ]
    },
    {
     "data": {
      "text/html": [
       "\n",
       "    <div>\n",
       "        <style>\n",
       "            /* Turns off some styling */\n",
       "            progress {\n",
       "                /* gets rid of default border in Firefox and Opera. */\n",
       "                border: none;\n",
       "                /* Needs to be in here for Safari polyfill so background images work as expected. */\n",
       "                background-size: auto;\n",
       "            }\n",
       "            .progress-bar-interrupted, .progress-bar-interrupted::-webkit-progress-bar {\n",
       "                background: #F44336;\n",
       "            }\n",
       "        </style>\n",
       "      <progress value='6000' class='' max='6000' style='width:300px; height:20px; vertical-align: middle;'></progress>\n",
       "      100.00% [6000/6000 01:21<00:00 Sampling 2 chains, 0 divergences]\n",
       "    </div>\n",
       "    "
      ],
      "text/plain": [
       "<IPython.core.display.HTML object>"
      ]
     },
     "metadata": {},
     "output_type": "display_data"
    },
    {
     "name": "stderr",
     "output_type": "stream",
     "text": [
      "Sampling 2 chains for 1_000 tune and 2_000 draw iterations (2_000 + 4_000 draws total) took 103 seconds.\n",
      "/opt/anaconda3/envs/homework/lib/python3.7/site-packages/theano/tensor/subtensor.py:2197: FutureWarning: Using a non-tuple sequence for multidimensional indexing is deprecated; use `arr[tuple(seq)]` instead of `arr[seq]`. In the future this will be interpreted as an array index, `arr[np.array(seq)]`, which will result either in an error or a different result.\n",
      "  rval = inputs[0].__getitem__(inputs[1:])\n"
     ]
    },
    {
     "data": {
      "application/javascript": [
       "\n",
       "            setTimeout(function() {\n",
       "                var nbb_cell_id = 16;\n",
       "                var nbb_unformatted_code = \"# Build individual models\\nwith pm.Model() as unpooled_radon_model:\\n    # Prior\\n    # ---> Regression Coefficients\\n    alpha = pm.Normal(\\\"alpha\\\", mu=0, sigma=10, shape=len(counties))\\n    beta = pm.Normal(\\\"beta\\\", mu=0, sigma=10, shape=len(counties))\\n    # ---> Noise\\n    eps = pm.HalfCauchy(\\\"eps\\\", 5)\\n\\n    # Likelihood\\n    mu = (\\n        alpha[radon_data[\\\"county_index\\\"]]\\n        + beta[radon_data[\\\"county_index\\\"]] * radon_data[\\\"floor\\\"]\\n    )\\n    y = pm.Normal(\\\"obs\\\", mu=mu, sigma=eps, observed=radon_data[\\\"log_radon\\\"])\\n\\n    # Posterior\\n    trace = pm.sample(draws=2000)\";\n",
       "                var nbb_formatted_code = \"# Build individual models\\nwith pm.Model() as unpooled_radon_model:\\n    # Prior\\n    # ---> Regression Coefficients\\n    alpha = pm.Normal(\\\"alpha\\\", mu=0, sigma=10, shape=len(counties))\\n    beta = pm.Normal(\\\"beta\\\", mu=0, sigma=10, shape=len(counties))\\n    # ---> Noise\\n    eps = pm.HalfCauchy(\\\"eps\\\", 5)\\n\\n    # Likelihood\\n    mu = (\\n        alpha[radon_data[\\\"county_index\\\"]]\\n        + beta[radon_data[\\\"county_index\\\"]] * radon_data[\\\"floor\\\"]\\n    )\\n    y = pm.Normal(\\\"obs\\\", mu=mu, sigma=eps, observed=radon_data[\\\"log_radon\\\"])\\n\\n    # Posterior\\n    trace = pm.sample(draws=2000)\";\n",
       "                var nbb_cells = Jupyter.notebook.get_cells();\n",
       "                for (var i = 0; i < nbb_cells.length; ++i) {\n",
       "                    if (nbb_cells[i].input_prompt_number == nbb_cell_id) {\n",
       "                        if (nbb_cells[i].get_text() == nbb_unformatted_code) {\n",
       "                             nbb_cells[i].set_text(nbb_formatted_code);\n",
       "                        }\n",
       "                        break;\n",
       "                    }\n",
       "                }\n",
       "            }, 500);\n",
       "            "
      ],
      "text/plain": [
       "<IPython.core.display.Javascript object>"
      ]
     },
     "metadata": {},
     "output_type": "display_data"
    }
   ],
   "source": [
    "# Build individual models\n",
    "with pm.Model() as unpooled_radon_model:\n",
    "    # Prior\n",
    "    # ---> Regression Coefficients\n",
    "    alpha = pm.Normal(\"alpha\", mu=0, sigma=10, shape=len(counties))\n",
    "    beta = pm.Normal(\"beta\", mu=0, sigma=10, shape=len(counties))\n",
    "    # ---> Noise\n",
    "    eps = pm.HalfCauchy(\"eps\", 5)\n",
    "\n",
    "    # Likelihood\n",
    "    mu = (\n",
    "        alpha[radon_data[\"county_index\"]]\n",
    "        + beta[radon_data[\"county_index\"]] * radon_data[\"floor\"]\n",
    "    )\n",
    "    y = pm.Normal(\"obs\", mu=mu, sigma=eps, observed=radon_data[\"log_radon\"])\n",
    "\n",
    "    # Posterior\n",
    "    trace = pm.sample(draws=2000)"
   ]
  },
  {
   "cell_type": "code",
   "execution_count": 17,
   "id": "unlike-northwest",
   "metadata": {},
   "outputs": [
    {
     "name": "stderr",
     "output_type": "stream",
     "text": [
      "/opt/anaconda3/envs/homework/lib/python3.7/site-packages/theano/tensor/subtensor.py:2197: FutureWarning: Using a non-tuple sequence for multidimensional indexing is deprecated; use `arr[tuple(seq)]` instead of `arr[seq]`. In the future this will be interpreted as an array index, `arr[np.array(seq)]`, which will result either in an error or a different result.\n",
      "  rval = inputs[0].__getitem__(inputs[1:])\n"
     ]
    },
    {
     "data": {
      "text/html": [
       "<div>\n",
       "<style scoped>\n",
       "    .dataframe tbody tr th:only-of-type {\n",
       "        vertical-align: middle;\n",
       "    }\n",
       "\n",
       "    .dataframe tbody tr th {\n",
       "        vertical-align: top;\n",
       "    }\n",
       "\n",
       "    .dataframe thead th {\n",
       "        text-align: right;\n",
       "    }\n",
       "</style>\n",
       "<table border=\"1\" class=\"dataframe\">\n",
       "  <thead>\n",
       "    <tr style=\"text-align: right;\">\n",
       "      <th></th>\n",
       "      <th>mean</th>\n",
       "      <th>sd</th>\n",
       "      <th>hdi_3%</th>\n",
       "      <th>hdi_97%</th>\n",
       "      <th>mcse_mean</th>\n",
       "      <th>mcse_sd</th>\n",
       "      <th>ess_mean</th>\n",
       "      <th>ess_sd</th>\n",
       "      <th>ess_bulk</th>\n",
       "      <th>ess_tail</th>\n",
       "      <th>r_hat</th>\n",
       "    </tr>\n",
       "  </thead>\n",
       "  <tbody>\n",
       "    <tr>\n",
       "      <th>alpha[0]</th>\n",
       "      <td>0.680</td>\n",
       "      <td>0.413</td>\n",
       "      <td>-0.114</td>\n",
       "      <td>1.435</td>\n",
       "      <td>0.005</td>\n",
       "      <td>0.004</td>\n",
       "      <td>7820.0</td>\n",
       "      <td>5106.0</td>\n",
       "      <td>7800.0</td>\n",
       "      <td>3383.0</td>\n",
       "      <td>1.0</td>\n",
       "    </tr>\n",
       "    <tr>\n",
       "      <th>alpha[1]</th>\n",
       "      <td>0.953</td>\n",
       "      <td>0.102</td>\n",
       "      <td>0.762</td>\n",
       "      <td>1.146</td>\n",
       "      <td>0.001</td>\n",
       "      <td>0.001</td>\n",
       "      <td>7938.0</td>\n",
       "      <td>7938.0</td>\n",
       "      <td>7934.0</td>\n",
       "      <td>3126.0</td>\n",
       "      <td>1.0</td>\n",
       "    </tr>\n",
       "    <tr>\n",
       "      <th>alpha[2]</th>\n",
       "      <td>1.475</td>\n",
       "      <td>0.719</td>\n",
       "      <td>0.123</td>\n",
       "      <td>2.814</td>\n",
       "      <td>0.009</td>\n",
       "      <td>0.007</td>\n",
       "      <td>6216.0</td>\n",
       "      <td>4794.0</td>\n",
       "      <td>6220.0</td>\n",
       "      <td>3022.0</td>\n",
       "      <td>1.0</td>\n",
       "    </tr>\n",
       "    <tr>\n",
       "      <th>alpha[3]</th>\n",
       "      <td>1.710</td>\n",
       "      <td>0.421</td>\n",
       "      <td>0.928</td>\n",
       "      <td>2.493</td>\n",
       "      <td>0.005</td>\n",
       "      <td>0.004</td>\n",
       "      <td>7845.0</td>\n",
       "      <td>7021.0</td>\n",
       "      <td>7834.0</td>\n",
       "      <td>2947.0</td>\n",
       "      <td>1.0</td>\n",
       "    </tr>\n",
       "    <tr>\n",
       "      <th>alpha[4]</th>\n",
       "      <td>1.339</td>\n",
       "      <td>0.410</td>\n",
       "      <td>0.580</td>\n",
       "      <td>2.114</td>\n",
       "      <td>0.005</td>\n",
       "      <td>0.003</td>\n",
       "      <td>8124.0</td>\n",
       "      <td>7588.0</td>\n",
       "      <td>7586.0</td>\n",
       "      <td>3296.0</td>\n",
       "      <td>1.0</td>\n",
       "    </tr>\n",
       "    <tr>\n",
       "      <th>...</th>\n",
       "      <td>...</td>\n",
       "      <td>...</td>\n",
       "      <td>...</td>\n",
       "      <td>...</td>\n",
       "      <td>...</td>\n",
       "      <td>...</td>\n",
       "      <td>...</td>\n",
       "      <td>...</td>\n",
       "      <td>...</td>\n",
       "      <td>...</td>\n",
       "      <td>...</td>\n",
       "    </tr>\n",
       "    <tr>\n",
       "      <th>beta[81]</th>\n",
       "      <td>-0.035</td>\n",
       "      <td>9.778</td>\n",
       "      <td>-18.059</td>\n",
       "      <td>18.569</td>\n",
       "      <td>0.107</td>\n",
       "      <td>0.188</td>\n",
       "      <td>8320.0</td>\n",
       "      <td>1358.0</td>\n",
       "      <td>8324.0</td>\n",
       "      <td>2738.0</td>\n",
       "      <td>1.0</td>\n",
       "    </tr>\n",
       "    <tr>\n",
       "      <th>beta[82]</th>\n",
       "      <td>-1.981</td>\n",
       "      <td>0.471</td>\n",
       "      <td>-2.854</td>\n",
       "      <td>-1.093</td>\n",
       "      <td>0.006</td>\n",
       "      <td>0.004</td>\n",
       "      <td>7010.0</td>\n",
       "      <td>6737.0</td>\n",
       "      <td>7027.0</td>\n",
       "      <td>3246.0</td>\n",
       "      <td>1.0</td>\n",
       "    </tr>\n",
       "    <tr>\n",
       "      <th>beta[83]</th>\n",
       "      <td>-0.788</td>\n",
       "      <td>0.773</td>\n",
       "      <td>-2.186</td>\n",
       "      <td>0.664</td>\n",
       "      <td>0.008</td>\n",
       "      <td>0.008</td>\n",
       "      <td>9434.0</td>\n",
       "      <td>4143.0</td>\n",
       "      <td>9485.0</td>\n",
       "      <td>2976.0</td>\n",
       "      <td>1.0</td>\n",
       "    </tr>\n",
       "    <tr>\n",
       "      <th>beta[84]</th>\n",
       "      <td>0.152</td>\n",
       "      <td>9.896</td>\n",
       "      <td>-18.332</td>\n",
       "      <td>18.848</td>\n",
       "      <td>0.107</td>\n",
       "      <td>0.176</td>\n",
       "      <td>8625.0</td>\n",
       "      <td>1578.0</td>\n",
       "      <td>8616.0</td>\n",
       "      <td>2958.0</td>\n",
       "      <td>1.0</td>\n",
       "    </tr>\n",
       "    <tr>\n",
       "      <th>eps</th>\n",
       "      <td>0.718</td>\n",
       "      <td>0.018</td>\n",
       "      <td>0.683</td>\n",
       "      <td>0.751</td>\n",
       "      <td>0.000</td>\n",
       "      <td>0.000</td>\n",
       "      <td>5065.0</td>\n",
       "      <td>5065.0</td>\n",
       "      <td>5032.0</td>\n",
       "      <td>3123.0</td>\n",
       "      <td>1.0</td>\n",
       "    </tr>\n",
       "  </tbody>\n",
       "</table>\n",
       "<p>171 rows × 11 columns</p>\n",
       "</div>"
      ],
      "text/plain": [
       "           mean     sd  hdi_3%  hdi_97%  mcse_mean  mcse_sd  ess_mean  ess_sd  \\\n",
       "alpha[0]  0.680  0.413  -0.114    1.435      0.005    0.004    7820.0  5106.0   \n",
       "alpha[1]  0.953  0.102   0.762    1.146      0.001    0.001    7938.0  7938.0   \n",
       "alpha[2]  1.475  0.719   0.123    2.814      0.009    0.007    6216.0  4794.0   \n",
       "alpha[3]  1.710  0.421   0.928    2.493      0.005    0.004    7845.0  7021.0   \n",
       "alpha[4]  1.339  0.410   0.580    2.114      0.005    0.003    8124.0  7588.0   \n",
       "...         ...    ...     ...      ...        ...      ...       ...     ...   \n",
       "beta[81] -0.035  9.778 -18.059   18.569      0.107    0.188    8320.0  1358.0   \n",
       "beta[82] -1.981  0.471  -2.854   -1.093      0.006    0.004    7010.0  6737.0   \n",
       "beta[83] -0.788  0.773  -2.186    0.664      0.008    0.008    9434.0  4143.0   \n",
       "beta[84]  0.152  9.896 -18.332   18.848      0.107    0.176    8625.0  1578.0   \n",
       "eps       0.718  0.018   0.683    0.751      0.000    0.000    5065.0  5065.0   \n",
       "\n",
       "          ess_bulk  ess_tail  r_hat  \n",
       "alpha[0]    7800.0    3383.0    1.0  \n",
       "alpha[1]    7934.0    3126.0    1.0  \n",
       "alpha[2]    6220.0    3022.0    1.0  \n",
       "alpha[3]    7834.0    2947.0    1.0  \n",
       "alpha[4]    7586.0    3296.0    1.0  \n",
       "...            ...       ...    ...  \n",
       "beta[81]    8324.0    2738.0    1.0  \n",
       "beta[82]    7027.0    3246.0    1.0  \n",
       "beta[83]    9485.0    2976.0    1.0  \n",
       "beta[84]    8616.0    2958.0    1.0  \n",
       "eps         5032.0    3123.0    1.0  \n",
       "\n",
       "[171 rows x 11 columns]"
      ]
     },
     "metadata": {},
     "output_type": "display_data"
    },
    {
     "data": {
      "application/javascript": [
       "\n",
       "            setTimeout(function() {\n",
       "                var nbb_cell_id = 17;\n",
       "                var nbb_unformatted_code = \"with unpooled_radon_model:\\n    display(pm.summary(trace))\";\n",
       "                var nbb_formatted_code = \"with unpooled_radon_model:\\n    display(pm.summary(trace))\";\n",
       "                var nbb_cells = Jupyter.notebook.get_cells();\n",
       "                for (var i = 0; i < nbb_cells.length; ++i) {\n",
       "                    if (nbb_cells[i].input_prompt_number == nbb_cell_id) {\n",
       "                        if (nbb_cells[i].get_text() == nbb_unformatted_code) {\n",
       "                             nbb_cells[i].set_text(nbb_formatted_code);\n",
       "                        }\n",
       "                        break;\n",
       "                    }\n",
       "                }\n",
       "            }, 500);\n",
       "            "
      ],
      "text/plain": [
       "<IPython.core.display.Javascript object>"
      ]
     },
     "metadata": {},
     "output_type": "display_data"
    }
   ],
   "source": [
    "with unpooled_radon_model:\n",
    "    display(pm.summary(trace))"
   ]
  },
  {
   "cell_type": "markdown",
   "id": "received-lyric",
   "metadata": {},
   "source": [
    "### 3. Hierarchical Model Radon Gas Example"
   ]
  },
  {
   "cell_type": "code",
   "execution_count": 18,
   "id": "cultural-glenn",
   "metadata": {},
   "outputs": [
    {
     "name": "stderr",
     "output_type": "stream",
     "text": [
      "/opt/anaconda3/envs/homework/lib/python3.7/site-packages/theano/tensor/subtensor.py:2197: FutureWarning: Using a non-tuple sequence for multidimensional indexing is deprecated; use `arr[tuple(seq)]` instead of `arr[seq]`. In the future this will be interpreted as an array index, `arr[np.array(seq)]`, which will result either in an error or a different result.\n",
      "  rval = inputs[0].__getitem__(inputs[1:])\n",
      "Auto-assigning NUTS sampler...\n",
      "Initializing NUTS using jitter+adapt_diag...\n",
      "/opt/anaconda3/envs/homework/lib/python3.7/site-packages/theano/tensor/subtensor.py:2197: FutureWarning: Using a non-tuple sequence for multidimensional indexing is deprecated; use `arr[tuple(seq)]` instead of `arr[seq]`. In the future this will be interpreted as an array index, `arr[np.array(seq)]`, which will result either in an error or a different result.\n",
      "  rval = inputs[0].__getitem__(inputs[1:])\n",
      "Multiprocess sampling (2 chains in 2 jobs)\n",
      "NUTS: [eps, beta, alpha, sig_beta, mu_beta, sig_alpha, mu_alpha]\n"
     ]
    },
    {
     "data": {
      "text/html": [
       "\n",
       "    <div>\n",
       "        <style>\n",
       "            /* Turns off some styling */\n",
       "            progress {\n",
       "                /* gets rid of default border in Firefox and Opera. */\n",
       "                border: none;\n",
       "                /* Needs to be in here for Safari polyfill so background images work as expected. */\n",
       "                background-size: auto;\n",
       "            }\n",
       "            .progress-bar-interrupted, .progress-bar-interrupted::-webkit-progress-bar {\n",
       "                background: #F44336;\n",
       "            }\n",
       "        </style>\n",
       "      <progress value='6000' class='' max='6000' style='width:300px; height:20px; vertical-align: middle;'></progress>\n",
       "      100.00% [6000/6000 01:34<00:00 Sampling 2 chains, 9 divergences]\n",
       "    </div>\n",
       "    "
      ],
      "text/plain": [
       "<IPython.core.display.HTML object>"
      ]
     },
     "metadata": {},
     "output_type": "display_data"
    },
    {
     "name": "stderr",
     "output_type": "stream",
     "text": [
      "Sampling 2 chains for 1_000 tune and 2_000 draw iterations (2_000 + 4_000 draws total) took 118 seconds.\n",
      "There were 8 divergences after tuning. Increase `target_accept` or reparameterize.\n",
      "There was 1 divergence after tuning. Increase `target_accept` or reparameterize.\n",
      "The estimated number of effective samples is smaller than 200 for some parameters.\n"
     ]
    },
    {
     "data": {
      "application/javascript": [
       "\n",
       "            setTimeout(function() {\n",
       "                var nbb_cell_id = 18;\n",
       "                var nbb_unformatted_code = \"# Build individual models\\nwith pm.Model() as hierarchical_radon_model:\\n    # Prior\\n    # -> Global prior\\n    mu_alpha_glob = pm.Normal(\\\"mu_alpha\\\", mu=0, sigma=10)\\n    sigma_alpha_glob = pm.HalfCauchy(\\\"sig_alpha\\\", 5)\\n\\n    mu_beta_glob = pm.Normal(\\\"mu_beta\\\", mu=0, sigma=10)\\n    sigma_beta_glob = pm.HalfCauchy(\\\"sig_beta\\\", 5)\\n\\n    # ---> Regression Coefficients\\n    alpha = pm.Normal(\\n        \\\"alpha\\\", mu=mu_alpha_glob, sigma=sigma_alpha_glob, shape=len(counties)\\n    )\\n    beta = pm.Normal(\\n        \\\"beta\\\", mu=mu_beta_glob, sigma=sigma_beta_glob, shape=len(counties)\\n    )\\n    # ---> Noise\\n    eps = pm.HalfCauchy(\\\"eps\\\", 5)\\n\\n    # Likelihood\\n    mu = (\\n        alpha[radon_data[\\\"county_index\\\"]]\\n        + beta[radon_data[\\\"county_index\\\"]] * radon_data[\\\"floor\\\"]\\n    )\\n    y = pm.Normal(\\\"obs\\\", mu=mu, sigma=eps, observed=radon_data[\\\"log_radon\\\"])\\n\\n    # Posterior\\n    trace = pm.sample(draws=2000)\";\n",
       "                var nbb_formatted_code = \"# Build individual models\\nwith pm.Model() as hierarchical_radon_model:\\n    # Prior\\n    # -> Global prior\\n    mu_alpha_glob = pm.Normal(\\\"mu_alpha\\\", mu=0, sigma=10)\\n    sigma_alpha_glob = pm.HalfCauchy(\\\"sig_alpha\\\", 5)\\n\\n    mu_beta_glob = pm.Normal(\\\"mu_beta\\\", mu=0, sigma=10)\\n    sigma_beta_glob = pm.HalfCauchy(\\\"sig_beta\\\", 5)\\n\\n    # ---> Regression Coefficients\\n    alpha = pm.Normal(\\n        \\\"alpha\\\", mu=mu_alpha_glob, sigma=sigma_alpha_glob, shape=len(counties)\\n    )\\n    beta = pm.Normal(\\n        \\\"beta\\\", mu=mu_beta_glob, sigma=sigma_beta_glob, shape=len(counties)\\n    )\\n    # ---> Noise\\n    eps = pm.HalfCauchy(\\\"eps\\\", 5)\\n\\n    # Likelihood\\n    mu = (\\n        alpha[radon_data[\\\"county_index\\\"]]\\n        + beta[radon_data[\\\"county_index\\\"]] * radon_data[\\\"floor\\\"]\\n    )\\n    y = pm.Normal(\\\"obs\\\", mu=mu, sigma=eps, observed=radon_data[\\\"log_radon\\\"])\\n\\n    # Posterior\\n    trace = pm.sample(draws=2000)\";\n",
       "                var nbb_cells = Jupyter.notebook.get_cells();\n",
       "                for (var i = 0; i < nbb_cells.length; ++i) {\n",
       "                    if (nbb_cells[i].input_prompt_number == nbb_cell_id) {\n",
       "                        if (nbb_cells[i].get_text() == nbb_unformatted_code) {\n",
       "                             nbb_cells[i].set_text(nbb_formatted_code);\n",
       "                        }\n",
       "                        break;\n",
       "                    }\n",
       "                }\n",
       "            }, 500);\n",
       "            "
      ],
      "text/plain": [
       "<IPython.core.display.Javascript object>"
      ]
     },
     "metadata": {},
     "output_type": "display_data"
    }
   ],
   "source": [
    "# Build individual models\n",
    "with pm.Model() as hierarchical_radon_model:\n",
    "    # Prior\n",
    "    # -> Global prior\n",
    "    mu_alpha_glob = pm.Normal(\"mu_alpha\", mu=0, sigma=10)\n",
    "    sigma_alpha_glob = pm.HalfCauchy(\"sig_alpha\", 5)\n",
    "\n",
    "    mu_beta_glob = pm.Normal(\"mu_beta\", mu=0, sigma=10)\n",
    "    sigma_beta_glob = pm.HalfCauchy(\"sig_beta\", 5)\n",
    "\n",
    "    # ---> Regression Coefficients\n",
    "    alpha = pm.Normal(\n",
    "        \"alpha\", mu=mu_alpha_glob, sigma=sigma_alpha_glob, shape=len(counties)\n",
    "    )\n",
    "    beta = pm.Normal(\n",
    "        \"beta\", mu=mu_beta_glob, sigma=sigma_beta_glob, shape=len(counties)\n",
    "    )\n",
    "    # ---> Noise\n",
    "    eps = pm.HalfCauchy(\"eps\", 5)\n",
    "\n",
    "    # Likelihood\n",
    "    mu = (\n",
    "        alpha[radon_data[\"county_index\"]]\n",
    "        + beta[radon_data[\"county_index\"]] * radon_data[\"floor\"]\n",
    "    )\n",
    "    y = pm.Normal(\"obs\", mu=mu, sigma=eps, observed=radon_data[\"log_radon\"])\n",
    "\n",
    "    # Posterior\n",
    "    trace = pm.sample(draws=2000)"
   ]
  },
  {
   "cell_type": "code",
   "execution_count": 19,
   "id": "baking-comparison",
   "metadata": {},
   "outputs": [
    {
     "name": "stderr",
     "output_type": "stream",
     "text": [
      "/opt/anaconda3/envs/homework/lib/python3.7/site-packages/theano/tensor/subtensor.py:2197: FutureWarning: Using a non-tuple sequence for multidimensional indexing is deprecated; use `arr[tuple(seq)]` instead of `arr[seq]`. In the future this will be interpreted as an array index, `arr[np.array(seq)]`, which will result either in an error or a different result.\n",
      "  rval = inputs[0].__getitem__(inputs[1:])\n"
     ]
    },
    {
     "data": {
      "text/html": [
       "<div>\n",
       "<style scoped>\n",
       "    .dataframe tbody tr th:only-of-type {\n",
       "        vertical-align: middle;\n",
       "    }\n",
       "\n",
       "    .dataframe tbody tr th {\n",
       "        vertical-align: top;\n",
       "    }\n",
       "\n",
       "    .dataframe thead th {\n",
       "        text-align: right;\n",
       "    }\n",
       "</style>\n",
       "<table border=\"1\" class=\"dataframe\">\n",
       "  <thead>\n",
       "    <tr style=\"text-align: right;\">\n",
       "      <th></th>\n",
       "      <th>mean</th>\n",
       "      <th>sd</th>\n",
       "      <th>hdi_3%</th>\n",
       "      <th>hdi_97%</th>\n",
       "      <th>mcse_mean</th>\n",
       "      <th>mcse_sd</th>\n",
       "      <th>ess_mean</th>\n",
       "      <th>ess_sd</th>\n",
       "      <th>ess_bulk</th>\n",
       "      <th>ess_tail</th>\n",
       "      <th>r_hat</th>\n",
       "    </tr>\n",
       "  </thead>\n",
       "  <tbody>\n",
       "    <tr>\n",
       "      <th>mu_alpha</th>\n",
       "      <td>1.492</td>\n",
       "      <td>0.052</td>\n",
       "      <td>1.397</td>\n",
       "      <td>1.588</td>\n",
       "      <td>0.001</td>\n",
       "      <td>0.001</td>\n",
       "      <td>1498.0</td>\n",
       "      <td>1493.0</td>\n",
       "      <td>1497.0</td>\n",
       "      <td>2643.0</td>\n",
       "      <td>1.00</td>\n",
       "    </tr>\n",
       "    <tr>\n",
       "      <th>mu_beta</th>\n",
       "      <td>-0.648</td>\n",
       "      <td>0.083</td>\n",
       "      <td>-0.803</td>\n",
       "      <td>-0.500</td>\n",
       "      <td>0.004</td>\n",
       "      <td>0.003</td>\n",
       "      <td>495.0</td>\n",
       "      <td>495.0</td>\n",
       "      <td>496.0</td>\n",
       "      <td>1328.0</td>\n",
       "      <td>1.00</td>\n",
       "    </tr>\n",
       "    <tr>\n",
       "      <th>alpha[0]</th>\n",
       "      <td>1.204</td>\n",
       "      <td>0.250</td>\n",
       "      <td>0.711</td>\n",
       "      <td>1.658</td>\n",
       "      <td>0.004</td>\n",
       "      <td>0.003</td>\n",
       "      <td>3855.0</td>\n",
       "      <td>3783.0</td>\n",
       "      <td>3864.0</td>\n",
       "      <td>2576.0</td>\n",
       "      <td>1.00</td>\n",
       "    </tr>\n",
       "    <tr>\n",
       "      <th>alpha[1]</th>\n",
       "      <td>0.989</td>\n",
       "      <td>0.095</td>\n",
       "      <td>0.809</td>\n",
       "      <td>1.158</td>\n",
       "      <td>0.002</td>\n",
       "      <td>0.001</td>\n",
       "      <td>3640.0</td>\n",
       "      <td>3481.0</td>\n",
       "      <td>3622.0</td>\n",
       "      <td>2359.0</td>\n",
       "      <td>1.00</td>\n",
       "    </tr>\n",
       "    <tr>\n",
       "      <th>alpha[2]</th>\n",
       "      <td>1.500</td>\n",
       "      <td>0.273</td>\n",
       "      <td>1.000</td>\n",
       "      <td>2.016</td>\n",
       "      <td>0.004</td>\n",
       "      <td>0.003</td>\n",
       "      <td>3833.0</td>\n",
       "      <td>3663.0</td>\n",
       "      <td>3814.0</td>\n",
       "      <td>2306.0</td>\n",
       "      <td>1.00</td>\n",
       "    </tr>\n",
       "    <tr>\n",
       "      <th>...</th>\n",
       "      <td>...</td>\n",
       "      <td>...</td>\n",
       "      <td>...</td>\n",
       "      <td>...</td>\n",
       "      <td>...</td>\n",
       "      <td>...</td>\n",
       "      <td>...</td>\n",
       "      <td>...</td>\n",
       "      <td>...</td>\n",
       "      <td>...</td>\n",
       "      <td>...</td>\n",
       "    </tr>\n",
       "    <tr>\n",
       "      <th>beta[83]</th>\n",
       "      <td>-0.663</td>\n",
       "      <td>0.285</td>\n",
       "      <td>-1.187</td>\n",
       "      <td>-0.095</td>\n",
       "      <td>0.005</td>\n",
       "      <td>0.004</td>\n",
       "      <td>3463.0</td>\n",
       "      <td>3142.0</td>\n",
       "      <td>3490.0</td>\n",
       "      <td>2096.0</td>\n",
       "      <td>1.00</td>\n",
       "    </tr>\n",
       "    <tr>\n",
       "      <th>beta[84]</th>\n",
       "      <td>-0.652</td>\n",
       "      <td>0.317</td>\n",
       "      <td>-1.218</td>\n",
       "      <td>-0.015</td>\n",
       "      <td>0.005</td>\n",
       "      <td>0.004</td>\n",
       "      <td>3718.0</td>\n",
       "      <td>2628.0</td>\n",
       "      <td>3776.0</td>\n",
       "      <td>2025.0</td>\n",
       "      <td>1.00</td>\n",
       "    </tr>\n",
       "    <tr>\n",
       "      <th>sig_alpha</th>\n",
       "      <td>0.326</td>\n",
       "      <td>0.047</td>\n",
       "      <td>0.245</td>\n",
       "      <td>0.419</td>\n",
       "      <td>0.001</td>\n",
       "      <td>0.001</td>\n",
       "      <td>1062.0</td>\n",
       "      <td>1062.0</td>\n",
       "      <td>1049.0</td>\n",
       "      <td>2056.0</td>\n",
       "      <td>1.00</td>\n",
       "    </tr>\n",
       "    <tr>\n",
       "      <th>sig_beta</th>\n",
       "      <td>0.295</td>\n",
       "      <td>0.104</td>\n",
       "      <td>0.098</td>\n",
       "      <td>0.473</td>\n",
       "      <td>0.008</td>\n",
       "      <td>0.006</td>\n",
       "      <td>175.0</td>\n",
       "      <td>175.0</td>\n",
       "      <td>167.0</td>\n",
       "      <td>217.0</td>\n",
       "      <td>1.01</td>\n",
       "    </tr>\n",
       "    <tr>\n",
       "      <th>eps</th>\n",
       "      <td>0.719</td>\n",
       "      <td>0.018</td>\n",
       "      <td>0.684</td>\n",
       "      <td>0.752</td>\n",
       "      <td>0.000</td>\n",
       "      <td>0.000</td>\n",
       "      <td>2525.0</td>\n",
       "      <td>2525.0</td>\n",
       "      <td>2504.0</td>\n",
       "      <td>2745.0</td>\n",
       "      <td>1.00</td>\n",
       "    </tr>\n",
       "  </tbody>\n",
       "</table>\n",
       "<p>175 rows × 11 columns</p>\n",
       "</div>"
      ],
      "text/plain": [
       "            mean     sd  hdi_3%  hdi_97%  mcse_mean  mcse_sd  ess_mean  \\\n",
       "mu_alpha   1.492  0.052   1.397    1.588      0.001    0.001    1498.0   \n",
       "mu_beta   -0.648  0.083  -0.803   -0.500      0.004    0.003     495.0   \n",
       "alpha[0]   1.204  0.250   0.711    1.658      0.004    0.003    3855.0   \n",
       "alpha[1]   0.989  0.095   0.809    1.158      0.002    0.001    3640.0   \n",
       "alpha[2]   1.500  0.273   1.000    2.016      0.004    0.003    3833.0   \n",
       "...          ...    ...     ...      ...        ...      ...       ...   \n",
       "beta[83]  -0.663  0.285  -1.187   -0.095      0.005    0.004    3463.0   \n",
       "beta[84]  -0.652  0.317  -1.218   -0.015      0.005    0.004    3718.0   \n",
       "sig_alpha  0.326  0.047   0.245    0.419      0.001    0.001    1062.0   \n",
       "sig_beta   0.295  0.104   0.098    0.473      0.008    0.006     175.0   \n",
       "eps        0.719  0.018   0.684    0.752      0.000    0.000    2525.0   \n",
       "\n",
       "           ess_sd  ess_bulk  ess_tail  r_hat  \n",
       "mu_alpha   1493.0    1497.0    2643.0   1.00  \n",
       "mu_beta     495.0     496.0    1328.0   1.00  \n",
       "alpha[0]   3783.0    3864.0    2576.0   1.00  \n",
       "alpha[1]   3481.0    3622.0    2359.0   1.00  \n",
       "alpha[2]   3663.0    3814.0    2306.0   1.00  \n",
       "...           ...       ...       ...    ...  \n",
       "beta[83]   3142.0    3490.0    2096.0   1.00  \n",
       "beta[84]   2628.0    3776.0    2025.0   1.00  \n",
       "sig_alpha  1062.0    1049.0    2056.0   1.00  \n",
       "sig_beta    175.0     167.0     217.0   1.01  \n",
       "eps        2525.0    2504.0    2745.0   1.00  \n",
       "\n",
       "[175 rows x 11 columns]"
      ]
     },
     "metadata": {},
     "output_type": "display_data"
    },
    {
     "data": {
      "application/javascript": [
       "\n",
       "            setTimeout(function() {\n",
       "                var nbb_cell_id = 19;\n",
       "                var nbb_unformatted_code = \"with hierarchical_radon_model:\\n    display(pm.summary(trace))\";\n",
       "                var nbb_formatted_code = \"with hierarchical_radon_model:\\n    display(pm.summary(trace))\";\n",
       "                var nbb_cells = Jupyter.notebook.get_cells();\n",
       "                for (var i = 0; i < nbb_cells.length; ++i) {\n",
       "                    if (nbb_cells[i].input_prompt_number == nbb_cell_id) {\n",
       "                        if (nbb_cells[i].get_text() == nbb_unformatted_code) {\n",
       "                             nbb_cells[i].set_text(nbb_formatted_code);\n",
       "                        }\n",
       "                        break;\n",
       "                    }\n",
       "                }\n",
       "            }, 500);\n",
       "            "
      ],
      "text/plain": [
       "<IPython.core.display.Javascript object>"
      ]
     },
     "metadata": {},
     "output_type": "display_data"
    }
   ],
   "source": [
    "with hierarchical_radon_model:\n",
    "    display(pm.summary(trace))"
   ]
  },
  {
   "cell_type": "markdown",
   "id": "extended-johns",
   "metadata": {},
   "source": [
    "## Multivariate Model - Synthetic Example\n",
    "\n",
    "### Data Model\n",
    "\n",
    "Suppose you have data from 2 different sites. \n",
    "\\begin{align*}\n",
    "y_{a, i} =  \\pmb{w}_{a}^\\textsf{T}\\pmb{x}_{a, i} + \\epsilon_{i}  \\;\\;\\;\\;\n",
    "y_{b, i} = \\pmb{w}_{b}^\\textsf{T}\\pmb{x}_{b, i} + \\epsilon_{i} \\\\\n",
    "\\end{align*}\n",
    "\n",
    "\n",
    "\n",
    "The data can be collected into a observation vector as follows:\n",
    "\\begin{align*}\n",
    "\\pmb{y} = {} & \\begin{bmatrix} \\pmb{y}_{a} \\\\   \\pmb{y}_{b} \\end{bmatrix} \\;\\;\\;\\;\n",
    "\\end{align*}\n",
    "\n",
    "where, the observations from the indiviual sites as\n",
    "\\begin{align*}\n",
    "\\pmb{y}_{a} = {} & \\begin{bmatrix}y_{a, 1} \\\\ \\vdots \\\\  y_{a, N_{a}}  \\end{bmatrix}  \\;\\;\\;\\;\n",
    "\\pmb{y}_{b} =  \\begin{bmatrix}y_{b, 1} \\\\ \\vdots \\\\  y_{b, N_{b}}  \\end{bmatrix} \\\\\n",
    "\\end{align*}\n",
    "\n",
    "#### Vectorised representation\n",
    "\n",
    "So the observations can be expressed as: \n",
    "\n",
    "\\begin{align*}\n",
    "\\pmb{y}_{a} = {} & \\pmb{X}_{a}\\pmb{w}_{a} + \\pmb{\\epsilon} \\;\\;\\;\\;\n",
    "\\pmb{y}_{b} =   \\pmb{X}_{b}\\pmb{w}_{b} + \\pmb{\\epsilon}  \\\\\n",
    "\\end{align*}\n",
    "\n",
    "The regressors (or inputs), $\\pmb{x}$ can be collected into a matrix \n",
    "\\begin{align*}\n",
    "\\pmb{X}_{a}= {} & \\begin{bmatrix} \\pmb{x}^\\textsf{T}_{a, 1} \\\\ \\vdots \\\\  \\pmb{x}^\\textsf{T}_{a, N_{a}}  \\end{bmatrix} \\;\\;\\;\\;\n",
    "\\pmb{X}_{b}=  \\begin{bmatrix} \\pmb{x}^\\textsf{T}_{b, 1} \\\\ \\vdots \\\\  \\pmb{x}^\\textsf{T}_{b, N_{b}}  \\end{bmatrix} \\\\\n",
    "\\end{align*}\n",
    "\n",
    "and the data from the 2 sites, $a$ and $b$ can be augmented as, \n",
    "$\n",
    "\\begin{align*}\n",
    "\\pmb{X} = {} & \\begin{bmatrix} \\pmb{X}_{a} \\\\   \\pmb{X}_{b} \\end{bmatrix}.\n",
    "\\end{align*}\n",
    "$"
   ]
  },
  {
   "cell_type": "code",
   "execution_count": 20,
   "id": "elder-meaning",
   "metadata": {},
   "outputs": [
    {
     "data": {
      "application/javascript": [
       "\n",
       "            setTimeout(function() {\n",
       "                var nbb_cell_id = 20;\n",
       "                var nbb_unformatted_code = \"n = 1000\\nw_opt_a = np.array([1, 3.5, 6])\\nw_opt_b = np.array([-1, -3.5, -6])\\nm = len(w_opt_a)\\n\\nX = stats.norm.rvs(size=(n * 2, m), loc=0, scale=1)\\n\\nX_a, X_b = X[0:n], X[n:]\\n\\n\\ny = np.append((X_a @ w_opt_a), (X_b @ w_opt_b)) + stats.norm.rvs(\\n    size=n * 2, loc=0, scale=0.5\\n)\";\n",
       "                var nbb_formatted_code = \"n = 1000\\nw_opt_a = np.array([1, 3.5, 6])\\nw_opt_b = np.array([-1, -3.5, -6])\\nm = len(w_opt_a)\\n\\nX = stats.norm.rvs(size=(n * 2, m), loc=0, scale=1)\\n\\nX_a, X_b = X[0:n], X[n:]\\n\\n\\ny = np.append((X_a @ w_opt_a), (X_b @ w_opt_b)) + stats.norm.rvs(\\n    size=n * 2, loc=0, scale=0.5\\n)\";\n",
       "                var nbb_cells = Jupyter.notebook.get_cells();\n",
       "                for (var i = 0; i < nbb_cells.length; ++i) {\n",
       "                    if (nbb_cells[i].input_prompt_number == nbb_cell_id) {\n",
       "                        if (nbb_cells[i].get_text() == nbb_unformatted_code) {\n",
       "                             nbb_cells[i].set_text(nbb_formatted_code);\n",
       "                        }\n",
       "                        break;\n",
       "                    }\n",
       "                }\n",
       "            }, 500);\n",
       "            "
      ],
      "text/plain": [
       "<IPython.core.display.Javascript object>"
      ]
     },
     "metadata": {},
     "output_type": "display_data"
    }
   ],
   "source": [
    "n = 1000\n",
    "w_opt_a = np.array([1, 3.5, 6])\n",
    "w_opt_b = np.array([-1, -3.5, -6])\n",
    "m = len(w_opt_a)\n",
    "\n",
    "X = stats.norm.rvs(size=(n * 2, m), loc=0, scale=1)\n",
    "\n",
    "X_a, X_b = X[0:n], X[n:]\n",
    "\n",
    "\n",
    "y = np.append((X_a @ w_opt_a), (X_b @ w_opt_b)) + stats.norm.rvs(\n",
    "    size=n * 2, loc=0, scale=0.5\n",
    ")"
   ]
  },
  {
   "cell_type": "markdown",
   "id": "spanish-cambodia",
   "metadata": {},
   "source": [
    "### 1. Pooled Model \n",
    "\n",
    "The pooled model considers both the data set (Least squares solution)\n",
    "\n",
    "\\begin{align*}\n",
    "\\hat{\\pmb{w}}_{\\textsf{pooled}} = {} & \\left(\\pmb{X}^\\textsf{T} \\pmb{X} \\right)^{-1} \\pmb{X}^\\textsf{T}\\pmb{y}\n",
    "\\end{align*}"
   ]
  },
  {
   "cell_type": "code",
   "execution_count": 21,
   "id": "material-thong",
   "metadata": {},
   "outputs": [
    {
     "name": "stdout",
     "output_type": "stream",
     "text": [
      "Direct computation [-0.18961844  0.14853917 -0.07994343]\n",
      "Sklearn Linear Regession [-0.18961844  0.14853917 -0.07994343]\n"
     ]
    },
    {
     "data": {
      "application/javascript": [
       "\n",
       "            setTimeout(function() {\n",
       "                var nbb_cell_id = 21;\n",
       "                var nbb_unformatted_code = \"w = np.linalg.inv((X.T @ X)) @ (X.T @ y)\\nprint(\\\"Direct computation\\\", w)\\n\\nlin_mod = LinearRegression(fit_intercept=False)\\nlin_mod.fit(X, y)\\nprint(\\\"Sklearn Linear Regession\\\", lin_mod.coef_)\";\n",
       "                var nbb_formatted_code = \"w = np.linalg.inv((X.T @ X)) @ (X.T @ y)\\nprint(\\\"Direct computation\\\", w)\\n\\nlin_mod = LinearRegression(fit_intercept=False)\\nlin_mod.fit(X, y)\\nprint(\\\"Sklearn Linear Regession\\\", lin_mod.coef_)\";\n",
       "                var nbb_cells = Jupyter.notebook.get_cells();\n",
       "                for (var i = 0; i < nbb_cells.length; ++i) {\n",
       "                    if (nbb_cells[i].input_prompt_number == nbb_cell_id) {\n",
       "                        if (nbb_cells[i].get_text() == nbb_unformatted_code) {\n",
       "                             nbb_cells[i].set_text(nbb_formatted_code);\n",
       "                        }\n",
       "                        break;\n",
       "                    }\n",
       "                }\n",
       "            }, 500);\n",
       "            "
      ],
      "text/plain": [
       "<IPython.core.display.Javascript object>"
      ]
     },
     "metadata": {},
     "output_type": "display_data"
    }
   ],
   "source": [
    "w = np.linalg.inv((X.T @ X)) @ (X.T @ y)\n",
    "print(\"Direct computation\", w)\n",
    "\n",
    "lin_mod = LinearRegression(fit_intercept=False)\n",
    "lin_mod.fit(X, y)\n",
    "print(\"Sklearn Linear Regession\", lin_mod.coef_)"
   ]
  },
  {
   "cell_type": "markdown",
   "id": "given-celebration",
   "metadata": {},
   "source": [
    "#### Pooled Model (Bayesian)"
   ]
  },
  {
   "cell_type": "code",
   "execution_count": 22,
   "id": "sharp-evolution",
   "metadata": {},
   "outputs": [
    {
     "name": "stderr",
     "output_type": "stream",
     "text": [
      "Auto-assigning NUTS sampler...\n",
      "Initializing NUTS using jitter+adapt_diag...\n",
      "Multiprocess sampling (2 chains in 2 jobs)\n",
      "NUTS: [sigma, w]\n"
     ]
    },
    {
     "data": {
      "text/html": [
       "\n",
       "    <div>\n",
       "        <style>\n",
       "            /* Turns off some styling */\n",
       "            progress {\n",
       "                /* gets rid of default border in Firefox and Opera. */\n",
       "                border: none;\n",
       "                /* Needs to be in here for Safari polyfill so background images work as expected. */\n",
       "                background-size: auto;\n",
       "            }\n",
       "            .progress-bar-interrupted, .progress-bar-interrupted::-webkit-progress-bar {\n",
       "                background: #F44336;\n",
       "            }\n",
       "        </style>\n",
       "      <progress value='4000' class='' max='4000' style='width:300px; height:20px; vertical-align: middle;'></progress>\n",
       "      100.00% [4000/4000 00:19<00:00 Sampling 2 chains, 0 divergences]\n",
       "    </div>\n",
       "    "
      ],
      "text/plain": [
       "<IPython.core.display.HTML object>"
      ]
     },
     "metadata": {},
     "output_type": "display_data"
    },
    {
     "name": "stderr",
     "output_type": "stream",
     "text": [
      "Sampling 2 chains for 1_000 tune and 1_000 draw iterations (2_000 + 2_000 draws total) took 36 seconds.\n"
     ]
    },
    {
     "data": {
      "application/javascript": [
       "\n",
       "            setTimeout(function() {\n",
       "                var nbb_cell_id = 22;\n",
       "                var nbb_unformatted_code = \"with pm.Model() as mod:\\n    w_ = pm.Normal(name=\\\"w\\\", mu=0, sigma=10, shape=m)\\n    sigma = pm.InverseGamma(\\\"sigma\\\", mu=1, sigma=10)\\n    obs = pm.Normal(name=\\\"obs\\\", observed=y, mu=X @ w_, sigma=sigma)\\n    trace = pm.sample(draws=1000)\";\n",
       "                var nbb_formatted_code = \"with pm.Model() as mod:\\n    w_ = pm.Normal(name=\\\"w\\\", mu=0, sigma=10, shape=m)\\n    sigma = pm.InverseGamma(\\\"sigma\\\", mu=1, sigma=10)\\n    obs = pm.Normal(name=\\\"obs\\\", observed=y, mu=X @ w_, sigma=sigma)\\n    trace = pm.sample(draws=1000)\";\n",
       "                var nbb_cells = Jupyter.notebook.get_cells();\n",
       "                for (var i = 0; i < nbb_cells.length; ++i) {\n",
       "                    if (nbb_cells[i].input_prompt_number == nbb_cell_id) {\n",
       "                        if (nbb_cells[i].get_text() == nbb_unformatted_code) {\n",
       "                             nbb_cells[i].set_text(nbb_formatted_code);\n",
       "                        }\n",
       "                        break;\n",
       "                    }\n",
       "                }\n",
       "            }, 500);\n",
       "            "
      ],
      "text/plain": [
       "<IPython.core.display.Javascript object>"
      ]
     },
     "metadata": {},
     "output_type": "display_data"
    }
   ],
   "source": [
    "with pm.Model() as mod:\n",
    "    w_ = pm.Normal(name=\"w\", mu=0, sigma=10, shape=m)\n",
    "    sigma = pm.InverseGamma(\"sigma\", mu=1, sigma=10)\n",
    "    obs = pm.Normal(name=\"obs\", observed=y, mu=X @ w_, sigma=sigma)\n",
    "    trace = pm.sample(draws=1000)"
   ]
  },
  {
   "cell_type": "code",
   "execution_count": 23,
   "id": "great-liechtenstein",
   "metadata": {
    "scrolled": false
   },
   "outputs": [
    {
     "name": "stderr",
     "output_type": "stream",
     "text": [
      "/opt/anaconda3/envs/homework/lib/python3.7/site-packages/arviz/data/io_pymc3.py:92: FutureWarning: Using `from_pymc3` without the model will be deprecated in a future release. Not using the model will return less accurate and less useful results. Make sure you use the model argument or call from_pymc3 within a model context.\n",
      "  FutureWarning,\n"
     ]
    },
    {
     "data": {
      "image/png": "[encoded data removed]",
      "text/plain": [
       "<Figure size 3974.4x414 with 4 Axes>"
      ]
     },
     "metadata": {
      "needs_background": "light"
     },
     "output_type": "display_data"
    },
    {
     "data": {
      "application/javascript": [
       "\n",
       "            setTimeout(function() {\n",
       "                var nbb_cell_id = 23;\n",
       "                var nbb_unformatted_code = \"pm.plot_posterior(trace)\\nplt.show()\";\n",
       "                var nbb_formatted_code = \"pm.plot_posterior(trace)\\nplt.show()\";\n",
       "                var nbb_cells = Jupyter.notebook.get_cells();\n",
       "                for (var i = 0; i < nbb_cells.length; ++i) {\n",
       "                    if (nbb_cells[i].input_prompt_number == nbb_cell_id) {\n",
       "                        if (nbb_cells[i].get_text() == nbb_unformatted_code) {\n",
       "                             nbb_cells[i].set_text(nbb_formatted_code);\n",
       "                        }\n",
       "                        break;\n",
       "                    }\n",
       "                }\n",
       "            }, 500);\n",
       "            "
      ],
      "text/plain": [
       "<IPython.core.display.Javascript object>"
      ]
     },
     "metadata": {},
     "output_type": "display_data"
    }
   ],
   "source": [
    "pm.plot_posterior(trace)\n",
    "plt.show()"
   ]
  },
  {
   "cell_type": "code",
   "execution_count": null,
   "id": "certain-swimming",
   "metadata": {},
   "outputs": [],
   "source": []
  },
  {
   "cell_type": "markdown",
   "id": "threaded-pipeline",
   "metadata": {},
   "source": [
    "### 2. Unpooled Model "
   ]
  },
  {
   "cell_type": "markdown",
   "id": "indie-diving",
   "metadata": {},
   "source": [
    "#### Representation  \n",
    "\n",
    "Since, we'd like to estimate the individual parameters from site $a$ & $b$, the 2 vectors can be augmented as\n",
    "$\n",
    "\\begin{align*}\n",
    "\\hat{\\pmb{w}} =  \\begin{bmatrix}  \\hat{\\pmb{w}}_a  ,   \\hat{\\pmb{w}}_b\\end{bmatrix} \n",
    "\\end{align*}\n",
    "$ to give us a $(M \\times 2)$ matrix\n",
    "\n",
    "As seen before the regressors can be augmened into a $(N_a + N_b) \\times m$ matrix,\n",
    "$\n",
    "\\begin{align*}\n",
    "\\pmb{X} = {} & \\begin{bmatrix} \\pmb{X}_{a} \\\\   \\pmb{X}_{b} \\end{bmatrix}. \n",
    "\\end{align*}\n",
    "$\n",
    "\n",
    "To get to our observations, we first multiple the regressors and the regression coefficients as follows\n",
    "\n",
    "\\begin{align*}\n",
    "\\tilde{\\pmb{y}} = {} & \\pmb{X} \\hat{\\pmb{w}}   \\\\\n",
    " = {} & \\begin{bmatrix} \\pmb{X}_{a} \\\\   \\pmb{X}_{b} \\end{bmatrix} \\begin{bmatrix}  \\hat{\\pmb{w}}_a  ,   \\hat{\\pmb{w}}_b\\end{bmatrix} \\\\\n",
    "  = {} & \\begin{bmatrix} \\hat{\\pmb{y}}_{a}, \\ \\tilde{\\pmb{y}}_{ab} \\\\  \\tilde{\\pmb{y}}_{ba}, \\hat{\\pmb{y}}_{b} \\end{bmatrix} \n",
    "\\end{align*}\n",
    "\n",
    "This gives us an augmented observation matrix of size $(N_a + N_b) \\times 2$. Recall that our observations are a _vector_ of the size $(N_a + N_b) \\times 1$, i.e.\n",
    "\n",
    "\\begin{align*}\n",
    "\\hat{\\pmb{y}} = {} & \\begin{bmatrix} \\hat{\\pmb{y}}_{a} \\\\ \\hat{\\pmb{y}}_{b} \\end{bmatrix} \n",
    "\\end{align*}\n",
    "\n",
    "So, to extract a the observation vector $\\hat{\\pmb{y}}$ from the augmented matrix $\\tilde{\\pmb{y}}$, we need to access the \n",
    "correct elements: \n",
    "\\begin{align*}\n",
    "\\hat{\\pmb{y}} = {} & \\tilde{\\pmb{y}}\\textsf{.iloc}\\left( \\begin{bmatrix} 0 & 0 \\\\ 1 & 0 \\\\ \\vdots & 0 \\\\ N_a & 0 \\\\ N_a + 1 & 1 \\\\ N_a + 2 & 1 \\\\ \\vdots & 1 \\\\ N_a + N_b & 1 \\end{bmatrix}  \\right)\n",
    "\\end{align*}\n",
    "\n"
   ]
  },
  {
   "cell_type": "code",
   "execution_count": 24,
   "id": "reported-archives",
   "metadata": {},
   "outputs": [
    {
     "name": "stderr",
     "output_type": "stream",
     "text": [
      "/opt/anaconda3/envs/homework/lib/python3.7/site-packages/theano/tensor/subtensor.py:2197: FutureWarning: Using a non-tuple sequence for multidimensional indexing is deprecated; use `arr[tuple(seq)]` instead of `arr[seq]`. In the future this will be interpreted as an array index, `arr[np.array(seq)]`, which will result either in an error or a different result.\n",
      "  rval = inputs[0].__getitem__(inputs[1:])\n",
      "Auto-assigning NUTS sampler...\n",
      "Initializing NUTS using jitter+adapt_diag...\n",
      "/opt/anaconda3/envs/homework/lib/python3.7/site-packages/theano/tensor/subtensor.py:2197: FutureWarning: Using a non-tuple sequence for multidimensional indexing is deprecated; use `arr[tuple(seq)]` instead of `arr[seq]`. In the future this will be interpreted as an array index, `arr[np.array(seq)]`, which will result either in an error or a different result.\n",
      "  rval = inputs[0].__getitem__(inputs[1:])\n",
      "Multiprocess sampling (2 chains in 2 jobs)\n",
      "NUTS: [sigma, w]\n"
     ]
    },
    {
     "data": {
      "text/html": [
       "\n",
       "    <div>\n",
       "        <style>\n",
       "            /* Turns off some styling */\n",
       "            progress {\n",
       "                /* gets rid of default border in Firefox and Opera. */\n",
       "                border: none;\n",
       "                /* Needs to be in here for Safari polyfill so background images work as expected. */\n",
       "                background-size: auto;\n",
       "            }\n",
       "            .progress-bar-interrupted, .progress-bar-interrupted::-webkit-progress-bar {\n",
       "                background: #F44336;\n",
       "            }\n",
       "        </style>\n",
       "      <progress value='5000' class='' max='5000' style='width:300px; height:20px; vertical-align: middle;'></progress>\n",
       "      100.00% [5000/5000 00:37<00:00 Sampling 2 chains, 0 divergences]\n",
       "    </div>\n",
       "    "
      ],
      "text/plain": [
       "<IPython.core.display.HTML object>"
      ]
     },
     "metadata": {},
     "output_type": "display_data"
    },
    {
     "name": "stderr",
     "output_type": "stream",
     "text": [
      "Sampling 2 chains for 1_000 tune and 1_500 draw iterations (2_000 + 3_000 draws total) took 54 seconds.\n",
      "/opt/anaconda3/envs/homework/lib/python3.7/site-packages/theano/tensor/subtensor.py:2197: FutureWarning: Using a non-tuple sequence for multidimensional indexing is deprecated; use `arr[tuple(seq)]` instead of `arr[seq]`. In the future this will be interpreted as an array index, `arr[np.array(seq)]`, which will result either in an error or a different result.\n",
      "  rval = inputs[0].__getitem__(inputs[1:])\n"
     ]
    },
    {
     "data": {
      "application/javascript": [
       "\n",
       "            setTimeout(function() {\n",
       "                var nbb_cell_id = 24;\n",
       "                var nbb_unformatted_code = \"index_cols = tuple(np.append(\\n    np.zeros(len(X_a), dtype=np.int8), np.ones(len(X_b), dtype=np.int8)\\n))\\nindex_rows = tuple(np.arange(len(X_a) + len(X_b)))\\n\\nwith pm.Model() as ind_mod:\\n    # Prior\\n    # -> Individial priors\\n    w_ind = pm.Normal(name=\\\"w\\\", mu=0, sigma=10, shape=(m, 2))\\n    sigma = pm.InverseGamma(\\\"sigma\\\", mu=1, sigma=10)\\n\\n    # Likelihood\\n    mu = (X @ w_ind)[index_rows, index_cols]\\n    obs = pm.Normal(name=\\\"obs\\\", observed=y, mu=mu, sigma=sigma)\\n    \\n    # Sample from the posterior\\n    trace = pm.sample(draws=1500)\";\n",
       "                var nbb_formatted_code = \"index_cols = tuple(\\n    np.append(np.zeros(len(X_a), dtype=np.int8), np.ones(len(X_b), dtype=np.int8))\\n)\\nindex_rows = tuple(np.arange(len(X_a) + len(X_b)))\\n\\nwith pm.Model() as ind_mod:\\n    # Prior\\n    # -> Individial priors\\n    w_ind = pm.Normal(name=\\\"w\\\", mu=0, sigma=10, shape=(m, 2))\\n    sigma = pm.InverseGamma(\\\"sigma\\\", mu=1, sigma=10)\\n\\n    # Likelihood\\n    mu = (X @ w_ind)[index_rows, index_cols]\\n    obs = pm.Normal(name=\\\"obs\\\", observed=y, mu=mu, sigma=sigma)\\n\\n    # Sample from the posterior\\n    trace = pm.sample(draws=1500)\";\n",
       "                var nbb_cells = Jupyter.notebook.get_cells();\n",
       "                for (var i = 0; i < nbb_cells.length; ++i) {\n",
       "                    if (nbb_cells[i].input_prompt_number == nbb_cell_id) {\n",
       "                        if (nbb_cells[i].get_text() == nbb_unformatted_code) {\n",
       "                             nbb_cells[i].set_text(nbb_formatted_code);\n",
       "                        }\n",
       "                        break;\n",
       "                    }\n",
       "                }\n",
       "            }, 500);\n",
       "            "
      ],
      "text/plain": [
       "<IPython.core.display.Javascript object>"
      ]
     },
     "metadata": {},
     "output_type": "display_data"
    }
   ],
   "source": [
    "index_cols = tuple(\n",
    "    np.append(np.zeros(len(X_a), dtype=np.int8), np.ones(len(X_b), dtype=np.int8))\n",
    ")\n",
    "index_rows = tuple(np.arange(len(X_a) + len(X_b)))\n",
    "\n",
    "with pm.Model() as ind_mod:\n",
    "    # Prior\n",
    "    # -> Individial priors\n",
    "    w_ind = pm.Normal(name=\"w\", mu=0, sigma=10, shape=(m, 2))\n",
    "    sigma = pm.InverseGamma(\"sigma\", mu=1, sigma=10)\n",
    "\n",
    "    # Likelihood\n",
    "    mu = (X @ w_ind)[index_rows, index_cols]\n",
    "    obs = pm.Normal(name=\"obs\", observed=y, mu=mu, sigma=sigma)\n",
    "\n",
    "    # Sample from the posterior\n",
    "    trace = pm.sample(draws=1500)"
   ]
  },
  {
   "cell_type": "code",
   "execution_count": null,
   "id": "minute-electricity",
   "metadata": {
    "scrolled": false
   },
   "outputs": [],
   "source": []
  },
  {
   "cell_type": "code",
   "execution_count": 25,
   "id": "subjective-utilization",
   "metadata": {},
   "outputs": [
    {
     "data": {
      "text/plain": [
       "(3000, 3, 2)"
      ]
     },
     "execution_count": 25,
     "metadata": {},
     "output_type": "execute_result"
    },
    {
     "data": {
      "application/javascript": [
       "\n",
       "            setTimeout(function() {\n",
       "                var nbb_cell_id = 25;\n",
       "                var nbb_unformatted_code = \"trace.get_values(varname=\\\"w\\\").shape\";\n",
       "                var nbb_formatted_code = \"trace.get_values(varname=\\\"w\\\").shape\";\n",
       "                var nbb_cells = Jupyter.notebook.get_cells();\n",
       "                for (var i = 0; i < nbb_cells.length; ++i) {\n",
       "                    if (nbb_cells[i].input_prompt_number == nbb_cell_id) {\n",
       "                        if (nbb_cells[i].get_text() == nbb_unformatted_code) {\n",
       "                             nbb_cells[i].set_text(nbb_formatted_code);\n",
       "                        }\n",
       "                        break;\n",
       "                    }\n",
       "                }\n",
       "            }, 500);\n",
       "            "
      ],
      "text/plain": [
       "<IPython.core.display.Javascript object>"
      ]
     },
     "metadata": {},
     "output_type": "display_data"
    }
   ],
   "source": [
    "trace.get_values(varname=\"w\").shape"
   ]
  },
  {
   "cell_type": "code",
   "execution_count": 26,
   "id": "broke-texas",
   "metadata": {},
   "outputs": [
    {
     "name": "stderr",
     "output_type": "stream",
     "text": [
      "/opt/anaconda3/envs/homework/lib/python3.7/site-packages/arviz/data/io_pymc3.py:92: FutureWarning: Using `from_pymc3` without the model will be deprecated in a future release. Not using the model will return less accurate and less useful results. Make sure you use the model argument or call from_pymc3 within a model context.\n",
      "  FutureWarning,\n",
      "/opt/anaconda3/envs/homework/lib/python3.7/site-packages/theano/tensor/subtensor.py:2197: FutureWarning: Using a non-tuple sequence for multidimensional indexing is deprecated; use `arr[tuple(seq)]` instead of `arr[seq]`. In the future this will be interpreted as an array index, `arr[np.array(seq)]`, which will result either in an error or a different result.\n",
      "  rval = inputs[0].__getitem__(inputs[1:])\n"
     ]
    },
    {
     "data": {
      "image/png": "[encoded data removed]",
      "text/plain": [
       "<Figure size 2980.8x828 with 6 Axes>"
      ]
     },
     "metadata": {
      "needs_background": "light"
     },
     "output_type": "display_data"
    },
    {
     "data": {
      "application/javascript": [
       "\n",
       "            setTimeout(function() {\n",
       "                var nbb_cell_id = 26;\n",
       "                var nbb_unformatted_code = \"pm.plot_posterior(trace, var_names=[\\\"w\\\"])\\nplt.show()\";\n",
       "                var nbb_formatted_code = \"pm.plot_posterior(trace, var_names=[\\\"w\\\"])\\nplt.show()\";\n",
       "                var nbb_cells = Jupyter.notebook.get_cells();\n",
       "                for (var i = 0; i < nbb_cells.length; ++i) {\n",
       "                    if (nbb_cells[i].input_prompt_number == nbb_cell_id) {\n",
       "                        if (nbb_cells[i].get_text() == nbb_unformatted_code) {\n",
       "                             nbb_cells[i].set_text(nbb_formatted_code);\n",
       "                        }\n",
       "                        break;\n",
       "                    }\n",
       "                }\n",
       "            }, 500);\n",
       "            "
      ],
      "text/plain": [
       "<IPython.core.display.Javascript object>"
      ]
     },
     "metadata": {},
     "output_type": "display_data"
    }
   ],
   "source": [
    "pm.plot_posterior(trace, var_names=[\"w\"])\n",
    "plt.show()"
   ]
  },
  {
   "cell_type": "code",
   "execution_count": 27,
   "id": "apparent-kitchen",
   "metadata": {
    "scrolled": false
   },
   "outputs": [
    {
     "name": "stderr",
     "output_type": "stream",
     "text": [
      "/opt/anaconda3/envs/homework/lib/python3.7/site-packages/theano/tensor/subtensor.py:2197: FutureWarning: Using a non-tuple sequence for multidimensional indexing is deprecated; use `arr[tuple(seq)]` instead of `arr[seq]`. In the future this will be interpreted as an array index, `arr[np.array(seq)]`, which will result either in an error or a different result.\n",
      "  rval = inputs[0].__getitem__(inputs[1:])\n"
     ]
    },
    {
     "data": {
      "text/html": [
       "<div>\n",
       "<style scoped>\n",
       "    .dataframe tbody tr th:only-of-type {\n",
       "        vertical-align: middle;\n",
       "    }\n",
       "\n",
       "    .dataframe tbody tr th {\n",
       "        vertical-align: top;\n",
       "    }\n",
       "\n",
       "    .dataframe thead th {\n",
       "        text-align: right;\n",
       "    }\n",
       "</style>\n",
       "<table border=\"1\" class=\"dataframe\">\n",
       "  <thead>\n",
       "    <tr style=\"text-align: right;\">\n",
       "      <th></th>\n",
       "      <th>mean</th>\n",
       "      <th>sd</th>\n",
       "      <th>hdi_3%</th>\n",
       "      <th>hdi_97%</th>\n",
       "      <th>mcse_mean</th>\n",
       "      <th>mcse_sd</th>\n",
       "      <th>ess_mean</th>\n",
       "      <th>ess_sd</th>\n",
       "      <th>ess_bulk</th>\n",
       "      <th>ess_tail</th>\n",
       "      <th>r_hat</th>\n",
       "    </tr>\n",
       "  </thead>\n",
       "  <tbody>\n",
       "    <tr>\n",
       "      <th>w[0,0]</th>\n",
       "      <td>1.003</td>\n",
       "      <td>0.016</td>\n",
       "      <td>0.975</td>\n",
       "      <td>1.033</td>\n",
       "      <td>0.0</td>\n",
       "      <td>0.0</td>\n",
       "      <td>5019.0</td>\n",
       "      <td>5019.0</td>\n",
       "      <td>4981.0</td>\n",
       "      <td>2249.0</td>\n",
       "      <td>1.0</td>\n",
       "    </tr>\n",
       "    <tr>\n",
       "      <th>w[0,1]</th>\n",
       "      <td>-0.987</td>\n",
       "      <td>0.016</td>\n",
       "      <td>-1.017</td>\n",
       "      <td>-0.959</td>\n",
       "      <td>0.0</td>\n",
       "      <td>0.0</td>\n",
       "      <td>5383.0</td>\n",
       "      <td>5377.0</td>\n",
       "      <td>5391.0</td>\n",
       "      <td>2381.0</td>\n",
       "      <td>1.0</td>\n",
       "    </tr>\n",
       "    <tr>\n",
       "      <th>w[1,0]</th>\n",
       "      <td>3.492</td>\n",
       "      <td>0.016</td>\n",
       "      <td>3.463</td>\n",
       "      <td>3.524</td>\n",
       "      <td>0.0</td>\n",
       "      <td>0.0</td>\n",
       "      <td>5000.0</td>\n",
       "      <td>5000.0</td>\n",
       "      <td>5013.0</td>\n",
       "      <td>2216.0</td>\n",
       "      <td>1.0</td>\n",
       "    </tr>\n",
       "    <tr>\n",
       "      <th>w[1,1]</th>\n",
       "      <td>-3.472</td>\n",
       "      <td>0.016</td>\n",
       "      <td>-3.502</td>\n",
       "      <td>-3.440</td>\n",
       "      <td>0.0</td>\n",
       "      <td>0.0</td>\n",
       "      <td>5018.0</td>\n",
       "      <td>5016.0</td>\n",
       "      <td>5001.0</td>\n",
       "      <td>2245.0</td>\n",
       "      <td>1.0</td>\n",
       "    </tr>\n",
       "    <tr>\n",
       "      <th>w[2,0]</th>\n",
       "      <td>5.960</td>\n",
       "      <td>0.017</td>\n",
       "      <td>5.928</td>\n",
       "      <td>5.990</td>\n",
       "      <td>0.0</td>\n",
       "      <td>0.0</td>\n",
       "      <td>5801.0</td>\n",
       "      <td>5801.0</td>\n",
       "      <td>5801.0</td>\n",
       "      <td>2165.0</td>\n",
       "      <td>1.0</td>\n",
       "    </tr>\n",
       "    <tr>\n",
       "      <th>w[2,1]</th>\n",
       "      <td>-6.004</td>\n",
       "      <td>0.016</td>\n",
       "      <td>-6.034</td>\n",
       "      <td>-5.975</td>\n",
       "      <td>0.0</td>\n",
       "      <td>0.0</td>\n",
       "      <td>6355.0</td>\n",
       "      <td>6351.0</td>\n",
       "      <td>6301.0</td>\n",
       "      <td>2566.0</td>\n",
       "      <td>1.0</td>\n",
       "    </tr>\n",
       "    <tr>\n",
       "      <th>sigma</th>\n",
       "      <td>0.509</td>\n",
       "      <td>0.008</td>\n",
       "      <td>0.494</td>\n",
       "      <td>0.524</td>\n",
       "      <td>0.0</td>\n",
       "      <td>0.0</td>\n",
       "      <td>5640.0</td>\n",
       "      <td>5640.0</td>\n",
       "      <td>5627.0</td>\n",
       "      <td>2238.0</td>\n",
       "      <td>1.0</td>\n",
       "    </tr>\n",
       "  </tbody>\n",
       "</table>\n",
       "</div>"
      ],
      "text/plain": [
       "         mean     sd  hdi_3%  hdi_97%  mcse_mean  mcse_sd  ess_mean  ess_sd  \\\n",
       "w[0,0]  1.003  0.016   0.975    1.033        0.0      0.0    5019.0  5019.0   \n",
       "w[0,1] -0.987  0.016  -1.017   -0.959        0.0      0.0    5383.0  5377.0   \n",
       "w[1,0]  3.492  0.016   3.463    3.524        0.0      0.0    5000.0  5000.0   \n",
       "w[1,1] -3.472  0.016  -3.502   -3.440        0.0      0.0    5018.0  5016.0   \n",
       "w[2,0]  5.960  0.017   5.928    5.990        0.0      0.0    5801.0  5801.0   \n",
       "w[2,1] -6.004  0.016  -6.034   -5.975        0.0      0.0    6355.0  6351.0   \n",
       "sigma   0.509  0.008   0.494    0.524        0.0      0.0    5640.0  5640.0   \n",
       "\n",
       "        ess_bulk  ess_tail  r_hat  \n",
       "w[0,0]    4981.0    2249.0    1.0  \n",
       "w[0,1]    5391.0    2381.0    1.0  \n",
       "w[1,0]    5013.0    2216.0    1.0  \n",
       "w[1,1]    5001.0    2245.0    1.0  \n",
       "w[2,0]    5801.0    2165.0    1.0  \n",
       "w[2,1]    6301.0    2566.0    1.0  \n",
       "sigma     5627.0    2238.0    1.0  "
      ]
     },
     "metadata": {},
     "output_type": "display_data"
    },
    {
     "data": {
      "application/javascript": [
       "\n",
       "            setTimeout(function() {\n",
       "                var nbb_cell_id = 27;\n",
       "                var nbb_unformatted_code = \"with ind_mod:\\n    display(pm.summary(trace))\";\n",
       "                var nbb_formatted_code = \"with ind_mod:\\n    display(pm.summary(trace))\";\n",
       "                var nbb_cells = Jupyter.notebook.get_cells();\n",
       "                for (var i = 0; i < nbb_cells.length; ++i) {\n",
       "                    if (nbb_cells[i].input_prompt_number == nbb_cell_id) {\n",
       "                        if (nbb_cells[i].get_text() == nbb_unformatted_code) {\n",
       "                             nbb_cells[i].set_text(nbb_formatted_code);\n",
       "                        }\n",
       "                        break;\n",
       "                    }\n",
       "                }\n",
       "            }, 500);\n",
       "            "
      ],
      "text/plain": [
       "<IPython.core.display.Javascript object>"
      ]
     },
     "metadata": {},
     "output_type": "display_data"
    }
   ],
   "source": [
    "with ind_mod:\n",
    "    display(pm.summary(trace))"
   ]
  },
  {
   "cell_type": "markdown",
   "id": "premier-steam",
   "metadata": {},
   "source": [
    "### 3. Hierarchical Model "
   ]
  },
  {
   "cell_type": "code",
   "execution_count": null,
   "id": "concrete-gnome",
   "metadata": {},
   "outputs": [
    {
     "name": "stderr",
     "output_type": "stream",
     "text": [
      "/opt/anaconda3/envs/homework/lib/python3.7/site-packages/theano/tensor/subtensor.py:2197: FutureWarning: Using a non-tuple sequence for multidimensional indexing is deprecated; use `arr[tuple(seq)]` instead of `arr[seq]`. In the future this will be interpreted as an array index, `arr[np.array(seq)]`, which will result either in an error or a different result.\n",
      "  rval = inputs[0].__getitem__(inputs[1:])\n",
      "Auto-assigning NUTS sampler...\n",
      "Initializing NUTS using jitter+adapt_diag...\n",
      "/opt/anaconda3/envs/homework/lib/python3.7/site-packages/theano/tensor/subtensor.py:2197: FutureWarning: Using a non-tuple sequence for multidimensional indexing is deprecated; use `arr[tuple(seq)]` instead of `arr[seq]`. In the future this will be interpreted as an array index, `arr[np.array(seq)]`, which will result either in an error or a different result.\n",
      "  rval = inputs[0].__getitem__(inputs[1:])\n",
      "Multiprocess sampling (2 chains in 2 jobs)\n",
      "NUTS: [sigma, w, sigma_w, mu_w]\n"
     ]
    },
    {
     "data": {
      "text/html": [
       "\n",
       "    <div>\n",
       "        <style>\n",
       "            /* Turns off some styling */\n",
       "            progress {\n",
       "                /* gets rid of default border in Firefox and Opera. */\n",
       "                border: none;\n",
       "                /* Needs to be in here for Safari polyfill so background images work as expected. */\n",
       "                background-size: auto;\n",
       "            }\n",
       "            .progress-bar-interrupted, .progress-bar-interrupted::-webkit-progress-bar {\n",
       "                background: #F44336;\n",
       "            }\n",
       "        </style>\n",
       "      <progress value='1728' class='' max='5000' style='width:300px; height:20px; vertical-align: middle;'></progress>\n",
       "      34.56% [1728/5000 01:00<01:54 Sampling 2 chains, 0 divergences]\n",
       "    </div>\n",
       "    "
      ],
      "text/plain": [
       "<IPython.core.display.HTML object>"
      ]
     },
     "metadata": {},
     "output_type": "display_data"
    }
   ],
   "source": [
    "with pm.Model() as hierarchical_mod:\n",
    "    # Prior\n",
    "\n",
    "    # -> Global Prior\n",
    "    mu_w_glob = pm.Normal(name=\"mu_w\", mu=0, sigma=10, shape=(m, 1))\n",
    "    sigma_w_glob = pm.InverseGamma(\"sigma_w\", mu=1, sigma=10)\n",
    "\n",
    "    # -> Individial priors\n",
    "    w_hierarchy = pm.Normal(name=\"w\", mu=mu_w_glob, sigma=sigma_w_glob, shape=(m, 2))\n",
    "    sigma = pm.InverseGamma(\"sigma\", mu=1, sigma=10)\n",
    "\n",
    "    # Likelihood\n",
    "    mu = (X @ w_hierarchy)[index_rows, index_cols]\n",
    "    obs = pm.Normal(name=\"obs\", observed=y, mu=mu, sigma=sigma)\n",
    "\n",
    "    # Sample from the posterior\n",
    "    trace = pm.sample(draws=1500)"
   ]
  },
  {
   "cell_type": "code",
   "execution_count": null,
   "id": "irish-habitat",
   "metadata": {},
   "outputs": [],
   "source": [
    "with hierarchical_mod:\n",
    "    display(pm.summary(trace))"
   ]
  },
  {
   "cell_type": "code",
   "execution_count": null,
   "id": "second-graduate",
   "metadata": {},
   "outputs": [],
   "source": []
  },
  {
   "cell_type": "code",
   "execution_count": null,
   "id": "dynamic-version",
   "metadata": {},
   "outputs": [],
   "source": []
  },
  {
   "cell_type": "code",
   "execution_count": null,
   "id": "upset-terminology",
   "metadata": {},
   "outputs": [],
   "source": []
  },
  {
   "cell_type": "code",
   "execution_count": null,
   "id": "swiss-organic",
   "metadata": {},
   "outputs": [],
   "source": []
  },
  {
   "cell_type": "code",
   "execution_count": null,
   "id": "duplicate-memory",
   "metadata": {},
   "outputs": [],
   "source": []
  },
  {
   "cell_type": "code",
   "execution_count": null,
   "id": "temporal-standing",
   "metadata": {},
   "outputs": [],
   "source": []
  }
 ],
 "metadata": {
  "kernelspec": {
   "display_name": "Python 3",
   "language": "python",
   "name": "python3"
  },
  "language_info": {
   "codemirror_mode": {
    "name": "ipython",
    "version": 3
   },
   "file_extension": ".py",
   "mimetype": "text/x-python",
   "name": "python",
   "nbconvert_exporter": "python",
   "pygments_lexer": "ipython3",
   "version": "3.7.9"
  }
 },
 "nbformat": 4,
 "nbformat_minor": 5
}
