{
 "cells": [
  {
   "cell_type": "markdown",
   "id": "distributed-offering",
   "metadata": {},
   "source": [
    "# A simpl(er) Introduction to Hierarchical Models \n",
    "### Naive Bayesians, 2021\n",
    "\n",
    "\n",
    "### Agenda\n",
    "\n",
    "1. EDA Walmart M5 Dataset\n"
   ]
  },
  {
   "cell_type": "code",
   "execution_count": 2,
   "id": "vanilla-feedback",
   "metadata": {},
   "outputs": [
    {
     "name": "stdout",
     "output_type": "stream",
     "text": [
      "The nb_black extension is already loaded. To reload it, use:\n",
      "  %reload_ext nb_black\n"
     ]
    },
    {
     "data": {
      "text/html": [
       "<style>.container { width:85% !important; }</style>"
      ],
      "text/plain": [
       "<IPython.core.display.HTML object>"
      ]
     },
     "metadata": {},
     "output_type": "display_data"
    },
    {
     "data": {
      "application/javascript": [
       "\n",
       "            setTimeout(function() {\n",
       "                var nbb_cell_id = 2;\n",
       "                var nbb_unformatted_code = \"%load_ext nb_black\\n\\nfrom IPython.core.display import HTML\\ndisplay(HTML(\\\"<style>.container { width:85% !important; }</style>\\\"))\";\n",
       "                var nbb_formatted_code = \"%load_ext nb_black\\n\\nfrom IPython.core.display import HTML\\n\\ndisplay(HTML(\\\"<style>.container { width:85% !important; }</style>\\\"))\";\n",
       "                var nbb_cells = Jupyter.notebook.get_cells();\n",
       "                for (var i = 0; i < nbb_cells.length; ++i) {\n",
       "                    if (nbb_cells[i].input_prompt_number == nbb_cell_id) {\n",
       "                        if (nbb_cells[i].get_text() == nbb_unformatted_code) {\n",
       "                             nbb_cells[i].set_text(nbb_formatted_code);\n",
       "                        }\n",
       "                        break;\n",
       "                    }\n",
       "                }\n",
       "            }, 500);\n",
       "            "
      ],
      "text/plain": [
       "<IPython.core.display.Javascript object>"
      ]
     },
     "metadata": {},
     "output_type": "display_data"
    }
   ],
   "source": [
    "%load_ext nb_black\n",
    "\n",
    "from IPython.core.display import HTML\n",
    "\n",
    "display(HTML(\"<style>.container { width:85% !important; }</style>\"))"
   ]
  },
  {
   "cell_type": "code",
   "execution_count": 10,
   "id": "proper-given",
   "metadata": {},
   "outputs": [
    {
     "data": {
      "application/javascript": [
       "\n",
       "            setTimeout(function() {\n",
       "                var nbb_cell_id = 10;\n",
       "                var nbb_unformatted_code = \"import os\\nimport pandas as pd\\nimport numpy as np\\nfrom typing import Dict\";\n",
       "                var nbb_formatted_code = \"import os\\nimport pandas as pd\\nimport numpy as np\\nfrom typing import Dict\";\n",
       "                var nbb_cells = Jupyter.notebook.get_cells();\n",
       "                for (var i = 0; i < nbb_cells.length; ++i) {\n",
       "                    if (nbb_cells[i].input_prompt_number == nbb_cell_id) {\n",
       "                        if (nbb_cells[i].get_text() == nbb_unformatted_code) {\n",
       "                             nbb_cells[i].set_text(nbb_formatted_code);\n",
       "                        }\n",
       "                        break;\n",
       "                    }\n",
       "                }\n",
       "            }, 500);\n",
       "            "
      ],
      "text/plain": [
       "<IPython.core.display.Javascript object>"
      ]
     },
     "metadata": {},
     "output_type": "display_data"
    }
   ],
   "source": [
    "import os\n",
    "import pandas as pd\n",
    "import numpy as np\n",
    "from typing import Dict"
   ]
  },
  {
   "cell_type": "code",
   "execution_count": 11,
   "id": "referenced-episode",
   "metadata": {},
   "outputs": [
    {
     "data": {
      "application/javascript": [
       "\n",
       "            setTimeout(function() {\n",
       "                var nbb_cell_id = 11;\n",
       "                var nbb_unformatted_code = \"def read_raw_data() -> Dict[str, pd.DataFrame]:\\n    \\\"\\\"\\\"Reads the Walmart M5 Data\\\"\\\"\\\"\\n\\n    P_ROOT = \\\"../../../hts-forecast/volume/m5-forecasting-accuracy/\\\"\\n    P_SALES = os.path.join(P_ROOT, \\\"sales_train_validation.csv\\\")\\n    P_CALENDAR = os.path.join(P_ROOT, \\\"calendar.csv\\\")\\n\\n    df_sales = pd.read_csv(P_SALES)\\n    df_calendar = pd.read_csv(P_CALENDAR, parse_dates=[\\\"date\\\"])\\n    return {\\\"sales\\\": df_sales, \\\"calendar\\\": df_calendar}\\n\\n\\ndef pivot_and_join_dates(data: Dict[str, pd.DataFrame]) -> pd.DataFrame:\\n    \\\"\\\"\\\"Reformats the dataframe and adds dates \\\"\\\"\\\"\\n    df_sales = data[\\\"sales\\\"]\\n    df_calendar = data[\\\"calendar\\\"]\\n\\n    date_cols = [i for i in df_sales.columns if \\\"d_\\\" in i]\\n    id_cols = [\\\"id\\\", \\\"item_id\\\", \\\"dept_id\\\", \\\"cat_id\\\", \\\"store_id\\\", \\\"state_id\\\"]\\n\\n    df_date_keys = df_sales.melt(\\n        id_vars=id_cols, value_vars=date_cols, var_name=\\\"date_key\\\", value_name=\\\"qty\\\"\\n    )\\n\\n    df_with_dates = df_date_keys.merge(\\n        df_calendar[[\\\"d\\\", \\\"date\\\"]],\\n        left_on=[\\\"date_key\\\"],\\n        right_on=[\\\"d\\\"],\\n        how=\\\"left\\\",\\n        validate=\\\"m:1\\\",\\n    )\\n    return df_with_dates\";\n",
       "                var nbb_formatted_code = \"def read_raw_data() -> Dict[str, pd.DataFrame]:\\n    \\\"\\\"\\\"Reads the Walmart M5 Data\\\"\\\"\\\"\\n\\n    P_ROOT = \\\"../../../hts-forecast/volume/m5-forecasting-accuracy/\\\"\\n    P_SALES = os.path.join(P_ROOT, \\\"sales_train_validation.csv\\\")\\n    P_CALENDAR = os.path.join(P_ROOT, \\\"calendar.csv\\\")\\n\\n    df_sales = pd.read_csv(P_SALES)\\n    df_calendar = pd.read_csv(P_CALENDAR, parse_dates=[\\\"date\\\"])\\n    return {\\\"sales\\\": df_sales, \\\"calendar\\\": df_calendar}\\n\\n\\ndef pivot_and_join_dates(data: Dict[str, pd.DataFrame]) -> pd.DataFrame:\\n    \\\"\\\"\\\"Reformats the dataframe and adds dates \\\"\\\"\\\"\\n    df_sales = data[\\\"sales\\\"]\\n    df_calendar = data[\\\"calendar\\\"]\\n\\n    date_cols = [i for i in df_sales.columns if \\\"d_\\\" in i]\\n    id_cols = [\\\"id\\\", \\\"item_id\\\", \\\"dept_id\\\", \\\"cat_id\\\", \\\"store_id\\\", \\\"state_id\\\"]\\n\\n    df_date_keys = df_sales.melt(\\n        id_vars=id_cols, value_vars=date_cols, var_name=\\\"date_key\\\", value_name=\\\"qty\\\"\\n    )\\n\\n    df_with_dates = df_date_keys.merge(\\n        df_calendar[[\\\"d\\\", \\\"date\\\"]],\\n        left_on=[\\\"date_key\\\"],\\n        right_on=[\\\"d\\\"],\\n        how=\\\"left\\\",\\n        validate=\\\"m:1\\\",\\n    )\\n    return df_with_dates\";\n",
       "                var nbb_cells = Jupyter.notebook.get_cells();\n",
       "                for (var i = 0; i < nbb_cells.length; ++i) {\n",
       "                    if (nbb_cells[i].input_prompt_number == nbb_cell_id) {\n",
       "                        if (nbb_cells[i].get_text() == nbb_unformatted_code) {\n",
       "                             nbb_cells[i].set_text(nbb_formatted_code);\n",
       "                        }\n",
       "                        break;\n",
       "                    }\n",
       "                }\n",
       "            }, 500);\n",
       "            "
      ],
      "text/plain": [
       "<IPython.core.display.Javascript object>"
      ]
     },
     "metadata": {},
     "output_type": "display_data"
    }
   ],
   "source": [
    "\"\"\"\n",
    "Download the raw M5 Forecasting - Accuracy data from:\n",
    "https://www.kaggle.com/c/m5-forecasting-accuracy/data\n",
    "\n",
    "\"\"\"\n",
    "\n",
    "def read_raw_data() -> Dict[str, pd.DataFrame]:\n",
    "    \"\"\"Reads the Walmart M5 Data\"\"\"\n",
    "\n",
    "    P_ROOT = \"../../../hts-forecast/volume/m5-forecasting-accuracy/\"\n",
    "    P_SALES = os.path.join(P_ROOT, \"sales_train_validation.csv\")\n",
    "    P_CALENDAR = os.path.join(P_ROOT, \"calendar.csv\")\n",
    "\n",
    "    df_sales = pd.read_csv(P_SALES)\n",
    "    df_calendar = pd.read_csv(P_CALENDAR, parse_dates=[\"date\"])\n",
    "    return {\"sales\": df_sales, \"calendar\": df_calendar}\n",
    "\n",
    "\n",
    "def pivot_and_join_dates(data: Dict[str, pd.DataFrame]) -> pd.DataFrame:\n",
    "    \"\"\"Reformats the dataframe and adds dates\"\"\"\n",
    "    \n",
    "    df_sales = data[\"sales\"]\n",
    "    df_calendar = data[\"calendar\"]\n",
    "\n",
    "    # Dates in the original data \n",
    "    date_cols = [i for i in df_sales.columns if \"d_\" in i]\n",
    "    id_cols = [\"id\", \"item_id\", \"dept_id\", \"cat_id\", \"store_id\", \"state_id\"]\n",
    "    \n",
    "    # Pivot dataframe so the every day is a row      \n",
    "    df_date_keys = df_sales.melt(\n",
    "        id_vars=id_cols, value_vars=date_cols, var_name=\"date_key\", value_name=\"qty\"\n",
    "    )\n",
    "\n",
    "    # Add the dates from the date key\n",
    "    df_with_dates = df_date_keys.merge(\n",
    "        df_calendar[[\"d\", \"date\"]],\n",
    "        left_on=[\"date_key\"],\n",
    "        right_on=[\"d\"],\n",
    "        how=\"left\",\n",
    "        validate=\"m:1\",\n",
    "    )\n",
    "    return df_with_dates\n"
   ]
  },
  {
   "cell_type": "code",
   "execution_count": 12,
   "id": "fixed-documentary",
   "metadata": {},
   "outputs": [
    {
     "data": {
      "application/javascript": [
       "\n",
       "            setTimeout(function() {\n",
       "                var nbb_cell_id = 12;\n",
       "                var nbb_unformatted_code = \"data = read_raw_data()\";\n",
       "                var nbb_formatted_code = \"data = read_raw_data()\";\n",
       "                var nbb_cells = Jupyter.notebook.get_cells();\n",
       "                for (var i = 0; i < nbb_cells.length; ++i) {\n",
       "                    if (nbb_cells[i].input_prompt_number == nbb_cell_id) {\n",
       "                        if (nbb_cells[i].get_text() == nbb_unformatted_code) {\n",
       "                             nbb_cells[i].set_text(nbb_formatted_code);\n",
       "                        }\n",
       "                        break;\n",
       "                    }\n",
       "                }\n",
       "            }, 500);\n",
       "            "
      ],
      "text/plain": [
       "<IPython.core.display.Javascript object>"
      ]
     },
     "metadata": {},
     "output_type": "display_data"
    }
   ],
   "source": [
    "data = read_raw_data()\n",
    "\n",
    "df_with_dates = pivot_and_join_dates(data)"
   ]
  },
  {
   "cell_type": "code",
   "execution_count": 16,
   "id": "convertible-discussion",
   "metadata": {},
   "outputs": [
    {
     "data": {
      "application/javascript": [
       "\n",
       "            setTimeout(function() {\n",
       "                var nbb_cell_id = 16;\n",
       "                var nbb_unformatted_code = \"P_ROOT = \\\"../../../hts-forecast/volume/m5-forecasting-accuracy/\\\"\\n\\n\\ndf_with_dates.to_parquet(os.path.join(P_ROOT, \\\"walmart_m5_sales.parquet\\\"))\";\n",
       "                var nbb_formatted_code = \"P_ROOT = \\\"../../../hts-forecast/volume/m5-forecasting-accuracy/\\\"\\n\\n\\ndf_with_dates.to_parquet(os.path.join(P_ROOT, \\\"walmart_m5_sales.parquet\\\"))\";\n",
       "                var nbb_cells = Jupyter.notebook.get_cells();\n",
       "                for (var i = 0; i < nbb_cells.length; ++i) {\n",
       "                    if (nbb_cells[i].input_prompt_number == nbb_cell_id) {\n",
       "                        if (nbb_cells[i].get_text() == nbb_unformatted_code) {\n",
       "                             nbb_cells[i].set_text(nbb_formatted_code);\n",
       "                        }\n",
       "                        break;\n",
       "                    }\n",
       "                }\n",
       "            }, 500);\n",
       "            "
      ],
      "text/plain": [
       "<IPython.core.display.Javascript object>"
      ]
     },
     "metadata": {},
     "output_type": "display_data"
    }
   ],
   "source": [
    "P_ROOT = \"../../../hts-forecast/volume/m5-forecasting-accuracy/\"\n",
    "df_with_dates.to_parquet(os.path.join(P_ROOT, \"walmart_m5_sales.parquet\"))"
   ]
  },
  {
   "cell_type": "code",
   "execution_count": 22,
   "id": "killing-donna",
   "metadata": {},
   "outputs": [
    {
     "data": {
      "application/javascript": [
       "\n",
       "            setTimeout(function() {\n",
       "                var nbb_cell_id = 22;\n",
       "                var nbb_unformatted_code = \"df_grp = df_with_dates.groupby([\\\"cat_id\\\", \\\"dept_id\\\", \\\"state_id\\\", \\\"date\\\"]).agg(\\n    **{\\\"qty\\\": (\\\"qty\\\", \\\"sum\\\")}\\n).reset_index()\";\n",
       "                var nbb_formatted_code = \"df_grp = (\\n    df_with_dates.groupby([\\\"cat_id\\\", \\\"dept_id\\\", \\\"state_id\\\", \\\"date\\\"])\\n    .agg(**{\\\"qty\\\": (\\\"qty\\\", \\\"sum\\\")})\\n    .reset_index()\\n)\";\n",
       "                var nbb_cells = Jupyter.notebook.get_cells();\n",
       "                for (var i = 0; i < nbb_cells.length; ++i) {\n",
       "                    if (nbb_cells[i].input_prompt_number == nbb_cell_id) {\n",
       "                        if (nbb_cells[i].get_text() == nbb_unformatted_code) {\n",
       "                             nbb_cells[i].set_text(nbb_formatted_code);\n",
       "                        }\n",
       "                        break;\n",
       "                    }\n",
       "                }\n",
       "            }, 500);\n",
       "            "
      ],
      "text/plain": [
       "<IPython.core.display.Javascript object>"
      ]
     },
     "metadata": {},
     "output_type": "display_data"
    }
   ],
   "source": [
    "df_grp = (\n",
    "    df_with_dates.groupby([\"cat_id\", \"dept_id\", \"state_id\", \"date\"])\n",
    "    .agg(**{\"qty\": (\"qty\", \"sum\")})\n",
    "    .reset_index()\n",
    ")"
   ]
  },
  {
   "cell_type": "code",
   "execution_count": 23,
   "id": "searching-worthy",
   "metadata": {},
   "outputs": [
    {
     "data": {
      "application/javascript": [
       "\n",
       "            setTimeout(function() {\n",
       "                var nbb_cell_id = 23;\n",
       "                var nbb_unformatted_code = \"df_grp.to_parquet(os.path.join(P_ROOT, \\\"walmart_m5_sales_dep_state.parquet\\\"))\";\n",
       "                var nbb_formatted_code = \"df_grp.to_parquet(os.path.join(P_ROOT, \\\"walmart_m5_sales_dep_state.parquet\\\"))\";\n",
       "                var nbb_cells = Jupyter.notebook.get_cells();\n",
       "                for (var i = 0; i < nbb_cells.length; ++i) {\n",
       "                    if (nbb_cells[i].input_prompt_number == nbb_cell_id) {\n",
       "                        if (nbb_cells[i].get_text() == nbb_unformatted_code) {\n",
       "                             nbb_cells[i].set_text(nbb_formatted_code);\n",
       "                        }\n",
       "                        break;\n",
       "                    }\n",
       "                }\n",
       "            }, 500);\n",
       "            "
      ],
      "text/plain": [
       "<IPython.core.display.Javascript object>"
      ]
     },
     "metadata": {},
     "output_type": "display_data"
    }
   ],
   "source": [
    "df_grp.to_parquet(os.path.join(P_ROOT, \"walmart_m5_sales_dep_state.parquet\"))"
   ]
  },
  {
   "cell_type": "code",
   "execution_count": 26,
   "id": "graphic-gardening",
   "metadata": {},
   "outputs": [
    {
     "data": {
      "text/html": [
       "<div>\n",
       "<style scoped>\n",
       "    .dataframe tbody tr th:only-of-type {\n",
       "        vertical-align: middle;\n",
       "    }\n",
       "\n",
       "    .dataframe tbody tr th {\n",
       "        vertical-align: top;\n",
       "    }\n",
       "\n",
       "    .dataframe thead th {\n",
       "        text-align: right;\n",
       "    }\n",
       "</style>\n",
       "<table border=\"1\" class=\"dataframe\">\n",
       "  <thead>\n",
       "    <tr style=\"text-align: right;\">\n",
       "      <th></th>\n",
       "      <th>cat_id</th>\n",
       "      <th>dept_id</th>\n",
       "      <th>state_id</th>\n",
       "      <th>date</th>\n",
       "      <th>qty</th>\n",
       "    </tr>\n",
       "  </thead>\n",
       "  <tbody>\n",
       "    <tr>\n",
       "      <th>0</th>\n",
       "      <td>FOODS</td>\n",
       "      <td>FOODS_1</td>\n",
       "      <td>CA</td>\n",
       "      <td>2011-01-29</td>\n",
       "      <td>1157</td>\n",
       "    </tr>\n",
       "    <tr>\n",
       "      <th>1</th>\n",
       "      <td>FOODS</td>\n",
       "      <td>FOODS_1</td>\n",
       "      <td>CA</td>\n",
       "      <td>2011-01-30</td>\n",
       "      <td>1142</td>\n",
       "    </tr>\n",
       "    <tr>\n",
       "      <th>2</th>\n",
       "      <td>FOODS</td>\n",
       "      <td>FOODS_1</td>\n",
       "      <td>CA</td>\n",
       "      <td>2011-01-31</td>\n",
       "      <td>787</td>\n",
       "    </tr>\n",
       "    <tr>\n",
       "      <th>3</th>\n",
       "      <td>FOODS</td>\n",
       "      <td>FOODS_1</td>\n",
       "      <td>CA</td>\n",
       "      <td>2011-02-01</td>\n",
       "      <td>743</td>\n",
       "    </tr>\n",
       "    <tr>\n",
       "      <th>4</th>\n",
       "      <td>FOODS</td>\n",
       "      <td>FOODS_1</td>\n",
       "      <td>CA</td>\n",
       "      <td>2011-02-02</td>\n",
       "      <td>729</td>\n",
       "    </tr>\n",
       "  </tbody>\n",
       "</table>\n",
       "</div>"
      ],
      "text/plain": [
       "  cat_id  dept_id state_id       date   qty\n",
       "0  FOODS  FOODS_1       CA 2011-01-29  1157\n",
       "1  FOODS  FOODS_1       CA 2011-01-30  1142\n",
       "2  FOODS  FOODS_1       CA 2011-01-31   787\n",
       "3  FOODS  FOODS_1       CA 2011-02-01   743\n",
       "4  FOODS  FOODS_1       CA 2011-02-02   729"
      ]
     },
     "execution_count": 26,
     "metadata": {},
     "output_type": "execute_result"
    },
    {
     "data": {
      "application/javascript": [
       "\n",
       "            setTimeout(function() {\n",
       "                var nbb_cell_id = 26;\n",
       "                var nbb_unformatted_code = \"df_grp.head()\";\n",
       "                var nbb_formatted_code = \"df_grp.head()\";\n",
       "                var nbb_cells = Jupyter.notebook.get_cells();\n",
       "                for (var i = 0; i < nbb_cells.length; ++i) {\n",
       "                    if (nbb_cells[i].input_prompt_number == nbb_cell_id) {\n",
       "                        if (nbb_cells[i].get_text() == nbb_unformatted_code) {\n",
       "                             nbb_cells[i].set_text(nbb_formatted_code);\n",
       "                        }\n",
       "                        break;\n",
       "                    }\n",
       "                }\n",
       "            }, 500);\n",
       "            "
      ],
      "text/plain": [
       "<IPython.core.display.Javascript object>"
      ]
     },
     "metadata": {},
     "output_type": "display_data"
    }
   ],
   "source": [
    "df_grp.head()"
   ]
  },
  {
   "cell_type": "code",
   "execution_count": null,
   "id": "august-couple",
   "metadata": {},
   "outputs": [],
   "source": []
  },
  {
   "cell_type": "code",
   "execution_count": null,
   "id": "intermediate-petroleum",
   "metadata": {},
   "outputs": [],
   "source": []
  }
 ],
 "metadata": {
  "kernelspec": {
   "display_name": "Python 3",
   "language": "python",
   "name": "python3"
  },
  "language_info": {
   "codemirror_mode": {
    "name": "ipython",
    "version": 3
   },
   "file_extension": ".py",
   "mimetype": "text/x-python",
   "name": "python",
   "nbconvert_exporter": "python",
   "pygments_lexer": "ipython3",
   "version": "3.7.9"
  }
 },
 "nbformat": 4,
 "nbformat_minor": 5
}
