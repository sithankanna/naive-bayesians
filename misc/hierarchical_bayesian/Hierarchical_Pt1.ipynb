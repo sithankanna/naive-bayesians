{
 "cells": [
  {
   "cell_type": "markdown",
   "id": "aggregate-torture",
   "metadata": {},
   "source": [
    "# A simpl(er) Introduction to Hierarchical Models \n",
    "### Naive Bayesians, 2021"
   ]
  },
  {
   "cell_type": "code",
   "execution_count": 1,
   "id": "automated-mention",
   "metadata": {},
   "outputs": [
    {
     "data": {
      "text/html": [
       "<style>.container { width:85% !important; }</style>"
      ],
      "text/plain": [
       "<IPython.core.display.HTML object>"
      ]
     },
     "metadata": {},
     "output_type": "display_data"
    },
    {
     "data": {
      "application/javascript": [
       "\n",
       "            setTimeout(function() {\n",
       "                var nbb_cell_id = 1;\n",
       "                var nbb_unformatted_code = \"%load_ext nb_black\\nfrom IPython.core.display import display, HTML\\n\\ndisplay(HTML(\\\"<style>.container { width:85% !important; }</style>\\\"))\";\n",
       "                var nbb_formatted_code = \"%load_ext nb_black\\nfrom IPython.core.display import display, HTML\\n\\ndisplay(HTML(\\\"<style>.container { width:85% !important; }</style>\\\"))\";\n",
       "                var nbb_cells = Jupyter.notebook.get_cells();\n",
       "                for (var i = 0; i < nbb_cells.length; ++i) {\n",
       "                    if (nbb_cells[i].input_prompt_number == nbb_cell_id) {\n",
       "                        if (nbb_cells[i].get_text() == nbb_unformatted_code) {\n",
       "                             nbb_cells[i].set_text(nbb_formatted_code);\n",
       "                        }\n",
       "                        break;\n",
       "                    }\n",
       "                }\n",
       "            }, 500);\n",
       "            "
      ],
      "text/plain": [
       "<IPython.core.display.Javascript object>"
      ]
     },
     "metadata": {},
     "output_type": "display_data"
    }
   ],
   "source": [
    "%load_ext nb_black\n",
    "from IPython.core.display import display, HTML\n",
    "display(HTML(\"<style>.container { width:85% !important; }</style>\"))"
   ]
  },
  {
   "cell_type": "code",
   "execution_count": 147,
   "id": "appropriate-italic",
   "metadata": {},
   "outputs": [
    {
     "data": {
      "application/javascript": [
       "\n",
       "            setTimeout(function() {\n",
       "                var nbb_cell_id = 147;\n",
       "                var nbb_unformatted_code = \"import numpy as np\\nimport pandas as pd\\nfrom scipy import stats\\nimport pymc3 as pm\\n\\n# Plotting and viz\\nimport matplotlib.pyplot as plt\\nimport seaborn as sns\\n\\nplt.rcParams[\\\"figure.figsize\\\"] = (10, 5)\\nplt.rcParams[\\\"font.size\\\"] = 15\\nCOLOR = 'white'\\nplt.rcParams['text.color'] = COLOR\\nplt.rcParams['axes.labelcolor'] = COLOR\\nplt.rcParams['xtick.color'] = COLOR\\nplt.rcParams['ytick.color'] = COLOR\";\n",
       "                var nbb_formatted_code = \"import numpy as np\\nimport pandas as pd\\nfrom scipy import stats\\nimport pymc3 as pm\\n\\n# Plotting and viz\\nimport matplotlib.pyplot as plt\\nimport seaborn as sns\\n\\nplt.rcParams[\\\"figure.figsize\\\"] = (10, 5)\\nplt.rcParams[\\\"font.size\\\"] = 15\\nCOLOR = \\\"white\\\"\\nplt.rcParams[\\\"text.color\\\"] = COLOR\\nplt.rcParams[\\\"axes.labelcolor\\\"] = COLOR\\nplt.rcParams[\\\"xtick.color\\\"] = COLOR\\nplt.rcParams[\\\"ytick.color\\\"] = COLOR\";\n",
       "                var nbb_cells = Jupyter.notebook.get_cells();\n",
       "                for (var i = 0; i < nbb_cells.length; ++i) {\n",
       "                    if (nbb_cells[i].input_prompt_number == nbb_cell_id) {\n",
       "                        if (nbb_cells[i].get_text() == nbb_unformatted_code) {\n",
       "                             nbb_cells[i].set_text(nbb_formatted_code);\n",
       "                        }\n",
       "                        break;\n",
       "                    }\n",
       "                }\n",
       "            }, 500);\n",
       "            "
      ],
      "text/plain": [
       "<IPython.core.display.Javascript object>"
      ]
     },
     "metadata": {},
     "output_type": "display_data"
    }
   ],
   "source": [
    "import numpy as np\n",
    "import pandas as pd\n",
    "from scipy import stats\n",
    "import pymc3 as pm\n",
    "\n",
    "# Plotting and viz\n",
    "import matplotlib.pyplot as plt\n",
    "import seaborn as sns\n",
    "\n",
    "plt.rcParams[\"figure.figsize\"] = (10, 5)\n",
    "plt.rcParams[\"font.size\"] = 15\n",
    "COLOR = 'white'\n",
    "plt.rcParams['text.color'] = COLOR\n",
    "plt.rcParams['axes.labelcolor'] = COLOR\n",
    "plt.rcParams['xtick.color'] = COLOR\n",
    "plt.rcParams['ytick.color'] = COLOR\n"
   ]
  },
  {
   "cell_type": "code",
   "execution_count": 46,
   "id": "fossil-stroke",
   "metadata": {},
   "outputs": [
    {
     "name": "stdout",
     "output_type": "stream",
     "text": [
      "0.14574929476660042 1.150353155698961\n"
     ]
    },
    {
     "data": {
      "application/javascript": [
       "\n",
       "            setTimeout(function() {\n",
       "                var nbb_cell_id = 46;\n",
       "                var nbb_unformatted_code = \"# Sample the distribution\\nx_a = stats.norm.rvs(size=1000, loc=0, scale=1,)\\nx_b = stats.norm.rvs(size=100, loc=2, scale=1,)\\nx_hierarchy = np.append(x_a, x_b)\\n\\n\\n# Fitting the distribution\\nmu_fit, sigma_fit = stats.norm.fit(data=x_hierarchy)\\nprint(mu_fit, sigma_fit)\";\n",
       "                var nbb_formatted_code = \"# Sample the distribution\\nx_a = stats.norm.rvs(size=1000, loc=0, scale=1,)\\nx_b = stats.norm.rvs(size=100, loc=2, scale=1,)\\nx_hierarchy = np.append(x_a, x_b)\\n\\n\\n# Fitting the distribution\\nmu_fit, sigma_fit = stats.norm.fit(data=x_hierarchy)\\nprint(mu_fit, sigma_fit)\";\n",
       "                var nbb_cells = Jupyter.notebook.get_cells();\n",
       "                for (var i = 0; i < nbb_cells.length; ++i) {\n",
       "                    if (nbb_cells[i].input_prompt_number == nbb_cell_id) {\n",
       "                        if (nbb_cells[i].get_text() == nbb_unformatted_code) {\n",
       "                             nbb_cells[i].set_text(nbb_formatted_code);\n",
       "                        }\n",
       "                        break;\n",
       "                    }\n",
       "                }\n",
       "            }, 500);\n",
       "            "
      ],
      "text/plain": [
       "<IPython.core.display.Javascript object>"
      ]
     },
     "metadata": {},
     "output_type": "display_data"
    }
   ],
   "source": [
    "# Sample the distribution\n",
    "x_a = stats.norm.rvs(size=1000, loc=0, scale=1,)\n",
    "x_b = stats.norm.rvs(size=100, loc=2, scale=1,)\n",
    "x_hierarchy = np.append(x_a, x_b)\n",
    "\n",
    "\n",
    "# Fitting the distribution\n",
    "mu_fit, sigma_fit = stats.norm.fit(data=x_hierarchy)\n",
    "print(mu_fit, sigma_fit)"
   ]
  },
  {
   "cell_type": "code",
   "execution_count": 37,
   "id": "antique-apparatus",
   "metadata": {},
   "outputs": [
    {
     "data": {
      "application/javascript": [
       "\n",
       "            setTimeout(function() {\n",
       "                var nbb_cell_id = 37;\n",
       "                var nbb_unformatted_code = \"index_a = np.zeros(len(x_a), dtype=np.int8)\\nindex_b = np.ones(len(x_b), dtype=np.int8)\\nindex = np.append(index_a, index_b)\";\n",
       "                var nbb_formatted_code = \"index_a = np.zeros(len(x_a), dtype=np.int8)\\nindex_b = np.ones(len(x_b), dtype=np.int8)\\nindex = np.append(index_a, index_b)\";\n",
       "                var nbb_cells = Jupyter.notebook.get_cells();\n",
       "                for (var i = 0; i < nbb_cells.length; ++i) {\n",
       "                    if (nbb_cells[i].input_prompt_number == nbb_cell_id) {\n",
       "                        if (nbb_cells[i].get_text() == nbb_unformatted_code) {\n",
       "                             nbb_cells[i].set_text(nbb_formatted_code);\n",
       "                        }\n",
       "                        break;\n",
       "                    }\n",
       "                }\n",
       "            }, 500);\n",
       "            "
      ],
      "text/plain": [
       "<IPython.core.display.Javascript object>"
      ]
     },
     "metadata": {},
     "output_type": "display_data"
    }
   ],
   "source": [
    "index_a = np.zeros(len(x_a), dtype=np.int8)\n",
    "index_b = np.ones(len(x_b), dtype=np.int8)\n",
    "index = np.append(index_a, index_b)\n"
   ]
  },
  {
   "cell_type": "code",
   "execution_count": 81,
   "id": "rational-board",
   "metadata": {},
   "outputs": [
    {
     "name": "stderr",
     "output_type": "stream",
     "text": [
      "Auto-assigning NUTS sampler...\n",
      "INFO:pymc3:Auto-assigning NUTS sampler...\n",
      "Initializing NUTS using jitter+adapt_diag...\n",
      "INFO:pymc3:Initializing NUTS using jitter+adapt_diag...\n",
      "Multiprocess sampling (2 chains in 2 jobs)\n",
      "INFO:pymc3:Multiprocess sampling (2 chains in 2 jobs)\n",
      "NUTS: [mu]\n",
      "INFO:pymc3:NUTS: [mu]\n"
     ]
    },
    {
     "data": {
      "text/html": [
       "\n",
       "    <div>\n",
       "        <style>\n",
       "            /* Turns off some styling */\n",
       "            progress {\n",
       "                /* gets rid of default border in Firefox and Opera. */\n",
       "                border: none;\n",
       "                /* Needs to be in here for Safari polyfill so background images work as expected. */\n",
       "                background-size: auto;\n",
       "            }\n",
       "            .progress-bar-interrupted, .progress-bar-interrupted::-webkit-progress-bar {\n",
       "                background: #F44336;\n",
       "            }\n",
       "        </style>\n",
       "      <progress value='4000' class='' max='4000' style='width:300px; height:20px; vertical-align: middle;'></progress>\n",
       "      100.00% [4000/4000 00:10<00:00 Sampling 2 chains, 0 divergences]\n",
       "    </div>\n",
       "    "
      ],
      "text/plain": [
       "<IPython.core.display.HTML object>"
      ]
     },
     "metadata": {},
     "output_type": "display_data"
    },
    {
     "name": "stderr",
     "output_type": "stream",
     "text": [
      "Sampling 2 chains for 1_000 tune and 1_000 draw iterations (2_000 + 2_000 draws total) took 32 seconds.\n",
      "INFO:pymc3:Sampling 2 chains for 1_000 tune and 1_000 draw iterations (2_000 + 2_000 draws total) took 32 seconds.\n"
     ]
    },
    {
     "data": {
      "application/javascript": [
       "\n",
       "            setTimeout(function() {\n",
       "                var nbb_cell_id = 81;\n",
       "                var nbb_unformatted_code = \"with pm.Model() as mod:\\n    # Prior\\n    mu = pm.Normal(\\n        name=\\\"mu\\\",\\n        mu=0,\\n        sigma=10,\\n        shape=2,\\n    )\\n    # Likelihood\\n    obs = pm.Normal(\\n        name=\\\"x\\\",\\n        observed=x_hierarchy,\\n        mu=mu[index],\\n        sigma=1,\\n    )\\n    # Posterior\\n    trace_ind = pm.sample(draws=1000)\";\n",
       "                var nbb_formatted_code = \"with pm.Model() as mod:\\n    # Prior\\n    mu = pm.Normal(name=\\\"mu\\\", mu=0, sigma=10, shape=2,)\\n    # Likelihood\\n    obs = pm.Normal(name=\\\"x\\\", observed=x_hierarchy, mu=mu[index], sigma=1,)\\n    # Posterior\\n    trace_ind = pm.sample(draws=1000)\";\n",
       "                var nbb_cells = Jupyter.notebook.get_cells();\n",
       "                for (var i = 0; i < nbb_cells.length; ++i) {\n",
       "                    if (nbb_cells[i].input_prompt_number == nbb_cell_id) {\n",
       "                        if (nbb_cells[i].get_text() == nbb_unformatted_code) {\n",
       "                             nbb_cells[i].set_text(nbb_formatted_code);\n",
       "                        }\n",
       "                        break;\n",
       "                    }\n",
       "                }\n",
       "            }, 500);\n",
       "            "
      ],
      "text/plain": [
       "<IPython.core.display.Javascript object>"
      ]
     },
     "metadata": {},
     "output_type": "display_data"
    }
   ],
   "source": [
    "with pm.Model() as mod:\n",
    "    # Prior\n",
    "    mu = pm.Normal(\n",
    "        name=\"mu\",\n",
    "        mu=0,\n",
    "        sigma=10,\n",
    "        shape=2,\n",
    "    )\n",
    "    # Likelihood\n",
    "    obs = pm.Normal(\n",
    "        name=\"x\",\n",
    "        observed=x_hierarchy,\n",
    "        mu=mu[index],\n",
    "        sigma=1,\n",
    "    )\n",
    "    # Posterior\n",
    "    trace_ind = pm.sample(draws=1000)\n"
   ]
  },
  {
   "cell_type": "code",
   "execution_count": 138,
   "id": "motivated-reception",
   "metadata": {},
   "outputs": [
    {
     "data": {
      "image/png": "[encoded data removed]",
      "text/plain": [
       "<Figure size 720x360 with 1 Axes>"
      ]
     },
     "metadata": {
      "needs_background": "light"
     },
     "output_type": "display_data"
    },
    {
     "data": {
      "application/javascript": [
       "\n",
       "            setTimeout(function() {\n",
       "                var nbb_cell_id = 138;\n",
       "                var nbb_unformatted_code = \"mu_ind = trace_ind.get_values(\\\"mu\\\")\\n\\ndf_ind = pd.DataFrame(mu_ind, columns=[\\\"site_a_ind\\\", \\\"site_b_ind\\\"]).assign(\\n    **{\\\"type\\\": \\\"unpooled\\\"}\\n)\\n\\nsns.kdeplot(data=df_ind, shade=False)\\nplt.xlim([-0.5, 2.5])\\nplt.title(\\\"Posterior Distribution of $\\\\mu_a, \\\\mu_b$ (Unpooled)\\\")\\nplt.show()\";\n",
       "                var nbb_formatted_code = \"mu_ind = trace_ind.get_values(\\\"mu\\\")\\n\\ndf_ind = pd.DataFrame(mu_ind, columns=[\\\"site_a_ind\\\", \\\"site_b_ind\\\"]).assign(\\n    **{\\\"type\\\": \\\"unpooled\\\"}\\n)\\n\\nsns.kdeplot(data=df_ind, shade=False)\\nplt.xlim([-0.5, 2.5])\\nplt.title(\\\"Posterior Distribution of $\\\\mu_a, \\\\mu_b$ (Unpooled)\\\")\\nplt.show()\";\n",
       "                var nbb_cells = Jupyter.notebook.get_cells();\n",
       "                for (var i = 0; i < nbb_cells.length; ++i) {\n",
       "                    if (nbb_cells[i].input_prompt_number == nbb_cell_id) {\n",
       "                        if (nbb_cells[i].get_text() == nbb_unformatted_code) {\n",
       "                             nbb_cells[i].set_text(nbb_formatted_code);\n",
       "                        }\n",
       "                        break;\n",
       "                    }\n",
       "                }\n",
       "            }, 500);\n",
       "            "
      ],
      "text/plain": [
       "<IPython.core.display.Javascript object>"
      ]
     },
     "metadata": {},
     "output_type": "display_data"
    }
   ],
   "source": [
    "mu_ind = trace_ind.get_values(\"mu\")\n",
    "\n",
    "df_ind = pd.DataFrame(mu_ind, columns=[\"site_a_ind\", \"site_b_ind\"]).assign(\n",
    "    **{\"type\": \"unpooled\"}\n",
    ")\n",
    "\n",
    "sns.kdeplot(data=df_ind, shade=False)\n",
    "plt.xlim([-0.5, 2.5])\n",
    "plt.title(\"Posterior Distribution of $\\mu_a, \\mu_b$ (Unpooled)\")\n",
    "plt.show()"
   ]
  },
  {
   "cell_type": "code",
   "execution_count": 86,
   "id": "premium-release",
   "metadata": {},
   "outputs": [
    {
     "name": "stderr",
     "output_type": "stream",
     "text": [
      "Auto-assigning NUTS sampler...\n",
      "INFO:pymc3:Auto-assigning NUTS sampler...\n",
      "Initializing NUTS using jitter+adapt_diag...\n",
      "INFO:pymc3:Initializing NUTS using jitter+adapt_diag...\n",
      "Multiprocess sampling (2 chains in 2 jobs)\n",
      "INFO:pymc3:Multiprocess sampling (2 chains in 2 jobs)\n",
      "NUTS: [mu, mu_glob]\n",
      "INFO:pymc3:NUTS: [mu, mu_glob]\n"
     ]
    },
    {
     "data": {
      "text/html": [
       "\n",
       "    <div>\n",
       "        <style>\n",
       "            /* Turns off some styling */\n",
       "            progress {\n",
       "                /* gets rid of default border in Firefox and Opera. */\n",
       "                border: none;\n",
       "                /* Needs to be in here for Safari polyfill so background images work as expected. */\n",
       "                background-size: auto;\n",
       "            }\n",
       "            .progress-bar-interrupted, .progress-bar-interrupted::-webkit-progress-bar {\n",
       "                background: #F44336;\n",
       "            }\n",
       "        </style>\n",
       "      <progress value='4000' class='' max='4000' style='width:300px; height:20px; vertical-align: middle;'></progress>\n",
       "      100.00% [4000/4000 00:10<00:00 Sampling 2 chains, 0 divergences]\n",
       "    </div>\n",
       "    "
      ],
      "text/plain": [
       "<IPython.core.display.HTML object>"
      ]
     },
     "metadata": {},
     "output_type": "display_data"
    },
    {
     "name": "stderr",
     "output_type": "stream",
     "text": [
      "Sampling 2 chains for 1_000 tune and 1_000 draw iterations (2_000 + 2_000 draws total) took 26 seconds.\n",
      "INFO:pymc3:Sampling 2 chains for 1_000 tune and 1_000 draw iterations (2_000 + 2_000 draws total) took 26 seconds.\n"
     ]
    },
    {
     "data": {
      "application/javascript": [
       "\n",
       "            setTimeout(function() {\n",
       "                var nbb_cell_id = 86;\n",
       "                var nbb_unformatted_code = \"with pm.Model() as hierarchical_mod:\\n    \\n    mu_glob = pm.Normal(\\n        name=\\\"mu_glob\\\",\\n        mu=1,\\n        sigma=0.1,\\n    )\\n    \\n    # Prior\\n    mu = pm.Normal(\\n        name=\\\"mu\\\",\\n        mu=mu_glob,\\n        sigma=0.1,\\n        shape=2,\\n    )\\n    # Likelihood\\n    obs = pm.Normal(\\n        name=\\\"x\\\",\\n        observed=x_hierarchy,\\n        mu=mu[index],\\n        sigma=1,\\n    )\\n    # Posterior\\n    trace = pm.sample(draws=1000)\";\n",
       "                var nbb_formatted_code = \"with pm.Model() as hierarchical_mod:\\n\\n    mu_glob = pm.Normal(name=\\\"mu_glob\\\", mu=1, sigma=0.1,)\\n\\n    # Prior\\n    mu = pm.Normal(name=\\\"mu\\\", mu=mu_glob, sigma=0.1, shape=2,)\\n    # Likelihood\\n    obs = pm.Normal(name=\\\"x\\\", observed=x_hierarchy, mu=mu[index], sigma=1,)\\n    # Posterior\\n    trace = pm.sample(draws=1000)\";\n",
       "                var nbb_cells = Jupyter.notebook.get_cells();\n",
       "                for (var i = 0; i < nbb_cells.length; ++i) {\n",
       "                    if (nbb_cells[i].input_prompt_number == nbb_cell_id) {\n",
       "                        if (nbb_cells[i].get_text() == nbb_unformatted_code) {\n",
       "                             nbb_cells[i].set_text(nbb_formatted_code);\n",
       "                        }\n",
       "                        break;\n",
       "                    }\n",
       "                }\n",
       "            }, 500);\n",
       "            "
      ],
      "text/plain": [
       "<IPython.core.display.Javascript object>"
      ]
     },
     "metadata": {},
     "output_type": "display_data"
    }
   ],
   "source": [
    "with pm.Model() as hierarchical_mod:\n",
    "    # Set a global prior for the parameters     \n",
    "    mu_glob = pm.Normal(\n",
    "        name=\"mu_glob\",\n",
    "        mu=1,\n",
    "        sigma=0.1,\n",
    "    )\n",
    "    \n",
    "    # Prior\n",
    "    mu = pm.Normal(\n",
    "        name=\"mu\",\n",
    "        mu=mu_glob,\n",
    "        sigma=0.1,\n",
    "        shape=2,\n",
    "    )\n",
    "    # Likelihood\n",
    "    obs = pm.Normal(\n",
    "        name=\"x\",\n",
    "        observed=x_hierarchy,\n",
    "        mu=mu[index],\n",
    "        sigma=1,\n",
    "    )\n",
    "    trace_prior = pm.sample_prior_predictive(samples=1000)\n",
    "    # Posterior\n",
    "    trace = pm.sample(draws=1000)\n"
   ]
  },
  {
   "cell_type": "code",
   "execution_count": null,
   "id": "excited-oklahoma",
   "metadata": {},
   "outputs": [],
   "source": []
  },
  {
   "cell_type": "code",
   "execution_count": 124,
   "id": "varied-complexity",
   "metadata": {},
   "outputs": [
    {
     "data": {
      "image/png": "[encoded data removed]",
      "text/plain": [
       "<Figure size 720x360 with 1 Axes>"
      ]
     },
     "metadata": {
      "needs_background": "light"
     },
     "output_type": "display_data"
    },
    {
     "data": {
      "application/javascript": [
       "\n",
       "            setTimeout(function() {\n",
       "                var nbb_cell_id = 124;\n",
       "                var nbb_unformatted_code = \"df_hierarchy = pd.DataFrame(\\n    trace.get_values(\\\"mu\\\"), columns=[\\\"site_a_hierarchical\\\", \\\"site_b_hierarchical\\\"]\\n).assign(**{\\\"global\\\": trace.get_values(\\\"mu_glob\\\"), \\\"type\\\": \\\"hierarchical\\\"})\\n\\nsns.kdeplot(data=df_hierarchy, shade=True)\\nplt.title(\\\"Posterior Distribution of $\\\\mu_a, \\\\mu_b$ (Hierarchical)\\\")\\n\\nplt.xlim([-0.5, 2.5])\\nplt.show()\";\n",
       "                var nbb_formatted_code = \"df_hierarchy = pd.DataFrame(\\n    trace.get_values(\\\"mu\\\"), columns=[\\\"site_a_hierarchical\\\", \\\"site_b_hierarchical\\\"]\\n).assign(**{\\\"global\\\": trace.get_values(\\\"mu_glob\\\"), \\\"type\\\": \\\"hierarchical\\\"})\\n\\nsns.kdeplot(data=df_hierarchy, shade=True)\\nplt.title(\\\"Posterior Distribution of $\\\\mu_a, \\\\mu_b$ (Hierarchical)\\\")\\n\\nplt.xlim([-0.5, 2.5])\\nplt.show()\";\n",
       "                var nbb_cells = Jupyter.notebook.get_cells();\n",
       "                for (var i = 0; i < nbb_cells.length; ++i) {\n",
       "                    if (nbb_cells[i].input_prompt_number == nbb_cell_id) {\n",
       "                        if (nbb_cells[i].get_text() == nbb_unformatted_code) {\n",
       "                             nbb_cells[i].set_text(nbb_formatted_code);\n",
       "                        }\n",
       "                        break;\n",
       "                    }\n",
       "                }\n",
       "            }, 500);\n",
       "            "
      ],
      "text/plain": [
       "<IPython.core.display.Javascript object>"
      ]
     },
     "metadata": {},
     "output_type": "display_data"
    }
   ],
   "source": [
    "df_hierarchy = pd.DataFrame(\n",
    "    trace.get_values(\"mu\"), columns=[\"site_a_hierarchical\", \"site_b_hierarchical\"]\n",
    ").assign(**{\"global\": trace.get_values(\"mu_glob\"), \"type\": \"hierarchical\"})\n",
    "\n",
    "sns.kdeplot(data=df_hierarchy, shade=True)\n",
    "plt.title(\"Posterior Distribution of $\\mu_a, \\mu_b$ (Hierarchical)\")\n",
    "\n",
    "plt.xlim([-0.5, 2.5])\n",
    "plt.show()"
   ]
  },
  {
   "cell_type": "code",
   "execution_count": null,
   "id": "empty-short",
   "metadata": {},
   "outputs": [],
   "source": []
  },
  {
   "cell_type": "code",
   "execution_count": 125,
   "id": "racial-barbados",
   "metadata": {},
   "outputs": [
    {
     "data": {
      "text/html": [
       "<div>\n",
       "<style scoped>\n",
       "    .dataframe tbody tr th:only-of-type {\n",
       "        vertical-align: middle;\n",
       "    }\n",
       "\n",
       "    .dataframe tbody tr th {\n",
       "        vertical-align: top;\n",
       "    }\n",
       "\n",
       "    .dataframe thead th {\n",
       "        text-align: right;\n",
       "    }\n",
       "</style>\n",
       "<table border=\"1\" class=\"dataframe\">\n",
       "  <thead>\n",
       "    <tr style=\"text-align: right;\">\n",
       "      <th></th>\n",
       "      <th>site_a_hierarchical</th>\n",
       "      <th>site_b_hierarchical</th>\n",
       "      <th>global</th>\n",
       "      <th>type</th>\n",
       "      <th>site_a_ind</th>\n",
       "      <th>site_b_ind</th>\n",
       "      <th>type</th>\n",
       "    </tr>\n",
       "  </thead>\n",
       "  <tbody>\n",
       "    <tr>\n",
       "      <th>0</th>\n",
       "      <td>0.048652</td>\n",
       "      <td>1.461399</td>\n",
       "      <td>0.757260</td>\n",
       "      <td>hierarchical</td>\n",
       "      <td>-0.007478</td>\n",
       "      <td>1.997038</td>\n",
       "      <td>unpooled</td>\n",
       "    </tr>\n",
       "    <tr>\n",
       "      <th>1</th>\n",
       "      <td>0.040987</td>\n",
       "      <td>1.508102</td>\n",
       "      <td>0.918015</td>\n",
       "      <td>hierarchical</td>\n",
       "      <td>-0.017545</td>\n",
       "      <td>2.307043</td>\n",
       "      <td>unpooled</td>\n",
       "    </tr>\n",
       "    <tr>\n",
       "      <th>2</th>\n",
       "      <td>-0.003901</td>\n",
       "      <td>1.456182</td>\n",
       "      <td>0.763974</td>\n",
       "      <td>hierarchical</td>\n",
       "      <td>-0.050010</td>\n",
       "      <td>2.112722</td>\n",
       "      <td>unpooled</td>\n",
       "    </tr>\n",
       "    <tr>\n",
       "      <th>3</th>\n",
       "      <td>0.082931</td>\n",
       "      <td>1.498291</td>\n",
       "      <td>0.827782</td>\n",
       "      <td>hierarchical</td>\n",
       "      <td>-0.099369</td>\n",
       "      <td>2.184626</td>\n",
       "      <td>unpooled</td>\n",
       "    </tr>\n",
       "    <tr>\n",
       "      <th>4</th>\n",
       "      <td>0.008700</td>\n",
       "      <td>1.393389</td>\n",
       "      <td>0.834297</td>\n",
       "      <td>hierarchical</td>\n",
       "      <td>-0.088601</td>\n",
       "      <td>2.160077</td>\n",
       "      <td>unpooled</td>\n",
       "    </tr>\n",
       "    <tr>\n",
       "      <th>...</th>\n",
       "      <td>...</td>\n",
       "      <td>...</td>\n",
       "      <td>...</td>\n",
       "      <td>...</td>\n",
       "      <td>...</td>\n",
       "      <td>...</td>\n",
       "      <td>...</td>\n",
       "    </tr>\n",
       "    <tr>\n",
       "      <th>1995</th>\n",
       "      <td>0.061035</td>\n",
       "      <td>1.468600</td>\n",
       "      <td>0.870517</td>\n",
       "      <td>hierarchical</td>\n",
       "      <td>-0.092125</td>\n",
       "      <td>2.160452</td>\n",
       "      <td>unpooled</td>\n",
       "    </tr>\n",
       "    <tr>\n",
       "      <th>1996</th>\n",
       "      <td>0.054748</td>\n",
       "      <td>1.611486</td>\n",
       "      <td>0.914763</td>\n",
       "      <td>hierarchical</td>\n",
       "      <td>-0.010244</td>\n",
       "      <td>2.113272</td>\n",
       "      <td>unpooled</td>\n",
       "    </tr>\n",
       "    <tr>\n",
       "      <th>1997</th>\n",
       "      <td>0.013128</td>\n",
       "      <td>1.398224</td>\n",
       "      <td>0.812093</td>\n",
       "      <td>hierarchical</td>\n",
       "      <td>-0.065307</td>\n",
       "      <td>2.066172</td>\n",
       "      <td>unpooled</td>\n",
       "    </tr>\n",
       "    <tr>\n",
       "      <th>1998</th>\n",
       "      <td>0.016318</td>\n",
       "      <td>1.377101</td>\n",
       "      <td>0.924944</td>\n",
       "      <td>hierarchical</td>\n",
       "      <td>-0.085201</td>\n",
       "      <td>2.049875</td>\n",
       "      <td>unpooled</td>\n",
       "    </tr>\n",
       "    <tr>\n",
       "      <th>1999</th>\n",
       "      <td>0.031581</td>\n",
       "      <td>1.446207</td>\n",
       "      <td>0.848915</td>\n",
       "      <td>hierarchical</td>\n",
       "      <td>-0.025633</td>\n",
       "      <td>2.204912</td>\n",
       "      <td>unpooled</td>\n",
       "    </tr>\n",
       "  </tbody>\n",
       "</table>\n",
       "<p>2000 rows × 7 columns</p>\n",
       "</div>"
      ],
      "text/plain": [
       "      site_a_hierarchical  site_b_hierarchical    global          type  \\\n",
       "0                0.048652             1.461399  0.757260  hierarchical   \n",
       "1                0.040987             1.508102  0.918015  hierarchical   \n",
       "2               -0.003901             1.456182  0.763974  hierarchical   \n",
       "3                0.082931             1.498291  0.827782  hierarchical   \n",
       "4                0.008700             1.393389  0.834297  hierarchical   \n",
       "...                   ...                  ...       ...           ...   \n",
       "1995             0.061035             1.468600  0.870517  hierarchical   \n",
       "1996             0.054748             1.611486  0.914763  hierarchical   \n",
       "1997             0.013128             1.398224  0.812093  hierarchical   \n",
       "1998             0.016318             1.377101  0.924944  hierarchical   \n",
       "1999             0.031581             1.446207  0.848915  hierarchical   \n",
       "\n",
       "      site_a_ind  site_b_ind      type  \n",
       "0      -0.007478    1.997038  unpooled  \n",
       "1      -0.017545    2.307043  unpooled  \n",
       "2      -0.050010    2.112722  unpooled  \n",
       "3      -0.099369    2.184626  unpooled  \n",
       "4      -0.088601    2.160077  unpooled  \n",
       "...          ...         ...       ...  \n",
       "1995   -0.092125    2.160452  unpooled  \n",
       "1996   -0.010244    2.113272  unpooled  \n",
       "1997   -0.065307    2.066172  unpooled  \n",
       "1998   -0.085201    2.049875  unpooled  \n",
       "1999   -0.025633    2.204912  unpooled  \n",
       "\n",
       "[2000 rows x 7 columns]"
      ]
     },
     "execution_count": 125,
     "metadata": {},
     "output_type": "execute_result"
    },
    {
     "data": {
      "application/javascript": [
       "\n",
       "            setTimeout(function() {\n",
       "                var nbb_cell_id = 125;\n",
       "                var nbb_unformatted_code = \"df_all = pd.concat([df_hierarchy, df_ind,], axis=\\\"columns\\\",)\\ndf_all\";\n",
       "                var nbb_formatted_code = \"df_all = pd.concat([df_hierarchy, df_ind,], axis=\\\"columns\\\",)\\ndf_all\";\n",
       "                var nbb_cells = Jupyter.notebook.get_cells();\n",
       "                for (var i = 0; i < nbb_cells.length; ++i) {\n",
       "                    if (nbb_cells[i].input_prompt_number == nbb_cell_id) {\n",
       "                        if (nbb_cells[i].get_text() == nbb_unformatted_code) {\n",
       "                             nbb_cells[i].set_text(nbb_formatted_code);\n",
       "                        }\n",
       "                        break;\n",
       "                    }\n",
       "                }\n",
       "            }, 500);\n",
       "            "
      ],
      "text/plain": [
       "<IPython.core.display.Javascript object>"
      ]
     },
     "metadata": {},
     "output_type": "display_data"
    }
   ],
   "source": [
    "df_all = pd.concat([df_hierarchy, df_ind,], axis=\"columns\",)\n",
    "df_all"
   ]
  },
  {
   "cell_type": "code",
   "execution_count": 151,
   "id": "empty-discipline",
   "metadata": {},
   "outputs": [
    {
     "data": {
      "image/png": "[encoded data removed]",
      "text/plain": [
       "<Figure size 720x360 with 1 Axes>"
      ]
     },
     "metadata": {
      "needs_background": "dark"
     },
     "output_type": "display_data"
    },
    {
     "data": {
      "application/javascript": [
       "\n",
       "            setTimeout(function() {\n",
       "                var nbb_cell_id = 151;\n",
       "                var nbb_unformatted_code = \"sns.kdeplot(\\n    data=df_all[\\\"site_a_ind\\\"], color=\\\"#33F594\\\", shade=False, label=\\\"site_a_unpooled\\\"\\n)\\nsns.kdeplot(\\n    data=df_all[\\\"site_a_hierarchical\\\"],\\n    color=\\\"#33F594\\\",\\n    shade=True,\\n    label=\\\"site_a_hierarchical\\\",\\n)\\n\\nsns.kdeplot(\\n    data=df_all[\\\"site_b_ind\\\"], shade=False, color=\\\"#EB7772\\\", label=\\\"site_b_unpooled\\\"\\n)\\nsns.kdeplot(\\n    data=df_all[\\\"site_b_hierarchical\\\"],\\n    shade=True,\\n    color=\\\"#EB7772\\\",\\n    label=\\\"site_b_hierarchical\\\",\\n)\\n\\nsns.kdeplot(\\n    data=df_all[\\\"global\\\"], shade=True, color=\\\"#FBE5D6\\\", label=\\\"global\\\",\\n)\\n\\n\\nplt.title(\\\"Posterior Distribution of $\\\\mu_a, \\\\mu_b$, $\\\\mu_{glob}$\\\")\\n\\nplt.xlim([-0.5, 2.5])\\n# plt.legend()\\n# plt.show()\\nplt.savefig('foo.png', bbox_inches='tight', transparent=True)\";\n",
       "                var nbb_formatted_code = \"sns.kdeplot(\\n    data=df_all[\\\"site_a_ind\\\"], color=\\\"#33F594\\\", shade=False, label=\\\"site_a_unpooled\\\"\\n)\\nsns.kdeplot(\\n    data=df_all[\\\"site_a_hierarchical\\\"],\\n    color=\\\"#33F594\\\",\\n    shade=True,\\n    label=\\\"site_a_hierarchical\\\",\\n)\\n\\nsns.kdeplot(\\n    data=df_all[\\\"site_b_ind\\\"], shade=False, color=\\\"#EB7772\\\", label=\\\"site_b_unpooled\\\"\\n)\\nsns.kdeplot(\\n    data=df_all[\\\"site_b_hierarchical\\\"],\\n    shade=True,\\n    color=\\\"#EB7772\\\",\\n    label=\\\"site_b_hierarchical\\\",\\n)\\n\\nsns.kdeplot(\\n    data=df_all[\\\"global\\\"], shade=True, color=\\\"#FBE5D6\\\", label=\\\"global\\\",\\n)\\n\\n\\nplt.title(\\\"Posterior Distribution of $\\\\mu_a, \\\\mu_b$, $\\\\mu_{glob}$\\\")\\n\\nplt.xlim([-0.5, 2.5])\\n# plt.legend()\\n# plt.show()\\nplt.savefig(\\\"foo.png\\\", bbox_inches=\\\"tight\\\", transparent=True)\";\n",
       "                var nbb_cells = Jupyter.notebook.get_cells();\n",
       "                for (var i = 0; i < nbb_cells.length; ++i) {\n",
       "                    if (nbb_cells[i].input_prompt_number == nbb_cell_id) {\n",
       "                        if (nbb_cells[i].get_text() == nbb_unformatted_code) {\n",
       "                             nbb_cells[i].set_text(nbb_formatted_code);\n",
       "                        }\n",
       "                        break;\n",
       "                    }\n",
       "                }\n",
       "            }, 500);\n",
       "            "
      ],
      "text/plain": [
       "<IPython.core.display.Javascript object>"
      ]
     },
     "metadata": {},
     "output_type": "display_data"
    }
   ],
   "source": [
    "sns.kdeplot(\n",
    "    data=df_all[\"site_a_ind\"], color=\"#33F594\", shade=False, label=\"site_a_unpooled\"\n",
    ")\n",
    "sns.kdeplot(\n",
    "    data=df_all[\"site_a_hierarchical\"],\n",
    "    color=\"#33F594\",\n",
    "    shade=True,\n",
    "    label=\"site_a_hierarchical\",\n",
    ")\n",
    "\n",
    "sns.kdeplot(\n",
    "    data=df_all[\"site_b_ind\"], shade=False, color=\"#EB7772\", label=\"site_b_unpooled\"\n",
    ")\n",
    "sns.kdeplot(\n",
    "    data=df_all[\"site_b_hierarchical\"],\n",
    "    shade=True,\n",
    "    color=\"#EB7772\",\n",
    "    label=\"site_b_hierarchical\",\n",
    ")\n",
    "\n",
    "sns.kdeplot(\n",
    "    data=df_all[\"global\"], shade=True, color=\"#FBE5D6\", label=\"global\",\n",
    ")\n",
    "\n",
    "\n",
    "plt.title(\"Posterior Distribution of $\\mu_a, \\mu_b$, $\\mu_{glob}$\")\n",
    "\n",
    "plt.xlim([-0.5, 2.5])\n",
    "# plt.legend()\n",
    "# plt.show()\n",
    "plt.savefig('foo.png', bbox_inches='tight', transparent=True)\n"
   ]
  },
  {
   "cell_type": "code",
   "execution_count": null,
   "id": "amino-majority",
   "metadata": {},
   "outputs": [],
   "source": []
  },
  {
   "cell_type": "code",
   "execution_count": null,
   "id": "durable-peeing",
   "metadata": {},
   "outputs": [],
   "source": []
  }
 ],
 "metadata": {
  "kernelspec": {
   "display_name": "Python 3",
   "language": "python",
   "name": "python3"
  },
  "language_info": {
   "codemirror_mode": {
    "name": "ipython",
    "version": 3
   },
   "file_extension": ".py",
   "mimetype": "text/x-python",
   "name": "python",
   "nbconvert_exporter": "python",
   "pygments_lexer": "ipython3",
   "version": "3.7.9"
  }
 },
 "nbformat": 4,
 "nbformat_minor": 5
}
