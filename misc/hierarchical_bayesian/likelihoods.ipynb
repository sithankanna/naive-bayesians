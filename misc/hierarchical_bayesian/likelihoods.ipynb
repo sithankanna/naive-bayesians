{
 "cells": [
  {
   "cell_type": "code",
   "execution_count": 2,
   "id": "floppy-message",
   "metadata": {},
   "outputs": [
    {
     "data": {
      "application/javascript": [
       "\n",
       "            setTimeout(function() {\n",
       "                var nbb_cell_id = 2;\n",
       "                var nbb_unformatted_code = \"%load_ext nb_black\";\n",
       "                var nbb_formatted_code = \"%load_ext nb_black\";\n",
       "                var nbb_cells = Jupyter.notebook.get_cells();\n",
       "                for (var i = 0; i < nbb_cells.length; ++i) {\n",
       "                    if (nbb_cells[i].input_prompt_number == nbb_cell_id) {\n",
       "                        if (nbb_cells[i].get_text() == nbb_unformatted_code) {\n",
       "                             nbb_cells[i].set_text(nbb_formatted_code);\n",
       "                        }\n",
       "                        break;\n",
       "                    }\n",
       "                }\n",
       "            }, 500);\n",
       "            "
      ],
      "text/plain": [
       "<IPython.core.display.Javascript object>"
      ]
     },
     "metadata": {},
     "output_type": "display_data"
    }
   ],
   "source": [
    "%load_ext nb_black"
   ]
  },
  {
   "cell_type": "code",
   "execution_count": 1,
   "id": "retained-maintenance",
   "metadata": {},
   "outputs": [],
   "source": [
    "from typing import Tuple, Union\n",
    "import time\n",
    "import pandas as pd\n",
    "import numpy as np\n",
    "from scipy import stats\n",
    "import matplotlib.pyplot as plt\n",
    "from matplotlib.ticker import FormatStrFormatter\n",
    "\n",
    "plt.rcParams[\"figure.figsize\"] = (10, 5)\n",
    "plt.rcParams[\"font.size\"] = 15"
   ]
  },
  {
   "cell_type": "code",
   "execution_count": null,
   "id": "junior-guidance",
   "metadata": {},
   "outputs": [],
   "source": [
    "data"
   ]
  },
  {
   "cell_type": "code",
   "execution_count": null,
   "id": "official-bhutan",
   "metadata": {},
   "outputs": [],
   "source": [
    "n_data = 5\n",
    "mu_true = 5\n",
    "var_true = 0.1\n",
    "data = stats.norm.rvs(size=5, loc=mu_true, scale=np.sqrt(var_true))\n",
    "data = np.append(data, -9)\n",
    "df_data = pd.DataFrame(\n",
    "    {\"day\": [\"Mon\", \"Tues\", \"Wed\", \"Thu\", \"Fri\", \"Sat\"], \"data\": data}\n",
    ")\n",
    "\n",
    "\n",
    "plt.scatter(x=df_data[\"day\"], y=df_data[\"data\"], s=500)\n",
    "plt.ylabel(\"Values\")\n",
    "\n",
    "plt.ylim([-10, 10])\n",
    "plt.show()\n",
    "\n",
    "\n",
    "plt.scatter(y=df_data[\"day\"][::-1], x=df_data[\"data\"][::-1], s=500)\n",
    "plt.xlabel(\"Values\")\n",
    "plt.xlim([-10, 10])\n",
    "plt.show()"
   ]
  },
  {
   "cell_type": "code",
   "execution_count": null,
   "id": "parental-found",
   "metadata": {},
   "outputs": [],
   "source": []
  },
  {
   "cell_type": "code",
   "execution_count": null,
   "id": "sufficient-sculpture",
   "metadata": {},
   "outputs": [],
   "source": []
  },
  {
   "cell_type": "markdown",
   "id": "normal-integer",
   "metadata": {},
   "source": [
    "\n",
    "## Online Updates of Conjugate Priors Parameters\n",
    "\n",
    "\n",
    "\\begin{align*}\n",
    "\\kappa_t = {} & \\kappa_{t-1} + 1 \\\\\n",
    "\\mu_t = {} & \\frac{1}{\\kappa_t}  \\left(  x_t + \\kappa_{t-1} \\mu_{t-1}  \\right) \\\\\n",
    "\\alpha_t = {} & \\alpha_{t-1} + 1/2  \\\\\n",
    "\\beta_t = {} & \\beta_{t-1} + \\frac{\\kappa_t (x_t - \\mu_t)^2 }{2 (\\kappa_t + 1)} \\\\\n",
    "   x | \\mu_t, \\tau_t  \\sim {} & \\textsf{Student-T}_{2\\alpha_t} \\left(\\mu=\\mu_t, \\tau= \\frac{\\alpha_t \\kappa_t}{\\beta_t(\\kappa_t + 1)}   \\right)\n",
    "\\end{align*}"
   ]
  },
  {
   "cell_type": "code",
   "execution_count": null,
   "id": "legal-celtic",
   "metadata": {},
   "outputs": [],
   "source": [
    "class StudentT:\n",
    "    def __init__(self, mu, kappa, alpha, beta):\n",
    "        self.mu = mu\n",
    "        self.kappa = kappa\n",
    "        self.alpha = alpha\n",
    "        self.beta = beta\n",
    "\n",
    "        self.df = 2 * self.alpha\n",
    "        self.std_dev = np.sqrt(self.beta * (self.kappa + 1) / (self.alpha * self.kappa))\n",
    "\n",
    "    def likelihood(self, x: Union[float, np.array]) -> Union[float, np.array]:\n",
    "        return stats.t.pdf(x=x, df=self.df, loc=self.mu, scale=self.std_dev)"
   ]
  },
  {
   "cell_type": "code",
   "execution_count": null,
   "id": "returning-concentration",
   "metadata": {},
   "outputs": [],
   "source": [
    "mu_x_axis = np.arange(-10, 10, step=0.1)"
   ]
  },
  {
   "cell_type": "code",
   "execution_count": null,
   "id": "personal-petersburg",
   "metadata": {},
   "outputs": [],
   "source": [
    "def update(data: np.array, end: int):\n",
    "\n",
    "    fig, ax = plt.subplots()\n",
    "\n",
    "    ax.yaxis.set_major_formatter(FormatStrFormatter(\"%.2f\"))\n",
    "\n",
    "    n = len(data)\n",
    "\n",
    "    mu = np.zeros(n + 1)\n",
    "    kappa = np.zeros(n + 1)\n",
    "    alpha = np.zeros(n + 1)\n",
    "    beta = np.zeros(n + 1)\n",
    "    likelihoods = np.zeros(n + 1)\n",
    "\n",
    "    mu[0] = 0\n",
    "    kappa[0] = 0.1\n",
    "    alpha[0] = 1\n",
    "    beta[0] = 20\n",
    "\n",
    "    for t in range(1, end):\n",
    "        x_t = data[t - 1]\n",
    "\n",
    "        student_t = StudentT(\n",
    "            mu=mu[t - 1], kappa=kappa[t - 1], alpha=kappa[t - 1], beta=beta[t - 1]\n",
    "        )\n",
    "        likelihoods[t] = student_t.likelihood(x=x_t)\n",
    "        # Data distribution\n",
    "        full_pdf = student_t.likelihood(x=mu_x_axis)\n",
    "        plt.plot(mu_x_axis, full_pdf, label=t)\n",
    "        plt.axvline(\n",
    "            x=x_t, linestyle=\"--\", color=\"k\", linewidth=0.5,\n",
    "        )\n",
    "\n",
    "        # Update Params\n",
    "        kappa[t] = 1 + kappa[t - 1]\n",
    "\n",
    "        mu[t] = (1 / kappa[t]) * (x_t + kappa[t - 1] * mu[t - 1])\n",
    "\n",
    "        alpha[t] = 0.5 + alpha[t - 1]\n",
    "\n",
    "        beta[t] = (\n",
    "            beta[t - 1]\n",
    "            + 0.5 * kappa[t - 1] / (kappa[t - 1] + 1) * (x_t - mu[t - 1]) ** 2\n",
    "        )\n",
    "\n",
    "    plt.legend()\n",
    "    plt.xlim([-10, 10])\n",
    "\n",
    "    plt.show()\n",
    "\n",
    "\n",
    "def plot_days(end: int):\n",
    "    plt.scatter(y=df_data[\"day\"][: end - 1], x=df_data[\"data\"][: end - 1], s=500)\n",
    "    plt.xlabel(\"Values\")\n",
    "    plt.xlim([-10, 10])\n",
    "    plt.show()"
   ]
  },
  {
   "cell_type": "code",
   "execution_count": null,
   "id": "rising-shelter",
   "metadata": {},
   "outputs": [],
   "source": [
    "mu[0] = 0\n",
    "kappa[0] = 0.1\n",
    "alpha[0] = 1\n",
    "beta[0] = 20\n",
    "\n",
    "\n",
    "# till n+1\n",
    "end = 7\n",
    "update(data, end=end)\n",
    "plot_days(end=end)"
   ]
  },
  {
   "cell_type": "code",
   "execution_count": null,
   "id": "careful-replica",
   "metadata": {},
   "outputs": [],
   "source": [
    "# Notion of Run Length\n",
    "\n",
    "\n",
    "\n"
   ]
  },
  {
   "cell_type": "code",
   "execution_count": null,
   "id": "dominican-disease",
   "metadata": {},
   "outputs": [],
   "source": [
    "def printArray(arr):\n",
    "    print(arr)\n",
    "    if len(arr) == 1:\n",
    "        return\n",
    "\n",
    "    return printArray(arr[1:],)\n",
    "\n",
    "\n",
    "def print_array_it(arr):\n",
    "    n = len(arr)\n",
    "\n",
    "    for i in range(n):\n",
    "        print(arr[i:])\n",
    "\n",
    "\n",
    "print_array_it([1, 2, 3])"
   ]
  },
  {
   "cell_type": "code",
   "execution_count": 76,
   "id": "restricted-opinion",
   "metadata": {},
   "outputs": [
    {
     "name": "stdout",
     "output_type": "stream",
     "text": [
      "[1, 2, 4]\n",
      "[1, 2, 6]\n",
      "[1, 4, 6]\n",
      "[2, 4, 6]\n"
     ]
    },
    {
     "data": {
      "application/javascript": [
       "\n",
       "            setTimeout(function() {\n",
       "                var nbb_cell_id = 76;\n",
       "                var nbb_unformatted_code = \"def perm(arr):\\n    n = len(arr)\\n\\n    for i in range(n):\\n        for j in range(i + 1, n):\\n            for k in range(j + 1, n):\\n                print([arr[i], arr[j], arr[k]])\\n\\n\\nperm([1, 2, 4, 6])\";\n",
       "                var nbb_formatted_code = \"def perm(arr):\\n    n = len(arr)\\n\\n    for i in range(n):\\n        for j in range(i + 1, n):\\n            for k in range(j + 1, n):\\n                print([arr[i], arr[j], arr[k]])\\n\\n\\nperm([1, 2, 4, 6])\";\n",
       "                var nbb_cells = Jupyter.notebook.get_cells();\n",
       "                for (var i = 0; i < nbb_cells.length; ++i) {\n",
       "                    if (nbb_cells[i].input_prompt_number == nbb_cell_id) {\n",
       "                        if (nbb_cells[i].get_text() == nbb_unformatted_code) {\n",
       "                             nbb_cells[i].set_text(nbb_formatted_code);\n",
       "                        }\n",
       "                        break;\n",
       "                    }\n",
       "                }\n",
       "            }, 500);\n",
       "            "
      ],
      "text/plain": [
       "<IPython.core.display.Javascript object>"
      ]
     },
     "metadata": {},
     "output_type": "display_data"
    }
   ],
   "source": [
    "def perm(arr):\n",
    "    n = len(arr)\n",
    "\n",
    "    for i in range(n):\n",
    "        for j in range(i + 1, n):\n",
    "            for k in range(j + 1, n):\n",
    "                print([arr[i], arr[j], arr[k]])\n",
    "\n",
    "\n",
    "perm([1, 2, 4, 6])"
   ]
  },
  {
   "cell_type": "code",
   "execution_count": 3,
   "id": "expired-perception",
   "metadata": {},
   "outputs": [
    {
     "name": "stdout",
     "output_type": "stream",
     "text": [
      ":\n"
     ]
    },
    {
     "data": {
      "application/javascript": [
       "\n",
       "            setTimeout(function() {\n",
       "                var nbb_cell_id = 3;\n",
       "                var nbb_unformatted_code = \"def rec_perm(arr):\\n    return 1\\n\\nprint(\\\":\\\")\";\n",
       "                var nbb_formatted_code = \"def rec_perm(arr):\\n    return 1\\n\\n\\nprint(\\\":\\\")\";\n",
       "                var nbb_cells = Jupyter.notebook.get_cells();\n",
       "                for (var i = 0; i < nbb_cells.length; ++i) {\n",
       "                    if (nbb_cells[i].input_prompt_number == nbb_cell_id) {\n",
       "                        if (nbb_cells[i].get_text() == nbb_unformatted_code) {\n",
       "                             nbb_cells[i].set_text(nbb_formatted_code);\n",
       "                        }\n",
       "                        break;\n",
       "                    }\n",
       "                }\n",
       "            }, 500);\n",
       "            "
      ],
      "text/plain": [
       "<IPython.core.display.Javascript object>"
      ]
     },
     "metadata": {},
     "output_type": "display_data"
    }
   ],
   "source": [
    "def rec_perm(arr):\n",
    "    return 1\n",
    "\n",
    "print(\":\")\n"
   ]
  },
  {
   "cell_type": "code",
   "execution_count": null,
   "id": "norman-conference",
   "metadata": {},
   "outputs": [],
   "source": [
    "rec_perm([1, 2, 4, 6])"
   ]
  },
  {
   "cell_type": "code",
   "execution_count": 77,
   "id": "hungry-sympathy",
   "metadata": {},
   "outputs": [
    {
     "data": {
      "application/javascript": [
       "\n",
       "            setTimeout(function() {\n",
       "                var nbb_cell_id = 77;\n",
       "                var nbb_unformatted_code = \"buffer = [0, 0]\\narray = [1, 2, 4]\\n\\n\\ndef printArray(arr, buffer, bufferIndex=0):\\n    if bufferIndex == len(buffer):\\n        print(buffer)\\n        return\\n\\n    if len(arr) == 0:\\n        return\\n\\n    for i in range(0, len(arr)):\\n        buffer[bufferIndex] = arr[i]\\n        printArray(arr[i + 1 :], buffer, bufferIndex + 1)\";\n",
       "                var nbb_formatted_code = \"buffer = [0, 0]\\narray = [1, 2, 4]\\n\\n\\ndef printArray(arr, buffer, bufferIndex=0):\\n    if bufferIndex == len(buffer):\\n        print(buffer)\\n        return\\n\\n    if len(arr) == 0:\\n        return\\n\\n    for i in range(0, len(arr)):\\n        buffer[bufferIndex] = arr[i]\\n        printArray(arr[i + 1 :], buffer, bufferIndex + 1)\";\n",
       "                var nbb_cells = Jupyter.notebook.get_cells();\n",
       "                for (var i = 0; i < nbb_cells.length; ++i) {\n",
       "                    if (nbb_cells[i].input_prompt_number == nbb_cell_id) {\n",
       "                        if (nbb_cells[i].get_text() == nbb_unformatted_code) {\n",
       "                             nbb_cells[i].set_text(nbb_formatted_code);\n",
       "                        }\n",
       "                        break;\n",
       "                    }\n",
       "                }\n",
       "            }, 500);\n",
       "            "
      ],
      "text/plain": [
       "<IPython.core.display.Javascript object>"
      ]
     },
     "metadata": {},
     "output_type": "display_data"
    }
   ],
   "source": [
    "buffer = [0, 0]\n",
    "array = [1, 2, 4]\n",
    "\n",
    "\n",
    "def printArray(arr, buffer, bufferIndex=0):\n",
    "    if bufferIndex == len(buffer):\n",
    "        print(buffer)\n",
    "        return\n",
    "\n",
    "    if len(arr) == 0:\n",
    "        return\n",
    "\n",
    "    for i in range(0, len(arr)):\n",
    "        buffer[bufferIndex] = arr[i]\n",
    "        printArray(arr[i + 1 :], buffer, bufferIndex + 1)"
   ]
  },
  {
   "cell_type": "code",
   "execution_count": 78,
   "id": "driving-notebook",
   "metadata": {},
   "outputs": [
    {
     "name": "stdout",
     "output_type": "stream",
     "text": [
      "[1, 2]\n",
      "[1, 4]\n",
      "[2, 4]\n"
     ]
    },
    {
     "data": {
      "application/javascript": [
       "\n",
       "            setTimeout(function() {\n",
       "                var nbb_cell_id = 78;\n",
       "                var nbb_unformatted_code = \"printArray(array, buffer)\";\n",
       "                var nbb_formatted_code = \"printArray(array, buffer)\";\n",
       "                var nbb_cells = Jupyter.notebook.get_cells();\n",
       "                for (var i = 0; i < nbb_cells.length; ++i) {\n",
       "                    if (nbb_cells[i].input_prompt_number == nbb_cell_id) {\n",
       "                        if (nbb_cells[i].get_text() == nbb_unformatted_code) {\n",
       "                             nbb_cells[i].set_text(nbb_formatted_code);\n",
       "                        }\n",
       "                        break;\n",
       "                    }\n",
       "                }\n",
       "            }, 500);\n",
       "            "
      ],
      "text/plain": [
       "<IPython.core.display.Javascript object>"
      ]
     },
     "metadata": {},
     "output_type": "display_data"
    }
   ],
   "source": [
    "printArray(array, buffer)"
   ]
  },
  {
   "cell_type": "code",
   "execution_count": 102,
   "id": "behind-average",
   "metadata": {},
   "outputs": [
    {
     "data": {
      "text/plain": [
       "8"
      ]
     },
     "execution_count": 102,
     "metadata": {},
     "output_type": "execute_result"
    },
    {
     "data": {
      "application/javascript": [
       "\n",
       "            setTimeout(function() {\n",
       "                var nbb_cell_id = 102;\n",
       "                var nbb_unformatted_code = \"def fib(n, memo):\\n    if n in memo:\\n        return memo[n]\\n    else:\\n        memo[n] = fib(n - 1, memo) + fib(n - 2, memo)\\n        return memo[n]\\n\\n\\nmemo_start = {1: 1, 2: 1}\\n\\nfib(6, memo=memo_start)\";\n",
       "                var nbb_formatted_code = \"def fib(n, memo):\\n    if n in memo:\\n        return memo[n]\\n    else:\\n        memo[n] = fib(n - 1, memo) + fib(n - 2, memo)\\n        return memo[n]\\n\\n\\nmemo_start = {1: 1, 2: 1}\\n\\nfib(6, memo=memo_start)\";\n",
       "                var nbb_cells = Jupyter.notebook.get_cells();\n",
       "                for (var i = 0; i < nbb_cells.length; ++i) {\n",
       "                    if (nbb_cells[i].input_prompt_number == nbb_cell_id) {\n",
       "                        if (nbb_cells[i].get_text() == nbb_unformatted_code) {\n",
       "                             nbb_cells[i].set_text(nbb_formatted_code);\n",
       "                        }\n",
       "                        break;\n",
       "                    }\n",
       "                }\n",
       "            }, 500);\n",
       "            "
      ],
      "text/plain": [
       "<IPython.core.display.Javascript object>"
      ]
     },
     "metadata": {},
     "output_type": "display_data"
    }
   ],
   "source": [
    "def fib(n, memo):\n",
    "    if n in memo:\n",
    "        return memo[n]\n",
    "    else:\n",
    "        memo[n] = fib(n - 1, memo) + fib(n - 2, memo)\n",
    "        return memo[n]\n",
    "\n",
    "\n",
    "memo_start = {1: 1, 2: 1}\n",
    "\n",
    "fib(6, memo=memo_start)"
   ]
  },
  {
   "cell_type": "code",
   "execution_count": null,
   "id": "raising-symposium",
   "metadata": {},
   "outputs": [],
   "source": [
    "def perm_A(arr)\n",
    "\n",
    "\n",
    "#     Base case \n",
    "#      TBD\n",
    "    \n",
    "    \n",
    "#     1, 2, 4, 6\n",
    "\n",
    "#     1, 2, 4\n",
    "#     1, 2, 6\n",
    "\n",
    "\n",
    "#     1, 4, 6\n",
    "\n",
    "\n",
    "#     2, 4, 6\n",
    "    \n",
    "    buffer = [0, 0, 0]\n",
    "    \n",
    "    buffer[0] = arr[0] \n",
    "        buffer[1] = arr[1]\n",
    "            buffer[2] = arr[2]\n",
    "            buffer[2] = arr[3]\n",
    "        \n",
    "        buffer[1] = arr[2]\n",
    "            buffer[2] = arr[3]\n",
    "\n",
    "    buffer[0] = array[1]\n",
    "        buffer[1] = arr[2]\n",
    "            buffer[2] = arr[3]\n",
    "\n",
    "\n",
    "\n",
    "    buffer_idx = 0\n",
    "    for i in range(len(arr)):\n",
    "        buffer[buffer_idx] = arr[i]\n",
    "        return printArray(arr[i+1], buffer, buffer_idx+1)\n",
    "            \n",
    "            \n",
    "\n"
   ]
  }
 ],
 "metadata": {
  "kernelspec": {
   "display_name": "Python 3",
   "language": "python",
   "name": "python3"
  },
  "language_info": {
   "codemirror_mode": {
    "name": "ipython",
    "version": 3
   },
   "file_extension": ".py",
   "mimetype": "text/x-python",
   "name": "python",
   "nbconvert_exporter": "python",
   "pygments_lexer": "ipython3",
   "version": "3.7.9"
  }
 },
 "nbformat": 4,
 "nbformat_minor": 5
}
