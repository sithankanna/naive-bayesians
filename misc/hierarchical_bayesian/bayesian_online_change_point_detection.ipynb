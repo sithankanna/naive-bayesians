{
 "cells": [
  {
   "cell_type": "code",
   "execution_count": 1,
   "id": "heard-reset",
   "metadata": {},
   "outputs": [
    {
     "data": {
      "application/javascript": [
       "\n",
       "            setTimeout(function() {\n",
       "                var nbb_cell_id = 1;\n",
       "                var nbb_unformatted_code = \"%load_ext nb_black\";\n",
       "                var nbb_formatted_code = \"%load_ext nb_black\";\n",
       "                var nbb_cells = Jupyter.notebook.get_cells();\n",
       "                for (var i = 0; i < nbb_cells.length; ++i) {\n",
       "                    if (nbb_cells[i].input_prompt_number == nbb_cell_id) {\n",
       "                        if (nbb_cells[i].get_text() == nbb_unformatted_code) {\n",
       "                             nbb_cells[i].set_text(nbb_formatted_code);\n",
       "                        }\n",
       "                        break;\n",
       "                    }\n",
       "                }\n",
       "            }, 500);\n",
       "            "
      ],
      "text/plain": [
       "<IPython.core.display.Javascript object>"
      ]
     },
     "metadata": {},
     "output_type": "display_data"
    }
   ],
   "source": [
    "%load_ext nb_black"
   ]
  },
  {
   "cell_type": "code",
   "execution_count": 2,
   "id": "coordinated-liberal",
   "metadata": {},
   "outputs": [],
   "source": [
    "import pandas as pd\n",
    "import numpy as np\n",
    "from scipy import stats\n",
    "import matplotlib.pyplot as plt\n",
    "\n",
    "plt.rcParams[\"figure.figsize\"] = (10, 5)\n",
    "plt.rcParams[\"font.size\"] = 15"
   ]
  },
  {
   "cell_type": "markdown",
   "id": "dependent-circle",
   "metadata": {},
   "source": [
    "## Online computation of mean\n",
    "\n",
    "$$ \n",
    "\\begin{align}\n",
    "\\bar{x}_t  {} & \\overset{\\text{def}}{=}  \\frac{1}{t}\\sum_{i=1}^{t}x_i  \\\\\n",
    "\\bar{x}_t {} & =  \\frac{1}{t} \\left( x_t + (t-1)\\bar{x}_{t-1} \\right) \\\\\n",
    "\\end{align}\n",
    "$$"
   ]
  },
  {
   "cell_type": "markdown",
   "id": "hawaiian-cheese",
   "metadata": {},
   "source": [
    "## Conjugate Priors\n",
    "\n",
    "\n",
    "Let's model model the data as being iid with a Gaussian likelihood and parameterised by a mean $\\mu$ and precision, $\\tau = 1/\\sigma^2$\n",
    "\n",
    "$$ \n",
    "\\begin{align}\n",
    "x_i | \\mu, \\tau {} & \\overset{iid}{\\sim}  \\mathcal{N}(\\mu, \\tau)  \\\\\n",
    "\\mu {} & \\sim \\mathcal{N}(\\mu_0, \\kappa_0\\tau) \\\\\n",
    "\\tau {} & \\sim \\textsf{Gamma}(\\alpha, \\beta)\n",
    "\\end{align}\n",
    "$$\n",
    "\n",
    "\n",
    "\n",
    "Starting with parameters for $\\mu_0$, $\\kappa_0$, $\\alpha$, $\\beta$, the posterior mean and precision can be calculated as \n",
    "$$\n",
    "\\begin{align}\n",
    "\\mu | \\tau, x \\sim {} & \\mathcal{N}\\left( \\frac{n}{n+n_0}\\bar{x} +  \\frac{\\kappa_0}{n+\\kappa_0}\\mu_0 , (n +\\kappa_0)\\tau   \\right) \\\\\n",
    "\\tau | x \\sim  {} & \\textsf{Ga}\\left( \\alpha + \\frac{n}{2}, \\beta + \\frac{1}{2}\\sum_i (x_i - \\bar{x})^2 + \\frac{n\\kappa_0}{2(n + \\kappa_0)}  (\\bar{x} - \\mu_0)^2  \\right) \n",
    "\\end{align}\n",
    "$$"
   ]
  },
  {
   "cell_type": "markdown",
   "id": "solid-craft",
   "metadata": {},
   "source": [
    "An alternative parameterisation is \n",
    "\n",
    "Unlike the more popular convention of using $ \\mathcal{N}(\\mu,\\sigma^2)$, we will deal with the alternative parametrisation of the normal distribution using the precision $\\tau = 1/\\sigma^2$, i.e. $ \\mathcal{N}(\\mu, \\tau)$ \n",
    "\n",
    "$$ \n",
    "\\begin{align}\n",
    "x_i | \\mu, \\tau {} & \\overset{iid}{\\sim}  \\mathcal{N}(\\mu=\\tilde{\\mu}, \\tau=\\tilde{\\tau})  \\\\\n",
    "\\tilde{\\mu} {} & \\sim  \\textsf{Student-T}_{2\\alpha_0}(\\mu=\\mu_0, \\tau=\\kappa_0 \\alpha_0 / \\beta_0) \\\\\n",
    "\\tilde{\\tau} {} & \\sim \\textsf{Gamma}(\\alpha_0, \\beta_0)\n",
    "\\end{align}\n",
    "$$\n",
    "\n",
    "\n",
    "\n",
    "\n",
    "\n"
   ]
  },
  {
   "cell_type": "markdown",
   "id": "level-hobby",
   "metadata": {},
   "source": [
    "## Online Updates of Conjugate Priors\n",
    "\n",
    "\n",
    "\\begin{align*}\n",
    "\\kappa_t = {} & \\kappa_{t-1} + 1 \\\\\n",
    "\\mu_t = {} & \\frac{1}{\\kappa_t}  \\left(  x_t + \\kappa_{t-1} \\mu_{t-1}  \\right) \\\\\n",
    "\\alpha_t = {} & \\alpha_{t-1} + 1/2  \\\\\n",
    "\\beta_t = {} & \\beta_{t-1} + \\frac{\\kappa_t (x_t - \\mu_t)^2 }{2 (\\kappa_t + 1)} \\\\\n",
    "   x | \\mu_t, \\tau_t  \\sim {} & \\textsf{Student-T}_{2\\alpha_t} \\left(\\mu=\\mu_t, \\tau= \\frac{\\alpha_t \\kappa_t}{\\beta_t(\\kappa_t + 1)}   \\right)\n",
    "\\end{align*}"
   ]
  },
  {
   "cell_type": "code",
   "execution_count": 9,
   "id": "engaged-template",
   "metadata": {},
   "outputs": [
    {
     "name": "stdout",
     "output_type": "stream",
     "text": [
      "Theoretical_variance 2.0 sample variance 2.048124998500413\n"
     ]
    }
   ],
   "source": [
    "n_samp = 50000\n",
    "_alpha0 = 1\n",
    "_beta0 = 2\n",
    "\n",
    "\n",
    "precision = _alpha0/_beta0\n",
    "variance = 1/precision\n",
    "std_dev = np.sqrt(variance)\n",
    "\n",
    "x = stats.t.rvs(size=n_samp, df=100, loc=0, scale=std_dev)\n",
    "print(\"Theoretical_variance\", variance, \"sample variance\", np.var(x))"
   ]
  },
  {
   "cell_type": "code",
   "execution_count": null,
   "id": "asian-equality",
   "metadata": {},
   "outputs": [],
   "source": []
  },
  {
   "cell_type": "code",
   "execution_count": null,
   "id": "rural-processing",
   "metadata": {},
   "outputs": [],
   "source": []
  },
  {
   "cell_type": "markdown",
   "id": "allied-pipeline",
   "metadata": {},
   "source": [
    "## Message Parsing"
   ]
  },
  {
   "cell_type": "code",
   "execution_count": 325,
   "id": "commercial-renaissance",
   "metadata": {},
   "outputs": [
    {
     "name": "stdout",
     "output_type": "stream",
     "text": [
      "Num Data Points= 4 Sum= 10 Mean= 2.5\n"
     ]
    },
    {
     "data": {
      "application/javascript": [
       "\n",
       "            setTimeout(function() {\n",
       "                var nbb_cell_id = 325;\n",
       "                var nbb_unformatted_code = \"data = [1, 2, 3, 4]\\nn = len(data)\\nprint(\\\"Num Data Points=\\\", n, \\\"Sum=\\\", np.sum(data), \\\"Mean=\\\", np.mean(data))\";\n",
       "                var nbb_formatted_code = \"data = [1, 2, 3, 4]\\nn = len(data)\\nprint(\\\"Num Data Points=\\\", n, \\\"Sum=\\\", np.sum(data), \\\"Mean=\\\", np.mean(data))\";\n",
       "                var nbb_cells = Jupyter.notebook.get_cells();\n",
       "                for (var i = 0; i < nbb_cells.length; ++i) {\n",
       "                    if (nbb_cells[i].input_prompt_number == nbb_cell_id) {\n",
       "                        if (nbb_cells[i].get_text() == nbb_unformatted_code) {\n",
       "                             nbb_cells[i].set_text(nbb_formatted_code);\n",
       "                        }\n",
       "                        break;\n",
       "                    }\n",
       "                }\n",
       "            }, 500);\n",
       "            "
      ],
      "text/plain": [
       "<IPython.core.display.Javascript object>"
      ]
     },
     "metadata": {},
     "output_type": "display_data"
    }
   ],
   "source": [
    "data = [1, 2, 3, 4]\n",
    "n = len(data)\n",
    "print(\"Num Data Points=\", n, \"Sum=\", np.sum(data), \"Mean=\", np.mean(data))\n",
    "\n",
    "\n",
    "# [1, 2, 3, 4]\n",
    "#    [2, 3, 4] \n",
    "#        [3, 4]\n",
    "\n",
    "# t1, t2, t3, t4\n",
    "# 1, 3, 6, 10\n",
    "#    2, 5, 9\n",
    "#       3, 7"
   ]
  },
  {
   "cell_type": "code",
   "execution_count": 321,
   "id": "analyzed-affair",
   "metadata": {},
   "outputs": [
    {
     "name": "stdout",
     "output_type": "stream",
     "text": [
      "[[ 0.  0.  0.  0.  0.]\n",
      " [ 0.  1.  2.  3.  4.]\n",
      " [ 0.  0.  3.  5.  7.]\n",
      " [ 0.  0.  0.  6.  9.]\n",
      " [ 0.  0.  0.  0. 10.]]\n"
     ]
    },
    {
     "data": {
      "application/javascript": [
       "\n",
       "            setTimeout(function() {\n",
       "                var nbb_cell_id = 321;\n",
       "                var nbb_unformatted_code = \"sample_mean = np.zeros([n + 1, n + 1])\\nsample_sum = np.zeros([n + 1, n + 1])\\ncounter = np.zeros([n + 1, n + 1])\\n\\ntime = 0\\ntime_list = []\\nsample_mean[0, :] = 0\\n\\n\\nfor t in range(1, n + 1):\\n    x_t = data[t - 1]\\n\\n    counter[1 : t + 1, t] = counter[:t, t - 1] + 1\\n    sample_sum[1 : t + 1, t] = sample_sum[:t, t - 1] + x_t\\n    alpha[1 : t + 1, t] = 0.5 + alpha[:t, t - 1]\\n\\n\\n    sample_mean[1 : t + 1, t] = (1 / counter[1 : t + 1, t]) * (\\n        x_t + (counter[1 : t + 1, t] - 1) * sample_mean[:t, t - 1]\\n    )\\nprint(sample_sum)\";\n",
       "                var nbb_formatted_code = \"sample_mean = np.zeros([n + 1, n + 1])\\nsample_sum = np.zeros([n + 1, n + 1])\\ncounter = np.zeros([n + 1, n + 1])\\n\\ntime = 0\\ntime_list = []\\nsample_mean[0, :] = 0\\n\\n\\nfor t in range(1, n + 1):\\n    x_t = data[t - 1]\\n\\n    counter[1 : t + 1, t] = counter[:t, t - 1] + 1\\n    sample_sum[1 : t + 1, t] = sample_sum[:t, t - 1] + x_t\\n    alpha[1 : t + 1, t] = 0.5 + alpha[:t, t - 1]\\n\\n    sample_mean[1 : t + 1, t] = (1 / counter[1 : t + 1, t]) * (\\n        x_t + (counter[1 : t + 1, t] - 1) * sample_mean[:t, t - 1]\\n    )\\nprint(sample_sum)\";\n",
       "                var nbb_cells = Jupyter.notebook.get_cells();\n",
       "                for (var i = 0; i < nbb_cells.length; ++i) {\n",
       "                    if (nbb_cells[i].input_prompt_number == nbb_cell_id) {\n",
       "                        if (nbb_cells[i].get_text() == nbb_unformatted_code) {\n",
       "                             nbb_cells[i].set_text(nbb_formatted_code);\n",
       "                        }\n",
       "                        break;\n",
       "                    }\n",
       "                }\n",
       "            }, 500);\n",
       "            "
      ],
      "text/plain": [
       "<IPython.core.display.Javascript object>"
      ]
     },
     "metadata": {},
     "output_type": "display_data"
    }
   ],
   "source": [
    "sample_sum = np.zeros([n + 1, n + 1])\n",
    "counter = np.zeros([n + 1, n + 1])\n",
    "\n",
    "time = 0\n",
    "time_list = []\n",
    "sample_mean[0, :] = 0\n",
    "\n",
    "\n",
    "for t in range(1, n + 1):\n",
    "    x_t = data[t - 1]\n",
    "\n",
    "    counter[1 : t + 1, t] = counter[:t, t - 1] + 1\n",
    "    sample_sum[1 : t + 1, t] = sample_sum[:t, t - 1] + x_t\n",
    "\n",
    "print(sample_sum)"
   ]
  },
  {
   "cell_type": "code",
   "execution_count": 322,
   "id": "patent-sacrifice",
   "metadata": {},
   "outputs": [
    {
     "name": "stdout",
     "output_type": "stream",
     "text": [
      "[[0.  0.  0.  0.  0. ]\n",
      " [0.  1.  2.  3.  4. ]\n",
      " [0.  0.  1.5 2.5 3.5]\n",
      " [0.  0.  0.  2.  3. ]\n",
      " [0.  0.  0.  0.  2.5]]\n"
     ]
    },
    {
     "data": {
      "application/javascript": [
       "\n",
       "            setTimeout(function() {\n",
       "                var nbb_cell_id = 322;\n",
       "                var nbb_unformatted_code = \"sample_mean = np.zeros([n + 1, n + 1])\\n\\n\\nfor t in range(1, n + 1):\\n    x_t = data[t - 1]\\n\\n    counter[1 : t + 1, t] = counter[:t, t - 1] + 1\\n\\n    sample_mean[1 : t + 1, t] = (1 / counter[1 : t + 1, t]) * (\\n        x_t + (counter[1 : t + 1, t] - 1) * sample_mean[:t, t - 1]\\n    )\\n\\nprint(sample_mean)\";\n",
       "                var nbb_formatted_code = \"sample_mean = np.zeros([n + 1, n + 1])\\n\\n\\nfor t in range(1, n + 1):\\n    x_t = data[t - 1]\\n\\n    counter[1 : t + 1, t] = counter[:t, t - 1] + 1\\n\\n    sample_mean[1 : t + 1, t] = (1 / counter[1 : t + 1, t]) * (\\n        x_t + (counter[1 : t + 1, t] - 1) * sample_mean[:t, t - 1]\\n    )\\n\\nprint(sample_mean)\";\n",
       "                var nbb_cells = Jupyter.notebook.get_cells();\n",
       "                for (var i = 0; i < nbb_cells.length; ++i) {\n",
       "                    if (nbb_cells[i].input_prompt_number == nbb_cell_id) {\n",
       "                        if (nbb_cells[i].get_text() == nbb_unformatted_code) {\n",
       "                             nbb_cells[i].set_text(nbb_formatted_code);\n",
       "                        }\n",
       "                        break;\n",
       "                    }\n",
       "                }\n",
       "            }, 500);\n",
       "            "
      ],
      "text/plain": [
       "<IPython.core.display.Javascript object>"
      ]
     },
     "metadata": {},
     "output_type": "display_data"
    }
   ],
   "source": [
    "sample_mean = np.zeros([n + 1, n + 1])\n",
    "\n",
    "\n",
    "for t in range(1, n + 1):\n",
    "    x_t = data[t - 1]\n",
    "\n",
    "    counter[1 : t + 1, t] = counter[:t, t - 1] + 1\n",
    "\n",
    "    sample_mean[1 : t + 1, t] = (1 / counter[1 : t + 1, t]) * (\n",
    "        x_t + (counter[1 : t + 1, t] - 1) * sample_mean[:t, t - 1]\n",
    "    )\n",
    "\n",
    "print(sample_mean)"
   ]
  },
  {
   "cell_type": "code",
   "execution_count": null,
   "id": "electoral-investigation",
   "metadata": {},
   "outputs": [],
   "source": []
  },
  {
   "cell_type": "code",
   "execution_count": null,
   "id": "narrative-transsexual",
   "metadata": {},
   "outputs": [],
   "source": []
  },
  {
   "cell_type": "code",
   "execution_count": 231,
   "id": "empirical-jurisdiction",
   "metadata": {},
   "outputs": [
    {
     "data": {
      "application/javascript": [
       "\n",
       "            setTimeout(function() {\n",
       "                var nbb_cell_id = 231;\n",
       "                var nbb_unformatted_code = \"data_time = np.append(\\n    stats.norm.rvs(size=50, loc=1, scale=0.1),\\n    stats.norm.rvs(size=50, loc=3, scale=0.1),\\n)\";\n",
       "                var nbb_formatted_code = \"data_time = np.append(\\n    stats.norm.rvs(size=50, loc=1, scale=0.1),\\n    stats.norm.rvs(size=50, loc=3, scale=0.1),\\n)\";\n",
       "                var nbb_cells = Jupyter.notebook.get_cells();\n",
       "                for (var i = 0; i < nbb_cells.length; ++i) {\n",
       "                    if (nbb_cells[i].input_prompt_number == nbb_cell_id) {\n",
       "                        if (nbb_cells[i].get_text() == nbb_unformatted_code) {\n",
       "                             nbb_cells[i].set_text(nbb_formatted_code);\n",
       "                        }\n",
       "                        break;\n",
       "                    }\n",
       "                }\n",
       "            }, 500);\n",
       "            "
      ],
      "text/plain": [
       "<IPython.core.display.Javascript object>"
      ]
     },
     "metadata": {},
     "output_type": "display_data"
    }
   ],
   "source": [
    "data_time = np.append(\n",
    "    stats.norm.rvs(size=50, loc=1, scale=0.1),\n",
    "    stats.norm.rvs(size=50, loc=3, scale=0.1),\n",
    ")"
   ]
  },
  {
   "cell_type": "code",
   "execution_count": 232,
   "id": "prime-tractor",
   "metadata": {},
   "outputs": [
    {
     "data": {
      "image/png": "[encoded data removed]",
      "text/plain": [
       "<Figure size 720x360 with 1 Axes>"
      ]
     },
     "metadata": {
      "needs_background": "light"
     },
     "output_type": "display_data"
    },
    {
     "data": {
      "application/javascript": [
       "\n",
       "            setTimeout(function() {\n",
       "                var nbb_cell_id = 232;\n",
       "                var nbb_unformatted_code = \"plt.plot(data_time)\\nplt.show()\";\n",
       "                var nbb_formatted_code = \"plt.plot(data_time)\\nplt.show()\";\n",
       "                var nbb_cells = Jupyter.notebook.get_cells();\n",
       "                for (var i = 0; i < nbb_cells.length; ++i) {\n",
       "                    if (nbb_cells[i].input_prompt_number == nbb_cell_id) {\n",
       "                        if (nbb_cells[i].get_text() == nbb_unformatted_code) {\n",
       "                             nbb_cells[i].set_text(nbb_formatted_code);\n",
       "                        }\n",
       "                        break;\n",
       "                    }\n",
       "                }\n",
       "            }, 500);\n",
       "            "
      ],
      "text/plain": [
       "<IPython.core.display.Javascript object>"
      ]
     },
     "metadata": {},
     "output_type": "display_data"
    }
   ],
   "source": [
    "plt.plot(data_time)\n",
    "plt.show()"
   ]
  },
  {
   "cell_type": "code",
   "execution_count": null,
   "id": "medium-richmond",
   "metadata": {},
   "outputs": [],
   "source": []
  },
  {
   "cell_type": "code",
   "execution_count": null,
   "id": "square-carol",
   "metadata": {
    "scrolled": true
   },
   "outputs": [],
   "source": [
    "data = [1, 2, 3, 4]\n",
    "\n",
    "T = len(data)\n",
    "\n",
    "R = np.zeros([T+1, T+1])\n",
    "prob_data = np.zeros([T+1, T+1])\n",
    "mu = np.zeros([T+1, T+1])\n",
    "tau = np.ones([T+1, T+1])\n",
    "update_vec = np.zeros([T+1, T+1])\n",
    "\n",
    "\n",
    "TIME =  np.zeros([T+1, T+1])\n",
    "# TIME[0, 1] = 1\n",
    "\n",
    "H = 1 / 60\n",
    "\n",
    "across = {\"rows\": 0, \"columns\": 1}\n",
    "\n",
    "\n",
    "for t in range(1, T+1):\n",
    "    x = data[t-1]\n",
    "    \n",
    "#     prob_data[:, t] = stats.norm.pdf(x=x, loc=mu[:, t], scale=1/tau[:, t])\n",
    "\n",
    "#     # Update Run Length P\n",
    "#     R[1:t+1, t+1] = R[0:t, t] * prob_data * H  # element wise multiplication\n",
    "    \n",
    "#     R[0, t+1] = np.sum(R[1:t, t] * prob_data  * (1 - H))\n",
    "    \n",
    "#     # Normalise to get valid probabilities     \n",
    "#     R[:, t+1] = R[:, t+1] / R.sum(axis=across[\"rows\"])\n",
    "#     TIME[1:T+1, t+1] =  TIME[0:T, t]\n",
    "    TIME[1:t+1, t] =  TIME[0:t, t-1] + x\n",
    "    \n",
    "    print(TIME[:, t])\n",
    "#     mu[1:t, t+1], = mu[1:t, t+1] \n",
    "    \n",
    "    \n"
   ]
  },
  {
   "cell_type": "code",
   "execution_count": null,
   "id": "planned-string",
   "metadata": {},
   "outputs": [],
   "source": []
  },
  {
   "cell_type": "code",
   "execution_count": null,
   "id": "documentary-works",
   "metadata": {},
   "outputs": [],
   "source": [
    "# I want to look at R\n",
    "\n",
    "\n",
    "A = np.array([[1, 2, 3], [2, 5, 99]])\n",
    "print(A)\n",
    "\n",
    "A / A.sum(axis=across[\"rows\"])\n"
   ]
  },
  {
   "cell_type": "code",
   "execution_count": null,
   "id": "indonesian-court",
   "metadata": {},
   "outputs": [],
   "source": []
  },
  {
   "cell_type": "code",
   "execution_count": null,
   "id": "confirmed-biology",
   "metadata": {},
   "outputs": [],
   "source": [
    "?stats.norm.pdf"
   ]
  },
  {
   "cell_type": "code",
   "execution_count": null,
   "id": "unexpected-front",
   "metadata": {},
   "outputs": [],
   "source": [
    "x = 0.5\n"
   ]
  },
  {
   "cell_type": "code",
   "execution_count": 170,
   "id": "committed-africa",
   "metadata": {},
   "outputs": [
    {
     "data": {
      "application/javascript": [
       "\n",
       "            setTimeout(function() {\n",
       "                var nbb_cell_id = 170;\n",
       "                var nbb_unformatted_code = \"data = np.array([1, 2, 4, 6])\";\n",
       "                var nbb_formatted_code = \"data = np.array([1, 2, 4, 6])\";\n",
       "                var nbb_cells = Jupyter.notebook.get_cells();\n",
       "                for (var i = 0; i < nbb_cells.length; ++i) {\n",
       "                    if (nbb_cells[i].input_prompt_number == nbb_cell_id) {\n",
       "                        if (nbb_cells[i].get_text() == nbb_unformatted_code) {\n",
       "                             nbb_cells[i].set_text(nbb_formatted_code);\n",
       "                        }\n",
       "                        break;\n",
       "                    }\n",
       "                }\n",
       "            }, 500);\n",
       "            "
      ],
      "text/plain": [
       "<IPython.core.display.Javascript object>"
      ]
     },
     "metadata": {},
     "output_type": "display_data"
    }
   ],
   "source": [
    "data = np.array([1, 2, 4, 6])\n",
    "\n"
   ]
  },
  {
   "cell_type": "code",
   "execution_count": 171,
   "id": "swiss-dylan",
   "metadata": {},
   "outputs": [
    {
     "name": "stdout",
     "output_type": "stream",
     "text": [
      "Prior mean, mu0 3 Prior precision, tau0  10.00\n",
      "\n",
      "Sample mean, x_bar 3.25 Sample precision, tau_x  0.27\n",
      "---\n",
      "Posterior mean,  3.20 Posterior precision,  1.43\n"
     ]
    },
    {
     "data": {
      "application/javascript": [
       "\n",
       "            setTimeout(function() {\n",
       "                var nbb_cell_id = 171;\n",
       "                var nbb_unformatted_code = \"def update_param_vtau(data: np.array) -> None:\\n\\n    mu0 = 3\\n    n0 = 1\\n    alpha = 10\\n    beta = 1\\n\\n    tau_mean_prior = alpha / beta\\n\\n    print(f\\\"Prior mean, mu0 {mu0}\\\", f\\\"Prior precision, tau0 {tau_mean_prior: .2f}\\\")\\n\\n    n = len(data)\\n    data_bar = np.mean(data)\\n    tau_x = 1 / np.var(data)\\n\\n    print(\\\"\\\")\\n    print(f\\\"Sample mean, x_bar {data_bar}\\\", f\\\"Sample precision, tau_x {tau_x: .2f}\\\")\\n\\n    alpha_post = alpha + n / 2\\n    beta_post = (\\n        beta\\n        + 0.5 * np.sum((data - data_bar) ** 2)\\n        + 0.5 * n * n0 / (n + n0) * (data_bar - mu0) ** 2\\n    )\\n    tau_mean_post = alpha_post / beta_post\\n\\n    mu_mean_post = (n / (n + n0)) * data_bar + (n0 / (n + n0)) * mu0\\n\\n    print(\\\"---\\\")\\n    print(\\n        f\\\"Posterior mean, {mu_mean_post: .2f}\\\",\\n        f\\\"Posterior precision, {tau_mean_post: .2f}\\\",\\n    )\\n\\n    pass\\n\\n\\nupdate_param_vtau(data)\";\n",
       "                var nbb_formatted_code = \"def update_param_vtau(data: np.array) -> None:\\n\\n    mu0 = 3\\n    n0 = 1\\n    alpha = 10\\n    beta = 1\\n\\n    tau_mean_prior = alpha / beta\\n\\n    print(f\\\"Prior mean, mu0 {mu0}\\\", f\\\"Prior precision, tau0 {tau_mean_prior: .2f}\\\")\\n\\n    n = len(data)\\n    data_bar = np.mean(data)\\n    tau_x = 1 / np.var(data)\\n\\n    print(\\\"\\\")\\n    print(f\\\"Sample mean, x_bar {data_bar}\\\", f\\\"Sample precision, tau_x {tau_x: .2f}\\\")\\n\\n    alpha_post = alpha + n / 2\\n    beta_post = (\\n        beta\\n        + 0.5 * np.sum((data - data_bar) ** 2)\\n        + 0.5 * n * n0 / (n + n0) * (data_bar - mu0) ** 2\\n    )\\n    tau_mean_post = alpha_post / beta_post\\n\\n    mu_mean_post = (n / (n + n0)) * data_bar + (n0 / (n + n0)) * mu0\\n\\n    print(\\\"---\\\")\\n    print(\\n        f\\\"Posterior mean, {mu_mean_post: .2f}\\\",\\n        f\\\"Posterior precision, {tau_mean_post: .2f}\\\",\\n    )\\n\\n    pass\\n\\n\\nupdate_param_vtau(data)\";\n",
       "                var nbb_cells = Jupyter.notebook.get_cells();\n",
       "                for (var i = 0; i < nbb_cells.length; ++i) {\n",
       "                    if (nbb_cells[i].input_prompt_number == nbb_cell_id) {\n",
       "                        if (nbb_cells[i].get_text() == nbb_unformatted_code) {\n",
       "                             nbb_cells[i].set_text(nbb_formatted_code);\n",
       "                        }\n",
       "                        break;\n",
       "                    }\n",
       "                }\n",
       "            }, 500);\n",
       "            "
      ],
      "text/plain": [
       "<IPython.core.display.Javascript object>"
      ]
     },
     "metadata": {},
     "output_type": "display_data"
    }
   ],
   "source": [
    "def update_param_vtau(data: np.array) -> None:\n",
    "\n",
    "    mu0 = 3\n",
    "    n0 = 1\n",
    "    alpha = 10\n",
    "    beta = 1\n",
    "\n",
    "    tau_mean_prior = alpha / beta\n",
    "\n",
    "    print(f\"Prior mean, mu0 {mu0}\", f\"Prior precision, tau0 {tau_mean_prior: .2f}\")\n",
    "\n",
    "    n = len(data)\n",
    "    data_bar = np.mean(data)\n",
    "    tau_x = 1 / np.var(data)\n",
    "\n",
    "    print(\"\")\n",
    "    print(f\"Sample mean, x_bar {data_bar}\", f\"Sample precision, tau_x {tau_x: .2f}\")\n",
    "\n",
    "    alpha_post = alpha + n / 2\n",
    "    beta_post = (\n",
    "        beta\n",
    "        + 0.5 * np.sum((data - data_bar) ** 2)\n",
    "        + 0.5 * n * n0 / (n + n0) * (data_bar - mu0) ** 2\n",
    "    )\n",
    "    tau_mean_post = alpha_post / beta_post\n",
    "\n",
    "    mu_mean_post = (n / (n + n0)) * data_bar + (n0 / (n + n0)) * mu0\n",
    "\n",
    "    print(\"---\")\n",
    "    print(\n",
    "        f\"Posterior mean, {mu_mean_post: .2f}\",\n",
    "        f\"Posterior precision, {tau_mean_post: .2f}\",\n",
    "    )\n",
    "\n",
    "    pass\n",
    "\n",
    "\n",
    "update_param_vtau(data)"
   ]
  },
  {
   "cell_type": "code",
   "execution_count": 172,
   "id": "municipal-tours",
   "metadata": {},
   "outputs": [
    {
     "name": "stdout",
     "output_type": "stream",
     "text": [
      "Prior mean, mu0 3 Prior precision, tau0  10.00\n",
      "\n",
      "Sample mean, x_bar 3.25 Sample precision, tau_x  0.27\n",
      "---\n",
      "Posterior mean,  3.20 Posterior precision,  1.43\n"
     ]
    },
    {
     "data": {
      "application/javascript": [
       "\n",
       "            setTimeout(function() {\n",
       "                var nbb_cell_id = 172;\n",
       "                var nbb_unformatted_code = \"def update_param_reparam(data: np.array) -> None:\\n\\n    mu0 = 3\\n    kappa0 = 1\\n    alpha = 10\\n    beta = 1\\n\\n    tau_mean_prior = alpha / beta\\n\\n    print(f\\\"Prior mean, mu0 {mu0}\\\", f\\\"Prior precision, tau0 {tau_mean_prior: .2f}\\\")\\n\\n    n = len(data)\\n    data_bar = np.mean(data)\\n    tau_x = 1 / np.var(data)\\n\\n    print(\\\"\\\")\\n    print(f\\\"Sample mean, x_bar {data_bar}\\\", f\\\"Sample precision, tau_x {tau_x: .2f}\\\")\\n\\n    alpha_post = alpha + n / 2\\n    beta_post = (\\n        beta\\n        + 0.5 * np.sum((data - data_bar) ** 2)\\n        + 0.5 * (n * kappa0 / (n + kappa0)) * (data_bar - mu0) ** 2\\n    )\\n    tau_mean_post = alpha_post / beta_post\\n\\n    kappa_post = kappa0 + n\\n    mu_mean_post = (n / (n + kappa0)) * data_bar + (kappa0 / (n + kappa0)) * mu0\\n\\n    print(\\\"---\\\")\\n    print(\\n        f\\\"Posterior mean, {mu_mean_post: .2f}\\\",\\n        f\\\"Posterior precision, {tau_mean_post: .2f}\\\",\\n    )\\n\\n    pass\\n\\n\\nupdate_param_reparam(data)\";\n",
       "                var nbb_formatted_code = \"def update_param_reparam(data: np.array) -> None:\\n\\n    mu0 = 3\\n    kappa0 = 1\\n    alpha = 10\\n    beta = 1\\n\\n    tau_mean_prior = alpha / beta\\n\\n    print(f\\\"Prior mean, mu0 {mu0}\\\", f\\\"Prior precision, tau0 {tau_mean_prior: .2f}\\\")\\n\\n    n = len(data)\\n    data_bar = np.mean(data)\\n    tau_x = 1 / np.var(data)\\n\\n    print(\\\"\\\")\\n    print(f\\\"Sample mean, x_bar {data_bar}\\\", f\\\"Sample precision, tau_x {tau_x: .2f}\\\")\\n\\n    alpha_post = alpha + n / 2\\n    beta_post = (\\n        beta\\n        + 0.5 * np.sum((data - data_bar) ** 2)\\n        + 0.5 * (n * kappa0 / (n + kappa0)) * (data_bar - mu0) ** 2\\n    )\\n    tau_mean_post = alpha_post / beta_post\\n\\n    kappa_post = kappa0 + n\\n    mu_mean_post = (n / (n + kappa0)) * data_bar + (kappa0 / (n + kappa0)) * mu0\\n\\n    print(\\\"---\\\")\\n    print(\\n        f\\\"Posterior mean, {mu_mean_post: .2f}\\\",\\n        f\\\"Posterior precision, {tau_mean_post: .2f}\\\",\\n    )\\n\\n    pass\\n\\n\\nupdate_param_reparam(data)\";\n",
       "                var nbb_cells = Jupyter.notebook.get_cells();\n",
       "                for (var i = 0; i < nbb_cells.length; ++i) {\n",
       "                    if (nbb_cells[i].input_prompt_number == nbb_cell_id) {\n",
       "                        if (nbb_cells[i].get_text() == nbb_unformatted_code) {\n",
       "                             nbb_cells[i].set_text(nbb_formatted_code);\n",
       "                        }\n",
       "                        break;\n",
       "                    }\n",
       "                }\n",
       "            }, 500);\n",
       "            "
      ],
      "text/plain": [
       "<IPython.core.display.Javascript object>"
      ]
     },
     "metadata": {},
     "output_type": "display_data"
    }
   ],
   "source": [
    "def update_param_reparam(data: np.array) -> None:\n",
    "\n",
    "    mu0 = 3\n",
    "    kappa0 = 1\n",
    "    alpha = 10\n",
    "    beta = 1\n",
    "\n",
    "    tau_mean_prior = alpha / beta\n",
    "\n",
    "    print(f\"Prior mean, mu0 {mu0}\", f\"Prior precision, tau0 {tau_mean_prior: .2f}\")\n",
    "\n",
    "    n = len(data)\n",
    "    data_bar = np.mean(data)\n",
    "    tau_x = 1 / np.var(data)\n",
    "\n",
    "    print(\"\")\n",
    "    print(f\"Sample mean, x_bar {data_bar}\", f\"Sample precision, tau_x {tau_x: .2f}\")\n",
    "\n",
    "    alpha_post = alpha + n / 2\n",
    "    beta_post = (\n",
    "        beta\n",
    "        + 0.5 * np.sum((data - data_bar) ** 2)\n",
    "        + 0.5 * (n * kappa0 / (n + kappa0)) * (data_bar - mu0) ** 2\n",
    "    )\n",
    "    tau_mean_post = alpha_post / beta_post\n",
    "\n",
    "    kappa_post = kappa0 + n\n",
    "    mu_mean_post = (n / (n + kappa0)) * data_bar + (kappa0 / (n + kappa0)) * mu0\n",
    "\n",
    "    print(\"---\")\n",
    "    print(\n",
    "        f\"Posterior mean, {mu_mean_post: .2f}\",\n",
    "        f\"Posterior precision, {tau_mean_post: .2f}\",\n",
    "    )\n",
    "\n",
    "    pass\n",
    "\n",
    "\n",
    "update_param_reparam(data)"
   ]
  },
  {
   "cell_type": "code",
   "execution_count": null,
   "id": "designing-indonesian",
   "metadata": {},
   "outputs": [],
   "source": [
    "t0 = 1\n",
    "\n",
    "\n",
    "online_mu = np.zeros(n + 1)\n",
    "online_alpha = np.zeros(n + 1)\n",
    "online_beta = np.zeros(n + 1)\n",
    "online_tau = np.zeros(n + 1)\n",
    "\n",
    "\n",
    "online_s = np.zeros(n + 1)\n",
    "online_t = np.zeros(n + 1)\n",
    "\n",
    "\n",
    "online_mu[0] = 3\n",
    "online_alpha[0] = 10\n",
    "online_beta[0] = 1\n",
    "sample_mean = 0\n",
    "for t in range(n):\n",
    "\n",
    "    x = data[t]\n",
    "    # Keeping track of time\n",
    "    T = t0 + t + 1\n",
    "    online_mu[t + 1] = (1 /T) * (x + (T - 1) * online_mu[t])\n",
    "\n",
    "    sample_mean = (1 / (t + 1)) * (x + (t + 1 - 1) * sample_mean)\n",
    "    print(x, sample_mean)\n",
    "\n",
    "    online_alpha[t + 1] = online_alpha[t] + 0.5\n",
    "\n",
    "    online_s[t + 1] = online_s[t] + x ** 2\n",
    "\n",
    "    online_beta[t + 1] = (\n",
    "        online_beta[0]\n",
    "        + 0.5 * (online_s[t + 1] - (t + 1) * (sample_mean ** 2))\n",
    "        + 0.5 * ((t + 1) * t0 / (t + 1 + t0)) * ((sample_mean - mu0) ** 2)\n",
    "    )\n",
    "\n",
    "    online_tau[t + 1] = online_alpha[t + 1] / online_beta[t + 1]"
   ]
  },
  {
   "cell_type": "code",
   "execution_count": 33,
   "id": "mobile-candy",
   "metadata": {},
   "outputs": [
    {
     "name": "stdout",
     "output_type": "stream",
     "text": [
      "13\n",
      "[1 2 4 6]\n",
      "[[0. 0. 0. 0. 0.]\n",
      " [0. 1. 1. 1. 1.]\n",
      " [0. 0. 2. 2. 2.]\n",
      " [0. 0. 0. 3. 3.]\n",
      " [0. 0. 0. 0. 4.]]\n"
     ]
    },
    {
     "data": {
      "application/javascript": [
       "\n",
       "            setTimeout(function() {\n",
       "                var nbb_cell_id = 33;\n",
       "                var nbb_unformatted_code = \"print(np.sum(data))\\n\\nsample_mean = np.zeros([n + 1, n + 1])\\nsample_sum = np.zeros([n + 1, n + 1])\\ncounter = np.zeros([n + 1, n + 1])\\n\\n\\ntime = 0\\ntime_list = []\\nsample_mean[0, :] = 0\\n\\n\\nfor t in range(1, n + 1):\\n    x_t = data[t - 1]\\n\\n    counter[1 : t + 1, t] = counter[:t, t - 1] + 1\\n\\n    sample_mean[1 : t + 1, t] = (1 / counter[1 : t + 1, t]) * (\\n        x_t + (counter[1 : t + 1, t] - 1) * sample_mean[:t, t - 1]\\n    )\\n\\n#     sample_sum[1 : t + 1, t] = sample_sum[:t, t - 1] + x_t\\n\\nprint(data)\\nprint(counter)\";\n",
       "                var nbb_formatted_code = \"print(np.sum(data))\\n\\nsample_mean = np.zeros([n + 1, n + 1])\\nsample_sum = np.zeros([n + 1, n + 1])\\ncounter = np.zeros([n + 1, n + 1])\\n\\n\\ntime = 0\\ntime_list = []\\nsample_mean[0, :] = 0\\n\\n\\nfor t in range(1, n + 1):\\n    x_t = data[t - 1]\\n\\n    counter[1 : t + 1, t] = counter[:t, t - 1] + 1\\n\\n    sample_mean[1 : t + 1, t] = (1 / counter[1 : t + 1, t]) * (\\n        x_t + (counter[1 : t + 1, t] - 1) * sample_mean[:t, t - 1]\\n    )\\n\\n#     sample_sum[1 : t + 1, t] = sample_sum[:t, t - 1] + x_t\\n\\nprint(data)\\nprint(counter)\";\n",
       "                var nbb_cells = Jupyter.notebook.get_cells();\n",
       "                for (var i = 0; i < nbb_cells.length; ++i) {\n",
       "                    if (nbb_cells[i].input_prompt_number == nbb_cell_id) {\n",
       "                        if (nbb_cells[i].get_text() == nbb_unformatted_code) {\n",
       "                             nbb_cells[i].set_text(nbb_formatted_code);\n",
       "                        }\n",
       "                        break;\n",
       "                    }\n",
       "                }\n",
       "            }, 500);\n",
       "            "
      ],
      "text/plain": [
       "<IPython.core.display.Javascript object>"
      ]
     },
     "metadata": {},
     "output_type": "display_data"
    }
   ],
   "source": [
    "print(np.sum(data))\n",
    "\n",
    "sample_mean = np.zeros([n + 1, n + 1])\n",
    "sample_sum = np.zeros([n + 1, n + 1])\n",
    "counter = np.zeros([n + 1, n + 1])\n",
    "\n",
    "\n",
    "time = 0\n",
    "time_list = []\n",
    "sample_mean[0, :] = 0\n",
    "\n",
    "\n",
    "for t in range(1, n + 1):\n",
    "    x_t = data[t - 1]\n",
    "\n",
    "    counter[1 : t + 1, t] = counter[:t, t - 1] + 1\n",
    "\n",
    "    sample_mean[1 : t + 1, t] = (1 / counter[1 : t + 1, t]) * (\n",
    "        x_t + (counter[1 : t + 1, t] - 1) * sample_mean[:t, t - 1]\n",
    "    )\n",
    "\n",
    "#     sample_sum[1 : t + 1, t] = sample_sum[:t, t - 1] + x_t\n",
    "\n",
    "print(data)\n",
    "print(counter)"
   ]
  },
  {
   "cell_type": "code",
   "execution_count": 145,
   "id": "corresponding-gates",
   "metadata": {},
   "outputs": [
    {
     "data": {
      "text/plain": [
       "array([  1,   2,   4, -60])"
      ]
     },
     "execution_count": 145,
     "metadata": {},
     "output_type": "execute_result"
    },
    {
     "data": {
      "application/javascript": [
       "\n",
       "            setTimeout(function() {\n",
       "                var nbb_cell_id = 145;\n",
       "                var nbb_unformatted_code = \"data\";\n",
       "                var nbb_formatted_code = \"data\";\n",
       "                var nbb_cells = Jupyter.notebook.get_cells();\n",
       "                for (var i = 0; i < nbb_cells.length; ++i) {\n",
       "                    if (nbb_cells[i].input_prompt_number == nbb_cell_id) {\n",
       "                        if (nbb_cells[i].get_text() == nbb_unformatted_code) {\n",
       "                             nbb_cells[i].set_text(nbb_formatted_code);\n",
       "                        }\n",
       "                        break;\n",
       "                    }\n",
       "                }\n",
       "            }, 500);\n",
       "            "
      ],
      "text/plain": [
       "<IPython.core.display.Javascript object>"
      ]
     },
     "metadata": {},
     "output_type": "display_data"
    }
   ],
   "source": [
    "data"
   ]
  },
  {
   "cell_type": "markdown",
   "id": "sexual-robert",
   "metadata": {},
   "source": [
    "\n",
    "\\begin{align*}\n",
    "\\kappa_t = {} & \\kappa_{t-1} + 1 \\\\\n",
    "\\mu_t = {} & \\frac{1}{\\kappa_t}  \\left(  x_t + \\kappa_{t-1} \\mu_{t-1}  \\right) \\\\\n",
    "\\alpha_t = {} & \\alpha_{t-1} + 1/2  \\\\\n",
    "\\beta_t = {} & \\beta_{t-1} + \\frac{\\kappa_t (x_t - \\mu_t)^2 }{2 (\\kappa_t + 1)} \\\\\n",
    "    p(x) = {} & \\textsf{Student-T}_{2\\alpha_t} \\left(\\mu=\\mu_t, \\lambda= \\frac{\\alpha_t \\kappa_t}{\\beta_t(\\kappa_t + 1)}   \\right)\n",
    "\\end{align*}"
   ]
  },
  {
   "cell_type": "code",
   "execution_count": 266,
   "id": "swiss-display",
   "metadata": {},
   "outputs": [
    {
     "name": "stderr",
     "output_type": "stream",
     "text": [
      "/opt/anaconda3/envs/homework/lib/python3.7/site-packages/ipykernel_launcher.py:64: RuntimeWarning: invalid value encountered in true_divide\n"
     ]
    },
    {
     "data": {
      "application/javascript": [
       "\n",
       "            setTimeout(function() {\n",
       "                var nbb_cell_id = 266;\n",
       "                var nbb_unformatted_code = \"n = len(data_time)\\n\\nmu = np.zeros([n + 1, n + 1])\\nkappa = np.zeros([n + 1, n + 1])\\nalpha = np.zeros([n + 1, n + 1])\\nbeta = np.zeros([n + 1, n + 1])\\ntau = np.zeros([n + 1, n + 1])\\ndeg_f = np.zeros([n + 1, n + 1])\\npis = np.zeros([n + 1, n + 1])\\nR = np.zeros([n + 1, n + 1])\\nalt_R = np.zeros([n + 1, n + 1])\\n\\nmu0 = 3\\nkappa0 = 1\\nalpha0 = 10\\nbeta0 = 1\\n\\n\\nmu[0, :] = mu0\\nkappa[0, :] = kappa0\\nalpha[0, :] = alpha0\\nbeta[0, :] = beta0\\ntau[0, :] = alpha[0, :] / beta[0, :]\\ndeg_f[0, :] = 2 * alpha0\\nR[0, 0] = 1\\nH = 1 / 20\\n\\ntime = 0\\ntime_list = []\\n\\n\\nfor t in range(1, n + 1):\\n    x_t = data_time[t - 1]\\n\\n    pis[:t, t] = stats.t.pdf(\\n        x=x_t,\\n        df=deg_f[:t, t - 1],\\n        loc=mu[:t, t - 1],\\n        scale=np.sqrt(\\n            beta[:t, t - 1]\\n            * (kappa[:t, t - 1] + 1)\\n            / (alpha[:t, t - 1] * kappa[:t, t - 1])\\n        ),\\n    )\\n    alt_R[:t, t] = pis[:t, t] / np.sum(pis[:t, t])\\n    R[1 : t + 1, t] = R[:t, t - 1] * pis[:t, t] * (1 - H)\\n    R[0, t] = np.sum(R[:t, t - 1] * pis[:t, t] * H)\\n    R[:, t] = R[:, t] / np.sum(R[:, t])\\n\\n    # Update Params\\n    kappa[1 : t + 1, t] = 1 + kappa[:t, t - 1]\\n\\n    mu[1 : t + 1, t] = (1 / kappa[1 : t + 1, t]) * (\\n        x_t + kappa[0:t, t - 1] * mu[:t, t - 1]\\n    )\\n\\n    alpha[1 : t + 1, t] = 0.5 + alpha[:t, t - 1]\\n\\n    beta[1 : t + 1, t] = (\\n        beta[:t, t - 1]\\n        + 0.5 * kappa[:t, t - 1] / (kappa[:t, t - 1] + 1) * (x_t - mu[:t, t - 1]) ** 2\\n    )\\n\\n    tau[:, t] = alpha[:, t] / beta[:, t]\\n\\n    deg_f[:, t] = 2 * alpha[:, t]\\n\\n\\ndf_R = pd.DataFrame(R)\\ndf_alt_R = pd.DataFrame(alt_R)\";\n",
       "                var nbb_formatted_code = \"n = len(data_time)\\n\\nmu = np.zeros([n + 1, n + 1])\\nkappa = np.zeros([n + 1, n + 1])\\nalpha = np.zeros([n + 1, n + 1])\\nbeta = np.zeros([n + 1, n + 1])\\ntau = np.zeros([n + 1, n + 1])\\ndeg_f = np.zeros([n + 1, n + 1])\\npis = np.zeros([n + 1, n + 1])\\nR = np.zeros([n + 1, n + 1])\\nalt_R = np.zeros([n + 1, n + 1])\\n\\nmu0 = 3\\nkappa0 = 1\\nalpha0 = 10\\nbeta0 = 1\\n\\n\\nmu[0, :] = mu0\\nkappa[0, :] = kappa0\\nalpha[0, :] = alpha0\\nbeta[0, :] = beta0\\ntau[0, :] = alpha[0, :] / beta[0, :]\\ndeg_f[0, :] = 2 * alpha0\\nR[0, 0] = 1\\nH = 1 / 20\\n\\ntime = 0\\ntime_list = []\\n\\n\\nfor t in range(1, n + 1):\\n    x_t = data_time[t - 1]\\n\\n    pis[:t, t] = stats.t.pdf(\\n        x=x_t,\\n        df=deg_f[:t, t - 1],\\n        loc=mu[:t, t - 1],\\n        scale=np.sqrt(\\n            beta[:t, t - 1]\\n            * (kappa[:t, t - 1] + 1)\\n            / (alpha[:t, t - 1] * kappa[:t, t - 1])\\n        ),\\n    )\\n    alt_R[:t, t] = pis[:t, t] / np.sum(pis[:t, t])\\n    R[1 : t + 1, t] = R[:t, t - 1] * pis[:t, t] * (1 - H)\\n    R[0, t] = np.sum(R[:t, t - 1] * pis[:t, t] * H)\\n    R[:, t] = R[:, t] / np.sum(R[:, t])\\n\\n    # Update Params\\n    kappa[1 : t + 1, t] = 1 + kappa[:t, t - 1]\\n\\n    mu[1 : t + 1, t] = (1 / kappa[1 : t + 1, t]) * (\\n        x_t + kappa[0:t, t - 1] * mu[:t, t - 1]\\n    )\\n\\n    alpha[1 : t + 1, t] = 0.5 + alpha[:t, t - 1]\\n\\n    beta[1 : t + 1, t] = (\\n        beta[:t, t - 1]\\n        + 0.5 * kappa[:t, t - 1] / (kappa[:t, t - 1] + 1) * (x_t - mu[:t, t - 1]) ** 2\\n    )\\n\\n    tau[:, t] = alpha[:, t] / beta[:, t]\\n\\n    deg_f[:, t] = 2 * alpha[:, t]\\n\\n\\ndf_R = pd.DataFrame(R)\\ndf_alt_R = pd.DataFrame(alt_R)\";\n",
       "                var nbb_cells = Jupyter.notebook.get_cells();\n",
       "                for (var i = 0; i < nbb_cells.length; ++i) {\n",
       "                    if (nbb_cells[i].input_prompt_number == nbb_cell_id) {\n",
       "                        if (nbb_cells[i].get_text() == nbb_unformatted_code) {\n",
       "                             nbb_cells[i].set_text(nbb_formatted_code);\n",
       "                        }\n",
       "                        break;\n",
       "                    }\n",
       "                }\n",
       "            }, 500);\n",
       "            "
      ],
      "text/plain": [
       "<IPython.core.display.Javascript object>"
      ]
     },
     "metadata": {},
     "output_type": "display_data"
    }
   ],
   "source": [
    "n = len(data_time)\n",
    "\n",
    "mu = np.zeros([n + 1, n + 1])\n",
    "kappa = np.zeros([n + 1, n + 1])\n",
    "alpha = np.zeros([n + 1, n + 1])\n",
    "beta = np.zeros([n + 1, n + 1])\n",
    "tau = np.zeros([n + 1, n + 1])\n",
    "deg_f = np.zeros([n + 1, n + 1])\n",
    "pis = np.zeros([n + 1, n + 1])\n",
    "R = np.zeros([n + 1, n + 1])\n",
    "alt_R = np.zeros([n + 1, n + 1])\n",
    "\n",
    "mu0 = 3\n",
    "kappa0 = 1\n",
    "alpha0 = 10\n",
    "beta0 = 1\n",
    "\n",
    "\n",
    "mu[0, :] = mu0\n",
    "kappa[0, :] = kappa0\n",
    "alpha[0, :] = alpha0\n",
    "beta[0, :] = beta0\n",
    "tau[0, :] = alpha[0, :] / beta[0, :]\n",
    "deg_f[0, :] = 2 * alpha0\n",
    "R[0, 0] = 1\n",
    "H = 1 / 20\n",
    "\n",
    "time = 0\n",
    "time_list = []\n",
    "\n",
    "\n",
    "for t in range(1, n + 1):\n",
    "    x_t = data_time[t - 1]\n",
    "\n",
    "    pis[:t, t] = stats.t.pdf(\n",
    "        x=x_t,\n",
    "        df=deg_f[:t, t - 1],\n",
    "        loc=mu[:t, t - 1],\n",
    "        scale=np.sqrt(\n",
    "            beta[:t, t - 1]\n",
    "            * (kappa[:t, t - 1] + 1)\n",
    "            / (alpha[:t, t - 1] * kappa[:t, t - 1])\n",
    "        ),\n",
    "    )\n",
    "    alt_R[:t, t] = pis[:t, t] / np.sum(pis[:t, t])\n",
    "    R[1 : t + 1, t] = R[:t, t - 1] * pis[:t, t] * (1 - H)\n",
    "    R[0, t] = np.sum(R[:t, t - 1] * pis[:t, t] * H)\n",
    "    R[:, t] = R[:, t] / np.sum(R[:, t])\n",
    "\n",
    "    # Update Params\n",
    "    kappa[1 : t + 1, t] = 1 + kappa[:t, t - 1]\n",
    "\n",
    "    mu[1 : t + 1, t] = (1 / kappa[1 : t + 1, t]) * (\n",
    "        x_t + kappa[0:t, t - 1] * mu[:t, t - 1]\n",
    "    )\n",
    "\n",
    "    alpha[1 : t + 1, t] = 0.5 + alpha[:t, t - 1]\n",
    "\n",
    "    beta[1 : t + 1, t] = (\n",
    "        beta[:t, t - 1]\n",
    "        + 0.5 * kappa[:t, t - 1] / (kappa[:t, t - 1] + 1) * (x_t - mu[:t, t - 1]) ** 2\n",
    "    )\n",
    "\n",
    "    tau[:, t] = alpha[:, t] / beta[:, t]\n",
    "\n",
    "    deg_f[:, t] = 2 * alpha[:, t]\n",
    "\n",
    "\n",
    "df_R = pd.DataFrame(R)\n",
    "df_alt_R = pd.DataFrame(alt_R)"
   ]
  },
  {
   "cell_type": "code",
   "execution_count": null,
   "id": "julian-above",
   "metadata": {},
   "outputs": [],
   "source": []
  },
  {
   "cell_type": "code",
   "execution_count": 233,
   "id": "optical-activation",
   "metadata": {},
   "outputs": [
    {
     "data": {
      "application/javascript": [
       "\n",
       "            setTimeout(function() {\n",
       "                var nbb_cell_id = 233;\n",
       "                var nbb_unformatted_code = \"\\n# https://github.com/hildensia/bayesian_changepoint_detection/blob/master/bayesian_changepoint_detection/online_changepoint_detection.py\\nfrom functools import partial\\n\\ndef online_changepoint_detection(data, hazard_func, observation_likelihood):\\n    maxes = np.zeros(len(data) + 1)\\n\\n    R = np.zeros((len(data) + 1, len(data) + 1))\\n    R[0, 0] = 1\\n\\n    for t, x in enumerate(data):\\n        # Evaluate the predictive distribution for the new datum under each of\\n        # the parameters.  This is the standard thing from Bayesian inference.\\n        predprobs = observation_likelihood.pdf(x)\\n        \\n        # Evaluate the hazard function for this interval\\n        H = hazard_func(np.array(range(t + 1)))\\n\\n        # Evaluate the growth probabilities - shift the probabilities down and to\\n        # the right, scaled by the hazard function and the predictive\\n        # probabilities.\\n        R[1 : t + 2, t + 1] = R[0 : t + 1, t] * predprobs * (1 - H)\\n\\n        # Evaluate the probability that there *was* a changepoint and we're\\n        # accumulating the mass back down at r = 0.\\n        R[0, t + 1] = np.sum(R[0 : t + 1, t] * predprobs * H)\\n\\n        # Renormalize the run length probabilities for improved numerical\\n        # stability.\\n        R[:, t + 1] = R[:, t + 1] / np.sum(R[:, t + 1])\\n\\n        # Update the parameter sets for each possible run length.\\n        observation_likelihood.update_theta(x)\\n\\n        maxes[t] = R[:, t].argmax()\\n    return R, maxes\\n\\n\\ndef constant_hazard(lam, r):\\n    return 1 / lam * np.ones(r.shape)\\n\\n\\nclass StudentT:\\n    def __init__(self, alpha, beta, kappa, mu):\\n        self.alpha0 = self.alpha = np.array([alpha])\\n        self.beta0 = self.beta = np.array([beta])\\n        self.kappa0 = self.kappa = np.array([kappa])\\n        self.mu0 = self.mu = np.array([mu])\\n\\n    def pdf(self, data):\\n        return stats.t.pdf(\\n            x=data,\\n            df=2 * self.alpha,\\n            loc=self.mu,\\n            scale=np.sqrt(self.beta * (self.kappa + 1) / (self.alpha * self.kappa)),\\n        )\\n\\n    def update_theta(self, data):\\n        muT0 = np.concatenate(\\n            (self.mu0, (self.kappa * self.mu + data) / (self.kappa + 1))\\n        )\\n        kappaT0 = np.concatenate((self.kappa0, self.kappa + 1.0))\\n        alphaT0 = np.concatenate((self.alpha0, self.alpha + 0.5))\\n        betaT0 = np.concatenate(\\n            (\\n                self.beta0,\\n                self.beta\\n                + (self.kappa * (data - self.mu) ** 2) / (2.0 * (self.kappa + 1.0)),\\n            )\\n        )\\n\\n        self.mu = muT0\\n        self.kappa = kappaT0\\n        self.alpha = alphaT0\\n        self.beta = betaT0\";\n",
       "                var nbb_formatted_code = \"# https://github.com/hildensia/bayesian_changepoint_detection/blob/master/bayesian_changepoint_detection/online_changepoint_detection.py\\nfrom functools import partial\\n\\n\\ndef online_changepoint_detection(data, hazard_func, observation_likelihood):\\n    maxes = np.zeros(len(data) + 1)\\n\\n    R = np.zeros((len(data) + 1, len(data) + 1))\\n    R[0, 0] = 1\\n\\n    for t, x in enumerate(data):\\n        # Evaluate the predictive distribution for the new datum under each of\\n        # the parameters.  This is the standard thing from Bayesian inference.\\n        predprobs = observation_likelihood.pdf(x)\\n\\n        # Evaluate the hazard function for this interval\\n        H = hazard_func(np.array(range(t + 1)))\\n\\n        # Evaluate the growth probabilities - shift the probabilities down and to\\n        # the right, scaled by the hazard function and the predictive\\n        # probabilities.\\n        R[1 : t + 2, t + 1] = R[0 : t + 1, t] * predprobs * (1 - H)\\n\\n        # Evaluate the probability that there *was* a changepoint and we're\\n        # accumulating the mass back down at r = 0.\\n        R[0, t + 1] = np.sum(R[0 : t + 1, t] * predprobs * H)\\n\\n        # Renormalize the run length probabilities for improved numerical\\n        # stability.\\n        R[:, t + 1] = R[:, t + 1] / np.sum(R[:, t + 1])\\n\\n        # Update the parameter sets for each possible run length.\\n        observation_likelihood.update_theta(x)\\n\\n        maxes[t] = R[:, t].argmax()\\n    return R, maxes\\n\\n\\ndef constant_hazard(lam, r):\\n    return 1 / lam * np.ones(r.shape)\\n\\n\\nclass StudentT:\\n    def __init__(self, alpha, beta, kappa, mu):\\n        self.alpha0 = self.alpha = np.array([alpha])\\n        self.beta0 = self.beta = np.array([beta])\\n        self.kappa0 = self.kappa = np.array([kappa])\\n        self.mu0 = self.mu = np.array([mu])\\n\\n    def pdf(self, data):\\n        return stats.t.pdf(\\n            x=data,\\n            df=2 * self.alpha,\\n            loc=self.mu,\\n            scale=np.sqrt(self.beta * (self.kappa + 1) / (self.alpha * self.kappa)),\\n        )\\n\\n    def update_theta(self, data):\\n        muT0 = np.concatenate(\\n            (self.mu0, (self.kappa * self.mu + data) / (self.kappa + 1))\\n        )\\n        kappaT0 = np.concatenate((self.kappa0, self.kappa + 1.0))\\n        alphaT0 = np.concatenate((self.alpha0, self.alpha + 0.5))\\n        betaT0 = np.concatenate(\\n            (\\n                self.beta0,\\n                self.beta\\n                + (self.kappa * (data - self.mu) ** 2) / (2.0 * (self.kappa + 1.0)),\\n            )\\n        )\\n\\n        self.mu = muT0\\n        self.kappa = kappaT0\\n        self.alpha = alphaT0\\n        self.beta = betaT0\";\n",
       "                var nbb_cells = Jupyter.notebook.get_cells();\n",
       "                for (var i = 0; i < nbb_cells.length; ++i) {\n",
       "                    if (nbb_cells[i].input_prompt_number == nbb_cell_id) {\n",
       "                        if (nbb_cells[i].get_text() == nbb_unformatted_code) {\n",
       "                             nbb_cells[i].set_text(nbb_formatted_code);\n",
       "                        }\n",
       "                        break;\n",
       "                    }\n",
       "                }\n",
       "            }, 500);\n",
       "            "
      ],
      "text/plain": [
       "<IPython.core.display.Javascript object>"
      ]
     },
     "metadata": {},
     "output_type": "display_data"
    }
   ],
   "source": [
    "# https://github.com/hildensia/bayesian_changepoint_detection/blob/master/bayesian_changepoint_detection/online_changepoint_detection.py\n",
    "from functools import partial\n",
    "\n",
    "\n",
    "def online_changepoint_detection(data, hazard_func, observation_likelihood):\n",
    "    maxes = np.zeros(len(data) + 1)\n",
    "\n",
    "    R = np.zeros((len(data) + 1, len(data) + 1))\n",
    "    R[0, 0] = 1\n",
    "\n",
    "    for t, x in enumerate(data):\n",
    "        # Evaluate the predictive distribution for the new datum under each of\n",
    "        # the parameters.  This is the standard thing from Bayesian inference.\n",
    "        predprobs = observation_likelihood.pdf(x)\n",
    "\n",
    "        # Evaluate the hazard function for this interval\n",
    "        H = hazard_func(np.array(range(t + 1)))\n",
    "\n",
    "        # Evaluate the growth probabilities - shift the probabilities down and to\n",
    "        # the right, scaled by the hazard function and the predictive\n",
    "        # probabilities.\n",
    "        R[1 : t + 2, t + 1] = R[0 : t + 1, t] * predprobs * (1 - H)\n",
    "\n",
    "        # Evaluate the probability that there *was* a changepoint and we're\n",
    "        # accumulating the mass back down at r = 0.\n",
    "        R[0, t + 1] = np.sum(R[0 : t + 1, t] * predprobs * H)\n",
    "\n",
    "        # Renormalize the run length probabilities for improved numerical\n",
    "        # stability.\n",
    "        R[:, t + 1] = R[:, t + 1] / np.sum(R[:, t + 1])\n",
    "\n",
    "        # Update the parameter sets for each possible run length.\n",
    "        observation_likelihood.update_theta(x)\n",
    "\n",
    "        maxes[t] = R[:, t].argmax()\n",
    "    return R, maxes\n",
    "\n",
    "\n",
    "def constant_hazard(lam, r):\n",
    "    return 1 / lam * np.ones(r.shape)\n",
    "\n",
    "\n",
    "class StudentT:\n",
    "    def __init__(self, alpha, beta, kappa, mu):\n",
    "        self.alpha0 = self.alpha = np.array([alpha])\n",
    "        self.beta0 = self.beta = np.array([beta])\n",
    "        self.kappa0 = self.kappa = np.array([kappa])\n",
    "        self.mu0 = self.mu = np.array([mu])\n",
    "\n",
    "    def pdf(self, data):\n",
    "        return stats.t.pdf(\n",
    "            x=data,\n",
    "            df=2 * self.alpha,\n",
    "            loc=self.mu,\n",
    "            scale=np.sqrt(self.beta * (self.kappa + 1) / (self.alpha * self.kappa)),\n",
    "        )\n",
    "\n",
    "    def update_theta(self, data):\n",
    "        muT0 = np.concatenate(\n",
    "            (self.mu0, (self.kappa * self.mu + data) / (self.kappa + 1))\n",
    "        )\n",
    "        kappaT0 = np.concatenate((self.kappa0, self.kappa + 1.0))\n",
    "        alphaT0 = np.concatenate((self.alpha0, self.alpha + 0.5))\n",
    "        betaT0 = np.concatenate(\n",
    "            (\n",
    "                self.beta0,\n",
    "                self.beta\n",
    "                + (self.kappa * (data - self.mu) ** 2) / (2.0 * (self.kappa + 1.0)),\n",
    "            )\n",
    "        )\n",
    "\n",
    "        self.mu = muT0\n",
    "        self.kappa = kappaT0\n",
    "        self.alpha = alphaT0\n",
    "        self.beta = betaT0"
   ]
  },
  {
   "cell_type": "code",
   "execution_count": 234,
   "id": "exact-humanitarian",
   "metadata": {
    "scrolled": true
   },
   "outputs": [
    {
     "data": {
      "application/javascript": [
       "\n",
       "            setTimeout(function() {\n",
       "                var nbb_cell_id = 234;\n",
       "                var nbb_unformatted_code = \"H_f = partial(constant_hazard, 1 / H)\\nobs_likelihood = StudentT(alpha=alpha0, beta=beta0, kappa=kappa0, mu=mu0)\\n\\nR_hat, max_hat = online_changepoint_detection(\\n    data=data_time, hazard_func=H_f, observation_likelihood=obs_likelihood\\n)\";\n",
       "                var nbb_formatted_code = \"H_f = partial(constant_hazard, 1 / H)\\nobs_likelihood = StudentT(alpha=alpha0, beta=beta0, kappa=kappa0, mu=mu0)\\n\\nR_hat, max_hat = online_changepoint_detection(\\n    data=data_time, hazard_func=H_f, observation_likelihood=obs_likelihood\\n)\";\n",
       "                var nbb_cells = Jupyter.notebook.get_cells();\n",
       "                for (var i = 0; i < nbb_cells.length; ++i) {\n",
       "                    if (nbb_cells[i].input_prompt_number == nbb_cell_id) {\n",
       "                        if (nbb_cells[i].get_text() == nbb_unformatted_code) {\n",
       "                             nbb_cells[i].set_text(nbb_formatted_code);\n",
       "                        }\n",
       "                        break;\n",
       "                    }\n",
       "                }\n",
       "            }, 500);\n",
       "            "
      ],
      "text/plain": [
       "<IPython.core.display.Javascript object>"
      ]
     },
     "metadata": {},
     "output_type": "display_data"
    }
   ],
   "source": [
    "H_f = partial(constant_hazard, 1 / H)\n",
    "obs_likelihood = StudentT(alpha=alpha0, beta=beta0, kappa=kappa0, mu=mu0)\n",
    "\n",
    "R_hat, max_hat = online_changepoint_detection(\n",
    "    data=data_time, hazard_func=H_f, observation_likelihood=obs_likelihood\n",
    ")"
   ]
  },
  {
   "cell_type": "code",
   "execution_count": 235,
   "id": "associate-relationship",
   "metadata": {},
   "outputs": [
    {
     "data": {
      "application/javascript": [
       "\n",
       "            setTimeout(function() {\n",
       "                var nbb_cell_id = 235;\n",
       "                var nbb_unformatted_code = \"df_R_hat = pd.DataFrame(R_hat)\";\n",
       "                var nbb_formatted_code = \"df_R_hat = pd.DataFrame(R_hat)\";\n",
       "                var nbb_cells = Jupyter.notebook.get_cells();\n",
       "                for (var i = 0; i < nbb_cells.length; ++i) {\n",
       "                    if (nbb_cells[i].input_prompt_number == nbb_cell_id) {\n",
       "                        if (nbb_cells[i].get_text() == nbb_unformatted_code) {\n",
       "                             nbb_cells[i].set_text(nbb_formatted_code);\n",
       "                        }\n",
       "                        break;\n",
       "                    }\n",
       "                }\n",
       "            }, 500);\n",
       "            "
      ],
      "text/plain": [
       "<IPython.core.display.Javascript object>"
      ]
     },
     "metadata": {},
     "output_type": "display_data"
    }
   ],
   "source": [
    "df_R_hat = pd.DataFrame(R_hat)"
   ]
  },
  {
   "cell_type": "code",
   "execution_count": null,
   "id": "sexual-phone",
   "metadata": {},
   "outputs": [],
   "source": []
  },
  {
   "cell_type": "code",
   "execution_count": 255,
   "id": "capital-sugar",
   "metadata": {},
   "outputs": [
    {
     "data": {
      "application/javascript": [
       "\n",
       "            setTimeout(function() {\n",
       "                var nbb_cell_id = 255;\n",
       "                var nbb_unformatted_code = \"def plot_(R, data):\\n    import matplotlib.cm as cm\\n    import matplotlib.pyplot as plt\\n    fig, ax = plt.subplots(figsize=[18, 16])\\n    ax = fig.add_subplot(2, 1, 1)\\n    ax.plot(data)\\n    ax = fig.add_subplot(2, 1, 2, sharex=ax)\\n    sparsity = 1  # only plot every fifth data for faster display\\n    ax.pcolor(\\n        np.array(range(0, len(R[:, 0].round(2)), sparsity)),\\n        np.array(range(0, len(R[:, 0].round(2)), sparsity)),\\n        np.log(R),\\n        cmap=cm.Greys, vmin=-30, vmax=0\\n    )\\n    return fig\";\n",
       "                var nbb_formatted_code = \"def plot_(R, data):\\n    import matplotlib.cm as cm\\n    import matplotlib.pyplot as plt\\n\\n    fig, ax = plt.subplots(figsize=[18, 16])\\n    ax = fig.add_subplot(2, 1, 1)\\n    ax.plot(data)\\n    ax = fig.add_subplot(2, 1, 2, sharex=ax)\\n    sparsity = 1  # only plot every fifth data for faster display\\n    ax.pcolor(\\n        np.array(range(0, len(R[:, 0].round(2)), sparsity)),\\n        np.array(range(0, len(R[:, 0].round(2)), sparsity)),\\n        np.log(R),\\n        cmap=cm.Greys,\\n        vmin=-30,\\n        vmax=0,\\n    )\\n    return fig\";\n",
       "                var nbb_cells = Jupyter.notebook.get_cells();\n",
       "                for (var i = 0; i < nbb_cells.length; ++i) {\n",
       "                    if (nbb_cells[i].input_prompt_number == nbb_cell_id) {\n",
       "                        if (nbb_cells[i].get_text() == nbb_unformatted_code) {\n",
       "                             nbb_cells[i].set_text(nbb_formatted_code);\n",
       "                        }\n",
       "                        break;\n",
       "                    }\n",
       "                }\n",
       "            }, 500);\n",
       "            "
      ],
      "text/plain": [
       "<IPython.core.display.Javascript object>"
      ]
     },
     "metadata": {},
     "output_type": "display_data"
    }
   ],
   "source": [
    "def plot_(R, data):\n",
    "    import matplotlib.cm as cm\n",
    "    import matplotlib.pyplot as plt\n",
    "    fig, ax = plt.subplots(figsize=[18, 16])\n",
    "    ax = fig.add_subplot(2, 1, 1)\n",
    "    ax.plot(data)\n",
    "    ax = fig.add_subplot(2, 1, 2, sharex=ax)\n",
    "    sparsity = 1  # only plot every fifth data for faster display\n",
    "    ax.pcolor(\n",
    "        np.array(range(0, len(R[:, 0].round(2)), sparsity)),\n",
    "        np.array(range(0, len(R[:, 0].round(2)), sparsity)),\n",
    "        np.log(R),\n",
    "        cmap=cm.Greys, vmin=-30, vmax=0\n",
    "    )\n",
    "    return fig\n"
   ]
  },
  {
   "cell_type": "code",
   "execution_count": 256,
   "id": "unlimited-happiness",
   "metadata": {},
   "outputs": [
    {
     "name": "stderr",
     "output_type": "stream",
     "text": [
      "/opt/anaconda3/envs/homework/lib/python3.7/site-packages/ipykernel_launcher.py:12: RuntimeWarning: divide by zero encountered in log\n",
      "  if sys.path[0] == '':\n"
     ]
    },
    {
     "data": {
      "image/png": "[encoded data removed]",
      "text/plain": [
       "<Figure size 1296x1152 with 3 Axes>"
      ]
     },
     "execution_count": 256,
     "metadata": {},
     "output_type": "execute_result"
    },
    {
     "data": {
      "image/png": "[encoded data removed]",
      "text/plain": [
       "<Figure size 1296x1152 with 3 Axes>"
      ]
     },
     "metadata": {
      "needs_background": "light"
     },
     "output_type": "display_data"
    },
    {
     "data": {
      "application/javascript": [
       "\n",
       "            setTimeout(function() {\n",
       "                var nbb_cell_id = 256;\n",
       "                var nbb_unformatted_code = \"plot_(R=R_hat, data=data_time)\";\n",
       "                var nbb_formatted_code = \"plot_(R=R_hat, data=data_time)\";\n",
       "                var nbb_cells = Jupyter.notebook.get_cells();\n",
       "                for (var i = 0; i < nbb_cells.length; ++i) {\n",
       "                    if (nbb_cells[i].input_prompt_number == nbb_cell_id) {\n",
       "                        if (nbb_cells[i].get_text() == nbb_unformatted_code) {\n",
       "                             nbb_cells[i].set_text(nbb_formatted_code);\n",
       "                        }\n",
       "                        break;\n",
       "                    }\n",
       "                }\n",
       "            }, 500);\n",
       "            "
      ],
      "text/plain": [
       "<IPython.core.display.Javascript object>"
      ]
     },
     "metadata": {},
     "output_type": "display_data"
    }
   ],
   "source": [
    "plot_(R=R_hat, data=data_time)"
   ]
  },
  {
   "cell_type": "code",
   "execution_count": 252,
   "id": "metric-huntington",
   "metadata": {},
   "outputs": [
    {
     "data": {
      "text/html": [
       "<div>\n",
       "<style scoped>\n",
       "    .dataframe tbody tr th:only-of-type {\n",
       "        vertical-align: middle;\n",
       "    }\n",
       "\n",
       "    .dataframe tbody tr th {\n",
       "        vertical-align: top;\n",
       "    }\n",
       "\n",
       "    .dataframe thead th {\n",
       "        text-align: right;\n",
       "    }\n",
       "</style>\n",
       "<table border=\"1\" class=\"dataframe\">\n",
       "  <thead>\n",
       "    <tr style=\"text-align: right;\">\n",
       "      <th></th>\n",
       "      <th>45</th>\n",
       "      <th>46</th>\n",
       "      <th>47</th>\n",
       "      <th>48</th>\n",
       "      <th>49</th>\n",
       "      <th>50</th>\n",
       "      <th>51</th>\n",
       "      <th>52</th>\n",
       "      <th>53</th>\n",
       "      <th>54</th>\n",
       "    </tr>\n",
       "  </thead>\n",
       "  <tbody>\n",
       "    <tr>\n",
       "      <th>0</th>\n",
       "      <td>0.05</td>\n",
       "      <td>0.05</td>\n",
       "      <td>0.05</td>\n",
       "      <td>0.05</td>\n",
       "      <td>0.05</td>\n",
       "      <td>0.05</td>\n",
       "      <td>0.05</td>\n",
       "      <td>0.05</td>\n",
       "      <td>0.05</td>\n",
       "      <td>0.05</td>\n",
       "    </tr>\n",
       "    <tr>\n",
       "      <th>1</th>\n",
       "      <td>0.00</td>\n",
       "      <td>0.00</td>\n",
       "      <td>0.00</td>\n",
       "      <td>0.00</td>\n",
       "      <td>0.00</td>\n",
       "      <td>0.00</td>\n",
       "      <td>0.95</td>\n",
       "      <td>0.04</td>\n",
       "      <td>0.04</td>\n",
       "      <td>0.04</td>\n",
       "    </tr>\n",
       "    <tr>\n",
       "      <th>2</th>\n",
       "      <td>0.00</td>\n",
       "      <td>0.00</td>\n",
       "      <td>0.00</td>\n",
       "      <td>0.00</td>\n",
       "      <td>0.00</td>\n",
       "      <td>0.00</td>\n",
       "      <td>0.00</td>\n",
       "      <td>0.91</td>\n",
       "      <td>0.04</td>\n",
       "      <td>0.03</td>\n",
       "    </tr>\n",
       "    <tr>\n",
       "      <th>3</th>\n",
       "      <td>0.00</td>\n",
       "      <td>0.00</td>\n",
       "      <td>0.00</td>\n",
       "      <td>0.00</td>\n",
       "      <td>0.00</td>\n",
       "      <td>0.00</td>\n",
       "      <td>0.00</td>\n",
       "      <td>0.00</td>\n",
       "      <td>0.87</td>\n",
       "      <td>0.04</td>\n",
       "    </tr>\n",
       "    <tr>\n",
       "      <th>4</th>\n",
       "      <td>0.00</td>\n",
       "      <td>0.00</td>\n",
       "      <td>0.00</td>\n",
       "      <td>0.00</td>\n",
       "      <td>0.00</td>\n",
       "      <td>0.00</td>\n",
       "      <td>0.00</td>\n",
       "      <td>0.00</td>\n",
       "      <td>0.00</td>\n",
       "      <td>0.85</td>\n",
       "    </tr>\n",
       "    <tr>\n",
       "      <th>5</th>\n",
       "      <td>0.00</td>\n",
       "      <td>0.00</td>\n",
       "      <td>0.00</td>\n",
       "      <td>0.00</td>\n",
       "      <td>0.00</td>\n",
       "      <td>0.00</td>\n",
       "      <td>0.00</td>\n",
       "      <td>0.00</td>\n",
       "      <td>0.00</td>\n",
       "      <td>0.00</td>\n",
       "    </tr>\n",
       "    <tr>\n",
       "      <th>48</th>\n",
       "      <td>0.00</td>\n",
       "      <td>0.00</td>\n",
       "      <td>0.00</td>\n",
       "      <td>0.95</td>\n",
       "      <td>0.00</td>\n",
       "      <td>0.00</td>\n",
       "      <td>0.00</td>\n",
       "      <td>0.00</td>\n",
       "      <td>0.00</td>\n",
       "      <td>0.00</td>\n",
       "    </tr>\n",
       "    <tr>\n",
       "      <th>49</th>\n",
       "      <td>0.00</td>\n",
       "      <td>0.00</td>\n",
       "      <td>0.00</td>\n",
       "      <td>0.00</td>\n",
       "      <td>0.95</td>\n",
       "      <td>0.00</td>\n",
       "      <td>0.00</td>\n",
       "      <td>0.00</td>\n",
       "      <td>0.00</td>\n",
       "      <td>0.00</td>\n",
       "    </tr>\n",
       "    <tr>\n",
       "      <th>50</th>\n",
       "      <td>0.00</td>\n",
       "      <td>0.00</td>\n",
       "      <td>0.00</td>\n",
       "      <td>0.00</td>\n",
       "      <td>0.00</td>\n",
       "      <td>0.95</td>\n",
       "      <td>0.00</td>\n",
       "      <td>0.00</td>\n",
       "      <td>0.00</td>\n",
       "      <td>0.00</td>\n",
       "    </tr>\n",
       "    <tr>\n",
       "      <th>51</th>\n",
       "      <td>0.00</td>\n",
       "      <td>0.00</td>\n",
       "      <td>0.00</td>\n",
       "      <td>0.00</td>\n",
       "      <td>0.00</td>\n",
       "      <td>0.00</td>\n",
       "      <td>0.00</td>\n",
       "      <td>0.00</td>\n",
       "      <td>0.00</td>\n",
       "      <td>0.00</td>\n",
       "    </tr>\n",
       "    <tr>\n",
       "      <th>52</th>\n",
       "      <td>0.00</td>\n",
       "      <td>0.00</td>\n",
       "      <td>0.00</td>\n",
       "      <td>0.00</td>\n",
       "      <td>0.00</td>\n",
       "      <td>0.00</td>\n",
       "      <td>0.00</td>\n",
       "      <td>0.00</td>\n",
       "      <td>0.00</td>\n",
       "      <td>0.00</td>\n",
       "    </tr>\n",
       "  </tbody>\n",
       "</table>\n",
       "</div>"
      ],
      "text/plain": [
       "      45    46    47    48    49    50    51    52    53    54\n",
       "0   0.05  0.05  0.05  0.05  0.05  0.05  0.05  0.05  0.05  0.05\n",
       "1   0.00  0.00  0.00  0.00  0.00  0.00  0.95  0.04  0.04  0.04\n",
       "2   0.00  0.00  0.00  0.00  0.00  0.00  0.00  0.91  0.04  0.03\n",
       "3   0.00  0.00  0.00  0.00  0.00  0.00  0.00  0.00  0.87  0.04\n",
       "4   0.00  0.00  0.00  0.00  0.00  0.00  0.00  0.00  0.00  0.85\n",
       "5   0.00  0.00  0.00  0.00  0.00  0.00  0.00  0.00  0.00  0.00\n",
       "48  0.00  0.00  0.00  0.95  0.00  0.00  0.00  0.00  0.00  0.00\n",
       "49  0.00  0.00  0.00  0.00  0.95  0.00  0.00  0.00  0.00  0.00\n",
       "50  0.00  0.00  0.00  0.00  0.00  0.95  0.00  0.00  0.00  0.00\n",
       "51  0.00  0.00  0.00  0.00  0.00  0.00  0.00  0.00  0.00  0.00\n",
       "52  0.00  0.00  0.00  0.00  0.00  0.00  0.00  0.00  0.00  0.00"
      ]
     },
     "execution_count": 252,
     "metadata": {},
     "output_type": "execute_result"
    },
    {
     "data": {
      "application/javascript": [
       "\n",
       "            setTimeout(function() {\n",
       "                var nbb_cell_id = 252;\n",
       "                var nbb_unformatted_code = \"df_R_hat.iloc[[0,1,2, 3, 4, 5, 48, 49, 50, 51, 52], 45:55].round(2)\";\n",
       "                var nbb_formatted_code = \"df_R_hat.iloc[[0, 1, 2, 3, 4, 5, 48, 49, 50, 51, 52], 45:55].round(2)\";\n",
       "                var nbb_cells = Jupyter.notebook.get_cells();\n",
       "                for (var i = 0; i < nbb_cells.length; ++i) {\n",
       "                    if (nbb_cells[i].input_prompt_number == nbb_cell_id) {\n",
       "                        if (nbb_cells[i].get_text() == nbb_unformatted_code) {\n",
       "                             nbb_cells[i].set_text(nbb_formatted_code);\n",
       "                        }\n",
       "                        break;\n",
       "                    }\n",
       "                }\n",
       "            }, 500);\n",
       "            "
      ],
      "text/plain": [
       "<IPython.core.display.Javascript object>"
      ]
     },
     "metadata": {},
     "output_type": "display_data"
    }
   ],
   "source": [
    "df_R_hat.iloc[[0, 1, 2, 3, 4, 5, 48, 49, 50, 51, 52], 45:55].round(2)"
   ]
  },
  {
   "cell_type": "code",
   "execution_count": 267,
   "id": "recorded-attention",
   "metadata": {},
   "outputs": [
    {
     "data": {
      "text/html": [
       "<div>\n",
       "<style scoped>\n",
       "    .dataframe tbody tr th:only-of-type {\n",
       "        vertical-align: middle;\n",
       "    }\n",
       "\n",
       "    .dataframe tbody tr th {\n",
       "        vertical-align: top;\n",
       "    }\n",
       "\n",
       "    .dataframe thead th {\n",
       "        text-align: right;\n",
       "    }\n",
       "</style>\n",
       "<table border=\"1\" class=\"dataframe\">\n",
       "  <thead>\n",
       "    <tr style=\"text-align: right;\">\n",
       "      <th></th>\n",
       "      <th>45</th>\n",
       "      <th>46</th>\n",
       "      <th>47</th>\n",
       "      <th>48</th>\n",
       "      <th>49</th>\n",
       "      <th>50</th>\n",
       "      <th>51</th>\n",
       "      <th>52</th>\n",
       "      <th>53</th>\n",
       "      <th>54</th>\n",
       "    </tr>\n",
       "  </thead>\n",
       "  <tbody>\n",
       "    <tr>\n",
       "      <th>0</th>\n",
       "      <td>0.00</td>\n",
       "      <td>0.00</td>\n",
       "      <td>0.00</td>\n",
       "      <td>0.00</td>\n",
       "      <td>0.00</td>\n",
       "      <td>0.00</td>\n",
       "      <td>0.84</td>\n",
       "      <td>0.85</td>\n",
       "      <td>0.88</td>\n",
       "      <td>0.88</td>\n",
       "    </tr>\n",
       "    <tr>\n",
       "      <th>1</th>\n",
       "      <td>0.17</td>\n",
       "      <td>0.12</td>\n",
       "      <td>0.18</td>\n",
       "      <td>0.11</td>\n",
       "      <td>0.14</td>\n",
       "      <td>0.25</td>\n",
       "      <td>0.25</td>\n",
       "      <td>0.92</td>\n",
       "      <td>1.04</td>\n",
       "      <td>1.04</td>\n",
       "    </tr>\n",
       "    <tr>\n",
       "      <th>2</th>\n",
       "      <td>0.36</td>\n",
       "      <td>0.32</td>\n",
       "      <td>0.39</td>\n",
       "      <td>0.31</td>\n",
       "      <td>0.32</td>\n",
       "      <td>0.52</td>\n",
       "      <td>0.08</td>\n",
       "      <td>0.25</td>\n",
       "      <td>1.12</td>\n",
       "      <td>1.13</td>\n",
       "    </tr>\n",
       "    <tr>\n",
       "      <th>3</th>\n",
       "      <td>0.51</td>\n",
       "      <td>0.44</td>\n",
       "      <td>0.55</td>\n",
       "      <td>0.44</td>\n",
       "      <td>0.47</td>\n",
       "      <td>0.64</td>\n",
       "      <td>0.04</td>\n",
       "      <td>0.10</td>\n",
       "      <td>0.49</td>\n",
       "      <td>1.19</td>\n",
       "    </tr>\n",
       "    <tr>\n",
       "      <th>4</th>\n",
       "      <td>0.60</td>\n",
       "      <td>0.55</td>\n",
       "      <td>0.62</td>\n",
       "      <td>0.54</td>\n",
       "      <td>0.56</td>\n",
       "      <td>0.72</td>\n",
       "      <td>0.02</td>\n",
       "      <td>0.05</td>\n",
       "      <td>0.26</td>\n",
       "      <td>0.60</td>\n",
       "    </tr>\n",
       "    <tr>\n",
       "      <th>5</th>\n",
       "      <td>0.67</td>\n",
       "      <td>0.61</td>\n",
       "      <td>0.69</td>\n",
       "      <td>0.60</td>\n",
       "      <td>0.63</td>\n",
       "      <td>0.77</td>\n",
       "      <td>0.01</td>\n",
       "      <td>0.03</td>\n",
       "      <td>0.16</td>\n",
       "      <td>0.36</td>\n",
       "    </tr>\n",
       "    <tr>\n",
       "      <th>48</th>\n",
       "      <td>0.00</td>\n",
       "      <td>0.00</td>\n",
       "      <td>0.00</td>\n",
       "      <td>0.00</td>\n",
       "      <td>1.28</td>\n",
       "      <td>1.12</td>\n",
       "      <td>0.00</td>\n",
       "      <td>0.00</td>\n",
       "      <td>0.00</td>\n",
       "      <td>0.00</td>\n",
       "    </tr>\n",
       "    <tr>\n",
       "      <th>49</th>\n",
       "      <td>0.00</td>\n",
       "      <td>0.00</td>\n",
       "      <td>0.00</td>\n",
       "      <td>0.00</td>\n",
       "      <td>0.00</td>\n",
       "      <td>1.13</td>\n",
       "      <td>0.00</td>\n",
       "      <td>0.00</td>\n",
       "      <td>0.00</td>\n",
       "      <td>0.00</td>\n",
       "    </tr>\n",
       "    <tr>\n",
       "      <th>50</th>\n",
       "      <td>0.00</td>\n",
       "      <td>0.00</td>\n",
       "      <td>0.00</td>\n",
       "      <td>0.00</td>\n",
       "      <td>0.00</td>\n",
       "      <td>0.00</td>\n",
       "      <td>0.00</td>\n",
       "      <td>0.00</td>\n",
       "      <td>0.00</td>\n",
       "      <td>0.00</td>\n",
       "    </tr>\n",
       "    <tr>\n",
       "      <th>51</th>\n",
       "      <td>0.00</td>\n",
       "      <td>0.00</td>\n",
       "      <td>0.00</td>\n",
       "      <td>0.00</td>\n",
       "      <td>0.00</td>\n",
       "      <td>0.00</td>\n",
       "      <td>0.00</td>\n",
       "      <td>0.00</td>\n",
       "      <td>0.00</td>\n",
       "      <td>0.00</td>\n",
       "    </tr>\n",
       "    <tr>\n",
       "      <th>52</th>\n",
       "      <td>0.00</td>\n",
       "      <td>0.00</td>\n",
       "      <td>0.00</td>\n",
       "      <td>0.00</td>\n",
       "      <td>0.00</td>\n",
       "      <td>0.00</td>\n",
       "      <td>0.00</td>\n",
       "      <td>0.00</td>\n",
       "      <td>0.00</td>\n",
       "      <td>0.00</td>\n",
       "    </tr>\n",
       "  </tbody>\n",
       "</table>\n",
       "</div>"
      ],
      "text/plain": [
       "      45    46    47    48    49    50    51    52    53    54\n",
       "0   0.00  0.00  0.00  0.00  0.00  0.00  0.84  0.85  0.88  0.88\n",
       "1   0.17  0.12  0.18  0.11  0.14  0.25  0.25  0.92  1.04  1.04\n",
       "2   0.36  0.32  0.39  0.31  0.32  0.52  0.08  0.25  1.12  1.13\n",
       "3   0.51  0.44  0.55  0.44  0.47  0.64  0.04  0.10  0.49  1.19\n",
       "4   0.60  0.55  0.62  0.54  0.56  0.72  0.02  0.05  0.26  0.60\n",
       "5   0.67  0.61  0.69  0.60  0.63  0.77  0.01  0.03  0.16  0.36\n",
       "48  0.00  0.00  0.00  0.00  1.28  1.12  0.00  0.00  0.00  0.00\n",
       "49  0.00  0.00  0.00  0.00  0.00  1.13  0.00  0.00  0.00  0.00\n",
       "50  0.00  0.00  0.00  0.00  0.00  0.00  0.00  0.00  0.00  0.00\n",
       "51  0.00  0.00  0.00  0.00  0.00  0.00  0.00  0.00  0.00  0.00\n",
       "52  0.00  0.00  0.00  0.00  0.00  0.00  0.00  0.00  0.00  0.00"
      ]
     },
     "execution_count": 267,
     "metadata": {},
     "output_type": "execute_result"
    },
    {
     "data": {
      "application/javascript": [
       "\n",
       "            setTimeout(function() {\n",
       "                var nbb_cell_id = 267;\n",
       "                var nbb_unformatted_code = \"pd.DataFrame(pis).iloc[[0, 1, 2, 3, 4, 5, 48, 49, 50, 51, 52], 45:55].round(2)\";\n",
       "                var nbb_formatted_code = \"pd.DataFrame(pis).iloc[[0, 1, 2, 3, 4, 5, 48, 49, 50, 51, 52], 45:55].round(2)\";\n",
       "                var nbb_cells = Jupyter.notebook.get_cells();\n",
       "                for (var i = 0; i < nbb_cells.length; ++i) {\n",
       "                    if (nbb_cells[i].input_prompt_number == nbb_cell_id) {\n",
       "                        if (nbb_cells[i].get_text() == nbb_unformatted_code) {\n",
       "                             nbb_cells[i].set_text(nbb_formatted_code);\n",
       "                        }\n",
       "                        break;\n",
       "                    }\n",
       "                }\n",
       "            }, 500);\n",
       "            "
      ],
      "text/plain": [
       "<IPython.core.display.Javascript object>"
      ]
     },
     "metadata": {},
     "output_type": "display_data"
    }
   ],
   "source": [
    "pd.DataFrame(pis).iloc[[0, 1, 2, 3, 4, 5, 48, 49, 50, 51, 52], 45:55].round(2)"
   ]
  },
  {
   "cell_type": "code",
   "execution_count": 269,
   "id": "southwest-finland",
   "metadata": {},
   "outputs": [
    {
     "data": {
      "text/html": [
       "<div>\n",
       "<style scoped>\n",
       "    .dataframe tbody tr th:only-of-type {\n",
       "        vertical-align: middle;\n",
       "    }\n",
       "\n",
       "    .dataframe tbody tr th {\n",
       "        vertical-align: top;\n",
       "    }\n",
       "\n",
       "    .dataframe thead th {\n",
       "        text-align: right;\n",
       "    }\n",
       "</style>\n",
       "<table border=\"1\" class=\"dataframe\">\n",
       "  <thead>\n",
       "    <tr style=\"text-align: right;\">\n",
       "      <th></th>\n",
       "      <th>45</th>\n",
       "      <th>46</th>\n",
       "      <th>47</th>\n",
       "      <th>48</th>\n",
       "      <th>49</th>\n",
       "      <th>50</th>\n",
       "      <th>51</th>\n",
       "      <th>52</th>\n",
       "      <th>53</th>\n",
       "      <th>54</th>\n",
       "    </tr>\n",
       "  </thead>\n",
       "  <tbody>\n",
       "    <tr>\n",
       "      <th>0</th>\n",
       "      <td>0.00</td>\n",
       "      <td>0.00</td>\n",
       "      <td>0.00</td>\n",
       "      <td>0.00</td>\n",
       "      <td>0.00</td>\n",
       "      <td>0.00</td>\n",
       "      <td>0.66</td>\n",
       "      <td>0.37</td>\n",
       "      <td>0.19</td>\n",
       "      <td>0.13</td>\n",
       "    </tr>\n",
       "    <tr>\n",
       "      <th>1</th>\n",
       "      <td>0.00</td>\n",
       "      <td>0.00</td>\n",
       "      <td>0.00</td>\n",
       "      <td>0.00</td>\n",
       "      <td>0.00</td>\n",
       "      <td>0.01</td>\n",
       "      <td>0.20</td>\n",
       "      <td>0.40</td>\n",
       "      <td>0.23</td>\n",
       "      <td>0.16</td>\n",
       "    </tr>\n",
       "    <tr>\n",
       "      <th>2</th>\n",
       "      <td>0.01</td>\n",
       "      <td>0.01</td>\n",
       "      <td>0.01</td>\n",
       "      <td>0.01</td>\n",
       "      <td>0.01</td>\n",
       "      <td>0.01</td>\n",
       "      <td>0.06</td>\n",
       "      <td>0.11</td>\n",
       "      <td>0.24</td>\n",
       "      <td>0.17</td>\n",
       "    </tr>\n",
       "    <tr>\n",
       "      <th>3</th>\n",
       "      <td>0.01</td>\n",
       "      <td>0.01</td>\n",
       "      <td>0.01</td>\n",
       "      <td>0.01</td>\n",
       "      <td>0.01</td>\n",
       "      <td>0.01</td>\n",
       "      <td>0.03</td>\n",
       "      <td>0.04</td>\n",
       "      <td>0.11</td>\n",
       "      <td>0.18</td>\n",
       "    </tr>\n",
       "    <tr>\n",
       "      <th>4</th>\n",
       "      <td>0.01</td>\n",
       "      <td>0.01</td>\n",
       "      <td>0.01</td>\n",
       "      <td>0.01</td>\n",
       "      <td>0.01</td>\n",
       "      <td>0.02</td>\n",
       "      <td>0.02</td>\n",
       "      <td>0.02</td>\n",
       "      <td>0.06</td>\n",
       "      <td>0.09</td>\n",
       "    </tr>\n",
       "    <tr>\n",
       "      <th>5</th>\n",
       "      <td>0.02</td>\n",
       "      <td>0.01</td>\n",
       "      <td>0.02</td>\n",
       "      <td>0.01</td>\n",
       "      <td>0.01</td>\n",
       "      <td>0.02</td>\n",
       "      <td>0.01</td>\n",
       "      <td>0.02</td>\n",
       "      <td>0.04</td>\n",
       "      <td>0.05</td>\n",
       "    </tr>\n",
       "    <tr>\n",
       "      <th>48</th>\n",
       "      <td>0.00</td>\n",
       "      <td>0.00</td>\n",
       "      <td>0.00</td>\n",
       "      <td>0.00</td>\n",
       "      <td>0.03</td>\n",
       "      <td>0.02</td>\n",
       "      <td>0.00</td>\n",
       "      <td>0.00</td>\n",
       "      <td>0.00</td>\n",
       "      <td>0.00</td>\n",
       "    </tr>\n",
       "    <tr>\n",
       "      <th>49</th>\n",
       "      <td>0.00</td>\n",
       "      <td>0.00</td>\n",
       "      <td>0.00</td>\n",
       "      <td>0.00</td>\n",
       "      <td>0.00</td>\n",
       "      <td>0.02</td>\n",
       "      <td>0.00</td>\n",
       "      <td>0.00</td>\n",
       "      <td>0.00</td>\n",
       "      <td>0.00</td>\n",
       "    </tr>\n",
       "    <tr>\n",
       "      <th>50</th>\n",
       "      <td>0.00</td>\n",
       "      <td>0.00</td>\n",
       "      <td>0.00</td>\n",
       "      <td>0.00</td>\n",
       "      <td>0.00</td>\n",
       "      <td>0.00</td>\n",
       "      <td>0.00</td>\n",
       "      <td>0.00</td>\n",
       "      <td>0.00</td>\n",
       "      <td>0.00</td>\n",
       "    </tr>\n",
       "    <tr>\n",
       "      <th>51</th>\n",
       "      <td>0.00</td>\n",
       "      <td>0.00</td>\n",
       "      <td>0.00</td>\n",
       "      <td>0.00</td>\n",
       "      <td>0.00</td>\n",
       "      <td>0.00</td>\n",
       "      <td>0.00</td>\n",
       "      <td>0.00</td>\n",
       "      <td>0.00</td>\n",
       "      <td>0.00</td>\n",
       "    </tr>\n",
       "    <tr>\n",
       "      <th>52</th>\n",
       "      <td>0.00</td>\n",
       "      <td>0.00</td>\n",
       "      <td>0.00</td>\n",
       "      <td>0.00</td>\n",
       "      <td>0.00</td>\n",
       "      <td>0.00</td>\n",
       "      <td>0.00</td>\n",
       "      <td>0.00</td>\n",
       "      <td>0.00</td>\n",
       "      <td>0.00</td>\n",
       "    </tr>\n",
       "  </tbody>\n",
       "</table>\n",
       "</div>"
      ],
      "text/plain": [
       "      45    46    47    48    49    50    51    52    53    54\n",
       "0   0.00  0.00  0.00  0.00  0.00  0.00  0.66  0.37  0.19  0.13\n",
       "1   0.00  0.00  0.00  0.00  0.00  0.01  0.20  0.40  0.23  0.16\n",
       "2   0.01  0.01  0.01  0.01  0.01  0.01  0.06  0.11  0.24  0.17\n",
       "3   0.01  0.01  0.01  0.01  0.01  0.01  0.03  0.04  0.11  0.18\n",
       "4   0.01  0.01  0.01  0.01  0.01  0.02  0.02  0.02  0.06  0.09\n",
       "5   0.02  0.01  0.02  0.01  0.01  0.02  0.01  0.02  0.04  0.05\n",
       "48  0.00  0.00  0.00  0.00  0.03  0.02  0.00  0.00  0.00  0.00\n",
       "49  0.00  0.00  0.00  0.00  0.00  0.02  0.00  0.00  0.00  0.00\n",
       "50  0.00  0.00  0.00  0.00  0.00  0.00  0.00  0.00  0.00  0.00\n",
       "51  0.00  0.00  0.00  0.00  0.00  0.00  0.00  0.00  0.00  0.00\n",
       "52  0.00  0.00  0.00  0.00  0.00  0.00  0.00  0.00  0.00  0.00"
      ]
     },
     "execution_count": 269,
     "metadata": {},
     "output_type": "execute_result"
    },
    {
     "data": {
      "application/javascript": [
       "\n",
       "            setTimeout(function() {\n",
       "                var nbb_cell_id = 269;\n",
       "                var nbb_unformatted_code = \"df_alt_R.iloc[[0, 1, 2, 3, 4, 5, 48, 49, 50, 51, 52], 45:55].round(2)\";\n",
       "                var nbb_formatted_code = \"df_alt_R.iloc[[0, 1, 2, 3, 4, 5, 48, 49, 50, 51, 52], 45:55].round(2)\";\n",
       "                var nbb_cells = Jupyter.notebook.get_cells();\n",
       "                for (var i = 0; i < nbb_cells.length; ++i) {\n",
       "                    if (nbb_cells[i].input_prompt_number == nbb_cell_id) {\n",
       "                        if (nbb_cells[i].get_text() == nbb_unformatted_code) {\n",
       "                             nbb_cells[i].set_text(nbb_formatted_code);\n",
       "                        }\n",
       "                        break;\n",
       "                    }\n",
       "                }\n",
       "            }, 500);\n",
       "            "
      ],
      "text/plain": [
       "<IPython.core.display.Javascript object>"
      ]
     },
     "metadata": {},
     "output_type": "display_data"
    }
   ],
   "source": [
    "df_alt_R.iloc[[0, 1, 2, 3, 4, 5, 48, 49, 50, 51, 52], 45:55].round(2)"
   ]
  },
  {
   "cell_type": "code",
   "execution_count": 271,
   "id": "accredited-privilege",
   "metadata": {},
   "outputs": [
    {
     "name": "stderr",
     "output_type": "stream",
     "text": [
      "/opt/anaconda3/envs/homework/lib/python3.7/site-packages/ipykernel_launcher.py:12: RuntimeWarning: divide by zero encountered in log\n",
      "  if sys.path[0] == '':\n"
     ]
    },
    {
     "data": {
      "image/png": "[encoded data removed]",
      "text/plain": [
       "<Figure size 1296x1152 with 3 Axes>"
      ]
     },
     "execution_count": 271,
     "metadata": {},
     "output_type": "execute_result"
    },
    {
     "data": {
      "image/png": "[encoded data removed]",
      "text/plain": [
       "<Figure size 1296x1152 with 3 Axes>"
      ]
     },
     "metadata": {
      "needs_background": "light"
     },
     "output_type": "display_data"
    },
    {
     "data": {
      "application/javascript": [
       "\n",
       "            setTimeout(function() {\n",
       "                var nbb_cell_id = 271;\n",
       "                var nbb_unformatted_code = \"plot_(R=alt_R, data=data_time)\";\n",
       "                var nbb_formatted_code = \"plot_(R=alt_R, data=data_time)\";\n",
       "                var nbb_cells = Jupyter.notebook.get_cells();\n",
       "                for (var i = 0; i < nbb_cells.length; ++i) {\n",
       "                    if (nbb_cells[i].input_prompt_number == nbb_cell_id) {\n",
       "                        if (nbb_cells[i].get_text() == nbb_unformatted_code) {\n",
       "                             nbb_cells[i].set_text(nbb_formatted_code);\n",
       "                        }\n",
       "                        break;\n",
       "                    }\n",
       "                }\n",
       "            }, 500);\n",
       "            "
      ],
      "text/plain": [
       "<IPython.core.display.Javascript object>"
      ]
     },
     "metadata": {},
     "output_type": "display_data"
    }
   ],
   "source": [
    "plot_(R=alt_R, data=data_time)"
   ]
  },
  {
   "cell_type": "code",
   "execution_count": 250,
   "id": "necessary-priority",
   "metadata": {},
   "outputs": [
    {
     "data": {
      "text/html": [
       "<div>\n",
       "<style scoped>\n",
       "    .dataframe tbody tr th:only-of-type {\n",
       "        vertical-align: middle;\n",
       "    }\n",
       "\n",
       "    .dataframe tbody tr th {\n",
       "        vertical-align: top;\n",
       "    }\n",
       "\n",
       "    .dataframe thead th {\n",
       "        text-align: right;\n",
       "    }\n",
       "</style>\n",
       "<table border=\"1\" class=\"dataframe\">\n",
       "  <thead>\n",
       "    <tr style=\"text-align: right;\">\n",
       "      <th></th>\n",
       "      <th>45</th>\n",
       "      <th>46</th>\n",
       "      <th>47</th>\n",
       "      <th>48</th>\n",
       "      <th>49</th>\n",
       "      <th>50</th>\n",
       "      <th>51</th>\n",
       "      <th>52</th>\n",
       "      <th>53</th>\n",
       "      <th>54</th>\n",
       "    </tr>\n",
       "  </thead>\n",
       "  <tbody>\n",
       "    <tr>\n",
       "      <th>0</th>\n",
       "      <td>0.97</td>\n",
       "      <td>1.07</td>\n",
       "      <td>0.97</td>\n",
       "      <td>1.0</td>\n",
       "      <td>1.22</td>\n",
       "      <td>2.87</td>\n",
       "      <td>3.12</td>\n",
       "      <td>3.04</td>\n",
       "      <td>3.02</td>\n",
       "      <td>3.0</td>\n",
       "    </tr>\n",
       "  </tbody>\n",
       "</table>\n",
       "</div>"
      ],
      "text/plain": [
       "     45    46    47   48    49    50    51    52    53   54\n",
       "0  0.97  1.07  0.97  1.0  1.22  2.87  3.12  3.04  3.02  3.0"
      ]
     },
     "execution_count": 250,
     "metadata": {},
     "output_type": "execute_result"
    },
    {
     "data": {
      "application/javascript": [
       "\n",
       "            setTimeout(function() {\n",
       "                var nbb_cell_id = 250;\n",
       "                var nbb_unformatted_code = \"pd.DataFrame(data_time).T.iloc[:, 45:55].round(2)\";\n",
       "                var nbb_formatted_code = \"pd.DataFrame(data_time).T.iloc[:, 45:55].round(2)\";\n",
       "                var nbb_cells = Jupyter.notebook.get_cells();\n",
       "                for (var i = 0; i < nbb_cells.length; ++i) {\n",
       "                    if (nbb_cells[i].input_prompt_number == nbb_cell_id) {\n",
       "                        if (nbb_cells[i].get_text() == nbb_unformatted_code) {\n",
       "                             nbb_cells[i].set_text(nbb_formatted_code);\n",
       "                        }\n",
       "                        break;\n",
       "                    }\n",
       "                }\n",
       "            }, 500);\n",
       "            "
      ],
      "text/plain": [
       "<IPython.core.display.Javascript object>"
      ]
     },
     "metadata": {},
     "output_type": "display_data"
    }
   ],
   "source": [
    "pd.DataFrame(data_time).T.iloc[:, 45:55].round(2)"
   ]
  },
  {
   "cell_type": "code",
   "execution_count": 272,
   "id": "laughing-encyclopedia",
   "metadata": {},
   "outputs": [
    {
     "data": {
      "text/html": [
       "<div>\n",
       "<style scoped>\n",
       "    .dataframe tbody tr th:only-of-type {\n",
       "        vertical-align: middle;\n",
       "    }\n",
       "\n",
       "    .dataframe tbody tr th {\n",
       "        vertical-align: top;\n",
       "    }\n",
       "\n",
       "    .dataframe thead th {\n",
       "        text-align: right;\n",
       "    }\n",
       "</style>\n",
       "<table border=\"1\" class=\"dataframe\">\n",
       "  <thead>\n",
       "    <tr style=\"text-align: right;\">\n",
       "      <th></th>\n",
       "      <th>0</th>\n",
       "      <th>1</th>\n",
       "      <th>2</th>\n",
       "      <th>3</th>\n",
       "      <th>4</th>\n",
       "      <th>5</th>\n",
       "      <th>6</th>\n",
       "      <th>7</th>\n",
       "      <th>8</th>\n",
       "      <th>9</th>\n",
       "      <th>...</th>\n",
       "      <th>91</th>\n",
       "      <th>92</th>\n",
       "      <th>93</th>\n",
       "      <th>94</th>\n",
       "      <th>95</th>\n",
       "      <th>96</th>\n",
       "      <th>97</th>\n",
       "      <th>98</th>\n",
       "      <th>99</th>\n",
       "      <th>100</th>\n",
       "    </tr>\n",
       "  </thead>\n",
       "  <tbody>\n",
       "    <tr>\n",
       "      <th>0</th>\n",
       "      <td>0.0</td>\n",
       "      <td>1.0</td>\n",
       "      <td>0.0071</td>\n",
       "      <td>0.001887</td>\n",
       "      <td>0.000562</td>\n",
       "      <td>0.000361</td>\n",
       "      <td>0.000241</td>\n",
       "      <td>0.000229</td>\n",
       "      <td>0.000155</td>\n",
       "      <td>0.000100</td>\n",
       "      <td>...</td>\n",
       "      <td>0.010332</td>\n",
       "      <td>0.010050</td>\n",
       "      <td>0.009991</td>\n",
       "      <td>0.010922</td>\n",
       "      <td>0.009332</td>\n",
       "      <td>0.009182</td>\n",
       "      <td>0.009212</td>\n",
       "      <td>0.010197</td>\n",
       "      <td>0.008784</td>\n",
       "      <td>0.008787</td>\n",
       "    </tr>\n",
       "    <tr>\n",
       "      <th>1</th>\n",
       "      <td>0.0</td>\n",
       "      <td>0.0</td>\n",
       "      <td>0.9929</td>\n",
       "      <td>0.313320</td>\n",
       "      <td>0.127342</td>\n",
       "      <td>0.108012</td>\n",
       "      <td>0.063106</td>\n",
       "      <td>0.052769</td>\n",
       "      <td>0.034569</td>\n",
       "      <td>0.028464</td>\n",
       "      <td>...</td>\n",
       "      <td>0.011238</td>\n",
       "      <td>0.011999</td>\n",
       "      <td>0.011976</td>\n",
       "      <td>0.011962</td>\n",
       "      <td>0.010790</td>\n",
       "      <td>0.010863</td>\n",
       "      <td>0.010888</td>\n",
       "      <td>0.012068</td>\n",
       "      <td>0.009606</td>\n",
       "      <td>0.010005</td>\n",
       "    </tr>\n",
       "    <tr>\n",
       "      <th>2</th>\n",
       "      <td>0.0</td>\n",
       "      <td>0.0</td>\n",
       "      <td>0.0000</td>\n",
       "      <td>0.684794</td>\n",
       "      <td>0.361154</td>\n",
       "      <td>0.225901</td>\n",
       "      <td>0.170051</td>\n",
       "      <td>0.124997</td>\n",
       "      <td>0.093775</td>\n",
       "      <td>0.071752</td>\n",
       "      <td>...</td>\n",
       "      <td>0.012995</td>\n",
       "      <td>0.012339</td>\n",
       "      <td>0.013044</td>\n",
       "      <td>0.012669</td>\n",
       "      <td>0.011919</td>\n",
       "      <td>0.011738</td>\n",
       "      <td>0.011772</td>\n",
       "      <td>0.012910</td>\n",
       "      <td>0.010370</td>\n",
       "      <td>0.011205</td>\n",
       "    </tr>\n",
       "    <tr>\n",
       "      <th>3</th>\n",
       "      <td>0.0</td>\n",
       "      <td>0.0</td>\n",
       "      <td>0.0000</td>\n",
       "      <td>0.000000</td>\n",
       "      <td>0.510943</td>\n",
       "      <td>0.310131</td>\n",
       "      <td>0.223018</td>\n",
       "      <td>0.176565</td>\n",
       "      <td>0.134841</td>\n",
       "      <td>0.107589</td>\n",
       "      <td>...</td>\n",
       "      <td>0.013332</td>\n",
       "      <td>0.013429</td>\n",
       "      <td>0.012876</td>\n",
       "      <td>0.013163</td>\n",
       "      <td>0.012604</td>\n",
       "      <td>0.012383</td>\n",
       "      <td>0.012513</td>\n",
       "      <td>0.013381</td>\n",
       "      <td>0.011047</td>\n",
       "      <td>0.011862</td>\n",
       "    </tr>\n",
       "    <tr>\n",
       "      <th>4</th>\n",
       "      <td>0.0</td>\n",
       "      <td>0.0</td>\n",
       "      <td>0.0000</td>\n",
       "      <td>0.000000</td>\n",
       "      <td>0.000000</td>\n",
       "      <td>0.355595</td>\n",
       "      <td>0.261286</td>\n",
       "      <td>0.199732</td>\n",
       "      <td>0.165566</td>\n",
       "      <td>0.132037</td>\n",
       "      <td>...</td>\n",
       "      <td>0.013724</td>\n",
       "      <td>0.013662</td>\n",
       "      <td>0.013870</td>\n",
       "      <td>0.014505</td>\n",
       "      <td>0.013139</td>\n",
       "      <td>0.012876</td>\n",
       "      <td>0.012862</td>\n",
       "      <td>0.014201</td>\n",
       "      <td>0.011645</td>\n",
       "      <td>0.012340</td>\n",
       "    </tr>\n",
       "    <tr>\n",
       "      <th>...</th>\n",
       "      <td>...</td>\n",
       "      <td>...</td>\n",
       "      <td>...</td>\n",
       "      <td>...</td>\n",
       "      <td>...</td>\n",
       "      <td>...</td>\n",
       "      <td>...</td>\n",
       "      <td>...</td>\n",
       "      <td>...</td>\n",
       "      <td>...</td>\n",
       "      <td>...</td>\n",
       "      <td>...</td>\n",
       "      <td>...</td>\n",
       "      <td>...</td>\n",
       "      <td>...</td>\n",
       "      <td>...</td>\n",
       "      <td>...</td>\n",
       "      <td>...</td>\n",
       "      <td>...</td>\n",
       "      <td>...</td>\n",
       "      <td>...</td>\n",
       "    </tr>\n",
       "    <tr>\n",
       "      <th>96</th>\n",
       "      <td>0.0</td>\n",
       "      <td>0.0</td>\n",
       "      <td>0.0000</td>\n",
       "      <td>0.000000</td>\n",
       "      <td>0.000000</td>\n",
       "      <td>0.000000</td>\n",
       "      <td>0.000000</td>\n",
       "      <td>0.000000</td>\n",
       "      <td>0.000000</td>\n",
       "      <td>0.000000</td>\n",
       "      <td>...</td>\n",
       "      <td>0.000000</td>\n",
       "      <td>0.000000</td>\n",
       "      <td>0.000000</td>\n",
       "      <td>0.000000</td>\n",
       "      <td>0.000000</td>\n",
       "      <td>0.000000</td>\n",
       "      <td>0.002298</td>\n",
       "      <td>0.002411</td>\n",
       "      <td>0.002783</td>\n",
       "      <td>0.002312</td>\n",
       "    </tr>\n",
       "    <tr>\n",
       "      <th>97</th>\n",
       "      <td>0.0</td>\n",
       "      <td>0.0</td>\n",
       "      <td>0.0000</td>\n",
       "      <td>0.000000</td>\n",
       "      <td>0.000000</td>\n",
       "      <td>0.000000</td>\n",
       "      <td>0.000000</td>\n",
       "      <td>0.000000</td>\n",
       "      <td>0.000000</td>\n",
       "      <td>0.000000</td>\n",
       "      <td>...</td>\n",
       "      <td>0.000000</td>\n",
       "      <td>0.000000</td>\n",
       "      <td>0.000000</td>\n",
       "      <td>0.000000</td>\n",
       "      <td>0.000000</td>\n",
       "      <td>0.000000</td>\n",
       "      <td>0.000000</td>\n",
       "      <td>0.002382</td>\n",
       "      <td>0.002755</td>\n",
       "      <td>0.002285</td>\n",
       "    </tr>\n",
       "    <tr>\n",
       "      <th>98</th>\n",
       "      <td>0.0</td>\n",
       "      <td>0.0</td>\n",
       "      <td>0.0000</td>\n",
       "      <td>0.000000</td>\n",
       "      <td>0.000000</td>\n",
       "      <td>0.000000</td>\n",
       "      <td>0.000000</td>\n",
       "      <td>0.000000</td>\n",
       "      <td>0.000000</td>\n",
       "      <td>0.000000</td>\n",
       "      <td>...</td>\n",
       "      <td>0.000000</td>\n",
       "      <td>0.000000</td>\n",
       "      <td>0.000000</td>\n",
       "      <td>0.000000</td>\n",
       "      <td>0.000000</td>\n",
       "      <td>0.000000</td>\n",
       "      <td>0.000000</td>\n",
       "      <td>0.000000</td>\n",
       "      <td>0.002730</td>\n",
       "      <td>0.002258</td>\n",
       "    </tr>\n",
       "    <tr>\n",
       "      <th>99</th>\n",
       "      <td>0.0</td>\n",
       "      <td>0.0</td>\n",
       "      <td>0.0000</td>\n",
       "      <td>0.000000</td>\n",
       "      <td>0.000000</td>\n",
       "      <td>0.000000</td>\n",
       "      <td>0.000000</td>\n",
       "      <td>0.000000</td>\n",
       "      <td>0.000000</td>\n",
       "      <td>0.000000</td>\n",
       "      <td>...</td>\n",
       "      <td>0.000000</td>\n",
       "      <td>0.000000</td>\n",
       "      <td>0.000000</td>\n",
       "      <td>0.000000</td>\n",
       "      <td>0.000000</td>\n",
       "      <td>0.000000</td>\n",
       "      <td>0.000000</td>\n",
       "      <td>0.000000</td>\n",
       "      <td>0.000000</td>\n",
       "      <td>0.002234</td>\n",
       "    </tr>\n",
       "    <tr>\n",
       "      <th>100</th>\n",
       "      <td>0.0</td>\n",
       "      <td>0.0</td>\n",
       "      <td>0.0000</td>\n",
       "      <td>0.000000</td>\n",
       "      <td>0.000000</td>\n",
       "      <td>0.000000</td>\n",
       "      <td>0.000000</td>\n",
       "      <td>0.000000</td>\n",
       "      <td>0.000000</td>\n",
       "      <td>0.000000</td>\n",
       "      <td>...</td>\n",
       "      <td>0.000000</td>\n",
       "      <td>0.000000</td>\n",
       "      <td>0.000000</td>\n",
       "      <td>0.000000</td>\n",
       "      <td>0.000000</td>\n",
       "      <td>0.000000</td>\n",
       "      <td>0.000000</td>\n",
       "      <td>0.000000</td>\n",
       "      <td>0.000000</td>\n",
       "      <td>0.000000</td>\n",
       "    </tr>\n",
       "  </tbody>\n",
       "</table>\n",
       "<p>101 rows × 101 columns</p>\n",
       "</div>"
      ],
      "text/plain": [
       "     0    1       2         3         4         5         6         7    \\\n",
       "0    0.0  1.0  0.0071  0.001887  0.000562  0.000361  0.000241  0.000229   \n",
       "1    0.0  0.0  0.9929  0.313320  0.127342  0.108012  0.063106  0.052769   \n",
       "2    0.0  0.0  0.0000  0.684794  0.361154  0.225901  0.170051  0.124997   \n",
       "3    0.0  0.0  0.0000  0.000000  0.510943  0.310131  0.223018  0.176565   \n",
       "4    0.0  0.0  0.0000  0.000000  0.000000  0.355595  0.261286  0.199732   \n",
       "..   ...  ...     ...       ...       ...       ...       ...       ...   \n",
       "96   0.0  0.0  0.0000  0.000000  0.000000  0.000000  0.000000  0.000000   \n",
       "97   0.0  0.0  0.0000  0.000000  0.000000  0.000000  0.000000  0.000000   \n",
       "98   0.0  0.0  0.0000  0.000000  0.000000  0.000000  0.000000  0.000000   \n",
       "99   0.0  0.0  0.0000  0.000000  0.000000  0.000000  0.000000  0.000000   \n",
       "100  0.0  0.0  0.0000  0.000000  0.000000  0.000000  0.000000  0.000000   \n",
       "\n",
       "          8         9    ...       91        92        93        94   \\\n",
       "0    0.000155  0.000100  ...  0.010332  0.010050  0.009991  0.010922   \n",
       "1    0.034569  0.028464  ...  0.011238  0.011999  0.011976  0.011962   \n",
       "2    0.093775  0.071752  ...  0.012995  0.012339  0.013044  0.012669   \n",
       "3    0.134841  0.107589  ...  0.013332  0.013429  0.012876  0.013163   \n",
       "4    0.165566  0.132037  ...  0.013724  0.013662  0.013870  0.014505   \n",
       "..        ...       ...  ...       ...       ...       ...       ...   \n",
       "96   0.000000  0.000000  ...  0.000000  0.000000  0.000000  0.000000   \n",
       "97   0.000000  0.000000  ...  0.000000  0.000000  0.000000  0.000000   \n",
       "98   0.000000  0.000000  ...  0.000000  0.000000  0.000000  0.000000   \n",
       "99   0.000000  0.000000  ...  0.000000  0.000000  0.000000  0.000000   \n",
       "100  0.000000  0.000000  ...  0.000000  0.000000  0.000000  0.000000   \n",
       "\n",
       "          95        96        97        98        99        100  \n",
       "0    0.009332  0.009182  0.009212  0.010197  0.008784  0.008787  \n",
       "1    0.010790  0.010863  0.010888  0.012068  0.009606  0.010005  \n",
       "2    0.011919  0.011738  0.011772  0.012910  0.010370  0.011205  \n",
       "3    0.012604  0.012383  0.012513  0.013381  0.011047  0.011862  \n",
       "4    0.013139  0.012876  0.012862  0.014201  0.011645  0.012340  \n",
       "..        ...       ...       ...       ...       ...       ...  \n",
       "96   0.000000  0.000000  0.002298  0.002411  0.002783  0.002312  \n",
       "97   0.000000  0.000000  0.000000  0.002382  0.002755  0.002285  \n",
       "98   0.000000  0.000000  0.000000  0.000000  0.002730  0.002258  \n",
       "99   0.000000  0.000000  0.000000  0.000000  0.000000  0.002234  \n",
       "100  0.000000  0.000000  0.000000  0.000000  0.000000  0.000000  \n",
       "\n",
       "[101 rows x 101 columns]"
      ]
     },
     "execution_count": 272,
     "metadata": {},
     "output_type": "execute_result"
    },
    {
     "data": {
      "application/javascript": [
       "\n",
       "            setTimeout(function() {\n",
       "                var nbb_cell_id = 272;\n",
       "                var nbb_unformatted_code = \"df_alt_R\";\n",
       "                var nbb_formatted_code = \"df_alt_R\";\n",
       "                var nbb_cells = Jupyter.notebook.get_cells();\n",
       "                for (var i = 0; i < nbb_cells.length; ++i) {\n",
       "                    if (nbb_cells[i].input_prompt_number == nbb_cell_id) {\n",
       "                        if (nbb_cells[i].get_text() == nbb_unformatted_code) {\n",
       "                             nbb_cells[i].set_text(nbb_formatted_code);\n",
       "                        }\n",
       "                        break;\n",
       "                    }\n",
       "                }\n",
       "            }, 500);\n",
       "            "
      ],
      "text/plain": [
       "<IPython.core.display.Javascript object>"
      ]
     },
     "metadata": {},
     "output_type": "display_data"
    }
   ],
   "source": [
    "df_alt_R"
   ]
  },
  {
   "cell_type": "code",
   "execution_count": 288,
   "id": "preliminary-minneapolis",
   "metadata": {},
   "outputs": [
    {
     "data": {
      "application/javascript": [
       "\n",
       "            setTimeout(function() {\n",
       "                var nbb_cell_id = 288;\n",
       "                var nbb_unformatted_code = \"kap0 = 1\\nonline_mu = np.zeros(n + 1)\\n\\n\\nonline_mu[0] = 0\\n\\nfor t in range(1, n+1):\\n    x = data_time[t-1]\\n    # Keeping track of time\\n    T = kap0 + t + 1\\n    online_mu[t] = (1 /T) * (x + (T - 1) * online_mu[t-1])\";\n",
       "                var nbb_formatted_code = \"kap0 = 1\\nonline_mu = np.zeros(n + 1)\\n\\n\\nonline_mu[0] = 0\\n\\nfor t in range(1, n + 1):\\n    x = data_time[t - 1]\\n    # Keeping track of time\\n    T = kap0 + t + 1\\n    online_mu[t] = (1 / T) * (x + (T - 1) * online_mu[t - 1])\";\n",
       "                var nbb_cells = Jupyter.notebook.get_cells();\n",
       "                for (var i = 0; i < nbb_cells.length; ++i) {\n",
       "                    if (nbb_cells[i].input_prompt_number == nbb_cell_id) {\n",
       "                        if (nbb_cells[i].get_text() == nbb_unformatted_code) {\n",
       "                             nbb_cells[i].set_text(nbb_formatted_code);\n",
       "                        }\n",
       "                        break;\n",
       "                    }\n",
       "                }\n",
       "            }, 500);\n",
       "            "
      ],
      "text/plain": [
       "<IPython.core.display.Javascript object>"
      ]
     },
     "metadata": {},
     "output_type": "display_data"
    }
   ],
   "source": [
    "kap0 = 1\n",
    "online_mu = np.zeros(n + 1)\n",
    "\n",
    "\n",
    "online_mu[0] = 0\n",
    "\n",
    "for t in range(1, n+1):\n",
    "    x = data_time[t-1]\n",
    "    # Keeping track of time\n",
    "    T = kap0 + t + 1\n",
    "    online_mu[t] = (1 /T) * (x + (T - 1) * online_mu[t-1])\n",
    "    \n",
    "\n",
    "\n",
    "\n"
   ]
  },
  {
   "cell_type": "code",
   "execution_count": 289,
   "id": "sharing-modem",
   "metadata": {},
   "outputs": [
    {
     "data": {
      "text/plain": [
       "array([0.        , 0.38570467, 0.55401956, 0.65921595, 0.69790997,\n",
       "       0.73619795, 0.76381668, 0.79258517, 0.81064972, 0.81951802,\n",
       "       0.84130928, 0.84860858, 0.85993697, 0.86192434, 0.87131514,\n",
       "       0.88190137, 0.88825894, 0.89978351, 0.90213388, 0.90936123,\n",
       "       0.91478362, 0.9174472 , 0.92289013, 0.92273341, 0.92855839,\n",
       "       0.93613624, 0.9433395 , 0.95184742, 0.95787344, 0.96395039,\n",
       "       0.96991364, 0.96651869, 0.97009994, 0.97158261, 0.97151306,\n",
       "       0.97716647, 0.97627884, 0.97623752, 0.97268883, 0.97332368,\n",
       "       0.97245504, 0.97272531, 0.97105906, 0.97331043, 0.97224335,\n",
       "       0.97334194, 0.97320698, 0.97516203, 0.97513726, 0.97561657,\n",
       "       0.98026316, 1.01589215, 1.05477593, 1.09083766, 1.12535464,\n",
       "       1.15830172, 1.18926651, 1.22161776, 1.25020299, 1.27782784,\n",
       "       1.30603681, 1.33067963, 1.35581489, 1.378725  , 1.40395882,\n",
       "       1.42826521, 1.44865897, 1.47127847, 1.49295433, 1.51370782,\n",
       "       1.53357011, 1.55314299, 1.5725033 , 1.59212534, 1.61106469,\n",
       "       1.63065501, 1.64773643, 1.6633362 , 1.68112122, 1.69714085,\n",
       "       1.71120176, 1.72778061, 1.74158845, 1.75622881, 1.76946141,\n",
       "       1.78260822, 1.79616129, 1.81049306, 1.82508875, 1.8358554 ,\n",
       "       1.85046565, 1.86206197, 1.87336467, 1.88390984, 1.89667562,\n",
       "       1.90777834, 1.91892163, 1.93025329, 1.94228864, 1.9517401 ,\n",
       "       1.96264046])"
      ]
     },
     "execution_count": 289,
     "metadata": {},
     "output_type": "execute_result"
    },
    {
     "data": {
      "application/javascript": [
       "\n",
       "            setTimeout(function() {\n",
       "                var nbb_cell_id = 289;\n",
       "                var nbb_unformatted_code = \"online_mu\";\n",
       "                var nbb_formatted_code = \"online_mu\";\n",
       "                var nbb_cells = Jupyter.notebook.get_cells();\n",
       "                for (var i = 0; i < nbb_cells.length; ++i) {\n",
       "                    if (nbb_cells[i].input_prompt_number == nbb_cell_id) {\n",
       "                        if (nbb_cells[i].get_text() == nbb_unformatted_code) {\n",
       "                             nbb_cells[i].set_text(nbb_formatted_code);\n",
       "                        }\n",
       "                        break;\n",
       "                    }\n",
       "                }\n",
       "            }, 500);\n",
       "            "
      ],
      "text/plain": [
       "<IPython.core.display.Javascript object>"
      ]
     },
     "metadata": {},
     "output_type": "display_data"
    }
   ],
   "source": [
    "online_mu"
   ]
  },
  {
   "cell_type": "code",
   "execution_count": 286,
   "id": "alternative-stewart",
   "metadata": {},
   "outputs": [
    {
     "data": {
      "text/plain": [
       "[<matplotlib.lines.Line2D at 0x7fe430ece290>]"
      ]
     },
     "execution_count": 286,
     "metadata": {},
     "output_type": "execute_result"
    },
    {
     "data": {
      "image/png": "[encoded data removed]",
      "text/plain": [
       "<Figure size 720x360 with 1 Axes>"
      ]
     },
     "metadata": {
      "needs_background": "light"
     },
     "output_type": "display_data"
    },
    {
     "data": {
      "application/javascript": [
       "\n",
       "            setTimeout(function() {\n",
       "                var nbb_cell_id = 286;\n",
       "                var nbb_unformatted_code = \"plt.plot(data_time)\";\n",
       "                var nbb_formatted_code = \"plt.plot(data_time)\";\n",
       "                var nbb_cells = Jupyter.notebook.get_cells();\n",
       "                for (var i = 0; i < nbb_cells.length; ++i) {\n",
       "                    if (nbb_cells[i].input_prompt_number == nbb_cell_id) {\n",
       "                        if (nbb_cells[i].get_text() == nbb_unformatted_code) {\n",
       "                             nbb_cells[i].set_text(nbb_formatted_code);\n",
       "                        }\n",
       "                        break;\n",
       "                    }\n",
       "                }\n",
       "            }, 500);\n",
       "            "
      ],
      "text/plain": [
       "<IPython.core.display.Javascript object>"
      ]
     },
     "metadata": {},
     "output_type": "display_data"
    }
   ],
   "source": [
    "plt.plot(data_time)"
   ]
  },
  {
   "cell_type": "code",
   "execution_count": 285,
   "id": "inclusive-audit",
   "metadata": {},
   "outputs": [
    {
     "data": {
      "text/plain": [
       "2.0018932660621487"
      ]
     },
     "execution_count": 285,
     "metadata": {},
     "output_type": "execute_result"
    },
    {
     "data": {
      "application/javascript": [
       "\n",
       "            setTimeout(function() {\n",
       "                var nbb_cell_id = 285;\n",
       "                var nbb_unformatted_code = \"np.mean(data_time)\";\n",
       "                var nbb_formatted_code = \"np.mean(data_time)\";\n",
       "                var nbb_cells = Jupyter.notebook.get_cells();\n",
       "                for (var i = 0; i < nbb_cells.length; ++i) {\n",
       "                    if (nbb_cells[i].input_prompt_number == nbb_cell_id) {\n",
       "                        if (nbb_cells[i].get_text() == nbb_unformatted_code) {\n",
       "                             nbb_cells[i].set_text(nbb_formatted_code);\n",
       "                        }\n",
       "                        break;\n",
       "                    }\n",
       "                }\n",
       "            }, 500);\n",
       "            "
      ],
      "text/plain": [
       "<IPython.core.display.Javascript object>"
      ]
     },
     "metadata": {},
     "output_type": "display_data"
    }
   ],
   "source": [
    "np.mean(data_time)"
   ]
  },
  {
   "cell_type": "code",
   "execution_count": 290,
   "id": "smooth-principal",
   "metadata": {},
   "outputs": [
    {
     "data": {
      "text/plain": [
       "<scipy.stats._continuous_distns.norm_gen at 0x7fe46495a510>"
      ]
     },
     "execution_count": 290,
     "metadata": {},
     "output_type": "execute_result"
    },
    {
     "data": {
      "application/javascript": [
       "\n",
       "            setTimeout(function() {\n",
       "                var nbb_cell_id = 290;\n",
       "                var nbb_unformatted_code = \"stats.norm\";\n",
       "                var nbb_formatted_code = \"stats.norm\";\n",
       "                var nbb_cells = Jupyter.notebook.get_cells();\n",
       "                for (var i = 0; i < nbb_cells.length; ++i) {\n",
       "                    if (nbb_cells[i].input_prompt_number == nbb_cell_id) {\n",
       "                        if (nbb_cells[i].get_text() == nbb_unformatted_code) {\n",
       "                             nbb_cells[i].set_text(nbb_formatted_code);\n",
       "                        }\n",
       "                        break;\n",
       "                    }\n",
       "                }\n",
       "            }, 500);\n",
       "            "
      ],
      "text/plain": [
       "<IPython.core.display.Javascript object>"
      ]
     },
     "metadata": {},
     "output_type": "display_data"
    }
   ],
   "source": [
    "stats.norm.pdf(x, loc=, scale=0.1)"
   ]
  },
  {
   "cell_type": "code",
   "execution_count": 300,
   "id": "lovely-acting",
   "metadata": {},
   "outputs": [
    {
     "data": {
      "application/javascript": [
       "\n",
       "            setTimeout(function() {\n",
       "                var nbb_cell_id = 300;\n",
       "                var nbb_unformatted_code = \"n = len(data_time)\\n\\nbf_mu = np.zeros(n+1)\\nbf_kappa = np.zeros(n+1)\\nbf_alpha = np.zeros(n+1)\\nbf_beta = np.zeros(n+1)\\nbf_tau = np.zeros(n+1)\\nbf_deg_f = np.zeros(n+1)\\nbf_pis = np.zeros(n+1)\\nbf_pis0 =  np.zeros(n+1)\\n\\nmu0 = 3\\nkappa0 = 1\\nalpha0 = 10\\nbeta0 = 1\\n\\n\\nbf_mu[0] = mu0\\nbf_kappa[0] = kappa0\\nbf_alpha[0] = alpha0\\nbf_beta[0] = beta0\\nbf_tau[0] = bf_alpha[0] / bf_beta[0]\\nbf_deg_f[0] = 2 * alpha0\\n\\n\\n\\n\\n\\nfor t in range(1, n + 1):\\n    x_t = data_time[t - 1]\\n\\n    bf_pis[t] = stats.t.pdf(\\n        x=x_t,\\n        df=bf_deg_f[t - 1],\\n        loc=bf_mu[t - 1],\\n        scale=np.sqrt(\\n            bf_beta[t - 1]\\n            * (bf_kappa[t - 1] + 1)\\n            / (bf_alpha[t - 1] * bf_kappa[t - 1])\\n        ),\\n    )\\n    \\n    bf_pis0[t] = stats.t.pdf(\\n        x=x_t,\\n        df=bf_deg_f[0],\\n        loc=bf_mu[0],\\n        scale=np.sqrt(\\n            bf_beta[0]\\n            * (bf_kappa[0] + 1)\\n            / (bf_alpha[0] * bf_kappa[0])\\n        ),\\n    )\\n    \\n\\n    # Update Params\\n    bf_kappa[t] = 1 + bf_kappa[t - 1]\\n\\n    bf_mu[t] = (1 / bf_kappa[t]) * (\\n        x_t + bf_kappa[t - 1] * bf_mu[t - 1]\\n    )\\n\\n    bf_alpha[t] = 0.5 + bf_alpha[t - 1]\\n\\n    bf_beta[t] = (\\n        bf_beta[t - 1]\\n        + 0.5 * bf_kappa[t - 1] / (bf_kappa[t - 1] + 1) * (x_t - bf_mu[t - 1]) ** 2\\n    )\\n\\n    bf_tau[t] = bf_alpha[t] / bf_beta[t]\\n\\n    bf_deg_f[t] = 2 * bf_alpha[t]\";\n",
       "                var nbb_formatted_code = \"n = len(data_time)\\n\\nbf_mu = np.zeros(n + 1)\\nbf_kappa = np.zeros(n + 1)\\nbf_alpha = np.zeros(n + 1)\\nbf_beta = np.zeros(n + 1)\\nbf_tau = np.zeros(n + 1)\\nbf_deg_f = np.zeros(n + 1)\\nbf_pis = np.zeros(n + 1)\\nbf_pis0 = np.zeros(n + 1)\\n\\nmu0 = 3\\nkappa0 = 1\\nalpha0 = 10\\nbeta0 = 1\\n\\n\\nbf_mu[0] = mu0\\nbf_kappa[0] = kappa0\\nbf_alpha[0] = alpha0\\nbf_beta[0] = beta0\\nbf_tau[0] = bf_alpha[0] / bf_beta[0]\\nbf_deg_f[0] = 2 * alpha0\\n\\n\\nfor t in range(1, n + 1):\\n    x_t = data_time[t - 1]\\n\\n    bf_pis[t] = stats.t.pdf(\\n        x=x_t,\\n        df=bf_deg_f[t - 1],\\n        loc=bf_mu[t - 1],\\n        scale=np.sqrt(\\n            bf_beta[t - 1] * (bf_kappa[t - 1] + 1) / (bf_alpha[t - 1] * bf_kappa[t - 1])\\n        ),\\n    )\\n\\n    bf_pis0[t] = stats.t.pdf(\\n        x=x_t,\\n        df=bf_deg_f[0],\\n        loc=bf_mu[0],\\n        scale=np.sqrt(bf_beta[0] * (bf_kappa[0] + 1) / (bf_alpha[0] * bf_kappa[0])),\\n    )\\n\\n    # Update Params\\n    bf_kappa[t] = 1 + bf_kappa[t - 1]\\n\\n    bf_mu[t] = (1 / bf_kappa[t]) * (x_t + bf_kappa[t - 1] * bf_mu[t - 1])\\n\\n    bf_alpha[t] = 0.5 + bf_alpha[t - 1]\\n\\n    bf_beta[t] = (\\n        bf_beta[t - 1]\\n        + 0.5 * bf_kappa[t - 1] / (bf_kappa[t - 1] + 1) * (x_t - bf_mu[t - 1]) ** 2\\n    )\\n\\n    bf_tau[t] = bf_alpha[t] / bf_beta[t]\\n\\n    bf_deg_f[t] = 2 * bf_alpha[t]\";\n",
       "                var nbb_cells = Jupyter.notebook.get_cells();\n",
       "                for (var i = 0; i < nbb_cells.length; ++i) {\n",
       "                    if (nbb_cells[i].input_prompt_number == nbb_cell_id) {\n",
       "                        if (nbb_cells[i].get_text() == nbb_unformatted_code) {\n",
       "                             nbb_cells[i].set_text(nbb_formatted_code);\n",
       "                        }\n",
       "                        break;\n",
       "                    }\n",
       "                }\n",
       "            }, 500);\n",
       "            "
      ],
      "text/plain": [
       "<IPython.core.display.Javascript object>"
      ]
     },
     "metadata": {},
     "output_type": "display_data"
    }
   ],
   "source": [
    "n = len(data_time)\n",
    "\n",
    "bf_mu = np.zeros(n+1)\n",
    "bf_kappa = np.zeros(n+1)\n",
    "bf_alpha = np.zeros(n+1)\n",
    "bf_beta = np.zeros(n+1)\n",
    "bf_tau = np.zeros(n+1)\n",
    "bf_deg_f = np.zeros(n+1)\n",
    "bf_pis = np.zeros(n+1)\n",
    "bf_pis0 =  np.zeros(n+1)\n",
    "\n",
    "mu0 = 3\n",
    "kappa0 = 1\n",
    "alpha0 = 10\n",
    "beta0 = 1\n",
    "\n",
    "\n",
    "bf_mu[0] = mu0\n",
    "bf_kappa[0] = kappa0\n",
    "bf_alpha[0] = alpha0\n",
    "bf_beta[0] = beta0\n",
    "bf_tau[0] = bf_alpha[0] / bf_beta[0]\n",
    "bf_deg_f[0] = 2 * alpha0\n",
    "\n",
    "\n",
    "\n",
    "\n",
    "\n",
    "for t in range(1, n + 1):\n",
    "    x_t = data_time[t - 1]\n",
    "\n",
    "    bf_pis[t] = stats.t.pdf(\n",
    "        x=x_t,\n",
    "        df=bf_deg_f[t - 1],\n",
    "        loc=bf_mu[t - 1],\n",
    "        scale=np.sqrt(\n",
    "            bf_beta[t - 1]\n",
    "            * (bf_kappa[t - 1] + 1)\n",
    "            / (bf_alpha[t - 1] * bf_kappa[t - 1])\n",
    "        ),\n",
    "    )\n",
    "    \n",
    "    bf_pis0[t] = stats.t.pdf(\n",
    "        x=x_t,\n",
    "        df=bf_deg_f[0],\n",
    "        loc=bf_mu[0],\n",
    "        scale=np.sqrt(\n",
    "            bf_beta[0]\n",
    "            * (bf_kappa[0] + 1)\n",
    "            / (bf_alpha[0] * bf_kappa[0])\n",
    "        ),\n",
    "    )\n",
    "    \n",
    "\n",
    "    # Update Params\n",
    "    bf_kappa[t] = 1 + bf_kappa[t - 1]\n",
    "\n",
    "    bf_mu[t] = (1 / bf_kappa[t]) * (\n",
    "        x_t + bf_kappa[t - 1] * bf_mu[t - 1]\n",
    "    )\n",
    "\n",
    "    bf_alpha[t] = 0.5 + bf_alpha[t - 1]\n",
    "\n",
    "    bf_beta[t] = (\n",
    "        bf_beta[t - 1]\n",
    "        + 0.5 * bf_kappa[t - 1] / (bf_kappa[t - 1] + 1) * (x_t - bf_mu[t - 1]) ** 2\n",
    "    )\n",
    "\n",
    "    bf_tau[t] = bf_alpha[t] / bf_beta[t]\n",
    "\n",
    "    bf_deg_f[t] = 2 * bf_alpha[t]\n",
    "\n",
    "\n"
   ]
  },
  {
   "cell_type": "code",
   "execution_count": 302,
   "id": "variable-connection",
   "metadata": {},
   "outputs": [
    {
     "name": "stderr",
     "output_type": "stream",
     "text": [
      "/opt/anaconda3/envs/homework/lib/python3.7/site-packages/ipykernel_launcher.py:1: RuntimeWarning: invalid value encountered in true_divide\n",
      "  \"\"\"Entry point for launching an IPython kernel.\n"
     ]
    },
    {
     "data": {
      "image/png": "[encoded data removed]",
      "text/plain": [
       "<Figure size 720x360 with 1 Axes>"
      ]
     },
     "metadata": {
      "needs_background": "light"
     },
     "output_type": "display_data"
    },
    {
     "data": {
      "application/javascript": [
       "\n",
       "            setTimeout(function() {\n",
       "                var nbb_cell_id = 302;\n",
       "                var nbb_unformatted_code = \"plt.plot(bf_pis / bf_pis0)\\nplt.show()\";\n",
       "                var nbb_formatted_code = \"plt.plot(bf_pis / bf_pis0)\\nplt.show()\";\n",
       "                var nbb_cells = Jupyter.notebook.get_cells();\n",
       "                for (var i = 0; i < nbb_cells.length; ++i) {\n",
       "                    if (nbb_cells[i].input_prompt_number == nbb_cell_id) {\n",
       "                        if (nbb_cells[i].get_text() == nbb_unformatted_code) {\n",
       "                             nbb_cells[i].set_text(nbb_formatted_code);\n",
       "                        }\n",
       "                        break;\n",
       "                    }\n",
       "                }\n",
       "            }, 500);\n",
       "            "
      ],
      "text/plain": [
       "<IPython.core.display.Javascript object>"
      ]
     },
     "metadata": {},
     "output_type": "display_data"
    }
   ],
   "source": [
    "plt.plot(bf_pis / bf_pis0)\n",
    "plt.show()"
   ]
  },
  {
   "cell_type": "code",
   "execution_count": 303,
   "id": "signal-burns",
   "metadata": {},
   "outputs": [
    {
     "data": {
      "image/png": "[encoded data removed]",
      "text/plain": [
       "<Figure size 720x360 with 1 Axes>"
      ]
     },
     "metadata": {
      "needs_background": "light"
     },
     "output_type": "display_data"
    },
    {
     "data": {
      "application/javascript": [
       "\n",
       "            setTimeout(function() {\n",
       "                var nbb_cell_id = 303;\n",
       "                var nbb_unformatted_code = \"plt.plot(data_time)\\nplt.show()\";\n",
       "                var nbb_formatted_code = \"plt.plot(data_time)\\nplt.show()\";\n",
       "                var nbb_cells = Jupyter.notebook.get_cells();\n",
       "                for (var i = 0; i < nbb_cells.length; ++i) {\n",
       "                    if (nbb_cells[i].input_prompt_number == nbb_cell_id) {\n",
       "                        if (nbb_cells[i].get_text() == nbb_unformatted_code) {\n",
       "                             nbb_cells[i].set_text(nbb_formatted_code);\n",
       "                        }\n",
       "                        break;\n",
       "                    }\n",
       "                }\n",
       "            }, 500);\n",
       "            "
      ],
      "text/plain": [
       "<IPython.core.display.Javascript object>"
      ]
     },
     "metadata": {},
     "output_type": "display_data"
    }
   ],
   "source": [
    "plt.plot(data_time)\n",
    "plt.show()"
   ]
  },
  {
   "cell_type": "code",
   "execution_count": 312,
   "id": "timely-termination",
   "metadata": {},
   "outputs": [
    {
     "name": "stderr",
     "output_type": "stream",
     "text": [
      "/opt/anaconda3/envs/homework/lib/python3.7/site-packages/ipykernel_launcher.py:1: RuntimeWarning: invalid value encountered in true_divide\n",
      "  \"\"\"Entry point for launching an IPython kernel.\n"
     ]
    },
    {
     "data": {
      "text/html": [
       "<div>\n",
       "<style scoped>\n",
       "    .dataframe tbody tr th:only-of-type {\n",
       "        vertical-align: middle;\n",
       "    }\n",
       "\n",
       "    .dataframe tbody tr th {\n",
       "        vertical-align: top;\n",
       "    }\n",
       "\n",
       "    .dataframe thead th {\n",
       "        text-align: right;\n",
       "    }\n",
       "</style>\n",
       "<table border=\"1\" class=\"dataframe\">\n",
       "  <thead>\n",
       "    <tr style=\"text-align: right;\">\n",
       "      <th></th>\n",
       "      <th>45</th>\n",
       "      <th>46</th>\n",
       "      <th>47</th>\n",
       "      <th>48</th>\n",
       "      <th>49</th>\n",
       "      <th>50</th>\n",
       "      <th>51</th>\n",
       "      <th>52</th>\n",
       "      <th>53</th>\n",
       "      <th>54</th>\n",
       "    </tr>\n",
       "  </thead>\n",
       "  <tbody>\n",
       "    <tr>\n",
       "      <th>0</th>\n",
       "      <td>1817.600128</td>\n",
       "      <td>2379.329499</td>\n",
       "      <td>1465.296582</td>\n",
       "      <td>2343.806597</td>\n",
       "      <td>2105.532417</td>\n",
       "      <td>597.228351</td>\n",
       "      <td>6.306225e-07</td>\n",
       "      <td>0.000004</td>\n",
       "      <td>0.000196</td>\n",
       "      <td>0.001137</td>\n",
       "    </tr>\n",
       "  </tbody>\n",
       "</table>\n",
       "</div>"
      ],
      "text/plain": [
       "            45           46           47           48           49  \\\n",
       "0  1817.600128  2379.329499  1465.296582  2343.806597  2105.532417   \n",
       "\n",
       "           50            51        52        53        54  \n",
       "0  597.228351  6.306225e-07  0.000004  0.000196  0.001137  "
      ]
     },
     "execution_count": 312,
     "metadata": {},
     "output_type": "execute_result"
    },
    {
     "data": {
      "application/javascript": [
       "\n",
       "            setTimeout(function() {\n",
       "                var nbb_cell_id = 312;\n",
       "                var nbb_unformatted_code = \"bayes_f = pd.DataFrame(bf_pis / bf_pis0)\\nbayes_f.T.iloc[:, 45:55]\";\n",
       "                var nbb_formatted_code = \"bayes_f = pd.DataFrame(bf_pis / bf_pis0)\\nbayes_f.T.iloc[:, 45:55]\";\n",
       "                var nbb_cells = Jupyter.notebook.get_cells();\n",
       "                for (var i = 0; i < nbb_cells.length; ++i) {\n",
       "                    if (nbb_cells[i].input_prompt_number == nbb_cell_id) {\n",
       "                        if (nbb_cells[i].get_text() == nbb_unformatted_code) {\n",
       "                             nbb_cells[i].set_text(nbb_formatted_code);\n",
       "                        }\n",
       "                        break;\n",
       "                    }\n",
       "                }\n",
       "            }, 500);\n",
       "            "
      ],
      "text/plain": [
       "<IPython.core.display.Javascript object>"
      ]
     },
     "metadata": {},
     "output_type": "display_data"
    }
   ],
   "source": [
    "bayes_f = pd.DataFrame(bf_pis / bf_pis0)\n",
    "bayes_f.T.iloc[:, 45:55]"
   ]
  },
  {
   "cell_type": "code",
   "execution_count": 314,
   "id": "bound-shirt",
   "metadata": {},
   "outputs": [
    {
     "data": {
      "text/html": [
       "<div>\n",
       "<style scoped>\n",
       "    .dataframe tbody tr th:only-of-type {\n",
       "        vertical-align: middle;\n",
       "    }\n",
       "\n",
       "    .dataframe tbody tr th {\n",
       "        vertical-align: top;\n",
       "    }\n",
       "\n",
       "    .dataframe thead th {\n",
       "        text-align: right;\n",
       "    }\n",
       "</style>\n",
       "<table border=\"1\" class=\"dataframe\">\n",
       "  <thead>\n",
       "    <tr style=\"text-align: right;\">\n",
       "      <th></th>\n",
       "      <th>45</th>\n",
       "      <th>46</th>\n",
       "      <th>47</th>\n",
       "      <th>48</th>\n",
       "      <th>49</th>\n",
       "      <th>50</th>\n",
       "      <th>51</th>\n",
       "      <th>52</th>\n",
       "      <th>53</th>\n",
       "      <th>54</th>\n",
       "    </tr>\n",
       "  </thead>\n",
       "  <tbody>\n",
       "    <tr>\n",
       "      <th>0</th>\n",
       "      <td>0.966864</td>\n",
       "      <td>1.069004</td>\n",
       "      <td>0.973924</td>\n",
       "      <td>0.999582</td>\n",
       "      <td>1.217239</td>\n",
       "      <td>2.8686</td>\n",
       "      <td>3.115616</td>\n",
       "      <td>3.038171</td>\n",
       "      <td>3.023788</td>\n",
       "      <td>3.003338</td>\n",
       "    </tr>\n",
       "  </tbody>\n",
       "</table>\n",
       "</div>"
      ],
      "text/plain": [
       "         45        46        47        48        49      50        51  \\\n",
       "0  0.966864  1.069004  0.973924  0.999582  1.217239  2.8686  3.115616   \n",
       "\n",
       "         52        53        54  \n",
       "0  3.038171  3.023788  3.003338  "
      ]
     },
     "execution_count": 314,
     "metadata": {},
     "output_type": "execute_result"
    },
    {
     "data": {
      "application/javascript": [
       "\n",
       "            setTimeout(function() {\n",
       "                var nbb_cell_id = 314;\n",
       "                var nbb_unformatted_code = \"pd.DataFrame(data_time).T.iloc[:, 45:55]\";\n",
       "                var nbb_formatted_code = \"pd.DataFrame(data_time).T.iloc[:, 45:55]\";\n",
       "                var nbb_cells = Jupyter.notebook.get_cells();\n",
       "                for (var i = 0; i < nbb_cells.length; ++i) {\n",
       "                    if (nbb_cells[i].input_prompt_number == nbb_cell_id) {\n",
       "                        if (nbb_cells[i].get_text() == nbb_unformatted_code) {\n",
       "                             nbb_cells[i].set_text(nbb_formatted_code);\n",
       "                        }\n",
       "                        break;\n",
       "                    }\n",
       "                }\n",
       "            }, 500);\n",
       "            "
      ],
      "text/plain": [
       "<IPython.core.display.Javascript object>"
      ]
     },
     "metadata": {},
     "output_type": "display_data"
    }
   ],
   "source": [
    "pd.DataFrame(data_time).T.iloc[:, 45:55]"
   ]
  },
  {
   "cell_type": "code",
   "execution_count": null,
   "id": "assisted-omega",
   "metadata": {},
   "outputs": [],
   "source": []
  },
  {
   "cell_type": "code",
   "execution_count": 316,
   "id": "nuclear-polymer",
   "metadata": {},
   "outputs": [
    {
     "ename": "ParserError",
     "evalue": "Expected 5 fields in line 5, saw 6. Error could possibly be due to quotes being ignored when a multi-char delimiter is used.",
     "output_type": "error",
     "traceback": [
      "\u001b[0;31m---------------------------------------------------------------------------\u001b[0m",
      "\u001b[0;31mParserError\u001b[0m                               Traceback (most recent call last)",
      "\u001b[0;32m<ipython-input-316-654d0ccf7bf4>\u001b[0m in \u001b[0;36m<module>\u001b[0;34m\u001b[0m\n\u001b[0;32m----> 1\u001b[0;31m \u001b[0mchapters\u001b[0m \u001b[0;34m=\u001b[0m \u001b[0mpd\u001b[0m\u001b[0;34m.\u001b[0m\u001b[0mread_clipboard\u001b[0m\u001b[0;34m(\u001b[0m\u001b[0;34m)\u001b[0m\u001b[0;34m\u001b[0m\u001b[0;34m\u001b[0m\u001b[0m\n\u001b[0m",
      "\u001b[0;32m/opt/anaconda3/envs/homework/lib/python3.7/site-packages/pandas/io/clipboards.py\u001b[0m in \u001b[0;36mread_clipboard\u001b[0;34m(sep, **kwargs)\u001b[0m\n\u001b[1;32m     74\u001b[0m         )\n\u001b[1;32m     75\u001b[0m \u001b[0;34m\u001b[0m\u001b[0m\n\u001b[0;32m---> 76\u001b[0;31m     \u001b[0;32mreturn\u001b[0m \u001b[0mread_csv\u001b[0m\u001b[0;34m(\u001b[0m\u001b[0mStringIO\u001b[0m\u001b[0;34m(\u001b[0m\u001b[0mtext\u001b[0m\u001b[0;34m)\u001b[0m\u001b[0;34m,\u001b[0m \u001b[0msep\u001b[0m\u001b[0;34m=\u001b[0m\u001b[0msep\u001b[0m\u001b[0;34m,\u001b[0m \u001b[0;34m**\u001b[0m\u001b[0mkwargs\u001b[0m\u001b[0;34m)\u001b[0m\u001b[0;34m\u001b[0m\u001b[0;34m\u001b[0m\u001b[0m\n\u001b[0m\u001b[1;32m     77\u001b[0m \u001b[0;34m\u001b[0m\u001b[0m\n\u001b[1;32m     78\u001b[0m \u001b[0;34m\u001b[0m\u001b[0m\n",
      "\u001b[0;32m/opt/anaconda3/envs/homework/lib/python3.7/site-packages/pandas/io/parsers.py\u001b[0m in \u001b[0;36mparser_f\u001b[0;34m(filepath_or_buffer, sep, delimiter, header, names, index_col, usecols, squeeze, prefix, mangle_dupe_cols, dtype, engine, converters, true_values, false_values, skipinitialspace, skiprows, skipfooter, nrows, na_values, keep_default_na, na_filter, verbose, skip_blank_lines, parse_dates, infer_datetime_format, keep_date_col, date_parser, dayfirst, cache_dates, iterator, chunksize, compression, thousands, decimal, lineterminator, quotechar, quoting, doublequote, escapechar, comment, encoding, dialect, error_bad_lines, warn_bad_lines, delim_whitespace, low_memory, memory_map, float_precision)\u001b[0m\n\u001b[1;32m    674\u001b[0m         )\n\u001b[1;32m    675\u001b[0m \u001b[0;34m\u001b[0m\u001b[0m\n\u001b[0;32m--> 676\u001b[0;31m         \u001b[0;32mreturn\u001b[0m \u001b[0m_read\u001b[0m\u001b[0;34m(\u001b[0m\u001b[0mfilepath_or_buffer\u001b[0m\u001b[0;34m,\u001b[0m \u001b[0mkwds\u001b[0m\u001b[0;34m)\u001b[0m\u001b[0;34m\u001b[0m\u001b[0;34m\u001b[0m\u001b[0m\n\u001b[0m\u001b[1;32m    677\u001b[0m \u001b[0;34m\u001b[0m\u001b[0m\n\u001b[1;32m    678\u001b[0m     \u001b[0mparser_f\u001b[0m\u001b[0;34m.\u001b[0m\u001b[0m__name__\u001b[0m \u001b[0;34m=\u001b[0m \u001b[0mname\u001b[0m\u001b[0;34m\u001b[0m\u001b[0;34m\u001b[0m\u001b[0m\n",
      "\u001b[0;32m/opt/anaconda3/envs/homework/lib/python3.7/site-packages/pandas/io/parsers.py\u001b[0m in \u001b[0;36m_read\u001b[0;34m(filepath_or_buffer, kwds)\u001b[0m\n\u001b[1;32m    452\u001b[0m \u001b[0;34m\u001b[0m\u001b[0m\n\u001b[1;32m    453\u001b[0m     \u001b[0;32mtry\u001b[0m\u001b[0;34m:\u001b[0m\u001b[0;34m\u001b[0m\u001b[0;34m\u001b[0m\u001b[0m\n\u001b[0;32m--> 454\u001b[0;31m         \u001b[0mdata\u001b[0m \u001b[0;34m=\u001b[0m \u001b[0mparser\u001b[0m\u001b[0;34m.\u001b[0m\u001b[0mread\u001b[0m\u001b[0;34m(\u001b[0m\u001b[0mnrows\u001b[0m\u001b[0;34m)\u001b[0m\u001b[0;34m\u001b[0m\u001b[0;34m\u001b[0m\u001b[0m\n\u001b[0m\u001b[1;32m    455\u001b[0m     \u001b[0;32mfinally\u001b[0m\u001b[0;34m:\u001b[0m\u001b[0;34m\u001b[0m\u001b[0;34m\u001b[0m\u001b[0m\n\u001b[1;32m    456\u001b[0m         \u001b[0mparser\u001b[0m\u001b[0;34m.\u001b[0m\u001b[0mclose\u001b[0m\u001b[0;34m(\u001b[0m\u001b[0;34m)\u001b[0m\u001b[0;34m\u001b[0m\u001b[0;34m\u001b[0m\u001b[0m\n",
      "\u001b[0;32m/opt/anaconda3/envs/homework/lib/python3.7/site-packages/pandas/io/parsers.py\u001b[0m in \u001b[0;36mread\u001b[0;34m(self, nrows)\u001b[0m\n\u001b[1;32m   1131\u001b[0m     \u001b[0;32mdef\u001b[0m \u001b[0mread\u001b[0m\u001b[0;34m(\u001b[0m\u001b[0mself\u001b[0m\u001b[0;34m,\u001b[0m \u001b[0mnrows\u001b[0m\u001b[0;34m=\u001b[0m\u001b[0;32mNone\u001b[0m\u001b[0;34m)\u001b[0m\u001b[0;34m:\u001b[0m\u001b[0;34m\u001b[0m\u001b[0;34m\u001b[0m\u001b[0m\n\u001b[1;32m   1132\u001b[0m         \u001b[0mnrows\u001b[0m \u001b[0;34m=\u001b[0m \u001b[0m_validate_integer\u001b[0m\u001b[0;34m(\u001b[0m\u001b[0;34m\"nrows\"\u001b[0m\u001b[0;34m,\u001b[0m \u001b[0mnrows\u001b[0m\u001b[0;34m)\u001b[0m\u001b[0;34m\u001b[0m\u001b[0;34m\u001b[0m\u001b[0m\n\u001b[0;32m-> 1133\u001b[0;31m         \u001b[0mret\u001b[0m \u001b[0;34m=\u001b[0m \u001b[0mself\u001b[0m\u001b[0;34m.\u001b[0m\u001b[0m_engine\u001b[0m\u001b[0;34m.\u001b[0m\u001b[0mread\u001b[0m\u001b[0;34m(\u001b[0m\u001b[0mnrows\u001b[0m\u001b[0;34m)\u001b[0m\u001b[0;34m\u001b[0m\u001b[0;34m\u001b[0m\u001b[0m\n\u001b[0m\u001b[1;32m   1134\u001b[0m \u001b[0;34m\u001b[0m\u001b[0m\n\u001b[1;32m   1135\u001b[0m         \u001b[0;31m# May alter columns / col_dict\u001b[0m\u001b[0;34m\u001b[0m\u001b[0;34m\u001b[0m\u001b[0;34m\u001b[0m\u001b[0m\n",
      "\u001b[0;32m/opt/anaconda3/envs/homework/lib/python3.7/site-packages/pandas/io/parsers.py\u001b[0m in \u001b[0;36mread\u001b[0;34m(self, rows)\u001b[0m\n\u001b[1;32m   2456\u001b[0m             \u001b[0mcontent\u001b[0m \u001b[0;34m=\u001b[0m \u001b[0mcontent\u001b[0m\u001b[0;34m[\u001b[0m\u001b[0;36m1\u001b[0m\u001b[0;34m:\u001b[0m\u001b[0;34m]\u001b[0m\u001b[0;34m\u001b[0m\u001b[0;34m\u001b[0m\u001b[0m\n\u001b[1;32m   2457\u001b[0m \u001b[0;34m\u001b[0m\u001b[0m\n\u001b[0;32m-> 2458\u001b[0;31m         \u001b[0malldata\u001b[0m \u001b[0;34m=\u001b[0m \u001b[0mself\u001b[0m\u001b[0;34m.\u001b[0m\u001b[0m_rows_to_cols\u001b[0m\u001b[0;34m(\u001b[0m\u001b[0mcontent\u001b[0m\u001b[0;34m)\u001b[0m\u001b[0;34m\u001b[0m\u001b[0;34m\u001b[0m\u001b[0m\n\u001b[0m\u001b[1;32m   2459\u001b[0m         \u001b[0mdata\u001b[0m \u001b[0;34m=\u001b[0m \u001b[0mself\u001b[0m\u001b[0;34m.\u001b[0m\u001b[0m_exclude_implicit_index\u001b[0m\u001b[0;34m(\u001b[0m\u001b[0malldata\u001b[0m\u001b[0;34m)\u001b[0m\u001b[0;34m\u001b[0m\u001b[0;34m\u001b[0m\u001b[0m\n\u001b[1;32m   2460\u001b[0m \u001b[0;34m\u001b[0m\u001b[0m\n",
      "\u001b[0;32m/opt/anaconda3/envs/homework/lib/python3.7/site-packages/pandas/io/parsers.py\u001b[0m in \u001b[0;36m_rows_to_cols\u001b[0;34m(self, content)\u001b[0m\n\u001b[1;32m   3111\u001b[0m                     \u001b[0mmsg\u001b[0m \u001b[0;34m+=\u001b[0m \u001b[0;34m\". \"\u001b[0m \u001b[0;34m+\u001b[0m \u001b[0mreason\u001b[0m\u001b[0;34m\u001b[0m\u001b[0;34m\u001b[0m\u001b[0m\n\u001b[1;32m   3112\u001b[0m \u001b[0;34m\u001b[0m\u001b[0m\n\u001b[0;32m-> 3113\u001b[0;31m                 \u001b[0mself\u001b[0m\u001b[0;34m.\u001b[0m\u001b[0m_alert_malformed\u001b[0m\u001b[0;34m(\u001b[0m\u001b[0mmsg\u001b[0m\u001b[0;34m,\u001b[0m \u001b[0mrow_num\u001b[0m \u001b[0;34m+\u001b[0m \u001b[0;36m1\u001b[0m\u001b[0;34m)\u001b[0m\u001b[0;34m\u001b[0m\u001b[0;34m\u001b[0m\u001b[0m\n\u001b[0m\u001b[1;32m   3114\u001b[0m \u001b[0;34m\u001b[0m\u001b[0m\n\u001b[1;32m   3115\u001b[0m         \u001b[0;31m# see gh-13320\u001b[0m\u001b[0;34m\u001b[0m\u001b[0;34m\u001b[0m\u001b[0;34m\u001b[0m\u001b[0m\n",
      "\u001b[0;32m/opt/anaconda3/envs/homework/lib/python3.7/site-packages/pandas/io/parsers.py\u001b[0m in \u001b[0;36m_alert_malformed\u001b[0;34m(self, msg, row_num)\u001b[0m\n\u001b[1;32m   2870\u001b[0m \u001b[0;34m\u001b[0m\u001b[0m\n\u001b[1;32m   2871\u001b[0m         \u001b[0;32mif\u001b[0m \u001b[0mself\u001b[0m\u001b[0;34m.\u001b[0m\u001b[0merror_bad_lines\u001b[0m\u001b[0;34m:\u001b[0m\u001b[0;34m\u001b[0m\u001b[0;34m\u001b[0m\u001b[0m\n\u001b[0;32m-> 2872\u001b[0;31m             \u001b[0;32mraise\u001b[0m \u001b[0mParserError\u001b[0m\u001b[0;34m(\u001b[0m\u001b[0mmsg\u001b[0m\u001b[0;34m)\u001b[0m\u001b[0;34m\u001b[0m\u001b[0;34m\u001b[0m\u001b[0m\n\u001b[0m\u001b[1;32m   2873\u001b[0m         \u001b[0;32melif\u001b[0m \u001b[0mself\u001b[0m\u001b[0;34m.\u001b[0m\u001b[0mwarn_bad_lines\u001b[0m\u001b[0;34m:\u001b[0m\u001b[0;34m\u001b[0m\u001b[0;34m\u001b[0m\u001b[0m\n\u001b[1;32m   2874\u001b[0m             \u001b[0mbase\u001b[0m \u001b[0;34m=\u001b[0m \u001b[0;34mf\"Skipping line {row_num}: \"\u001b[0m\u001b[0;34m\u001b[0m\u001b[0;34m\u001b[0m\u001b[0m\n",
      "\u001b[0;31mParserError\u001b[0m: Expected 5 fields in line 5, saw 6. Error could possibly be due to quotes being ignored when a multi-char delimiter is used."
     ]
    },
    {
     "data": {
      "application/javascript": [
       "\n",
       "            setTimeout(function() {\n",
       "                var nbb_cell_id = 316;\n",
       "                var nbb_unformatted_code = \"chapters = pd.read_clipboard()\";\n",
       "                var nbb_formatted_code = \"chapters = pd.read_clipboard()\";\n",
       "                var nbb_cells = Jupyter.notebook.get_cells();\n",
       "                for (var i = 0; i < nbb_cells.length; ++i) {\n",
       "                    if (nbb_cells[i].input_prompt_number == nbb_cell_id) {\n",
       "                        if (nbb_cells[i].get_text() == nbb_unformatted_code) {\n",
       "                             nbb_cells[i].set_text(nbb_formatted_code);\n",
       "                        }\n",
       "                        break;\n",
       "                    }\n",
       "                }\n",
       "            }, 500);\n",
       "            "
      ],
      "text/plain": [
       "<IPython.core.display.Javascript object>"
      ]
     },
     "metadata": {},
     "output_type": "display_data"
    }
   ],
   "source": [
    "chapters = pd.read_clipboard()"
   ]
  },
  {
   "cell_type": "code",
   "execution_count": null,
   "id": "inside-resolution",
   "metadata": {},
   "outputs": [],
   "source": []
  }
 ],
 "metadata": {
  "kernelspec": {
   "display_name": "Python 3",
   "language": "python",
   "name": "python3"
  },
  "language_info": {
   "codemirror_mode": {
    "name": "ipython",
    "version": 3
   },
   "file_extension": ".py",
   "mimetype": "text/x-python",
   "name": "python",
   "nbconvert_exporter": "python",
   "pygments_lexer": "ipython3",
   "version": "3.7.9"
  }
 },
 "nbformat": 4,
 "nbformat_minor": 5
}
