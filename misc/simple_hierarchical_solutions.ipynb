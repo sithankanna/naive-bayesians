{
 "cells": [
  {
   "cell_type": "markdown",
   "metadata": {},
   "source": [
    "### Regularising Measurements  \n",
    "\n",
    "Hi Folks, \n",
    "\n",
    "### Problem\n",
    "\n",
    "I've been trying to solve a problem where I have _measurements_ that I want to regularise. \n",
    "\n",
    "I have some prior knowledge that \n",
    "\n",
    "1. The mean of the measurements is should be around $\\mu_0$ \n",
    "2. The measurements should be \"close\" to each other i.e. have low variance. \n",
    "\n",
    "### Potential Solution\n",
    "The solution I have is to model the data as being iid with a Gaussian likelihood and parameterised by a mean $\\mu$ and precision, $\\tau = 1/\\sigma^2$\n",
    "\n",
    "$$ \n",
    "\\begin{align}\n",
    "x_i | \\mu, \\tau {} & \\overset{iid}{\\sim}  \\mathcal{N}(\\mu, \\tau)  \\\\\n",
    "\\mu {} & \\sim \\mathcal{N}(\\mu_0, n_0\\tau) \\\\\n",
    "\\tau {} & \\sim \\textsf{Ga}(\\alpha, \\beta)\n",
    "\\end{align}\n",
    "$$\n",
    "\n",
    "Starting with parameters for $\\mu_0$, $n_0$, $\\alpha$, $\\beta$, the posterior mean and precision can be calculated as \n",
    "$$\n",
    "\\begin{align}\n",
    "\\mu | \\tau, x \\sim {} & \\mathcal{N}\\left( \\frac{n}{n+n_0}\\bar{x} +  \\frac{n_0}{n+n_0}\\mu_0 , (n +n_0)\\tau   \\right) \\\\\n",
    "\\tau | x \\sim  {} & \\textsf{Ga}\\left( \\alpha + \\frac{n}{2}, \\beta + \\frac{1}{2}\\sum_i (x_i - \\bar{x})^2 + \\frac{nn_0}{2(n + n_0)}  (\\bar{x} - \\mu_0)^2  \\right) \n",
    "\\end{align}\n",
    "$$\n",
    "where $\\bar{x}$ is the sample mean of the data. [1]\n",
    "\n",
    "By setting $\\mu_0$ to be equal to the prior knowledge of the mean and $n_0$, $\\alpha$, $\\beta$ arbirtrarily so that the variance of posterior is low, I, can compute the the posterior mean and precision. \n",
    "\n",
    "\n",
    "My solution is then to _adjust_ the data such that it matches the posterior mean and precision. \n",
    "\n",
    "\n",
    "1. Step 1: Find the $z$ scores with the mean and precision calculated from the data: \n",
    "    * $z^{\\text{old}}_i  = \\sqrt{\\tau_x}(x - \\bar{x})$\n",
    "\n",
    "2. Step 2: Convert the $z$ scores back but with the posterior mean and precision \n",
    "    * $x^{\\text{new}}_i  = \\frac{1}{\\sqrt{\\tau}}z^{\\text{old}}_i + \\mu$\n",
    "\n",
    "Is this valid? \n",
    "\n",
    "Is there a better way to do this?\n",
    "\n",
    "\n",
    "### References \n",
    "\n",
    "[1] [The Conjugate Prior for the Normal Distribution](https://people.eecs.berkeley.edu/~jordan/courses/260-spring10/lectures/lecture5.pdf), Stat260 UC Berkeley\n"
   ]
  },
  {
   "cell_type": "code",
   "execution_count": 42,
   "metadata": {},
   "outputs": [],
   "source": [
    "import pandas as pd\n",
    "import numpy as np\n",
    "import pymc3 as pm"
   ]
  },
  {
   "cell_type": "code",
   "execution_count": null,
   "metadata": {},
   "outputs": [],
   "source": []
  },
  {
   "cell_type": "code",
   "execution_count": 37,
   "metadata": {},
   "outputs": [
    {
     "name": "stdout",
     "output_type": "stream",
     "text": [
      "Prior mean, mu0 3 Prior precision, tau0  10.00\n",
      "\n",
      "Data mean, x_bar 3.25 Data precision, tau_x  0.27\n",
      "---\n",
      "Posterior mean,  3.20 Posterior precision,  1.43\n"
     ]
    }
   ],
   "source": [
    "mu0 = 3\n",
    "\n",
    "n0 = 1\n",
    "alpha = 10\n",
    "beta = 1\n",
    "\n",
    "tau_mean_prior = alpha/beta\n",
    "\n",
    "print(f\"Prior mean, mu0 {mu0}\", f\"Prior precision, tau0 {tau_mean_prior: .2f}\")\n",
    "\n",
    "x = np.array([1, 2, 4, 6])\n",
    "\n",
    "n = len(x)\n",
    "x_bar = np.mean(x)\n",
    "tau_x = 1/np.var(x)\n",
    "\n",
    "print(\"\")\n",
    "\n",
    "print(f\"Data mean, x_bar {x_bar}\", f\"Data precision, tau_x {tau_x: .2f}\")\n",
    "\n",
    "\n",
    "alpha_post = alpha + n/2\n",
    "beta_post = beta + 0.5*np.sum( (x - x_bar)**2) + 0.5*n*n0/(n + n0)*(x_bar - mu0)**2\n",
    "\n",
    "tau_mean_post = alpha_post/beta_post\n",
    "mu_mean_post = (n/(n + n0))*x_bar + (n0/(n + n0))*mu0\n",
    "\n",
    "print(\"---\")\n",
    "print(f\"Posterior mean, {mu_mean_post: .2f}\", f\"Posterior precision, {tau_mean_post: .2f}\")\n"
   ]
  },
  {
   "cell_type": "code",
   "execution_count": 23,
   "metadata": {},
   "outputs": [
    {
     "name": "stderr",
     "output_type": "stream",
     "text": [
      "Auto-assigning NUTS sampler...\n",
      "Initializing NUTS using jitter+adapt_diag...\n",
      "Multiprocess sampling (2 chains in 2 jobs)\n",
      "NUTS: [mu, tau]\n"
     ]
    },
    {
     "data": {
      "text/html": [
       "\n",
       "    <div>\n",
       "        <style>\n",
       "            /* Turns off some styling */\n",
       "            progress {\n",
       "                /* gets rid of default border in Firefox and Opera. */\n",
       "                border: none;\n",
       "                /* Needs to be in here for Safari polyfill so background images work as expected. */\n",
       "                background-size: auto;\n",
       "            }\n",
       "            .progress-bar-interrupted, .progress-bar-interrupted::-webkit-progress-bar {\n",
       "                background: #F44336;\n",
       "            }\n",
       "        </style>\n",
       "      <progress value='4000' class='' max='4000' style='width:300px; height:20px; vertical-align: middle;'></progress>\n",
       "      100.00% [4000/4000 00:05<00:00 Sampling 2 chains, 0 divergences]\n",
       "    </div>\n",
       "    "
      ],
      "text/plain": [
       "<IPython.core.display.HTML object>"
      ]
     },
     "metadata": {},
     "output_type": "display_data"
    },
    {
     "name": "stderr",
     "output_type": "stream",
     "text": [
      "Sampling 2 chains for 1_000 tune and 1_000 draw iterations (2_000 + 2_000 draws total) took 19 seconds.\n"
     ]
    }
   ],
   "source": [
    "x = np.array([1, 2, 4, 6])\n",
    "\n",
    "with pm.Model() as mod:\n",
    "    # Priors\n",
    "    mu0 = 3\n",
    "    n0 = 1\n",
    "    alpha = 10\n",
    "    beta = 1\n",
    "         \n",
    "    tau = pm.Gamma(\"tau\", alpha=alpha, beta=beta)\n",
    "    mu = pm.Normal(\"mu\", mu=mu0, tau=n0*tau)\n",
    "    \n",
    "    # Likelihood \n",
    "    y = pm.Normal(\"y\", mu=mu, tau=tau, observed=x)\n",
    "    \n",
    "    # Magic     \n",
    "    trace = pm.sample()"
   ]
  },
  {
   "cell_type": "code",
   "execution_count": 24,
   "metadata": {},
   "outputs": [
    {
     "name": "stdout",
     "output_type": "stream",
     "text": [
      "NUTS sampler results\n",
      "Posterior mean,  4.53 Posterior precision,  0.15\n"
     ]
    }
   ],
   "source": [
    "mu_sample_post = np.mean(trace.get_values(\"mu\"))\n",
    "tau_sample_post = np.mean(trace.get_values(\"tau\"))\n",
    "print(\"NUTS sampler results\")\n",
    "print(f\"Posterior mean, {mu_sample_post: .2f}\", f\"Posterior precision, {tau_sample_post: .2f}\")"
   ]
  },
  {
   "cell_type": "code",
   "execution_count": 38,
   "metadata": {},
   "outputs": [
    {
     "data": {
      "text/plain": [
       "array([2.21968528, 2.65538071, 3.52677157, 4.39816243])"
      ]
     },
     "execution_count": 38,
     "metadata": {},
     "output_type": "execute_result"
    }
   ],
   "source": [
    "z_scores = np.sqrt(tau_x)*(x - x_bar)\n",
    "z_scores\n",
    "\n",
    "x_transformed = (1/np.sqrt(tau_mean_post))*z_scores + mu_mean_post\n",
    "x_transformed"
   ]
  },
  {
   "cell_type": "code",
   "execution_count": null,
   "metadata": {},
   "outputs": [],
   "source": []
  },
  {
   "cell_type": "code",
   "execution_count": null,
   "metadata": {},
   "outputs": [],
   "source": []
  },
  {
   "cell_type": "code",
   "execution_count": null,
   "metadata": {},
   "outputs": [],
   "source": []
  },
  {
   "cell_type": "code",
   "execution_count": null,
   "metadata": {},
   "outputs": [],
   "source": []
  }
 ],
 "metadata": {
  "kernelspec": {
   "display_name": "Python 3",
   "language": "python",
   "name": "python3"
  },
  "language_info": {
   "codemirror_mode": {
    "name": "ipython",
    "version": 3
   },
   "file_extension": ".py",
   "mimetype": "text/x-python",
   "name": "python",
   "nbconvert_exporter": "python",
   "pygments_lexer": "ipython3",
   "version": "3.7.9"
  }
 },
 "nbformat": 4,
 "nbformat_minor": 4
}
