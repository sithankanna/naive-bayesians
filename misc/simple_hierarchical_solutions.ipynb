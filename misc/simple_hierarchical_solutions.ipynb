{
 "cells": [
  {
   "cell_type": "markdown",
   "metadata": {},
   "source": [
    "### Regularising Measurements  \n",
    "\n",
    "Hi Folks, \n",
    "\n",
    "### Problem\n",
    "\n",
    "I've been trying to solve a problem where I have _measurements_ that I want to regularise. \n",
    "\n",
    "I have some prior knowledge that \n",
    "\n",
    "1. The mean of the measurements is should be around $\\mu_0$ \n",
    "2. The measurements should be \"close\" to each other i.e. have low variance. \n",
    "\n",
    "### Potential Solution\n",
    "The solution I have is to model the data as being iid with a Gaussian likelihood and parameterised by a mean $\\mu$ and precision, $\\tau = 1/\\sigma^2$\n",
    "\n",
    "$$ \n",
    "\\begin{align}\n",
    "x_i | \\mu, \\tau {} & \\overset{iid}{\\sim}  \\mathcal{N}(\\mu, \\tau)  \\\\\n",
    "\\mu {} & \\sim \\mathcal{N}(\\mu_0, n_0\\tau) \\\\\n",
    "\\tau {} & \\sim \\textsf{Gamma}(\\alpha, \\beta)\n",
    "\\end{align}\n",
    "$$\n",
    "\n",
    "Starting with parameters for $\\mu_0$, $n_0$, $\\alpha$, $\\beta$, the posterior mean and precision can be calculated as \n",
    "$$\n",
    "\\begin{align}\n",
    "\\mu | \\tau, x \\sim {} & \\mathcal{N}\\left( \\frac{n}{n+n_0}\\bar{x} +  \\frac{n_0}{n+n_0}\\mu_0 , (n +n_0)\\tau   \\right) \\\\\n",
    "\\tau | x \\sim  {} & \\textsf{Ga}\\left( \\alpha + \\frac{n}{2}, \\beta + \\frac{1}{2}\\sum_i (x_i - \\bar{x})^2 + \\frac{nn_0}{2(n + n_0)}  (\\bar{x} - \\mu_0)^2  \\right) \n",
    "\\end{align}\n",
    "$$\n",
    "where $\\bar{x}$ is the sample mean of the data. [1]\n",
    "\n",
    "By setting $\\mu_0$ to be equal to the prior knowledge of the mean and $n_0$, $\\alpha$, $\\beta$ arbirtrarily so that the variance of posterior is low, I, can compute the the posterior mean and precision. \n",
    "\n",
    "\n",
    "My solution is then to _adjust_ the data such that it matches the posterior mean and precision. \n",
    "\n",
    "\n",
    "1. Step 1: Find the $z$ scores with the mean and precision calculated from the data: \n",
    "    * $z^{\\text{old}}_i  = \\sqrt{\\tau_x}(x_i - \\bar{x})$\n",
    "where $\\tau_x$ is the sample precision. \n",
    "\n",
    "\n",
    "2. Step 2: Convert the $z$ scores back but with the posterior mean and precision \n",
    "    * $x^{\\text{new}}_i  = \\frac{1}{\\sqrt{\\tau}}z^{\\text{old}}_i + \\mu$\n",
    "\n",
    "Is this valid? \n",
    "\n",
    "Is there a better way to do this?\n",
    "\n",
    "\n",
    "### References \n",
    "\n",
    "[1] [The Conjugate Prior for the Normal Distribution](https://people.eecs.berkeley.edu/~jordan/courses/260-spring10/lectures/lecture5.pdf), Stat260 UC Berkeley\n"
   ]
  },
  {
   "cell_type": "code",
   "execution_count": 53,
   "metadata": {},
   "outputs": [
    {
     "data": {
      "application/javascript": [
       "\n",
       "            setTimeout(function() {\n",
       "                var nbb_cell_id = 53;\n",
       "                var nbb_unformatted_code = \"import pandas as pd\\nimport numpy as np\\nimport pymc3 as pm\\nfrom typing import List, Dict\";\n",
       "                var nbb_formatted_code = \"import pandas as pd\\nimport numpy as np\\nimport pymc3 as pm\\nfrom typing import List, Dict\";\n",
       "                var nbb_cells = Jupyter.notebook.get_cells();\n",
       "                for (var i = 0; i < nbb_cells.length; ++i) {\n",
       "                    if (nbb_cells[i].input_prompt_number == nbb_cell_id) {\n",
       "                        if (nbb_cells[i].get_text() == nbb_unformatted_code) {\n",
       "                             nbb_cells[i].set_text(nbb_formatted_code);\n",
       "                        }\n",
       "                        break;\n",
       "                    }\n",
       "                }\n",
       "            }, 500);\n",
       "            "
      ],
      "text/plain": [
       "<IPython.core.display.Javascript object>"
      ]
     },
     "metadata": {},
     "output_type": "display_data"
    }
   ],
   "source": [
    "import pandas as pd\n",
    "import numpy as np\n",
    "import pymc3 as pm\n",
    "from typing import List, Dict"
   ]
  },
  {
   "cell_type": "code",
   "execution_count": 43,
   "metadata": {},
   "outputs": [
    {
     "data": {
      "application/javascript": [
       "\n",
       "            setTimeout(function() {\n",
       "                var nbb_cell_id = 43;\n",
       "                var nbb_unformatted_code = \"%load_ext nb_black\";\n",
       "                var nbb_formatted_code = \"%load_ext nb_black\";\n",
       "                var nbb_cells = Jupyter.notebook.get_cells();\n",
       "                for (var i = 0; i < nbb_cells.length; ++i) {\n",
       "                    if (nbb_cells[i].input_prompt_number == nbb_cell_id) {\n",
       "                        if (nbb_cells[i].get_text() == nbb_unformatted_code) {\n",
       "                             nbb_cells[i].set_text(nbb_formatted_code);\n",
       "                        }\n",
       "                        break;\n",
       "                    }\n",
       "                }\n",
       "            }, 500);\n",
       "            "
      ],
      "text/plain": [
       "<IPython.core.display.Javascript object>"
      ]
     },
     "metadata": {},
     "output_type": "display_data"
    }
   ],
   "source": [
    "%load_ext nb_black"
   ]
  },
  {
   "cell_type": "code",
   "execution_count": 37,
   "metadata": {},
   "outputs": [
    {
     "name": "stdout",
     "output_type": "stream",
     "text": [
      "Prior mean, mu0 3 Prior precision, tau0  10.00\n",
      "\n",
      "Data mean, x_bar 3.25 Data precision, tau_x  0.27\n",
      "---\n",
      "Posterior mean,  3.20 Posterior precision,  1.43\n"
     ]
    }
   ],
   "source": [
    "mu0 = 3\n",
    "\n",
    "n0 = 1\n",
    "alpha = 10\n",
    "beta = 1\n",
    "\n",
    "tau_mean_prior = alpha/beta\n",
    "\n",
    "print(f\"Prior mean, mu0 {mu0}\", f\"Prior precision, tau0 {tau_mean_prior: .2f}\")\n",
    "\n",
    "x = np.array([1, 2, 4, 6])\n",
    "\n",
    "n = len(x)\n",
    "x_bar = np.mean(x)\n",
    "tau_x = 1/np.var(x)\n",
    "\n",
    "print(\"\")\n",
    "\n",
    "print(f\"Data mean, x_bar {x_bar}\", f\"Data precision, tau_x {tau_x: .2f}\")\n",
    "\n",
    "\n",
    "alpha_post = alpha + n/2\n",
    "beta_post = beta + 0.5*np.sum( (x - x_bar)**2) + 0.5*n*n0/(n + n0)*(x_bar - mu0)**2\n",
    "tau_mean_post = alpha_post/beta_post\n",
    "\n",
    "\n",
    "mu_mean_post = (n/(n + n0))*x_bar + (n0/(n + n0))*mu0\n",
    "\n",
    "print(\"---\")\n",
    "print(f\"Posterior mean, {mu_mean_post: .2f}\", f\"Posterior precision, {tau_mean_post: .2f}\")\n"
   ]
  },
  {
   "cell_type": "code",
   "execution_count": 23,
   "metadata": {},
   "outputs": [
    {
     "name": "stderr",
     "output_type": "stream",
     "text": [
      "Auto-assigning NUTS sampler...\n",
      "Initializing NUTS using jitter+adapt_diag...\n",
      "Multiprocess sampling (2 chains in 2 jobs)\n",
      "NUTS: [mu, tau]\n"
     ]
    },
    {
     "data": {
      "text/html": [
       "\n",
       "    <div>\n",
       "        <style>\n",
       "            /* Turns off some styling */\n",
       "            progress {\n",
       "                /* gets rid of default border in Firefox and Opera. */\n",
       "                border: none;\n",
       "                /* Needs to be in here for Safari polyfill so background images work as expected. */\n",
       "                background-size: auto;\n",
       "            }\n",
       "            .progress-bar-interrupted, .progress-bar-interrupted::-webkit-progress-bar {\n",
       "                background: #F44336;\n",
       "            }\n",
       "        </style>\n",
       "      <progress value='4000' class='' max='4000' style='width:300px; height:20px; vertical-align: middle;'></progress>\n",
       "      100.00% [4000/4000 00:05<00:00 Sampling 2 chains, 0 divergences]\n",
       "    </div>\n",
       "    "
      ],
      "text/plain": [
       "<IPython.core.display.HTML object>"
      ]
     },
     "metadata": {},
     "output_type": "display_data"
    },
    {
     "name": "stderr",
     "output_type": "stream",
     "text": [
      "Sampling 2 chains for 1_000 tune and 1_000 draw iterations (2_000 + 2_000 draws total) took 19 seconds.\n"
     ]
    }
   ],
   "source": [
    "x = np.array([1, 2, 4, 6])\n",
    "\n",
    "with pm.Model() as mod:\n",
    "    # Priors\n",
    "    mu0 = 3\n",
    "    n0 = 1\n",
    "    alpha = 10\n",
    "    beta = 1\n",
    "         \n",
    "    tau = pm.Gamma(\"tau\", alpha=alpha, beta=beta)\n",
    "    mu = pm.Normal(\"mu\", mu=mu0, tau=n0*tau)\n",
    "    \n",
    "    # Likelihood \n",
    "    y = pm.Normal(\"y\", mu=mu, tau=tau, observed=x)\n",
    "    \n",
    "    # Magic     \n",
    "    trace = pm.sample()"
   ]
  },
  {
   "cell_type": "code",
   "execution_count": 24,
   "metadata": {},
   "outputs": [
    {
     "name": "stdout",
     "output_type": "stream",
     "text": [
      "NUTS sampler results\n",
      "Posterior mean,  4.53 Posterior precision,  0.15\n"
     ]
    }
   ],
   "source": [
    "mu_sample_post = np.mean(trace.get_values(\"mu\"))\n",
    "tau_sample_post = np.mean(trace.get_values(\"tau\"))\n",
    "print(\"NUTS sampler results\")\n",
    "print(f\"Posterior mean, {mu_sample_post: .2f}\", f\"Posterior precision, {tau_sample_post: .2f}\")"
   ]
  },
  {
   "cell_type": "code",
   "execution_count": 38,
   "metadata": {},
   "outputs": [
    {
     "data": {
      "text/plain": [
       "array([2.21968528, 2.65538071, 3.52677157, 4.39816243])"
      ]
     },
     "execution_count": 38,
     "metadata": {},
     "output_type": "execute_result"
    }
   ],
   "source": [
    "z_scores = np.sqrt(tau_x)*(x - x_bar)\n",
    "z_scores\n",
    "\n",
    "x_transformed = (1/np.sqrt(tau_mean_post))*z_scores + mu_mean_post\n",
    "x_transformed"
   ]
  },
  {
   "cell_type": "code",
   "execution_count": 91,
   "metadata": {},
   "outputs": [
    {
     "data": {
      "text/html": [
       "<div>\n",
       "<style scoped>\n",
       "    .dataframe tbody tr th:only-of-type {\n",
       "        vertical-align: middle;\n",
       "    }\n",
       "\n",
       "    .dataframe tbody tr th {\n",
       "        vertical-align: top;\n",
       "    }\n",
       "\n",
       "    .dataframe thead th {\n",
       "        text-align: right;\n",
       "    }\n",
       "</style>\n",
       "<table border=\"1\" class=\"dataframe\">\n",
       "  <thead>\n",
       "    <tr style=\"text-align: right;\">\n",
       "      <th></th>\n",
       "      <th>hierarchy</th>\n",
       "      <th>mu0</th>\n",
       "      <th>n0</th>\n",
       "      <th>alpha</th>\n",
       "      <th>beta</th>\n",
       "    </tr>\n",
       "  </thead>\n",
       "  <tbody>\n",
       "    <tr>\n",
       "      <th>0</th>\n",
       "      <td>A</td>\n",
       "      <td>3</td>\n",
       "      <td>1</td>\n",
       "      <td>10</td>\n",
       "      <td>1</td>\n",
       "    </tr>\n",
       "    <tr>\n",
       "      <th>1</th>\n",
       "      <td>B</td>\n",
       "      <td>-3</td>\n",
       "      <td>1</td>\n",
       "      <td>10</td>\n",
       "      <td>1</td>\n",
       "    </tr>\n",
       "  </tbody>\n",
       "</table>\n",
       "</div>"
      ],
      "text/plain": [
       "  hierarchy  mu0  n0  alpha  beta\n",
       "0         A    3   1     10     1\n",
       "1         B   -3   1     10     1"
      ]
     },
     "metadata": {},
     "output_type": "display_data"
    },
    {
     "data": {
      "text/html": [
       "<div>\n",
       "<style scoped>\n",
       "    .dataframe tbody tr th:only-of-type {\n",
       "        vertical-align: middle;\n",
       "    }\n",
       "\n",
       "    .dataframe tbody tr th {\n",
       "        vertical-align: top;\n",
       "    }\n",
       "\n",
       "    .dataframe thead th {\n",
       "        text-align: right;\n",
       "    }\n",
       "</style>\n",
       "<table border=\"1\" class=\"dataframe\">\n",
       "  <thead>\n",
       "    <tr style=\"text-align: right;\">\n",
       "      <th></th>\n",
       "      <th>hierarchy</th>\n",
       "      <th>sample_mean</th>\n",
       "      <th>sample_precision</th>\n",
       "      <th>posterior_mean</th>\n",
       "      <th>posterior_precision</th>\n",
       "    </tr>\n",
       "  </thead>\n",
       "  <tbody>\n",
       "    <tr>\n",
       "      <th>0</th>\n",
       "      <td>A</td>\n",
       "      <td>3.25</td>\n",
       "      <td>0.203390</td>\n",
       "      <td>3.200000</td>\n",
       "      <td>1.104506</td>\n",
       "    </tr>\n",
       "    <tr>\n",
       "      <th>1</th>\n",
       "      <td>B</td>\n",
       "      <td>-2.60</td>\n",
       "      <td>0.172414</td>\n",
       "      <td>-2.666667</td>\n",
       "      <td>0.802311</td>\n",
       "    </tr>\n",
       "  </tbody>\n",
       "</table>\n",
       "</div>"
      ],
      "text/plain": [
       "  hierarchy  sample_mean  sample_precision  posterior_mean  \\\n",
       "0         A         3.25          0.203390        3.200000   \n",
       "1         B        -2.60          0.172414       -2.666667   \n",
       "\n",
       "   posterior_precision  \n",
       "0             1.104506  \n",
       "1             0.802311  "
      ]
     },
     "execution_count": 91,
     "metadata": {},
     "output_type": "execute_result"
    },
    {
     "data": {
      "application/javascript": [
       "\n",
       "            setTimeout(function() {\n",
       "                var nbb_cell_id = 91;\n",
       "                var nbb_unformatted_code = \"df = pd.DataFrame(\\n    {\\\"hierarchy\\\": [\\\"A\\\"] * 4 + [\\\"B\\\"] * 5, \\\"val\\\": [1, 2, 4, 6] + [-1, -2, -4, -6, 0]}\\n).assign(**{\\\"item\\\": lambda x: x[\\\"hierarchy\\\"] + x.index.astype(\\\"str\\\")})\\n\\n\\npriors = {\\n    \\\"A\\\": {\\\"mu0\\\": 3, \\\"n0\\\": 1, \\\"alpha\\\": 10, \\\"beta\\\": 1,},\\n    \\\"B\\\": {\\\"mu0\\\": -3, \\\"n0\\\": 1, \\\"alpha\\\": 10, \\\"beta\\\": 1,},\\n}\\n\\ndf_prior = pd.DataFrame(priors).T.reset_index().rename(columns={\\\"index\\\": \\\"hierarchy\\\"})\\n\\ndisplay(df_prior)\\n\\n\\ndef calc_sample_stats(df: pd.DataFrame, agg_lvl: List[str]) -> pd.DataFrame:\\n    \\\"\\\"\\\"Regularises by hierarchy\\\"\\\"\\\"\\n    df_sample_stats = (\\n        df.groupby(agg_lvl)\\n        .agg(\\n            **{\\n                \\\"sample_mean\\\": (\\\"val\\\", np.mean),\\n                \\\"sample_var\\\": (\\\"val\\\", np.var),\\n                \\\"n\\\": (\\\"val\\\", \\\"count\\\"),\\n            }\\n        )\\n        .assign(**{\\\"sample_precision\\\": lambda x: 1 / x[\\\"sample_var\\\"]})\\n    ).reset_index()\\n    return df_sample_stats\\n\\n\\ntoto = calc_sample_stats(df, agg_lvl=[\\\"hierarchy\\\"])\\n\\n\\ndef update_posterior(\\n    df_sample_stats: pd.DataFrame, df_prior: pd.DataFrame, agg_lvl: List[str]\\n) -> pd.DataFrame:\\n    \\\"\\\"\\\"Update posterior distribution parameters\\\"\\\"\\\"\\n    df_with_prior = df_sample_stats.merge(\\n        df_prior, on=agg_lvl, how=\\\"left\\\", validate=\\\"m:1\\\"\\n    )\\n    df_with_prior = df_with_prior.assign(\\n        **{\\n            \\\"posterior_mean\\\": lambda x: (x[\\\"n\\\"] / (x[\\\"n\\\"] + x[\\\"n0\\\"])) * x[\\\"sample_mean\\\"]\\n            + (x[\\\"n0\\\"] / (x[\\\"n\\\"] + x[\\\"n0\\\"])) * x[\\\"mu0\\\"],\\n            \\\"posterior_alpha\\\": lambda x: x[\\\"alpha\\\"] + x[\\\"n\\\"] / 2,\\n            \\\"posterior_beta\\\": lambda x: x[\\\"beta\\\"]\\n            + (0.5 * x[\\\"sample_var\\\"] * x[\\\"n\\\"])\\n            + (0.5 * x[\\\"n\\\"] * x[\\\"n0\\\"] / (x[\\\"n\\\"] * x[\\\"n0\\\"]))\\n            * (x[\\\"sample_mean\\\"] - x[\\\"mu0\\\"]) ** 2,\\n            \\\"posterior_precision\\\": lambda x: x[\\\"posterior_alpha\\\"] / x[\\\"posterior_beta\\\"],\\n        }\\n    )\\n\\n    return df_with_prior\\n\\n\\nlala = update_posterior(toto, df_prior, agg_lvl=[\\\"hierarchy\\\"])\\n\\ncols = [\\n    \\\"hierarchy\\\", \\n    \\\"sample_mean\\\", \\n    \\\"sample_precision\\\", \\n    \\\"posterior_mean\\\", \\n    \\\"posterior_precision\\\" \\n]\\n\\nlala = lala[cols]\\n\\nlala\";\n",
       "                var nbb_formatted_code = \"df = pd.DataFrame(\\n    {\\\"hierarchy\\\": [\\\"A\\\"] * 4 + [\\\"B\\\"] * 5, \\\"val\\\": [1, 2, 4, 6] + [-1, -2, -4, -6, 0]}\\n).assign(**{\\\"item\\\": lambda x: x[\\\"hierarchy\\\"] + x.index.astype(\\\"str\\\")})\\n\\n\\npriors = {\\n    \\\"A\\\": {\\\"mu0\\\": 3, \\\"n0\\\": 1, \\\"alpha\\\": 10, \\\"beta\\\": 1,},\\n    \\\"B\\\": {\\\"mu0\\\": -3, \\\"n0\\\": 1, \\\"alpha\\\": 10, \\\"beta\\\": 1,},\\n}\\n\\ndf_prior = pd.DataFrame(priors).T.reset_index().rename(columns={\\\"index\\\": \\\"hierarchy\\\"})\\n\\ndisplay(df_prior)\\n\\n\\ndef calc_sample_stats(df: pd.DataFrame, agg_lvl: List[str]) -> pd.DataFrame:\\n    \\\"\\\"\\\"Regularises by hierarchy\\\"\\\"\\\"\\n    df_sample_stats = (\\n        df.groupby(agg_lvl)\\n        .agg(\\n            **{\\n                \\\"sample_mean\\\": (\\\"val\\\", np.mean),\\n                \\\"sample_var\\\": (\\\"val\\\", np.var),\\n                \\\"n\\\": (\\\"val\\\", \\\"count\\\"),\\n            }\\n        )\\n        .assign(**{\\\"sample_precision\\\": lambda x: 1 / x[\\\"sample_var\\\"]})\\n    ).reset_index()\\n    return df_sample_stats\\n\\n\\ntoto = calc_sample_stats(df, agg_lvl=[\\\"hierarchy\\\"])\\n\\n\\ndef update_posterior(\\n    df_sample_stats: pd.DataFrame, df_prior: pd.DataFrame, agg_lvl: List[str]\\n) -> pd.DataFrame:\\n    \\\"\\\"\\\"Update posterior distribution parameters\\\"\\\"\\\"\\n    df_with_prior = df_sample_stats.merge(\\n        df_prior, on=agg_lvl, how=\\\"left\\\", validate=\\\"m:1\\\"\\n    )\\n    df_with_prior = df_with_prior.assign(\\n        **{\\n            \\\"posterior_mean\\\": lambda x: (x[\\\"n\\\"] / (x[\\\"n\\\"] + x[\\\"n0\\\"])) * x[\\\"sample_mean\\\"]\\n            + (x[\\\"n0\\\"] / (x[\\\"n\\\"] + x[\\\"n0\\\"])) * x[\\\"mu0\\\"],\\n            \\\"posterior_alpha\\\": lambda x: x[\\\"alpha\\\"] + x[\\\"n\\\"] / 2,\\n            \\\"posterior_beta\\\": lambda x: x[\\\"beta\\\"]\\n            + (0.5 * x[\\\"sample_var\\\"] * x[\\\"n\\\"])\\n            + (0.5 * x[\\\"n\\\"] * x[\\\"n0\\\"] / (x[\\\"n\\\"] * x[\\\"n0\\\"]))\\n            * (x[\\\"sample_mean\\\"] - x[\\\"mu0\\\"]) ** 2,\\n            \\\"posterior_precision\\\": lambda x: x[\\\"posterior_alpha\\\"] / x[\\\"posterior_beta\\\"],\\n        }\\n    )\\n\\n    return df_with_prior\\n\\n\\nlala = update_posterior(toto, df_prior, agg_lvl=[\\\"hierarchy\\\"])\\n\\ncols = [\\n    \\\"hierarchy\\\",\\n    \\\"sample_mean\\\",\\n    \\\"sample_precision\\\",\\n    \\\"posterior_mean\\\",\\n    \\\"posterior_precision\\\",\\n]\\n\\nlala = lala[cols]\\n\\nlala\";\n",
       "                var nbb_cells = Jupyter.notebook.get_cells();\n",
       "                for (var i = 0; i < nbb_cells.length; ++i) {\n",
       "                    if (nbb_cells[i].input_prompt_number == nbb_cell_id) {\n",
       "                        if (nbb_cells[i].get_text() == nbb_unformatted_code) {\n",
       "                             nbb_cells[i].set_text(nbb_formatted_code);\n",
       "                        }\n",
       "                        break;\n",
       "                    }\n",
       "                }\n",
       "            }, 500);\n",
       "            "
      ],
      "text/plain": [
       "<IPython.core.display.Javascript object>"
      ]
     },
     "metadata": {},
     "output_type": "display_data"
    }
   ],
   "source": [
    "df = pd.DataFrame(\n",
    "    {\"hierarchy\": [\"A\"] * 4 + [\"B\"] * 5, \"val\": [1, 2, 4, 6] + [-1, -2, -4, -6, 0]}\n",
    ").assign(**{\"item\": lambda x: x[\"hierarchy\"] + x.index.astype(\"str\")})\n",
    "\n",
    "\n",
    "priors = {\n",
    "    \"A\": {\"mu0\": 3, \"n0\": 1, \"alpha\": 10, \"beta\": 1,},\n",
    "    \"B\": {\"mu0\": -3, \"n0\": 1, \"alpha\": 10, \"beta\": 1,},\n",
    "}\n",
    "\n",
    "df_prior = pd.DataFrame(priors).T.reset_index().rename(columns={\"index\": \"hierarchy\"})\n",
    "\n",
    "display(df_prior)\n",
    "\n",
    "\n",
    "def calc_sample_stats(df: pd.DataFrame, agg_lvl: List[str]) -> pd.DataFrame:\n",
    "    \"\"\"Regularises by hierarchy\"\"\"\n",
    "    df_sample_stats = (\n",
    "        df.groupby(agg_lvl)\n",
    "        .agg(\n",
    "            **{\n",
    "                \"sample_mean\": (\"val\", np.mean),\n",
    "                \"sample_var\": (\"val\", np.var),\n",
    "                \"n\": (\"val\", \"count\"),\n",
    "            }\n",
    "        )\n",
    "        .assign(**{\"sample_precision\": lambda x: 1 / x[\"sample_var\"]})\n",
    "    ).reset_index()\n",
    "    return df_sample_stats\n",
    "\n",
    "\n",
    "toto = calc_sample_stats(df, agg_lvl=[\"hierarchy\"])\n",
    "\n",
    "\n",
    "def update_posterior(\n",
    "    df_sample_stats: pd.DataFrame, df_prior: pd.DataFrame, agg_lvl: List[str]\n",
    ") -> pd.DataFrame:\n",
    "    \"\"\"Update posterior distribution parameters\"\"\"\n",
    "    df_with_prior = df_sample_stats.merge(\n",
    "        df_prior, on=agg_lvl, how=\"left\", validate=\"m:1\"\n",
    "    )\n",
    "    df_with_prior = df_with_prior.assign(\n",
    "        **{\n",
    "            \"posterior_mean\": lambda x: (x[\"n\"] / (x[\"n\"] + x[\"n0\"])) * x[\"sample_mean\"]\n",
    "            + (x[\"n0\"] / (x[\"n\"] + x[\"n0\"])) * x[\"mu0\"],\n",
    "            \"posterior_alpha\": lambda x: x[\"alpha\"] + x[\"n\"] / 2,\n",
    "            \"posterior_beta\": lambda x: x[\"beta\"]\n",
    "            + (0.5 * x[\"sample_var\"] * x[\"n\"])\n",
    "            + (0.5 * x[\"n\"] * x[\"n0\"] / (x[\"n\"] * x[\"n0\"]))\n",
    "            * (x[\"sample_mean\"] - x[\"mu0\"]) ** 2,\n",
    "            \"posterior_precision\": lambda x: x[\"posterior_alpha\"] / x[\"posterior_beta\"],\n",
    "        }\n",
    "    )\n",
    "\n",
    "    return df_with_prior\n",
    "\n",
    "\n",
    "lala = update_posterior(toto, df_prior, agg_lvl=[\"hierarchy\"])\n",
    "\n",
    "cols = [\n",
    "    \"hierarchy\", \n",
    "    \"sample_mean\", \n",
    "    \"sample_precision\", \n",
    "    \"posterior_mean\", \n",
    "    \"posterior_precision\" \n",
    "]\n",
    "\n",
    "lala = lala[cols]\n",
    "\n",
    "lala\n",
    "\n"
   ]
  },
  {
   "cell_type": "code",
   "execution_count": 94,
   "metadata": {},
   "outputs": [
    {
     "data": {
      "text/html": [
       "<div>\n",
       "<style scoped>\n",
       "    .dataframe tbody tr th:only-of-type {\n",
       "        vertical-align: middle;\n",
       "    }\n",
       "\n",
       "    .dataframe tbody tr th {\n",
       "        vertical-align: top;\n",
       "    }\n",
       "\n",
       "    .dataframe thead th {\n",
       "        text-align: right;\n",
       "    }\n",
       "</style>\n",
       "<table border=\"1\" class=\"dataframe\">\n",
       "  <thead>\n",
       "    <tr style=\"text-align: right;\">\n",
       "      <th></th>\n",
       "      <th>hierarchy</th>\n",
       "      <th>val</th>\n",
       "      <th>item</th>\n",
       "      <th>sample_mean</th>\n",
       "      <th>sample_precision</th>\n",
       "      <th>posterior_mean</th>\n",
       "      <th>posterior_precision</th>\n",
       "      <th>z_old</th>\n",
       "      <th>val_new</th>\n",
       "    </tr>\n",
       "  </thead>\n",
       "  <tbody>\n",
       "    <tr>\n",
       "      <th>0</th>\n",
       "      <td>A</td>\n",
       "      <td>1</td>\n",
       "      <td>A0</td>\n",
       "      <td>3.25</td>\n",
       "      <td>0.203390</td>\n",
       "      <td>3.200000</td>\n",
       "      <td>1.104506</td>\n",
       "      <td>-1.014722</td>\n",
       "      <td>2.234476</td>\n",
       "    </tr>\n",
       "    <tr>\n",
       "      <th>1</th>\n",
       "      <td>A</td>\n",
       "      <td>2</td>\n",
       "      <td>A1</td>\n",
       "      <td>3.25</td>\n",
       "      <td>0.203390</td>\n",
       "      <td>3.200000</td>\n",
       "      <td>1.104506</td>\n",
       "      <td>-0.563735</td>\n",
       "      <td>2.663598</td>\n",
       "    </tr>\n",
       "    <tr>\n",
       "      <th>2</th>\n",
       "      <td>A</td>\n",
       "      <td>4</td>\n",
       "      <td>A2</td>\n",
       "      <td>3.25</td>\n",
       "      <td>0.203390</td>\n",
       "      <td>3.200000</td>\n",
       "      <td>1.104506</td>\n",
       "      <td>0.338241</td>\n",
       "      <td>3.521841</td>\n",
       "    </tr>\n",
       "    <tr>\n",
       "      <th>3</th>\n",
       "      <td>A</td>\n",
       "      <td>6</td>\n",
       "      <td>A3</td>\n",
       "      <td>3.25</td>\n",
       "      <td>0.203390</td>\n",
       "      <td>3.200000</td>\n",
       "      <td>1.104506</td>\n",
       "      <td>1.240216</td>\n",
       "      <td>4.380085</td>\n",
       "    </tr>\n",
       "    <tr>\n",
       "      <th>4</th>\n",
       "      <td>B</td>\n",
       "      <td>-1</td>\n",
       "      <td>B4</td>\n",
       "      <td>-2.60</td>\n",
       "      <td>0.172414</td>\n",
       "      <td>-2.666667</td>\n",
       "      <td>0.802311</td>\n",
       "      <td>0.664364</td>\n",
       "      <td>-1.924956</td>\n",
       "    </tr>\n",
       "    <tr>\n",
       "      <th>5</th>\n",
       "      <td>B</td>\n",
       "      <td>-2</td>\n",
       "      <td>B5</td>\n",
       "      <td>-2.60</td>\n",
       "      <td>0.172414</td>\n",
       "      <td>-2.666667</td>\n",
       "      <td>0.802311</td>\n",
       "      <td>0.249136</td>\n",
       "      <td>-2.388525</td>\n",
       "    </tr>\n",
       "    <tr>\n",
       "      <th>6</th>\n",
       "      <td>B</td>\n",
       "      <td>-4</td>\n",
       "      <td>B6</td>\n",
       "      <td>-2.60</td>\n",
       "      <td>0.172414</td>\n",
       "      <td>-2.666667</td>\n",
       "      <td>0.802311</td>\n",
       "      <td>-0.581318</td>\n",
       "      <td>-3.315664</td>\n",
       "    </tr>\n",
       "    <tr>\n",
       "      <th>7</th>\n",
       "      <td>B</td>\n",
       "      <td>-6</td>\n",
       "      <td>B7</td>\n",
       "      <td>-2.60</td>\n",
       "      <td>0.172414</td>\n",
       "      <td>-2.666667</td>\n",
       "      <td>0.802311</td>\n",
       "      <td>-1.411773</td>\n",
       "      <td>-4.242802</td>\n",
       "    </tr>\n",
       "    <tr>\n",
       "      <th>8</th>\n",
       "      <td>B</td>\n",
       "      <td>0</td>\n",
       "      <td>B8</td>\n",
       "      <td>-2.60</td>\n",
       "      <td>0.172414</td>\n",
       "      <td>-2.666667</td>\n",
       "      <td>0.802311</td>\n",
       "      <td>1.079591</td>\n",
       "      <td>-1.461386</td>\n",
       "    </tr>\n",
       "  </tbody>\n",
       "</table>\n",
       "</div>"
      ],
      "text/plain": [
       "  hierarchy  val item  sample_mean  sample_precision  posterior_mean  \\\n",
       "0         A    1   A0         3.25          0.203390        3.200000   \n",
       "1         A    2   A1         3.25          0.203390        3.200000   \n",
       "2         A    4   A2         3.25          0.203390        3.200000   \n",
       "3         A    6   A3         3.25          0.203390        3.200000   \n",
       "4         B   -1   B4        -2.60          0.172414       -2.666667   \n",
       "5         B   -2   B5        -2.60          0.172414       -2.666667   \n",
       "6         B   -4   B6        -2.60          0.172414       -2.666667   \n",
       "7         B   -6   B7        -2.60          0.172414       -2.666667   \n",
       "8         B    0   B8        -2.60          0.172414       -2.666667   \n",
       "\n",
       "   posterior_precision     z_old   val_new  \n",
       "0             1.104506 -1.014722  2.234476  \n",
       "1             1.104506 -0.563735  2.663598  \n",
       "2             1.104506  0.338241  3.521841  \n",
       "3             1.104506  1.240216  4.380085  \n",
       "4             0.802311  0.664364 -1.924956  \n",
       "5             0.802311  0.249136 -2.388525  \n",
       "6             0.802311 -0.581318 -3.315664  \n",
       "7             0.802311 -1.411773 -4.242802  \n",
       "8             0.802311  1.079591 -1.461386  "
      ]
     },
     "execution_count": 94,
     "metadata": {},
     "output_type": "execute_result"
    },
    {
     "data": {
      "application/javascript": [
       "\n",
       "            setTimeout(function() {\n",
       "                var nbb_cell_id = 94;\n",
       "                var nbb_unformatted_code = \"(\\n    df.merge(lala, on=[\\\"hierarchy\\\"], how=\\\"left\\\", validate=\\\"m:1\\\").assign(\\n        **{\\n            \\\"z_old\\\": lambda x: np.sqrt(x[\\\"sample_precision\\\"])\\n            * (x[\\\"val\\\"] - x[\\\"sample_mean\\\"]),\\n            \\\"val_new\\\": lambda x: x[\\\"z_old\\\"] / np.sqrt(x[\\\"posterior_precision\\\"])\\n            + x[\\\"posterior_mean\\\"],\\n        }\\n    )\\n)\";\n",
       "                var nbb_formatted_code = \"(\\n    df.merge(lala, on=[\\\"hierarchy\\\"], how=\\\"left\\\", validate=\\\"m:1\\\").assign(\\n        **{\\n            \\\"z_old\\\": lambda x: np.sqrt(x[\\\"sample_precision\\\"])\\n            * (x[\\\"val\\\"] - x[\\\"sample_mean\\\"]),\\n            \\\"val_new\\\": lambda x: x[\\\"z_old\\\"] / np.sqrt(x[\\\"posterior_precision\\\"])\\n            + x[\\\"posterior_mean\\\"],\\n        }\\n    )\\n)\";\n",
       "                var nbb_cells = Jupyter.notebook.get_cells();\n",
       "                for (var i = 0; i < nbb_cells.length; ++i) {\n",
       "                    if (nbb_cells[i].input_prompt_number == nbb_cell_id) {\n",
       "                        if (nbb_cells[i].get_text() == nbb_unformatted_code) {\n",
       "                             nbb_cells[i].set_text(nbb_formatted_code);\n",
       "                        }\n",
       "                        break;\n",
       "                    }\n",
       "                }\n",
       "            }, 500);\n",
       "            "
      ],
      "text/plain": [
       "<IPython.core.display.Javascript object>"
      ]
     },
     "metadata": {},
     "output_type": "display_data"
    }
   ],
   "source": [
    "(\n",
    "    df.merge(lala, on=[\"hierarchy\"], how=\"left\", validate=\"m:1\").assign(\n",
    "        **{\n",
    "            \"z_old\": lambda x: np.sqrt(x[\"sample_precision\"])\n",
    "            * (x[\"val\"] - x[\"sample_mean\"]),\n",
    "            \"val_new\": lambda x: x[\"z_old\"] / np.sqrt(x[\"posterior_precision\"])\n",
    "            + x[\"posterior_mean\"],\n",
    "        }\n",
    "    )\n",
    ")"
   ]
  },
  {
   "cell_type": "code",
   "execution_count": 77,
   "metadata": {},
   "outputs": [
    {
     "data": {
      "text/plain": [
       "(14.75, 14.75)"
      ]
     },
     "execution_count": 77,
     "metadata": {},
     "output_type": "execute_result"
    },
    {
     "data": {
      "application/javascript": [
       "\n",
       "            setTimeout(function() {\n",
       "                var nbb_cell_id = 77;\n",
       "                var nbb_unformatted_code = \"x = np.array([1, 2, 4, 6])\\n\\nn = len(x)\\nx_bar = np.mean(x)\\ntau_x = 1 / np.var(x)\\n(np.sum((x - x_bar) ** 2)), (np.var(x) * (n))\";\n",
       "                var nbb_formatted_code = \"x = np.array([1, 2, 4, 6])\\n\\nn = len(x)\\nx_bar = np.mean(x)\\ntau_x = 1 / np.var(x)\\n(np.sum((x - x_bar) ** 2)), (np.var(x) * (n))\";\n",
       "                var nbb_cells = Jupyter.notebook.get_cells();\n",
       "                for (var i = 0; i < nbb_cells.length; ++i) {\n",
       "                    if (nbb_cells[i].input_prompt_number == nbb_cell_id) {\n",
       "                        if (nbb_cells[i].get_text() == nbb_unformatted_code) {\n",
       "                             nbb_cells[i].set_text(nbb_formatted_code);\n",
       "                        }\n",
       "                        break;\n",
       "                    }\n",
       "                }\n",
       "            }, 500);\n",
       "            "
      ],
      "text/plain": [
       "<IPython.core.display.Javascript object>"
      ]
     },
     "metadata": {},
     "output_type": "display_data"
    }
   ],
   "source": [
    "x = np.array([1, 2, 4, 6])\n",
    "\n",
    "n = len(x)\n",
    "x_bar = np.mean(x)\n",
    "tau_x = 1 / np.var(x)\n",
    "(np.sum((x - x_bar) ** 2)), (np.var(x) * (n))"
   ]
  },
  {
   "cell_type": "code",
   "execution_count": null,
   "metadata": {},
   "outputs": [],
   "source": []
  }
 ],
 "metadata": {
  "kernelspec": {
   "display_name": "Python 3",
   "language": "python",
   "name": "python3"
  },
  "language_info": {
   "codemirror_mode": {
    "name": "ipython",
    "version": 3
   },
   "file_extension": ".py",
   "mimetype": "text/x-python",
   "name": "python",
   "nbconvert_exporter": "python",
   "pygments_lexer": "ipython3",
   "version": "3.7.9"
  }
 },
 "nbformat": 4,
 "nbformat_minor": 4
}
