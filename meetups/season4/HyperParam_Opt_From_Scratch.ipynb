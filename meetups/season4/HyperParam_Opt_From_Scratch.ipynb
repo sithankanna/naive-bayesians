{
 "cells": [
  {
   "cell_type": "markdown",
   "id": "accepted-viewer",
   "metadata": {},
   "source": [
    "# Gaussian Processes for Bayesian Optimisation"
   ]
  },
  {
   "cell_type": "code",
   "execution_count": null,
   "id": "arctic-notice",
   "metadata": {},
   "outputs": [],
   "source": [
    "%load_ext nb_black"
   ]
  },
  {
   "cell_type": "code",
   "execution_count": null,
   "id": "broken-rehabilitation",
   "metadata": {},
   "outputs": [],
   "source": [
    "from typing import Union, List\n",
    "import numpy as np\n",
    "import pandas as pd\n",
    "import matplotlib.pyplot as plt\n",
    "from scipy import stats\n",
    "\n",
    "# For GPs\n",
    "from sklearn.gaussian_process import GaussianProcessRegressor\n",
    "from sklearn.gaussian_process.kernels import (\n",
    "    DotProduct,\n",
    "    WhiteKernel,\n",
    "    RBF,\n",
    "    ExpSineSquared,\n",
    ")\n",
    "\n",
    "plt.rcParams[\"font.size\"] = 15\n",
    "plt.rcParams[\"figure.figsize\"] = (14, 6)"
   ]
  },
  {
   "cell_type": "markdown",
   "id": "organizational-participation",
   "metadata": {},
   "source": [
    "## Objective function to maximise"
   ]
  },
  {
   "cell_type": "code",
   "execution_count": null,
   "id": "administrative-instrumentation",
   "metadata": {},
   "outputs": [],
   "source": [
    "def objective(x: Union[float, np.ndarray], noise_std: float = 0.0):\n",
    "    noise = np.random.normal(loc=0, scale=noise_std)\n",
    "    return (x ** 2 * np.sin(5 * np.pi * x) ** 6.0) + noise\n",
    "\n",
    "\n",
    "# grid-based sample of the domain [0,1]\n",
    "X = np.arange(start=0, stop=1, step=0.01)\n",
    "y = objective(X)\n",
    "\n",
    "print(f\"Optima: x={X[np.argmax(y)]}, y={y[np.argmax(y)]}\")\n",
    "\n",
    "plt.plot(X, y)\n",
    "plt.scatter(X[np.argmax(y)], y[np.argmax(y)], color=\"r\", s=100)\n",
    "plt.axvline(x=X[np.argmax(y)], ymin=0, ymax=1, color=\"r\", linestyle=\"--\")\n",
    "plt.title(\"(Costly) Objective Function\")\n",
    "plt.show()"
   ]
  },
  {
   "cell_type": "code",
   "execution_count": null,
   "id": "negative-pollution",
   "metadata": {},
   "outputs": [],
   "source": []
  },
  {
   "cell_type": "code",
   "execution_count": null,
   "id": "indonesian-monroe",
   "metadata": {},
   "outputs": [],
   "source": []
  },
  {
   "cell_type": "markdown",
   "id": "unusual-graphic",
   "metadata": {},
   "source": [
    "## Step 1: Sample the domain sparsely"
   ]
  },
  {
   "cell_type": "code",
   "execution_count": null,
   "id": "published-beads",
   "metadata": {},
   "outputs": [],
   "source": [
    "X_search = np.sort(np.random.rand(15))\n",
    "y_search = objective(X_search)\n",
    "\n",
    "plt.scatter(X_search, y_search, color=\"k\", s=100)\n",
    "plt.plot(X_search, y_search)\n",
    "plt.xlim([0, 1])\n",
    "plt.show()"
   ]
  },
  {
   "cell_type": "markdown",
   "id": "least-injury",
   "metadata": {},
   "source": [
    "## Step 2: Estimate the function values at all other locations"
   ]
  },
  {
   "cell_type": "code",
   "execution_count": null,
   "id": "republican-correction",
   "metadata": {},
   "outputs": [],
   "source": [
    "# kernel = RBF(length_scale=0.25)\n",
    "kernel = ExpSineSquared()\n",
    "# kernel = None\n",
    "gp = GaussianProcessRegressor(kernel=kernel, alpha=0.01)\n",
    "\n",
    "gp.fit(X_search.reshape(-1, 1), y_search)\n",
    "\n",
    "\n",
    "X_ = np.linspace(start=0, stop=1, num=100)\n",
    "X_ = np.sort(np.append(X_, y_search))\n",
    "y_pred_mean, y_pred_std = gp.predict(X_.reshape(-1, 1), return_std=True)\n",
    "\n",
    "plt.plot(X_, y_pred_mean, \"b\", lw=1)\n",
    "plt.fill_between(\n",
    "    X_,\n",
    "    y_pred_mean - 2 * y_pred_std,\n",
    "    y_pred_mean + 2 * y_pred_std,\n",
    "    alpha=0.2,\n",
    "    color=\"r\",\n",
    ")\n",
    "\n",
    "plt.plot(X, y)\n",
    "plt.scatter(X_search, y_search, color=\"k\")"
   ]
  },
  {
   "cell_type": "markdown",
   "id": "guided-object",
   "metadata": {},
   "source": [
    "## Step 3: Find the Next Place to Sample\n",
    "\n",
    "\n",
    "\n",
    "\n",
    "#### Acquisition Functions\n",
    "\n",
    "* Probability of Improvement (PI)\n",
    "* Expected Improvement (EI)\n",
    "* Lower Confdence Bound (LCB).\n",
    "* Thompson Sampling\n",
    "\n",
    "\n",
    "\\begin{align}\n",
    "x_{t+1} = {} & \\textrm{argmax}\\left\\{ P \\left( \\, f(x) \\ge f(x^+) + \\epsilon  \\right) \\right\\}\n",
    "\\end{align}\n",
    "\n",
    "\n",
    "Since we are using GPs \n",
    "\n",
    "\n",
    "\\begin{align}\n",
    "x_{t+1} = {} & \\textrm{argmax}\\left\\{ \\textsf{CDF} \\left(  \\frac{\\mu_t(x) - f(x^+) - \\epsilon}{\\sigma_t(x)  } \\right) \\right\\}\n",
    "\\end{align}"
   ]
  },
  {
   "cell_type": "code",
   "execution_count": null,
   "id": "sought-cycling",
   "metadata": {},
   "outputs": [],
   "source": [
    "# probability of improvement acquisition function\n",
    "def acquisition(X, Xsamples, model) -> float:\n",
    "    # calculate the best surrogate score found so far\n",
    "    yhat, _ = model.predict(Xsamples.reshape(-1, 1), return_std=True)\n",
    "    best = np.max(yhat)\n",
    "\n",
    "    # calculate mean and stdev via surrogate function\n",
    "    mu, std = model.predict(X.reshape(-1, 1), return_std=True)\n",
    "\n",
    "    eps = 0.075\n",
    "    # calculate the probability of improvement\n",
    "    probs = stats.norm.cdf((mu - best - eps) / (std + 1e-9))\n",
    "\n",
    "    x_next = X[np.argmax(probs)]\n",
    "\n",
    "    return x_next"
   ]
  },
  {
   "cell_type": "code",
   "execution_count": null,
   "id": "continuing-taylor",
   "metadata": {},
   "outputs": [],
   "source": []
  },
  {
   "cell_type": "markdown",
   "id": "defensive-utilization",
   "metadata": {},
   "source": [
    "## Step 4: Repeat until Convergence"
   ]
  },
  {
   "cell_type": "code",
   "execution_count": null,
   "id": "reduced-medicare",
   "metadata": {},
   "outputs": [],
   "source": [
    "X_ = np.linspace(start=0, stop=1, num=100)\n",
    "X_ = np.sort(np.append(X_, y_search))\n",
    "y_pred_mean, y_pred_std = gp.predict(X_.reshape(-1, 1), return_std=True)\n",
    "\n",
    "# Find next sample\n",
    "x_next = acquisition(X_, X_search, gp)\n",
    "\n",
    "# Append it to the search space\n",
    "X_search = np.append(X_search, x_next)\n",
    "y_search = objective(X_search)\n",
    "\n",
    "# Fit the model\n",
    "gp = GaussianProcessRegressor(kernel=kernel, alpha=0.01)\n",
    "gp.fit(X_search.reshape(-1, 1), y_search)\n",
    "\n",
    "\n",
    "# Plit\n",
    "plt.plot(X_, y_pred_mean, \"b\", lw=1)\n",
    "plt.fill_between(\n",
    "    X_,\n",
    "    y_pred_mean - 2 * y_pred_std,\n",
    "    y_pred_mean + 2 * y_pred_std,\n",
    "    alpha=0.2,\n",
    "    color=\"r\",\n",
    ")\n",
    "\n",
    "\n",
    "plt.plot(X, y)\n",
    "plt.scatter(X_search, y_search, color=\"k\")\n",
    "\n",
    "plt.axvline(x=x_next, ymin=0, ymax=1, color=\"k\")\n",
    "plt.title(f\"Next sample: {x_next.round(3)}\")\n",
    "plt.show()"
   ]
  },
  {
   "cell_type": "code",
   "execution_count": null,
   "id": "absolute-garden",
   "metadata": {},
   "outputs": [],
   "source": []
  },
  {
   "cell_type": "markdown",
   "id": "composite-proof",
   "metadata": {},
   "source": [
    "### References \n",
    "\n",
    "* https://machinelearningmastery.com/what-is-bayesian-optimization/\n",
    "* http://krasserm.github.io/2018/03/21/bayesian-optimization/\n",
    "* https://distill.pub/2020/bayesian-optimization/"
   ]
  },
  {
   "cell_type": "code",
   "execution_count": null,
   "id": "liberal-nitrogen",
   "metadata": {},
   "outputs": [],
   "source": [
    "\n",
    "\n"
   ]
  },
  {
   "cell_type": "code",
   "execution_count": null,
   "id": "contained-resistance",
   "metadata": {},
   "outputs": [],
   "source": []
  },
  {
   "cell_type": "code",
   "execution_count": null,
   "id": "virgin-dining",
   "metadata": {},
   "outputs": [],
   "source": []
  },
  {
   "cell_type": "code",
   "execution_count": null,
   "id": "occupied-perth",
   "metadata": {},
   "outputs": [],
   "source": []
  },
  {
   "cell_type": "code",
   "execution_count": null,
   "id": "political-nurse",
   "metadata": {},
   "outputs": [],
   "source": []
  }
 ],
 "metadata": {
  "kernelspec": {
   "display_name": "Python 3",
   "language": "python",
   "name": "python3"
  },
  "language_info": {
   "codemirror_mode": {
    "name": "ipython",
    "version": 3
   },
   "file_extension": ".py",
   "mimetype": "text/x-python",
   "name": "python",
   "nbconvert_exporter": "python",
   "pygments_lexer": "ipython3",
   "version": "3.7.9"
  }
 },
 "nbformat": 4,
 "nbformat_minor": 5
}
